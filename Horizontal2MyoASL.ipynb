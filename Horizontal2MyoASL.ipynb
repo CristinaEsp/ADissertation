{
  "nbformat": 4,
  "nbformat_minor": 0,
  "metadata": {
    "colab": {
      "name": "Horizontal2MyoASL.ipynb",
      "provenance": [],
      "collapsed_sections": [],
      "authorship_tag": "ABX9TyM/9xzLmFsmL/5f5m5RFJID",
      "include_colab_link": true
    },
    "kernelspec": {
      "name": "python3",
      "display_name": "Python 3"
    }
  },
  "cells": [
    {
      "cell_type": "markdown",
      "metadata": {
        "id": "view-in-github",
        "colab_type": "text"
      },
      "source": [
        "<a href=\"https://colab.research.google.com/github/michelleaeh/Dissertation/blob/master/Horizontal2MyoASL.ipynb\" target=\"_parent\"><img src=\"https://colab.research.google.com/assets/colab-badge.svg\" alt=\"Open In Colab\"/></a>"
      ]
    },
    {
      "cell_type": "markdown",
      "metadata": {
        "id": "mH79ogCWrzbt",
        "colab_type": "text"
      },
      "source": [
        "**Myo armband dataset from https://data.mendeley.com/datasets/wgswcr8z24/2**\n",
        "\n",
        "\n",
        "**The dataset consits of .csv files collected from two Myo armbands. The format of the files are [word_name]_[id]. The ‘word_name’ is the English translation of the American Sign Language word used and the ‘id’ is a unique identifier. The .zip for each of the above links has sub-folders for each User.**\n",
        "\n",
        "**Each file has 50 columns. They represent a sub-sampled data collection from two Myo devices worn on left and right hands of the signer. The first column is the ‘Counter’ that goes from 1 to 50.**\n",
        "\n",
        "**The following columns are of the format: [Sensor][pod/direction][left/right]. For instance the EMG reading for the first EMG pod (out of 8) on the left hand would be called EMG0R and the accelerometer reading for the Z axis on the left hand would be called: AXL**\n",
        "\n",
        "**If you use this dataset please cite the following papers:**\n",
        "\n",
        "**@inproceedings{paudyal2016sceptre,\n",
        "title={Sceptre: a pervasive, non-invasive, and programmable gesture recognition technology},\n",
        "author={Paudyal, Prajwal and Banerjee, Ayan and Gupta, Sandeep KS},\n",
        "booktitle={Proceedings of the 21st International Conference on Intelligent User Interfaces},\n",
        "pages={282--293},\n",
        "year={2016},\n",
        "organization={ACM}\n",
        "}**\n",
        "\n",
        "**@inproceedings{paudyal2017dyfav,\n",
        "title={Dyfav: Dynamic feature selection and voting for real-time recognition of fingerspelled alphabet using wearables},\n",
        "author={Paudyal, Prajwal and Lee, Junghyo and Banerjee, Ayan and Gupta, Sandeep KS},\n",
        "booktitle={Proceedings of the 22nd International Conference on Intelligent User Interfaces},\n",
        "pages={457--467},\n",
        "year={2017},\n",
        "organization={ACM}\n",
        "}**"
      ]
    },
    {
      "cell_type": "markdown",
      "metadata": {
        "id": "FHNKWJHfhpMy",
        "colab_type": "text"
      },
      "source": [
        "**Frequency:**\n",
        "\n",
        "50Hz sampling rate\n",
        "\n",
        "**Words:**\n",
        "\n",
        "*36 total words*\n",
        "\n",
        "allmorning, bird, blue, cantsleep, cat, colrunnynose, continuouslyforanhour, cost, day, dollar, everymorning, everynight, gold, goodnight, happy, headache, home, horse, hot, hurt, itching, large, mom, monthly, notfeelgood, orange, pizza, please, shirt, soreness, swelling, takeliquidmedicine, thatsterrible, tired, upsetstomach, wash\n",
        "\n",
        "\n",
        "**Filenames:**\n",
        "\n",
        "*849 total files*\n",
        "\n",
        "(word)_(user#)(try#)\n",
        "\n",
        "\n",
        "**Columns of files:**\n",
        "\n",
        "Counter  (1 -> 50)\n",
        "\n",
        "EMG0L -> EMG7L  (EMG sensor readings)\n",
        "\n",
        "AXL, AYL, AZL  (accelerometer readings)\n",
        "\n",
        "GXL, GYL, GZL  (gyroscope readings)\n",
        "\n",
        "ORL, OPL, OYL  (magnetometer readings?)\n",
        "\n",
        "EMG0R -> EMG7R  (EMG sensor readings)\n",
        "\n",
        "AXR, AYR, AZR  (accelerometer readings)\n",
        "\n",
        "GXR, GYR, GZR  (gyroscope readings)\n",
        "\n",
        "ORR, OPR, OYR  (magnetometer readings?)\n",
        "\n",
        "features=['EMG0L', 'EMG1L', 'EMG2L', 'EMG3L', 'EMG4L', 'EMG5L', 'EMG6L', 'EMG7L', 'AXL', 'AYL', 'AZL', 'GXL', 'GYL', 'GZL', 'ORL', 'OPL', 'OYL', 'EMG0R', 'EMG1R', 'EMG2R', 'EMG3R', 'EMG4R', 'EMG5R', 'EMG6R', 'EMG7R', 'AXR', 'AYR', 'AZR', 'GXR', 'GYR', 'GZR', 'ORR', 'OPR', 'OYR']\n",
        "\n",
        "\n",
        "**Size of files:**\n",
        "\n",
        "All files are 50 rows x 35 columns except continuouslyforanhour_22.csv, headache_52.csv, home_61.csv, and mom_82.csv which are 101 rows x 35 columns\n"
      ]
    },
    {
      "cell_type": "markdown",
      "metadata": {
        "id": "lVqdAdxkr-U5",
        "colab_type": "text"
      },
      "source": [
        "**Steps:**\n",
        "\n",
        "1. Combine files\n",
        "2. Normalize or standardize matrix\n",
        "3. Apply Butterworth\n",
        "4. Apply PCA\n",
        "5. Input to SVM"
      ]
    },
    {
      "cell_type": "code",
      "metadata": {
        "id": "5TnTycFtrpHd",
        "colab_type": "code",
        "colab": {}
      },
      "source": [
        "import matplotlib.pyplot as plt\n",
        "import numpy as np\n",
        "import os.path\n",
        "import pandas as pd\n",
        "import scipy as sp\n",
        "import warnings\n",
        "\n",
        "from google.colab import files\n",
        "from mpl_toolkits import mplot3d\n",
        "from scipy import signal\n",
        "from scipy.io import loadmat\n",
        "from sklearn import metrics\n",
        "from sklearn.decomposition import PCA\n",
        "from sklearn.metrics import classification_report\n",
        "from sklearn.metrics import plot_confusion_matrix\n",
        "from sklearn.model_selection import train_test_split\n",
        "from sklearn.preprocessing import StandardScaler\n",
        "from sklearn.svm import SVC\n",
        "from zipfile import ZipFile\n",
        "\n",
        "# Import zip containing all files\n",
        "file_name = \"/content/2MyoASL.zip\"\n",
        "\n",
        "# Extract all files from zip\n",
        "with ZipFile(file_name, 'r') as zip:\n",
        "  zip.extractall()"
      ],
      "execution_count": 1,
      "outputs": []
    },
    {
      "cell_type": "code",
      "metadata": {
        "id": "vHsqsj2NRpEe",
        "colab_type": "code",
        "colab": {}
      },
      "source": [
        "# Generate matrices for all combinations of sensors (E=3, A=5, G=7, O=11)\n",
        "products=[3, 5, 7, 11, 15, 21, 33, 35, 55, 77, 105, 165, 231, 385, 1155]\n",
        "comb=['e', 'a', 'g', 'o', 'ea', 'eg', 'eo', 'ag', 'ao', 'go', 'eag', 'eao', 'ego', 'ago', 'eago']\n",
        "emg=['EMG0L', 'EMG1L', 'EMG2L', 'EMG3L', 'EMG4L', 'EMG5L', 'EMG6L', 'EMG7L', \n",
        "    'EMG0R', 'EMG1R', 'EMG2R', 'EMG3R', 'EMG4R', 'EMG5R', 'EMG6R', 'EMG7R']\n",
        "acc=['AXL', 'AYL', 'AZL', 'AXR', 'AYR', 'AZR']\n",
        "gyro=['GXL', 'GYL', 'GZL', 'GXR', 'GYR', 'GZR']\n",
        "ori=['ORL', 'OPL', 'OYL', 'ORR', 'OPR', 'OYR']\n",
        "\n",
        "# Initialization of counters\n",
        "words=['allmorning', 'bird', 'blue', 'cantsleep', 'cat', 'coldrunnynose', 'continuouslyforanhour', 'cost', 'day', \n",
        "       'dollar', 'everymorning', 'everynight', 'gold', 'goodnight', 'happy', 'headache', 'home', 'horse', 'hot', \n",
        "       'hurt', 'itching', 'large', 'mom', 'monthly', 'notfeelgood', 'orange', 'pizza', 'please', 'shirt', \n",
        "       'soreness', 'swelling', 'takeliquidmedicine', 'thatsterrible', 'tired', 'upsetstomach', 'wash']\n",
        "colnames=['EMG0L', 'EMG1L', 'EMG2L', 'EMG3L', 'EMG4L', 'EMG5L', 'EMG6L', 'EMG7L', 'AXL', 'AYL', 'AZL', 'GXL', 'GYL', 'GZL', 'ORL', 'OPL', 'OYL', \n",
        "          'EMG0R', 'EMG1R', 'EMG2R', 'EMG3R', 'EMG4R', 'EMG5R', 'EMG6R', 'EMG7R', 'AXR', 'AYR', 'AZR', 'GXR', 'GYR', 'GZR', 'ORR', 'OPR', 'OYR']\n",
        "lengths=np.zeros(849, dtype=int)\n",
        "reps=np.zeros(36,dtype=int)\n",
        "headers=np.empty(1701, dtype=object)\n",
        "features=np.zeros(15)\n",
        "target=np.zeros(15)\n",
        "matrix=np.zeros(1)\n",
        "\n",
        "fn=np.arange(1701)\n",
        "wordnum=-1\n",
        "counter=-1\n",
        "num=0\n",
        "n=0"
      ],
      "execution_count": 2,
      "outputs": []
    },
    {
      "cell_type": "code",
      "metadata": {
        "id": "MQFtofv7yG7G",
        "colab_type": "code",
        "colab": {
          "base_uri": "https://localhost:8080/",
          "height": 272
        },
        "outputId": "9a15495a-8f9d-4fbb-8416-f3262c4eb3c7"
      },
      "source": [
        "# Combine all files\n",
        "for w in words:\n",
        "  repcount=0\n",
        "  wordnum+=1\n",
        "\n",
        "  for i in range (10, 120):\n",
        "    path='/content/2MyoASL/' + w + '_' + str(i) + '.csv'\n",
        "\n",
        "    if os.path.exists(path)==True:\n",
        "      counter+=1\n",
        "      repcount+=1\n",
        "      trial=pd.read_csv(path)\n",
        "\n",
        "      trial.reset_index(drop=True)\n",
        "      \n",
        "      # Assign word number to one row\n",
        "      row=np.zeros(1)\n",
        "      for t in range(35):\n",
        "        if t==0:\n",
        "          row[0]=wordnum\n",
        "        else:\n",
        "          sensor=trial.iloc[0:50,t].values\n",
        "          sensor.reshape([1,50])\n",
        "          row=np.concatenate((row, sensor))\n",
        "      prev=row\n",
        "      \n",
        "      # Combine all trials\n",
        "      if counter==0:\n",
        "        matrix=prev\n",
        "      else:\n",
        "        matrix=np.concatenate([matrix,prev])\n",
        "\n",
        "# Create header name array\n",
        "headers[0]='Word'\n",
        "for c in colnames:\n",
        "  for t in range(50):\n",
        "    num+=1\n",
        "    headers[num]=c\n",
        "\n",
        "# Give format to final matrix \n",
        "matrix=matrix.reshape([849,1701])\n",
        "matrix=pd.DataFrame(matrix, columns=headers)\n",
        "print(matrix)"
      ],
      "execution_count": 3,
      "outputs": [
        {
          "output_type": "stream",
          "text": [
            "     Word  EMG0L  EMG0L  EMG0L  EMG0L  ...    OYR    OYR    OYR    OYR    OYR\n",
            "0     0.0    0.0    0.0   -3.0   -1.0  ...   83.0   83.0   83.0   83.0   83.0\n",
            "1     0.0    0.0    0.0    4.0   -2.0  ...   83.0   83.0   83.0   83.0   83.0\n",
            "2     0.0    0.0    0.0   -8.0   -1.0  ...   84.0   84.0   84.0   84.0   84.0\n",
            "3     0.0    0.0    0.0   -1.0  -19.0  ...   83.0   83.0   83.0   83.0   83.0\n",
            "4     0.0    0.0    0.0    1.0  -16.0  ...   93.0   91.0   91.0   91.0   91.0\n",
            "..    ...    ...    ...    ...    ...  ...    ...    ...    ...    ...    ...\n",
            "844  35.0    0.0    0.0   -2.0    0.0  ...  106.0  104.0  100.0   98.0   95.0\n",
            "845  35.0    0.0    0.0    2.0   -8.0  ...  176.0  176.0  177.0  177.0  177.0\n",
            "846  35.0    0.0    0.0   -8.0   26.0  ...  177.0  176.0  175.0  175.0  176.0\n",
            "847  35.0    0.0    0.0   -1.0   21.0  ...  178.0  178.0  179.0  179.0  179.0\n",
            "848  35.0    0.0    0.0    8.0  -19.0  ...  179.0  179.0  179.0  179.0    0.0\n",
            "\n",
            "[849 rows x 1701 columns]\n"
          ],
          "name": "stdout"
        }
      ]
    },
    {
      "cell_type": "code",
      "metadata": {
        "id": "cry7YARuOhoY",
        "colab_type": "code",
        "colab": {}
      },
      "source": [
        "attempt=matrix\n",
        "attempt.to_csv(path_or_buf='/content/attempt.csv')"
      ],
      "execution_count": 4,
      "outputs": []
    },
    {
      "cell_type": "code",
      "metadata": {
        "id": "R7Ib41KW5f32",
        "colab_type": "code",
        "colab": {
          "base_uri": "https://localhost:8080/",
          "height": 108
        },
        "outputId": "ce34f0f3-9df0-419f-9a0b-d672d6cbf91c"
      },
      "source": [
        "# Eliminate unnecessary columns to create combinatory matrices\n",
        "for v in products:\n",
        "  m=matrix\n",
        "  if v%3!=0:\n",
        "    m=m.drop(emg,1)\n",
        "  if v%5!=0:\n",
        "    m=m.drop(acc,1)\n",
        "  if v%7!=0:\n",
        "    m=m.drop(gyro,1)\n",
        "  if v%11!=0:\n",
        "    m=m.drop(ori,1)\n",
        "  products[n]=m\n",
        "  exec(comb[n]+\"=products[n]\")\n",
        "  n+=1\n",
        "  \n",
        "  # Normalize and Standardize each of the 15 matrices\n",
        "  # Separate features from target values\n",
        "  x = m.iloc[:, m.columns!='Word'].values   # Features\n",
        " \n",
        "  ## Normalize features so that each column is between 0 and 1\n",
        "  norm_matrix=(m-m.min())/(m.max()-m.min())\n",
        "  exec(\"norm_matrix_\"+comb[n-1]+\"=pd.DataFrame(norm_matrix)\")\n",
        "  exec(\"norm_matrix_\"+comb[n-1]+\"=norm_matrix_\"+comb[n-1]+\".dropna(axis=1)\")\n",
        "\n",
        " # Standardize features with mean=0 and deviation=1\n",
        "  standardized_matrix=StandardScaler().fit_transform(x)\n",
        "  exec(\"standardized_matrix_\"+comb[n-1]+\"=pd.DataFrame(standardized_matrix)\")\n",
        "\"\"\"\n",
        "  # Save data frames as csv files\n",
        "  #matrix.to_csv(path_or_buf='/content/matrix_'+comb[n-1]+'.csv')\n",
        "  exec(\"norm_matrix_\"+comb[n-1]+\".to_csv(path_or_buf='/content/normmatrix_'+comb[n-1]+'.csv')\")\n",
        "#  exec(\"normalized_matrix_\"+comb[n-1]+\".to_csv(path_or_buf='/content/normalizedmatrix_'+comb[n-1]+'.csv')\")\n",
        "  exec(\"standardized_matrix_\"+comb[n-1]+\".to_csv(path_or_buf='/content/standardizedmatrix_'+comb[n-1]+'.csv')\")\n",
        "\"\"\""
      ],
      "execution_count": 5,
      "outputs": [
        {
          "output_type": "execute_result",
          "data": {
            "application/vnd.google.colaboratory.intrinsic+json": {
              "type": "string"
            },
            "text/plain": [
              "'\\n  # Save data frames as csv files\\n  #matrix.to_csv(path_or_buf=\\'/content/matrix_\\'+comb[n-1]+\\'.csv\\')\\n  exec(\"norm_matrix_\"+comb[n-1]+\".to_csv(path_or_buf=\\'/content/normmatrix_\\'+comb[n-1]+\\'.csv\\')\")\\n#  exec(\"normalized_matrix_\"+comb[n-1]+\".to_csv(path_or_buf=\\'/content/normalizedmatrix_\\'+comb[n-1]+\\'.csv\\')\")\\n  exec(\"standardized_matrix_\"+comb[n-1]+\".to_csv(path_or_buf=\\'/content/standardizedmatrix_\\'+comb[n-1]+\\'.csv\\')\")\\n'"
            ]
          },
          "metadata": {
            "tags": []
          },
          "execution_count": 5
        }
      ]
    },
    {
      "cell_type": "code",
      "metadata": {
        "id": "_IaWFWIUrT5i",
        "colab_type": "code",
        "colab": {
          "base_uri": "https://localhost:8080/",
          "height": 272
        },
        "outputId": "e1fd28a3-3c75-4651-9c55-e0248daab5a9"
      },
      "source": [
        "# Replace wordnum with word\n",
        "for r in range(849):\n",
        "  wn=int(35*norm_matrix_eago.iloc[r,0])\n",
        "  norm_matrix_eago.iloc[r,0]=words[wn]\n",
        "nmatrix=norm_matrix_eago\n",
        "print(nmatrix)\n",
        "nmatrix.to_csv(path_or_buf='/content/nmatrix.csv')"
      ],
      "execution_count": 6,
      "outputs": [
        {
          "output_type": "stream",
          "text": [
            "           Word     EMG0L     EMG0L  ...       OYR       OYR       OYR\n",
            "0    allmorning  0.321429  0.388889  ...  0.463687  0.463687  0.463687\n",
            "1    allmorning  0.321429  0.432099  ...  0.463687  0.463687  0.463687\n",
            "2    allmorning  0.321429  0.358025  ...  0.469274  0.469274  0.469274\n",
            "3    allmorning  0.321429  0.401235  ...  0.463687  0.463687  0.463687\n",
            "4    allmorning  0.321429  0.413580  ...  0.508380  0.508380  0.508380\n",
            "..          ...       ...       ...  ...       ...       ...       ...\n",
            "844        wash  0.321429  0.395062  ...  0.558659  0.547486  0.530726\n",
            "845        wash  0.321429  0.419753  ...  0.988827  0.988827  0.988827\n",
            "846        wash  0.321429  0.358025  ...  0.977654  0.977654  0.983240\n",
            "847        wash  0.321429  0.401235  ...  1.000000  1.000000  1.000000\n",
            "848        wash  0.321429  0.456790  ...  1.000000  1.000000  0.000000\n",
            "\n",
            "[849 rows x 1693 columns]\n"
          ],
          "name": "stdout"
        }
      ]
    },
    {
      "cell_type": "code",
      "metadata": {
        "id": "PJjGC_1Q5r03",
        "colab_type": "code",
        "colab": {}
      },
      "source": [
        "# Butterworth\n",
        "#high = 20/(1000/2)\n",
        "#low = 450/(1000/2)\n",
        "high = 1/(50/2)\n",
        "low = 23/(50/2)\n",
        "\n",
        "b, a = sp.signal.butter(4, [high,low], btype='bandpass')\n",
        "\n",
        "for r in emg:\n",
        "  norm_matrix_eago[[r]]\n",
        "  # process EMG signal: filter EMG\n",
        "  emg_filtered = sp.signal.lfilter(b, a, norm_matrix_eago[[r]])\n",
        "  norm_matrix_eago[[r]]=emg_filtered"
      ],
      "execution_count": 7,
      "outputs": []
    },
    {
      "cell_type": "code",
      "metadata": {
        "id": "oegUzb00nsA5",
        "colab_type": "code",
        "colab": {}
      },
      "source": [
        "buttermatrix=norm_matrix_eago"
      ],
      "execution_count": 8,
      "outputs": []
    },
    {
      "cell_type": "markdown",
      "metadata": {
        "id": "I16C6HCyrFZr",
        "colab_type": "text"
      },
      "source": [
        "**Combinations of steps for classification**"
      ]
    },
    {
      "cell_type": "code",
      "metadata": {
        "id": "Yw8kyulNOsmp",
        "colab_type": "code",
        "colab": {
          "base_uri": "https://localhost:8080/",
          "height": 921
        },
        "outputId": "0e87e51a-6f70-4ee5-992b-9142e3fd2876"
      },
      "source": [
        "# Directly to SVM\n",
        "x = attempt.iloc[:, attempt.columns!='Word'].values   # Features\n",
        "y = attempt.loc[:,'Word'].values     # Target\n",
        "x_train, x_test, y_train, y_test = train_test_split(x, y, test_size=0.6)\n",
        "\n",
        "clf = SVC()\n",
        "clf.fit(x_train, y_train)\n",
        "print ('score', clf.score(x_test, y_test))\n",
        "y_pred=clf.predict(x_test)\n",
        "print ('pred label', y_pred)\n",
        "print('length',len(clf.predict(x_test)))\n",
        "\n",
        "# Confusion matrix\n",
        "plot_confusion_matrix(clf, x_test, y_test,\n",
        "                                 cmap=plt.cm.Blues)\n",
        "plt.figure(figsize=(50,50))\n",
        "plt.show()\n",
        "\n",
        "#print(classification_report(y_test, y_pred, target_names=words))\n",
        "directresults=classification_report(y_test, y_pred, target_names=words)"
      ],
      "execution_count": 9,
      "outputs": [
        {
          "output_type": "stream",
          "text": [
            "score 0.041176470588235294\n",
            "pred label [22. 22. 22. 22. 22. 22. 13. 22. 22. 22. 13. 22. 13. 13. 22. 22. 22. 22.\n",
            " 22. 13. 22. 22. 13. 22. 22. 22. 22. 22. 22. 13. 22. 13. 22. 22. 22. 22.\n",
            " 22. 22. 22. 22. 13. 13. 22. 22. 22. 13. 13. 22. 22. 13. 22. 22. 22. 22.\n",
            " 13. 22. 22. 13. 22. 22. 22. 22. 22. 22. 13. 22. 22. 22. 22. 13. 22. 22.\n",
            " 22. 22. 22. 22. 13. 22. 13. 13. 22. 22. 22. 22. 13. 13. 22. 22. 13. 22.\n",
            " 22. 13. 22. 22. 13. 22. 22. 22. 22. 13. 22. 22. 22. 22. 22. 22. 13. 13.\n",
            " 22. 13. 13. 22. 22. 22. 22. 13. 22. 22. 22. 22. 13. 22. 13. 13. 22. 22.\n",
            " 13. 22. 13. 22. 22. 13. 22. 22. 13. 22. 13. 22. 22. 22. 13. 22. 22. 13.\n",
            " 22. 22. 13. 22. 13. 13. 13. 13. 13. 13. 22. 13. 22. 22. 22. 13. 22. 22.\n",
            " 22. 22. 13. 13. 22. 22. 13. 22. 13. 22. 22. 13. 22. 22. 13. 22. 22. 13.\n",
            " 22. 13. 13. 22. 13. 22. 22. 22. 22. 22. 22. 22. 13. 22. 22. 13. 22. 22.\n",
            " 22. 22. 13. 22. 22. 22. 22. 22. 22. 13. 13. 13. 13. 22. 22. 22. 22. 22.\n",
            " 22. 22. 13. 22. 22. 22. 22. 22. 22. 22. 22. 22. 13. 22. 22. 22. 22. 22.\n",
            " 22. 22. 22. 13. 22. 13. 13. 13. 22. 22. 22. 22. 22. 22. 22. 22. 22. 22.\n",
            " 13. 22. 22. 22. 22. 22. 22. 13. 22. 22. 13. 22. 22. 22. 13. 22. 22. 22.\n",
            " 22. 22. 13. 13. 22. 22. 22. 22. 22. 22. 22. 22. 22. 13. 13. 22. 22. 22.\n",
            " 13. 22. 22. 13. 22. 22. 22. 22. 13. 22. 22. 22. 22. 13. 22. 13. 22. 22.\n",
            " 22. 22. 22. 22. 13. 22. 22. 13. 13. 22. 22. 22. 22. 22. 22. 13. 13. 13.\n",
            " 22. 13. 13. 13. 22. 22. 13. 22. 22. 22. 22. 22. 13. 13. 22. 22. 22. 22.\n",
            " 22. 13. 13. 13. 22. 13. 22. 22. 22. 22. 22. 22. 22. 22. 13. 13. 22. 22.\n",
            " 22. 22. 22. 22. 22. 22. 22. 13. 13. 22. 13. 22. 22. 13. 13. 22. 13. 22.\n",
            " 22. 13. 13. 13. 22. 22. 22. 22. 22. 13. 22. 22. 22. 22. 13. 22. 22. 22.\n",
            " 13. 22. 22. 22. 22. 22. 13. 22. 22. 13. 22. 13. 13. 22. 22. 13. 13. 22.\n",
            " 22. 22. 13. 22. 22. 13. 22. 22. 22. 22. 22. 22. 13. 22. 22. 22. 13. 22.\n",
            " 22. 22. 13. 22. 13. 22. 22. 22. 22. 13. 22. 13. 13. 13. 22. 22. 22. 13.\n",
            " 13. 22. 22. 22. 22. 22. 13. 22. 22. 22. 22. 13. 13. 22. 22. 22. 13. 22.\n",
            " 22. 22. 13. 22. 22. 22. 22. 22. 22. 22. 22. 22. 22. 22. 22. 22. 22. 22.\n",
            " 13. 13. 22. 22. 22. 22. 22. 22. 13. 22. 22. 22. 22. 22. 13. 22. 22. 22.\n",
            " 22. 22. 22. 22. 13. 22.]\n",
            "length 510\n"
          ],
          "name": "stdout"
        },
        {
          "output_type": "display_data",
          "data": {
            "image/png": "[encoded data removed]",
            "text/plain": [
              "<Figure size 432x288 with 2 Axes>"
            ]
          },
          "metadata": {
            "tags": [],
            "needs_background": "light"
          }
        },
        {
          "output_type": "display_data",
          "data": {
            "text/plain": [
              "<Figure size 3600x3600 with 0 Axes>"
            ]
          },
          "metadata": {
            "tags": []
          }
        },
        {
          "output_type": "stream",
          "text": [
            "/usr/local/lib/python3.6/dist-packages/sklearn/metrics/_classification.py:1272: UndefinedMetricWarning: Precision and F-score are ill-defined and being set to 0.0 in labels with no predicted samples. Use `zero_division` parameter to control this behavior.\n",
            "  _warn_prf(average, modifier, msg_start, len(result))\n"
          ],
          "name": "stderr"
        }
      ]
    },
    {
      "cell_type": "code",
      "metadata": {
        "id": "NgPwhYZvrn3i",
        "colab_type": "code",
        "colab": {
          "base_uri": "https://localhost:8080/",
          "height": 1000
        },
        "outputId": "c9437103-eec1-4d92-edfe-2da58fe40244"
      },
      "source": [
        "# Normalized to SVM\n",
        "x = nmatrix.iloc[:, nmatrix.columns!='Word'].values   # Features\n",
        "y = nmatrix.loc[:,'Word'].values     # Target\n",
        "\n",
        "x_train, x_test, y_train, y_test = train_test_split(x, y, test_size=0.6)\n",
        "\n",
        "clf = SVC()\n",
        "clf.fit(x_train, y_train)\n",
        "print ('score', clf.score(x_test, y_test))\n",
        "y_pred=clf.predict(x_test)\n",
        "print ('pred label', y_pred)\n",
        "print('length',len(clf.predict(x_test)))\n",
        "\n",
        "# Confusion matrix\n",
        "plot_confusion_matrix(clf, x_test, y_test,\n",
        "                                 cmap=plt.cm.Blues)\n",
        "plt.figure(figsize=(50,50))\n",
        "plt.show()\n",
        "\n",
        "#print(classification_report(y_test, y_pred, target_names=words))\n",
        "normresults=classification_report(y_test, y_pred, target_names=words)"
      ],
      "execution_count": 10,
      "outputs": [
        {
          "output_type": "stream",
          "text": [
            "score 0.10392156862745099\n",
            "pred label ['blue' 'large' 'hot' 'large' 'dollar' 'blue' 'dollar' 'blue' 'blue'\n",
            " 'dollar' 'large' 'blue' 'large' 'dollar' 'shirt' 'hot' 'dollar' 'blue'\n",
            " 'large' 'dollar' 'dollar' 'hot' 'hot' 'dollar' 'hot' 'blue' 'bird' 'hot'\n",
            " 'dollar' 'blue' 'blue' 'blue' 'blue' 'hot' 'shirt' 'blue' 'dollar' 'blue'\n",
            " 'hot' 'hot' 'large' 'large' 'large' 'large' 'blue' 'blue' 'hot' 'blue'\n",
            " 'hot' 'blue' 'blue' 'dollar' 'hot' 'large' 'dollar' 'blue' 'dollar' 'hot'\n",
            " 'blue' 'hot' 'large' 'blue' 'dollar' 'dollar' 'blue' 'blue' 'hot' 'blue'\n",
            " 'hot' 'dollar' 'blue' 'blue' 'blue' 'dollar' 'large' 'blue' 'hot' 'hot'\n",
            " 'hot' 'large' 'blue' 'hot' 'blue' 'dollar' 'blue' 'hot' 'hot' 'large'\n",
            " 'blue' 'shirt' 'blue' 'blue' 'hot' 'hot' 'dollar' 'large' 'hot' 'blue'\n",
            " 'dollar' 'hot' 'blue' 'hot' 'dollar' 'blue' 'shirt' 'hot' 'hot' 'large'\n",
            " 'hot' 'large' 'dollar' 'hot' 'hot' 'large' 'hot' 'hot' 'blue' 'blue'\n",
            " 'hot' 'hot' 'large' 'shirt' 'dollar' 'large' 'large' 'blue' 'blue' 'blue'\n",
            " 'hot' 'blue' 'large' 'hot' 'shirt' 'hot' 'blue' 'blue' 'hot' 'large'\n",
            " 'blue' 'hot' 'blue' 'large' 'hot' 'blue' 'large' 'blue' 'blue' 'hot'\n",
            " 'dollar' 'hot' 'hot' 'blue' 'dollar' 'large' 'blue' 'blue' 'large' 'blue'\n",
            " 'blue' 'hot' 'hot' 'dollar' 'blue' 'blue' 'blue' 'large' 'blue' 'large'\n",
            " 'blue' 'blue' 'hot' 'dollar' 'large' 'large' 'blue' 'hot' 'dollar'\n",
            " 'dollar' 'large' 'hot' 'large' 'large' 'blue' 'dollar' 'dollar' 'blue'\n",
            " 'dollar' 'hot' 'blue' 'blue' 'hot' 'large' 'blue' 'blue' 'large' 'dollar'\n",
            " 'large' 'blue' 'blue' 'blue' 'blue' 'blue' 'hot' 'blue' 'hot' 'hot' 'hot'\n",
            " 'large' 'blue' 'blue' 'blue' 'blue' 'large' 'large' 'hot' 'dollar' 'mom'\n",
            " 'blue' 'blue' 'dollar' 'hot' 'blue' 'large' 'large' 'hot' 'blue' 'blue'\n",
            " 'hot' 'hot' 'blue' 'large' 'blue' 'blue' 'bird' 'dollar' 'blue' 'blue'\n",
            " 'blue' 'hot' 'hot' 'dollar' 'large' 'mom' 'blue' 'dollar' 'blue' 'hot'\n",
            " 'hot' 'large' 'blue' 'large' 'hot' 'blue' 'blue' 'large' 'shirt' 'blue'\n",
            " 'large' 'dollar' 'blue' 'hot' 'hot' 'blue' 'hot' 'hot' 'hot' 'hot' 'blue'\n",
            " 'blue' 'blue' 'large' 'large' 'blue' 'blue' 'hot' 'blue' 'hot' 'hot'\n",
            " 'blue' 'dollar' 'blue' 'blue' 'dollar' 'hot' 'dollar' 'hot' 'hot' 'hot'\n",
            " 'blue' 'large' 'dollar' 'large' 'hot' 'blue' 'blue' 'blue' 'hot' 'large'\n",
            " 'blue' 'blue' 'large' 'hot' 'hot' 'blue' 'large' 'dollar' 'large' 'blue'\n",
            " 'blue' 'blue' 'hot' 'hot' 'hot' 'blue' 'dollar' 'hot' 'dollar' 'large'\n",
            " 'blue' 'dollar' 'blue' 'hot' 'dollar' 'hot' 'hot' 'large' 'shirt' 'large'\n",
            " 'dollar' 'hot' 'large' 'blue' 'large' 'dollar' 'blue' 'hot' 'hot' 'blue'\n",
            " 'large' 'dollar' 'blue' 'blue' 'dollar' 'blue' 'hot' 'hot' 'blue' 'large'\n",
            " 'blue' 'blue' 'blue' 'large' 'blue' 'blue' 'large' 'blue' 'large' 'blue'\n",
            " 'blue' 'blue' 'hot' 'blue' 'large' 'blue' 'hot' 'hot' 'hot' 'blue'\n",
            " 'large' 'blue' 'blue' 'blue' 'hot' 'blue' 'large' 'blue' 'hot' 'large'\n",
            " 'blue' 'blue' 'blue' 'blue' 'hot' 'blue' 'blue' 'hot' 'large' 'shirt'\n",
            " 'blue' 'large' 'blue' 'blue' 'dollar' 'blue' 'blue' 'large' 'blue' 'hot'\n",
            " 'hot' 'blue' 'blue' 'hot' 'dollar' 'large' 'blue' 'blue' 'blue' 'large'\n",
            " 'hot' 'large' 'large' 'hot' 'large' 'large' 'hot' 'large' 'blue' 'large'\n",
            " 'blue' 'hot' 'dollar' 'large' 'blue' 'hot' 'hot' 'large' 'gold' 'blue'\n",
            " 'shirt' 'blue' 'hot' 'blue' 'blue' 'hot' 'blue' 'blue' 'blue' 'blue'\n",
            " 'blue' 'large' 'hot' 'blue' 'blue' 'blue' 'blue' 'blue' 'blue' 'large'\n",
            " 'blue' 'hot' 'hot' 'blue' 'hot' 'blue' 'blue' 'blue' 'hot' 'large' 'hot'\n",
            " 'large' 'large' 'large' 'large' 'hot' 'dollar' 'blue' 'blue' 'blue'\n",
            " 'blue' 'dollar' 'hot' 'blue' 'blue' 'hot' 'dollar' 'large' 'large' 'hot'\n",
            " 'blue' 'hot' 'large' 'blue' 'hot' 'blue' 'hot' 'blue' 'hot' 'blue' 'blue'\n",
            " 'large' 'hot' 'blue' 'hot' 'blue' 'blue' 'blue' 'hot' 'dollar' 'hot'\n",
            " 'dollar' 'large' 'blue' 'large' 'blue' 'blue' 'hot' 'hot' 'blue' 'blue'\n",
            " 'blue']\n",
            "length 510\n"
          ],
          "name": "stdout"
        },
        {
          "output_type": "display_data",
          "data": {
            "image/png": "[encoded data removed]",
            "text/plain": [
              "<Figure size 432x288 with 2 Axes>"
            ]
          },
          "metadata": {
            "tags": [],
            "needs_background": "light"
          }
        },
        {
          "output_type": "display_data",
          "data": {
            "text/plain": [
              "<Figure size 3600x3600 with 0 Axes>"
            ]
          },
          "metadata": {
            "tags": []
          }
        },
        {
          "output_type": "stream",
          "text": [
            "/usr/local/lib/python3.6/dist-packages/sklearn/metrics/_classification.py:1272: UndefinedMetricWarning: Precision and F-score are ill-defined and being set to 0.0 in labels with no predicted samples. Use `zero_division` parameter to control this behavior.\n",
            "  _warn_prf(average, modifier, msg_start, len(result))\n"
          ],
          "name": "stderr"
        }
      ]
    },
    {
      "cell_type": "code",
      "metadata": {
        "id": "3OL74iKMnWZB",
        "colab_type": "code",
        "colab": {
          "base_uri": "https://localhost:8080/",
          "height": 1000
        },
        "outputId": "80f03efd-68a0-4998-b1a0-db2b1fb8e231"
      },
      "source": [
        "# Normalized, Butterworth to SVM\n",
        "x = buttermatrix.iloc[:, buttermatrix.columns!='Word'].values   # Features\n",
        "y = buttermatrix.loc[:,'Word'].values     # Target\n",
        "\n",
        "x_train, x_test, y_train, y_test = train_test_split(x, y, test_size=0.6)\n",
        "\n",
        "clf = SVC()\n",
        "clf.fit(x_train, y_train)\n",
        "print ('score', clf.score(x_test, y_test))\n",
        "y_pred=clf.predict(x_test)\n",
        "print ('pred label', y_pred)\n",
        "print('length',len(clf.predict(x_test)))\n",
        "\n",
        "# Confusion matrix\n",
        "plot_confusion_matrix(clf, x_test, y_test,\n",
        "                                 cmap=plt.cm.Blues)\n",
        "plt.figure(figsize=(50,50))\n",
        "plt.show()\n",
        "\n",
        "#print(classification_report(y_test, y_pred, target_names=words))\n",
        "butterresults=classification_report(y_test, y_pred, target_names=words)"
      ],
      "execution_count": 11,
      "outputs": [
        {
          "output_type": "stream",
          "text": [
            "score 0.07647058823529412\n",
            "pred label ['cat' 'cat' 'goodnight' 'goodnight' 'goodnight' 'cat' 'goodnight'\n",
            " 'goodnight' 'goodnight' 'goodnight' 'cat' 'goodnight' 'goodnight'\n",
            " 'goodnight' 'cat' 'goodnight' 'goodnight' 'everymorning' 'cat'\n",
            " 'goodnight' 'goodnight' 'cat' 'cat' 'goodnight' 'goodnight' 'goodnight'\n",
            " 'happy' 'goodnight' 'goodnight' 'goodnight' 'goodnight' 'cat' 'cat' 'cat'\n",
            " 'shirt' 'goodnight' 'goodnight' 'cat' 'goodnight' 'goodnight' 'shirt'\n",
            " 'goodnight' 'goodnight' 'goodnight' 'goodnight' 'cat' 'shirt' 'goodnight'\n",
            " 'cat' 'cat' 'cat' 'goodnight' 'goodnight' 'shirt' 'cat' 'cat' 'shirt'\n",
            " 'goodnight' 'cat' 'shirt' 'goodnight' 'everymorning' 'shirt' 'cat' 'cat'\n",
            " 'goodnight' 'cat' 'goodnight' 'cat' 'goodnight' 'cat' 'goodnight'\n",
            " 'goodnight' 'cat' 'cat' 'cat' 'goodnight' 'goodnight' 'goodnight'\n",
            " 'goodnight' 'cat' 'goodnight' 'goodnight' 'goodnight' 'goodnight' 'cat'\n",
            " 'cat' 'goodnight' 'cat' 'goodnight' 'goodnight' 'cat' 'dollar' 'cat'\n",
            " 'goodnight' 'goodnight' 'goodnight' 'cat' 'cat' 'goodnight'\n",
            " 'everymorning' 'everymorning' 'cat' 'goodnight' 'goodnight' 'cat'\n",
            " 'goodnight' 'cat' 'cat' 'goodnight' 'goodnight' 'shirt' 'goodnight'\n",
            " 'goodnight' 'goodnight' 'goodnight' 'cat' 'goodnight' 'goodnight' 'cat'\n",
            " 'cat' 'goodnight' 'cat' 'goodnight' 'cat' 'cat' 'cat' 'goodnight' 'cat'\n",
            " 'cat' 'goodnight' 'goodnight' 'goodnight' 'goodnight' 'cat' 'goodnight'\n",
            " 'goodnight' 'cat' 'cat' 'goodnight' 'goodnight' 'cat' 'cat' 'goodnight'\n",
            " 'cat' 'goodnight' 'goodnight' 'cat' 'cat' 'shirt' 'cat' 'cat' 'goodnight'\n",
            " 'goodnight' 'goodnight' 'goodnight' 'goodnight' 'goodnight'\n",
            " 'everymorning' 'cat' 'cat' 'cat' 'cat' 'goodnight' 'goodnight'\n",
            " 'goodnight' 'goodnight' 'goodnight' 'goodnight' 'goodnight' 'goodnight'\n",
            " 'shirt' 'cat' 'cat' 'goodnight' 'goodnight' 'cat' 'cat' 'cat' 'cat'\n",
            " 'goodnight' 'cat' 'goodnight' 'goodnight' 'shirt' 'shirt' 'goodnight'\n",
            " 'cat' 'goodnight' 'goodnight' 'goodnight' 'cat' 'goodnight' 'happy'\n",
            " 'goodnight' 'cat' 'goodnight' 'goodnight' 'goodnight' 'everymorning'\n",
            " 'goodnight' 'goodnight' 'goodnight' 'cat' 'cat' 'everymorning'\n",
            " 'goodnight' 'goodnight' 'goodnight' 'goodnight' 'goodnight' 'goodnight'\n",
            " 'cat' 'cat' 'shirt' 'everymorning' 'goodnight' 'goodnight' 'goodnight'\n",
            " 'goodnight' 'cat' 'goodnight' 'cat' 'shirt' 'cat' 'cat' 'goodnight' 'cat'\n",
            " 'cat' 'goodnight' 'cat' 'goodnight' 'cat' 'shirt' 'goodnight' 'cat'\n",
            " 'goodnight' 'cat' 'everymorning' 'everymorning' 'cat' 'goodnight'\n",
            " 'goodnight' 'goodnight' 'goodnight' 'goodnight' 'cat' 'cat' 'goodnight'\n",
            " 'cat' 'cat' 'cat' 'cat' 'cat' 'goodnight' 'shirt' 'goodnight' 'goodnight'\n",
            " 'shirt' 'goodnight' 'goodnight' 'everymorning' 'goodnight' 'goodnight'\n",
            " 'cat' 'cat' 'goodnight' 'goodnight' 'goodnight' 'goodnight' 'goodnight'\n",
            " 'cat' 'goodnight' 'goodnight' 'cat' 'goodnight' 'goodnight' 'cat'\n",
            " 'goodnight' 'goodnight' 'goodnight' 'cat' 'goodnight' 'cat' 'goodnight'\n",
            " 'cat' 'goodnight' 'goodnight' 'shirt' 'dollar' 'goodnight' 'goodnight'\n",
            " 'goodnight' 'cat' 'goodnight' 'goodnight' 'cat' 'goodnight' 'goodnight'\n",
            " 'goodnight' 'goodnight' 'goodnight' 'goodnight' 'goodnight' 'goodnight'\n",
            " 'goodnight' 'cat' 'goodnight' 'goodnight' 'cat' 'goodnight' 'goodnight'\n",
            " 'cat' 'goodnight' 'shirt' 'goodnight' 'goodnight' 'goodnight' 'happy'\n",
            " 'cat' 'cat' 'goodnight' 'cat' 'cat' 'goodnight' 'goodnight' 'cat'\n",
            " 'everymorning' 'cat' 'cat' 'goodnight' 'cat' 'cat' 'cat' 'happy'\n",
            " 'goodnight' 'goodnight' 'goodnight' 'cat' 'cat' 'shirt' 'cat' 'goodnight'\n",
            " 'cat' 'goodnight' 'shirt' 'cat' 'goodnight' 'goodnight' 'cat' 'cat' 'cat'\n",
            " 'goodnight' 'cat' 'goodnight' 'cat' 'goodnight' 'goodnight' 'shirt' 'cat'\n",
            " 'happy' 'goodnight' 'cat' 'cat' 'cat' 'shirt' 'goodnight' 'goodnight'\n",
            " 'day' 'shirt' 'goodnight' 'goodnight' 'cat' 'cat' 'shirt' 'cat' 'shirt'\n",
            " 'goodnight' 'cat' 'cat' 'goodnight' 'goodnight' 'goodnight' 'goodnight'\n",
            " 'goodnight' 'happy' 'cat' 'goodnight' 'goodnight' 'goodnight' 'goodnight'\n",
            " 'cat' 'goodnight' 'goodnight' 'goodnight' 'everymorning' 'goodnight'\n",
            " 'cat' 'goodnight' 'goodnight' 'cat' 'goodnight' 'goodnight' 'goodnight'\n",
            " 'goodnight' 'goodnight' 'goodnight' 'cat' 'goodnight' 'goodnight'\n",
            " 'goodnight' 'shirt' 'goodnight' 'cat' 'everymorning' 'everymorning'\n",
            " 'shirt' 'goodnight' 'cat' 'cat' 'goodnight' 'goodnight' 'goodnight'\n",
            " 'goodnight' 'cat' 'everymorning' 'goodnight' 'cat' 'goodnight' 'cat'\n",
            " 'cat' 'cat' 'cat' 'goodnight' 'goodnight' 'goodnight' 'shirt' 'cat' 'cat'\n",
            " 'goodnight' 'cat' 'goodnight' 'shirt' 'cat' 'cat' 'cat' 'cat' 'goodnight'\n",
            " 'cat' 'cat' 'cat' 'cat' 'goodnight' 'cat' 'goodnight' 'goodnight'\n",
            " 'goodnight' 'goodnight' 'cat' 'goodnight' 'everymorning' 'everymorning'\n",
            " 'cat' 'goodnight' 'cat' 'cat' 'goodnight' 'goodnight' 'goodnight'\n",
            " 'goodnight' 'cat' 'goodnight' 'goodnight' 'goodnight' 'goodnight' 'shirt'\n",
            " 'goodnight' 'goodnight' 'shirt' 'goodnight' 'cat' 'cat' 'goodnight' 'cat'\n",
            " 'cat' 'cat' 'goodnight' 'goodnight' 'cat' 'goodnight' 'goodnight' 'cat'\n",
            " 'shirt' 'goodnight' 'goodnight' 'goodnight' 'goodnight' 'goodnight' 'cat'\n",
            " 'cat' 'cat' 'cat' 'goodnight' 'cat' 'cat' 'cat' 'cat' 'everymorning'\n",
            " 'goodnight' 'goodnight']\n",
            "length 510\n"
          ],
          "name": "stdout"
        },
        {
          "output_type": "display_data",
          "data": {
            "image/png": "[encoded data removed]",
            "text/plain": [
              "<Figure size 432x288 with 2 Axes>"
            ]
          },
          "metadata": {
            "tags": [],
            "needs_background": "light"
          }
        },
        {
          "output_type": "display_data",
          "data": {
            "text/plain": [
              "<Figure size 3600x3600 with 0 Axes>"
            ]
          },
          "metadata": {
            "tags": []
          }
        },
        {
          "output_type": "stream",
          "text": [
            "/usr/local/lib/python3.6/dist-packages/sklearn/metrics/_classification.py:1272: UndefinedMetricWarning: Precision and F-score are ill-defined and being set to 0.0 in labels with no predicted samples. Use `zero_division` parameter to control this behavior.\n",
            "  _warn_prf(average, modifier, msg_start, len(result))\n"
          ],
          "name": "stderr"
        }
      ]
    },
    {
      "cell_type": "code",
      "metadata": {
        "id": "riv-kFwa9oMD",
        "colab_type": "code",
        "colab": {
          "base_uri": "https://localhost:8080/",
          "height": 1000
        },
        "outputId": "e467d597-3ef7-4aa9-ae97-0a3e63910690"
      },
      "source": [
        "# PCA for norm_matrix\n",
        "\n",
        "x = norm_matrix_eago.iloc[:, norm_matrix_eago.columns!='Word'].values   # Features\n",
        "y = norm_matrix_eago.loc[:,'Word'].values     # Target\n",
        "print(y)\n",
        "\n",
        "x_train, x_test, y_train, y_test = train_test_split(x, y, test_size=0.6)\n",
        "\n",
        "pca = PCA(n_components=100)\n",
        "pca.fit(x_train)\n",
        "x_t_train = pca.transform(x_train)\n",
        "x_t_test = pca.transform(x_test)\n",
        "\n",
        "#### plot\n",
        "print(\"Normalized matrix\")\n",
        "print(pca.explained_variance_ratio_)\n",
        "print(pca.singular_values_)\n",
        "plt.figure()\n",
        "plt.bar(fn[:100],pca.explained_variance_ratio_)\n",
        "plt.show()\n",
        "plt.bar(fn[:100],pca.singular_values_)\n",
        "plt.show()"
      ],
      "execution_count": 12,
      "outputs": [
        {
          "output_type": "stream",
          "text": [
            "['allmorning' 'allmorning' 'allmorning' 'allmorning' 'allmorning'\n",
            " 'allmorning' 'allmorning' 'allmorning' 'allmorning' 'allmorning'\n",
            " 'allmorning' 'allmorning' 'allmorning' 'allmorning' 'allmorning'\n",
            " 'allmorning' 'allmorning' 'allmorning' 'allmorning' 'bird' 'bird' 'bird'\n",
            " 'bird' 'bird' 'bird' 'bird' 'bird' 'bird' 'bird' 'bird' 'bird' 'bird'\n",
            " 'bird' 'bird' 'bird' 'bird' 'bird' 'bird' 'bird' 'bird' 'bird' 'bird'\n",
            " 'bird' 'blue' 'blue' 'blue' 'blue' 'blue' 'blue' 'blue' 'blue' 'blue'\n",
            " 'blue' 'blue' 'blue' 'blue' 'blue' 'blue' 'blue' 'blue' 'blue' 'blue'\n",
            " 'blue' 'blue' 'blue' 'blue' 'blue' 'blue' 'blue' 'blue' 'blue' 'blue'\n",
            " 'blue' 'blue' 'blue' 'cantsleep' 'cantsleep' 'cantsleep' 'cantsleep'\n",
            " 'cantsleep' 'cantsleep' 'cantsleep' 'cantsleep' 'cantsleep' 'cantsleep'\n",
            " 'cantsleep' 'cantsleep' 'cantsleep' 'cantsleep' 'cantsleep' 'cantsleep'\n",
            " 'cantsleep' 'cantsleep' 'cantsleep' 'cantsleep' 'cat' 'cat' 'cat' 'cat'\n",
            " 'cat' 'cat' 'cat' 'cat' 'cat' 'cat' 'cat' 'cat' 'cat' 'cat' 'cat' 'cat'\n",
            " 'cat' 'cat' 'cat' 'cat' 'cat' 'cat' 'cat' 'cat' 'coldrunnynose'\n",
            " 'coldrunnynose' 'coldrunnynose' 'coldrunnynose' 'coldrunnynose'\n",
            " 'coldrunnynose' 'coldrunnynose' 'coldrunnynose' 'coldrunnynose'\n",
            " 'coldrunnynose' 'coldrunnynose' 'coldrunnynose' 'coldrunnynose'\n",
            " 'coldrunnynose' 'coldrunnynose' 'coldrunnynose' 'coldrunnynose'\n",
            " 'coldrunnynose' 'coldrunnynose' 'coldrunnynose' 'continuouslyforanhour'\n",
            " 'continuouslyforanhour' 'continuouslyforanhour' 'continuouslyforanhour'\n",
            " 'continuouslyforanhour' 'continuouslyforanhour' 'continuouslyforanhour'\n",
            " 'continuouslyforanhour' 'continuouslyforanhour' 'continuouslyforanhour'\n",
            " 'continuouslyforanhour' 'continuouslyforanhour' 'continuouslyforanhour'\n",
            " 'continuouslyforanhour' 'continuouslyforanhour' 'continuouslyforanhour'\n",
            " 'continuouslyforanhour' 'continuouslyforanhour' 'continuouslyforanhour'\n",
            " 'cost' 'cost' 'cost' 'cost' 'cost' 'cost' 'cost' 'cost' 'cost' 'cost'\n",
            " 'cost' 'cost' 'cost' 'cost' 'cost' 'cost' 'cost' 'cost' 'cost' 'cost'\n",
            " 'cost' 'cost' 'cost' 'cost' 'cost' 'cost' 'cost' 'cost' 'cost' 'cost'\n",
            " 'cost' 'day' 'day' 'day' 'day' 'day' 'day' 'day' 'day' 'day' 'day' 'day'\n",
            " 'day' 'day' 'day' 'day' 'day' 'day' 'day' 'day' 'day' 'day' 'day' 'day'\n",
            " 'day' 'dollar' 'dollar' 'dollar' 'dollar' 'dollar' 'dollar' 'dollar'\n",
            " 'dollar' 'dollar' 'dollar' 'dollar' 'dollar' 'dollar' 'dollar' 'dollar'\n",
            " 'dollar' 'dollar' 'dollar' 'dollar' 'dollar' 'dollar' 'dollar' 'dollar'\n",
            " 'dollar' 'dollar' 'dollar' 'dollar' 'dollar' 'dollar' 'everymorning'\n",
            " 'everymorning' 'everymorning' 'everymorning' 'everymorning'\n",
            " 'everymorning' 'everymorning' 'everymorning' 'everymorning'\n",
            " 'everymorning' 'everymorning' 'everymorning' 'everymorning'\n",
            " 'everymorning' 'everymorning' 'everymorning' 'everymorning'\n",
            " 'everymorning' 'everymorning' 'everymorning' 'everynight' 'everynight'\n",
            " 'everynight' 'everynight' 'everynight' 'everynight' 'everynight'\n",
            " 'everynight' 'everynight' 'everynight' 'everynight' 'everynight'\n",
            " 'everynight' 'everynight' 'everynight' 'everynight' 'everynight'\n",
            " 'everynight' 'everynight' 'everynight' 'everynight' 'gold' 'gold' 'gold'\n",
            " 'gold' 'gold' 'gold' 'gold' 'gold' 'gold' 'gold' 'gold' 'gold' 'gold'\n",
            " 'gold' 'gold' 'gold' 'gold' 'gold' 'gold' 'gold' 'gold' 'gold' 'gold'\n",
            " 'goodnight' 'goodnight' 'goodnight' 'goodnight' 'goodnight' 'goodnight'\n",
            " 'goodnight' 'goodnight' 'goodnight' 'goodnight' 'goodnight' 'goodnight'\n",
            " 'goodnight' 'goodnight' 'goodnight' 'goodnight' 'goodnight' 'goodnight'\n",
            " 'goodnight' 'goodnight' 'goodnight' 'goodnight' 'goodnight' 'goodnight'\n",
            " 'goodnight' 'goodnight' 'goodnight' 'goodnight' 'goodnight' 'goodnight'\n",
            " 'goodnight' 'goodnight' 'goodnight' 'happy' 'happy' 'happy' 'happy'\n",
            " 'happy' 'happy' 'happy' 'happy' 'happy' 'happy' 'happy' 'happy' 'happy'\n",
            " 'happy' 'happy' 'happy' 'happy' 'happy' 'happy' 'happy' 'happy' 'happy'\n",
            " 'happy' 'happy' 'happy' 'happy' 'happy' 'happy' 'happy' 'happy' 'happy'\n",
            " 'happy' 'happy' 'happy' 'headache' 'headache' 'headache' 'headache'\n",
            " 'headache' 'headache' 'headache' 'headache' 'headache' 'headache'\n",
            " 'headache' 'headache' 'headache' 'headache' 'headache' 'headache'\n",
            " 'headache' 'headache' 'home' 'home' 'home' 'home' 'home' 'home' 'home'\n",
            " 'home' 'home' 'home' 'home' 'home' 'home' 'home' 'home' 'home' 'home'\n",
            " 'home' 'home' 'home' 'home' 'home' 'home' 'home' 'home' 'home' 'home'\n",
            " 'horse' 'horse' 'horse' 'horse' 'horse' 'horse' 'horse' 'horse' 'horse'\n",
            " 'horse' 'horse' 'horse' 'horse' 'horse' 'horse' 'horse' 'horse' 'horse'\n",
            " 'horse' 'horse' 'horse' 'horse' 'horse' 'horse' 'hot' 'hot' 'hot' 'hot'\n",
            " 'hot' 'hot' 'hot' 'hot' 'hot' 'hot' 'hot' 'hot' 'hot' 'hot' 'hot' 'hot'\n",
            " 'hot' 'hot' 'hot' 'hot' 'hot' 'hot' 'hot' 'hot' 'hot' 'hot' 'hot' 'hot'\n",
            " 'hot' 'hot' 'hot' 'hot' 'hot' 'hot' 'hot' 'hurt' 'hurt' 'hurt' 'hurt'\n",
            " 'hurt' 'hurt' 'hurt' 'hurt' 'hurt' 'hurt' 'hurt' 'hurt' 'hurt' 'hurt'\n",
            " 'hurt' 'hurt' 'hurt' 'hurt' 'hurt' 'itching' 'itching' 'itching'\n",
            " 'itching' 'itching' 'itching' 'itching' 'itching' 'itching' 'itching'\n",
            " 'itching' 'itching' 'itching' 'itching' 'itching' 'itching' 'itching'\n",
            " 'large' 'large' 'large' 'large' 'large' 'large' 'large' 'large' 'large'\n",
            " 'large' 'large' 'large' 'large' 'large' 'large' 'large' 'large' 'large'\n",
            " 'large' 'large' 'large' 'large' 'large' 'large' 'large' 'large' 'large'\n",
            " 'large' 'large' 'large' 'large' 'large' 'large' 'large' 'mom' 'mom' 'mom'\n",
            " 'mom' 'mom' 'mom' 'mom' 'mom' 'mom' 'mom' 'mom' 'mom' 'mom' 'mom' 'mom'\n",
            " 'mom' 'mom' 'mom' 'mom' 'mom' 'mom' 'mom' 'mom' 'mom' 'mom' 'mom' 'mom'\n",
            " 'mom' 'mom' 'mom' 'monthly' 'monthly' 'monthly' 'monthly' 'monthly'\n",
            " 'monthly' 'monthly' 'monthly' 'monthly' 'monthly' 'monthly' 'monthly'\n",
            " 'monthly' 'monthly' 'monthly' 'monthly' 'monthly' 'monthly' 'monthly'\n",
            " 'notfeelgood' 'notfeelgood' 'notfeelgood' 'notfeelgood' 'notfeelgood'\n",
            " 'notfeelgood' 'notfeelgood' 'notfeelgood' 'notfeelgood' 'notfeelgood'\n",
            " 'notfeelgood' 'notfeelgood' 'notfeelgood' 'notfeelgood' 'notfeelgood'\n",
            " 'notfeelgood' 'notfeelgood' 'notfeelgood' 'notfeelgood' 'notfeelgood'\n",
            " 'notfeelgood' 'notfeelgood' 'orange' 'orange' 'orange' 'orange' 'orange'\n",
            " 'orange' 'orange' 'orange' 'orange' 'orange' 'orange' 'orange' 'orange'\n",
            " 'orange' 'orange' 'orange' 'orange' 'orange' 'orange' 'orange' 'orange'\n",
            " 'pizza' 'pizza' 'pizza' 'pizza' 'pizza' 'pizza' 'pizza' 'pizza' 'pizza'\n",
            " 'pizza' 'pizza' 'pizza' 'pizza' 'pizza' 'pizza' 'pizza' 'pizza' 'pizza'\n",
            " 'pizza' 'pizza' 'pizza' 'pizza' 'pizza' 'please' 'please' 'please'\n",
            " 'please' 'please' 'please' 'please' 'please' 'please' 'please' 'please'\n",
            " 'please' 'please' 'please' 'please' 'please' 'please' 'please' 'please'\n",
            " 'please' 'please' 'please' 'please' 'please' 'please' 'please' 'please'\n",
            " 'shirt' 'shirt' 'shirt' 'shirt' 'shirt' 'shirt' 'shirt' 'shirt' 'shirt'\n",
            " 'shirt' 'shirt' 'shirt' 'shirt' 'shirt' 'shirt' 'shirt' 'shirt' 'shirt'\n",
            " 'shirt' 'shirt' 'shirt' 'shirt' 'shirt' 'shirt' 'shirt' 'shirt' 'shirt'\n",
            " 'soreness' 'soreness' 'soreness' 'soreness' 'swelling' 'swelling'\n",
            " 'swelling' 'swelling' 'swelling' 'swelling' 'swelling' 'swelling'\n",
            " 'swelling' 'swelling' 'swelling' 'swelling' 'swelling' 'swelling'\n",
            " 'swelling' 'swelling' 'swelling' 'swelling' 'swelling' 'swelling'\n",
            " 'takeliquidmedicine' 'takeliquidmedicine' 'takeliquidmedicine'\n",
            " 'takeliquidmedicine' 'takeliquidmedicine' 'takeliquidmedicine'\n",
            " 'takeliquidmedicine' 'takeliquidmedicine' 'takeliquidmedicine'\n",
            " 'takeliquidmedicine' 'takeliquidmedicine' 'takeliquidmedicine'\n",
            " 'takeliquidmedicine' 'takeliquidmedicine' 'takeliquidmedicine'\n",
            " 'takeliquidmedicine' 'takeliquidmedicine' 'takeliquidmedicine'\n",
            " 'takeliquidmedicine' 'thatsterrible' 'thatsterrible' 'thatsterrible'\n",
            " 'thatsterrible' 'thatsterrible' 'thatsterrible' 'thatsterrible'\n",
            " 'thatsterrible' 'thatsterrible' 'thatsterrible' 'thatsterrible'\n",
            " 'thatsterrible' 'thatsterrible' 'thatsterrible' 'thatsterrible'\n",
            " 'thatsterrible' 'thatsterrible' 'thatsterrible' 'thatsterrible'\n",
            " 'thatsterrible' 'tired' 'tired' 'tired' 'tired' 'tired' 'tired' 'tired'\n",
            " 'tired' 'tired' 'tired' 'tired' 'tired' 'tired' 'tired' 'tired' 'tired'\n",
            " 'tired' 'tired' 'tired' 'tired' 'upsetstomach' 'upsetstomach'\n",
            " 'upsetstomach' 'upsetstomach' 'upsetstomach' 'upsetstomach'\n",
            " 'upsetstomach' 'upsetstomach' 'upsetstomach' 'upsetstomach'\n",
            " 'upsetstomach' 'upsetstomach' 'upsetstomach' 'upsetstomach'\n",
            " 'upsetstomach' 'upsetstomach' 'upsetstomach' 'upsetstomach'\n",
            " 'upsetstomach' 'upsetstomach' 'upsetstomach' 'wash' 'wash' 'wash' 'wash'\n",
            " 'wash' 'wash' 'wash' 'wash' 'wash' 'wash' 'wash' 'wash' 'wash' 'wash'\n",
            " 'wash' 'wash' 'wash' 'wash' 'wash' 'wash' 'wash' 'wash' 'wash' 'wash'\n",
            " 'wash' 'wash' 'wash' 'wash' 'wash']\n",
            "Normalized matrix\n",
            "[0.1295689  0.10307774 0.08242654 0.06606606 0.05908522 0.0453083\n",
            " 0.03085967 0.02487869 0.02123419 0.02082783 0.01965199 0.01752827\n",
            " 0.01721139 0.0144484  0.01430078 0.0130467  0.01239498 0.01113317\n",
            " 0.01076475 0.01018547 0.00977481 0.00955629 0.00898236 0.00847317\n",
            " 0.00834777 0.00819964 0.00771071 0.007235   0.00687271 0.00676371\n",
            " 0.00640253 0.0059413  0.00576962 0.00556593 0.00529502 0.00478204\n",
            " 0.00472205 0.00468728 0.00451268 0.00410503 0.0039501  0.00392049\n",
            " 0.00364232 0.0035454  0.00350359 0.00342181 0.00314632 0.00304854\n",
            " 0.00300199 0.00288315 0.00286046 0.00277408 0.00266269 0.00255288\n",
            " 0.00237701 0.00235355 0.00232294 0.00222072 0.00215387 0.00206211\n",
            " 0.00200014 0.00198014 0.00185237 0.00180659 0.00172844 0.00169556\n",
            " 0.00166424 0.00163936 0.00160419 0.0014836  0.00143855 0.00141726\n",
            " 0.0013775  0.00130766 0.00128047 0.00123003 0.00117747 0.00114614\n",
            " 0.00109865 0.0010699  0.00104858 0.00100576 0.00099501 0.00094201\n",
            " 0.00093182 0.0008955  0.00087169 0.0008615  0.00083311 0.00081765\n",
            " 0.00077401 0.00076385 0.00073581 0.00072928 0.00072444 0.00070038\n",
            " 0.00069101 0.00068031 0.0006556  0.00063829]\n",
            "[31.03166686 27.67815695 24.75074415 22.15868239 20.95531312 18.35031835\n",
            " 15.14434129 13.59779516 12.56239882 12.4416138  12.08531541 11.41364335\n",
            " 11.31000123 10.36250287 10.30942708  9.84702484  9.59792963  9.09628799\n",
            "  8.94451455  8.70051944  8.5233202   8.42751199  8.17052248  7.93555947\n",
            "  7.87662167  7.80642484  7.57010368  7.3328685   7.1469158   7.09001604\n",
            "  6.89811488  6.64500716  6.5482987   6.43166848  6.27319012  5.96158124\n",
            "  5.92406746  5.90221812  5.79124845  5.52348115  5.41824933  5.39790252\n",
            "  5.2028792   5.13318859  5.10283362  5.04292829  4.83566205  4.75993011\n",
            "  4.7234536   4.62901395  4.61075884  4.54060788  4.44851488  4.35581849\n",
            "  4.20310265  4.18231567  4.15502441  4.06257683  4.00096284  3.91480619\n",
            "  3.85553752  3.83620841  3.71038042  3.66425017  3.58411627  3.54985986\n",
            "  3.51691857  3.49053065  3.45288842  3.32057659  3.2697723   3.24548879\n",
            "  3.19963611  3.11746613  3.08488883  3.02352303  2.9582196   2.91859346\n",
            "  2.85748623  2.81985042  2.79161608  2.73402271  2.71936756  2.64595542\n",
            "  2.63161118  2.57980592  2.54527747  2.53036639  2.48831861  2.46512\n",
            "  2.39843263  2.38264371  2.33849573  2.32810059  2.32037066  2.28149846\n",
            "  2.26619671  2.2485731   2.2073724   2.17802628]\n"
          ],
          "name": "stdout"
        },
        {
          "output_type": "display_data",
          "data": {
            "image/png": "[encoded data removed]",
            "text/plain": [
              "<Figure size 432x288 with 1 Axes>"
            ]
          },
          "metadata": {
            "tags": [],
            "needs_background": "light"
          }
        },
        {
          "output_type": "display_data",
          "data": {
            "image/png": "[encoded data removed]",
            "text/plain": [
              "<Figure size 432x288 with 1 Axes>"
            ]
          },
          "metadata": {
            "tags": [],
            "needs_background": "light"
          }
        }
      ]
    },
    {
      "cell_type": "code",
      "metadata": {
        "id": "BSevZSPDFZjz",
        "colab_type": "code",
        "colab": {
          "base_uri": "https://localhost:8080/",
          "height": 1000
        },
        "outputId": "2bdb0065-15ea-4a51-cc7c-f681ff956609"
      },
      "source": [
        "# Normalized, Butterworth, PCA to SVM\n",
        "clf = SVC()\n",
        "clf.fit(x_t_train, y_train)\n",
        "print ('score', clf.score(x_t_test, y_test))\n",
        "y_pred=clf.predict(x_t_test)\n",
        "print ('pred label', y_pred)\n",
        "print('length',len(clf.predict(x_t_test)))\n",
        "\n",
        "# Confusion matrix\n",
        "plot_confusion_matrix(clf, x_t_test, y_test,\n",
        "                                 cmap=plt.cm.Blues)\n",
        "plt.figure(figsize=(50,50))\n",
        "plt.show()\n",
        "\n",
        "#print(classification_report(y_test, y_pred, target_names=words))\n",
        "pcaresults=classification_report(y_test, y_pred, target_names=words)"
      ],
      "execution_count": 13,
      "outputs": [
        {
          "output_type": "stream",
          "text": [
            "score 0.38235294117647056\n",
            "pred label ['happy' 'shirt' 'itching' 'happy' 'dollar' 'large' 'happy' 'shirt'\n",
            " 'goodnight' 'swelling' 'happy' 'mom' 'mom' 'hot' 'large' 'mom'\n",
            " 'thatsterrible' 'goodnight' 'mom' 'large' 'mom' 'cost' 'goodnight' 'cat'\n",
            " 'dollar' 'thatsterrible' 'continuouslyforanhour' 'bird' 'goodnight' 'mom'\n",
            " 'happy' 'dollar' 'dollar' 'mom' 'headache' 'everymorning' 'hot' 'mom'\n",
            " 'wash' 'itching' 'cat' 'swelling' 'blue' 'goodnight' 'goodnight' 'horse'\n",
            " 'large' 'happy' 'tired' 'goodnight' 'large' 'goodnight' 'blue' 'itching'\n",
            " 'everymorning' 'happy' 'swelling' 'mom' 'goodnight' 'dollar' 'everynight'\n",
            " 'goodnight' 'happy' 'wash' 'mom' 'goodnight' 'monthly' 'coldrunnynose'\n",
            " 'swelling' 'thatsterrible' 'horse' 'goodnight' 'headache' 'goodnight'\n",
            " 'hot' 'mom' 'cost' 'swelling' 'day' 'gold' 'goodnight' 'mom' 'mom'\n",
            " 'swelling' 'blue' 'hot' 'mom' 'blue' 'tired' 'goodnight' 'headache' 'mom'\n",
            " 'cost' 'horse' 'hot' 'coldrunnynose' 'continuouslyforanhour' 'horse'\n",
            " 'happy' 'large' 'pizza' 'mom' 'happy' 'mom' 'large' 'everymorning' 'mom'\n",
            " 'mom' 'mom' 'blue' 'mom' 'happy' 'blue' 'shirt' 'horse' 'hot' 'swelling'\n",
            " 'hot' 'goodnight' 'thatsterrible' 'dollar' 'swelling' 'gold' 'everynight'\n",
            " 'happy' 'large' 'goodnight' 'horse' 'swelling' 'upsetstomach'\n",
            " 'coldrunnynose' 'mom' 'horse' 'takeliquidmedicine' 'wash' 'hot' 'blue'\n",
            " 'goodnight' 'swelling' 'blue' 'happy' 'shirt' 'please' 'everymorning'\n",
            " 'gold' 'swelling' 'hot' 'happy' 'horse' 'wash' 'continuouslyforanhour'\n",
            " 'happy' 'cat' 'dollar' 'continuouslyforanhour' 'continuouslyforanhour'\n",
            " 'happy' 'mom' 'continuouslyforanhour' 'headache' 'mom' 'itching' 'blue'\n",
            " 'happy' 'blue' 'mom' 'goodnight' 'everymorning' 'large' 'mom' 'goodnight'\n",
            " 'thatsterrible' 'happy' 'happy' 'large' 'itching' 'blue' 'mom'\n",
            " 'everymorning' 'large' 'mom' 'gold' 'home' 'happy' 'cost' 'everynight'\n",
            " 'swelling' 'mom' 'blue' 'cat' 'mom' 'horse' 'blue' 'goodnight' 'blue'\n",
            " 'dollar' 'large' 'large' 'blue' 'goodnight' 'goodnight' 'hot'\n",
            " 'continuouslyforanhour' 'mom' 'happy' 'goodnight' 'happy' 'allmorning'\n",
            " 'mom' 'wash' 'happy' 'large' 'itching' 'hot' 'shirt' 'headache'\n",
            " 'continuouslyforanhour' 'gold' 'goodnight' 'itching' 'happy' 'everynight'\n",
            " 'large' 'cat' 'shirt' 'mom' 'swelling' 'blue' 'happy' 'happy' 'goodnight'\n",
            " 'goodnight' 'swelling' 'home' 'everymorning' 'happy' 'happy' 'mom'\n",
            " 'goodnight' 'happy' 'happy' 'dollar' 'shirt' 'continuouslyforanhour'\n",
            " 'continuouslyforanhour' 'home' 'mom' 'swelling' 'large' 'shirt' 'happy'\n",
            " 'mom' 'goodnight' 'headache' 'mom' 'mom' 'blue' 'mom' 'mom' 'goodnight'\n",
            " 'happy' 'dollar' 'wash' 'itching' 'cat' 'goodnight' 'goodnight' 'happy'\n",
            " 'happy' 'shirt' 'hot' 'goodnight' 'goodnight' 'goodnight' 'mom'\n",
            " 'goodnight' 'wash' 'happy' 'cost' 'hot' 'happy' 'happy' 'goodnight'\n",
            " 'blue' 'cost' 'mom' 'home' 'continuouslyforanhour' 'mom' 'allmorning'\n",
            " 'please' 'blue' 'mom' 'mom' 'dollar' 'goodnight' 'large' 'hot' 'pizza'\n",
            " 'happy' 'horse' 'coldrunnynose' 'goodnight' 'swelling' 'large' 'large'\n",
            " 'everymorning' 'large' 'continuouslyforanhour' 'cost' 'goodnight'\n",
            " 'upsetstomach' 'bird' 'dollar' 'happy' 'orange' 'goodnight'\n",
            " 'everymorning' 'shirt' 'blue' 'itching' 'swelling' 'pizza' 'notfeelgood'\n",
            " 'horse' 'happy' 'large' 'allmorning' 'blue' 'large' 'upsetstomach'\n",
            " 'large' 'everynight' 'goodnight' 'dollar' 'cost' 'mom' 'blue' 'bird'\n",
            " 'shirt' 'blue' 'mom' 'goodnight' 'wash' 'home' 'dollar' 'mom' 'cost'\n",
            " 'mom' 'gold' 'horse' 'happy' 'goodnight' 'takeliquidmedicine' 'shirt'\n",
            " 'gold' 'cat' 'thatsterrible' 'home' 'happy' 'itching' 'headache' 'large'\n",
            " 'mom' 'everymorning' 'swelling' 'pizza' 'gold' 'happy' 'itching' 'happy'\n",
            " 'wash' 'gold' 'blue' 'hot' 'goodnight' 'headache' 'cost' 'swelling'\n",
            " 'thatsterrible' 'mom' 'horse' 'mom' 'hot' 'cost' 'day' 'horse' 'cat'\n",
            " 'mom' 'mom' 'blue' 'mom' 'happy' 'goodnight' 'thatsterrible' 'home'\n",
            " 'gold' 'shirt' 'mom' 'continuouslyforanhour' 'happy' 'large' 'goodnight'\n",
            " 'shirt' 'blue' 'large' 'goodnight' 'goodnight' 'goodnight' 'happy'\n",
            " 'happy' 'blue' 'gold' 'wash' 'please' 'horse' 'goodnight' 'headache'\n",
            " 'mom' 'goodnight' 'goodnight' 'continuouslyforanhour' 'everymorning'\n",
            " 'mom' 'thatsterrible' 'thatsterrible' 'goodnight' 'mom' 'thatsterrible'\n",
            " 'continuouslyforanhour' 'happy' 'cat' 'goodnight' 'pizza' 'large'\n",
            " 'swelling' 'happy' 'mom' 'continuouslyforanhour' 'goodnight' 'mom'\n",
            " 'swelling' 'mom' 'mom' 'shirt' 'please' 'goodnight' 'goodnight' 'dollar'\n",
            " 'mom' 'hot' 'pizza' 'large' 'happy' 'mom' 'mom' 'goodnight' 'goodnight'\n",
            " 'gold' 'mom' 'cat' 'mom' 'upsetstomach' 'mom' 'goodnight' 'happy'\n",
            " 'upsetstomach' 'happy' 'swelling' 'please' 'goodnight' 'thatsterrible'\n",
            " 'goodnight' 'goodnight' 'happy' 'goodnight' 'happy' 'mom' 'blue'\n",
            " 'thatsterrible' 'pizza' 'happy' 'happy' 'swelling' 'day' 'mom' 'mom'\n",
            " 'blue' 'notfeelgood' 'mom' 'happy' 'coldrunnynose' 'happy'\n",
            " 'takeliquidmedicine' 'goodnight' 'goodnight' 'goodnight' 'swelling'\n",
            " 'goodnight' 'large' 'thatsterrible' 'blue' 'takeliquidmedicine' 'shirt'\n",
            " 'goodnight' 'headache' 'everynight' 'cost' 'allmorning' 'mom']\n",
            "length 510\n"
          ],
          "name": "stdout"
        },
        {
          "output_type": "display_data",
          "data": {
            "image/png": "[encoded data removed]",
            "text/plain": [
              "<Figure size 432x288 with 2 Axes>"
            ]
          },
          "metadata": {
            "tags": [],
            "needs_background": "light"
          }
        },
        {
          "output_type": "display_data",
          "data": {
            "text/plain": [
              "<Figure size 3600x3600 with 0 Axes>"
            ]
          },
          "metadata": {
            "tags": []
          }
        },
        {
          "output_type": "stream",
          "text": [
            "/usr/local/lib/python3.6/dist-packages/sklearn/metrics/_classification.py:1272: UndefinedMetricWarning: Precision and F-score are ill-defined and being set to 0.0 in labels with no predicted samples. Use `zero_division` parameter to control this behavior.\n",
            "  _warn_prf(average, modifier, msg_start, len(result))\n"
          ],
          "name": "stderr"
        }
      ]
    },
    {
      "cell_type": "markdown",
      "metadata": {
        "id": "oPsmjnnASPYX",
        "colab_type": "text"
      },
      "source": [
        "**Summary of results**\n"
      ]
    },
    {
      "cell_type": "code",
      "metadata": {
        "id": "NGL1j6iBSlGj",
        "colab_type": "code",
        "colab": {
          "base_uri": "https://localhost:8080/",
          "height": 1000
        },
        "outputId": "ad14ccb4-8913-427a-e2eb-de84e252b2ae"
      },
      "source": [
        "print('Directly:')\n",
        "print(directresults)\n",
        "print('Normalized:')\n",
        "print(normresults)\n",
        "print('Butterworth:')\n",
        "print(butterresults)\n",
        "print('PCA:')\n",
        "print(pcaresults)"
      ],
      "execution_count": 14,
      "outputs": [
        {
          "output_type": "stream",
          "text": [
            "Directly:\n",
            "                       precision    recall  f1-score   support\n",
            "\n",
            "           allmorning       0.00      0.00      0.00        11\n",
            "                 bird       0.00      0.00      0.00        15\n",
            "                 blue       0.00      0.00      0.00        19\n",
            "            cantsleep       0.00      0.00      0.00        12\n",
            "                  cat       0.00      0.00      0.00        16\n",
            "        coldrunnynose       0.00      0.00      0.00        12\n",
            "continuouslyforanhour       0.00      0.00      0.00        14\n",
            "                 cost       0.00      0.00      0.00        20\n",
            "                  day       0.00      0.00      0.00        14\n",
            "               dollar       0.00      0.00      0.00        18\n",
            "         everymorning       0.00      0.00      0.00        10\n",
            "           everynight       0.00      0.00      0.00        14\n",
            "                 gold       0.00      0.00      0.00        15\n",
            "            goodnight       0.05      0.39      0.09        18\n",
            "                happy       0.00      0.00      0.00        24\n",
            "             headache       0.00      0.00      0.00        11\n",
            "                 home       0.00      0.00      0.00        16\n",
            "                horse       0.00      0.00      0.00        13\n",
            "                  hot       0.00      0.00      0.00        21\n",
            "                 hurt       0.00      0.00      0.00         8\n",
            "              itching       0.00      0.00      0.00        10\n",
            "                large       0.00      0.00      0.00        22\n",
            "                  mom       0.04      0.93      0.07        15\n",
            "              monthly       0.00      0.00      0.00        13\n",
            "          notfeelgood       0.00      0.00      0.00        12\n",
            "               orange       0.00      0.00      0.00        13\n",
            "                pizza       0.00      0.00      0.00         9\n",
            "               please       0.00      0.00      0.00        18\n",
            "                shirt       0.00      0.00      0.00        19\n",
            "             soreness       0.00      0.00      0.00         1\n",
            "             swelling       0.00      0.00      0.00        11\n",
            "   takeliquidmedicine       0.00      0.00      0.00         7\n",
            "        thatsterrible       0.00      0.00      0.00        14\n",
            "                tired       0.00      0.00      0.00        13\n",
            "         upsetstomach       0.00      0.00      0.00        11\n",
            "                 wash       0.00      0.00      0.00        21\n",
            "\n",
            "             accuracy                           0.04       510\n",
            "            macro avg       0.00      0.04      0.00       510\n",
            "         weighted avg       0.00      0.04      0.01       510\n",
            "\n",
            "Normalized:\n",
            "                       precision    recall  f1-score   support\n",
            "\n",
            "           allmorning       0.00      0.00      0.00        11\n",
            "                 bird       0.00      0.00      0.00        13\n",
            "                 blue       0.07      0.94      0.14        16\n",
            "            cantsleep       0.00      0.00      0.00        13\n",
            "                  cat       0.00      0.00      0.00        11\n",
            "        coldrunnynose       0.00      0.00      0.00        11\n",
            "continuouslyforanhour       0.00      0.00      0.00        12\n",
            "                 cost       0.00      0.00      0.00        20\n",
            "                  day       0.00      0.00      0.00        13\n",
            "               dollar       0.13      0.53      0.21        15\n",
            "         everymorning       0.00      0.00      0.00        14\n",
            "           everynight       0.00      0.00      0.00        13\n",
            "                 gold       0.00      0.00      0.00        10\n",
            "            goodnight       0.00      0.00      0.00        26\n",
            "                happy       0.00      0.00      0.00        21\n",
            "             headache       0.00      0.00      0.00        12\n",
            "                 home       0.00      0.00      0.00        19\n",
            "                horse       0.00      0.00      0.00        20\n",
            "                  hot       0.08      0.55      0.14        20\n",
            "                 hurt       0.00      0.00      0.00        13\n",
            "              itching       0.00      0.00      0.00         7\n",
            "                large       0.14      0.65      0.22        20\n",
            "                  mom       0.00      0.00      0.00        16\n",
            "              monthly       0.00      0.00      0.00        12\n",
            "          notfeelgood       0.00      0.00      0.00         9\n",
            "               orange       0.00      0.00      0.00        12\n",
            "                pizza       0.00      0.00      0.00        18\n",
            "               please       0.00      0.00      0.00        13\n",
            "                shirt       0.60      0.38      0.46        16\n",
            "             soreness       0.00      0.00      0.00         2\n",
            "             swelling       0.00      0.00      0.00        16\n",
            "   takeliquidmedicine       0.00      0.00      0.00        10\n",
            "        thatsterrible       0.00      0.00      0.00        10\n",
            "                tired       0.00      0.00      0.00        13\n",
            "         upsetstomach       0.00      0.00      0.00        15\n",
            "                 wash       0.00      0.00      0.00        18\n",
            "\n",
            "             accuracy                           0.10       510\n",
            "            macro avg       0.03      0.08      0.03       510\n",
            "         weighted avg       0.03      0.10      0.04       510\n",
            "\n",
            "Butterworth:\n",
            "                       precision    recall  f1-score   support\n",
            "\n",
            "           allmorning       0.00      0.00      0.00         8\n",
            "                 bird       0.00      0.00      0.00        14\n",
            "                 blue       0.00      0.00      0.00        20\n",
            "            cantsleep       0.00      0.00      0.00        13\n",
            "                  cat       0.04      0.80      0.08        10\n",
            "        coldrunnynose       0.00      0.00      0.00         9\n",
            "continuouslyforanhour       0.00      0.00      0.00        12\n",
            "                 cost       0.00      0.00      0.00        21\n",
            "                  day       1.00      0.08      0.14        13\n",
            "               dollar       1.00      0.12      0.21        17\n",
            "         everymorning       0.00      0.00      0.00         7\n",
            "           everynight       0.00      0.00      0.00        13\n",
            "                 gold       0.00      0.00      0.00        13\n",
            "            goodnight       0.06      0.79      0.10        19\n",
            "                happy       0.00      0.00      0.00        21\n",
            "             headache       0.00      0.00      0.00        14\n",
            "                 home       0.00      0.00      0.00        17\n",
            "                horse       0.00      0.00      0.00        17\n",
            "                  hot       0.00      0.00      0.00        22\n",
            "                 hurt       0.00      0.00      0.00        11\n",
            "              itching       0.00      0.00      0.00        10\n",
            "                large       0.00      0.00      0.00        24\n",
            "                  mom       0.00      0.00      0.00        18\n",
            "              monthly       0.00      0.00      0.00         9\n",
            "          notfeelgood       0.00      0.00      0.00        14\n",
            "               orange       0.00      0.00      0.00        13\n",
            "                pizza       0.00      0.00      0.00        14\n",
            "               please       0.00      0.00      0.00        20\n",
            "                shirt       0.39      0.87      0.54        15\n",
            "             soreness       0.00      0.00      0.00         2\n",
            "             swelling       0.00      0.00      0.00        11\n",
            "   takeliquidmedicine       0.00      0.00      0.00        11\n",
            "        thatsterrible       0.00      0.00      0.00        12\n",
            "                tired       0.00      0.00      0.00        16\n",
            "         upsetstomach       0.00      0.00      0.00        11\n",
            "                 wash       0.00      0.00      0.00        19\n",
            "\n",
            "             accuracy                           0.08       510\n",
            "            macro avg       0.07      0.07      0.03       510\n",
            "         weighted avg       0.07      0.08      0.03       510\n",
            "\n",
            "PCA:\n",
            "                       precision    recall  f1-score   support\n",
            "\n",
            "           allmorning       1.00      0.31      0.47        13\n",
            "                 bird       0.67      0.14      0.24        14\n",
            "                 blue       0.27      0.42      0.33        19\n",
            "            cantsleep       0.00      0.00      0.00        15\n",
            "                  cat       0.50      0.38      0.43        13\n",
            "        coldrunnynose       0.40      0.15      0.22        13\n",
            "continuouslyforanhour       0.44      0.78      0.56         9\n",
            "                 cost       0.58      0.35      0.44        20\n",
            "                  day       1.00      0.18      0.30        17\n",
            "               dollar       0.60      0.47      0.53        19\n",
            "         everymorning       0.55      0.60      0.57        10\n",
            "           everynight       1.00      0.46      0.63        13\n",
            "                 gold       0.42      0.33      0.37        15\n",
            "            goodnight       0.17      0.75      0.28        16\n",
            "                happy       0.19      0.58      0.28        19\n",
            "             headache       0.70      0.88      0.78         8\n",
            "                 home       0.43      0.19      0.26        16\n",
            "                horse       0.67      0.71      0.69        14\n",
            "                  hot       0.18      0.15      0.16        20\n",
            "                 hurt       0.00      0.00      0.00        16\n",
            "              itching       0.27      0.33      0.30         9\n",
            "                large       0.55      0.80      0.65        20\n",
            "                  mom       0.12      0.64      0.20        14\n",
            "              monthly       1.00      0.07      0.12        15\n",
            "          notfeelgood       1.00      0.14      0.25        14\n",
            "               orange       1.00      0.08      0.14        13\n",
            "                pizza       0.71      0.38      0.50        13\n",
            "               please       1.00      0.28      0.43        18\n",
            "                shirt       0.81      0.76      0.79        17\n",
            "             soreness       0.00      0.00      0.00         2\n",
            "             swelling       0.21      0.62      0.31         8\n",
            "   takeliquidmedicine       0.50      0.18      0.27        11\n",
            "        thatsterrible       0.57      0.67      0.62        12\n",
            "                tired       1.00      0.15      0.27        13\n",
            "         upsetstomach       1.00      0.42      0.59        12\n",
            "                 wash       0.80      0.40      0.53        20\n",
            "\n",
            "             accuracy                           0.38       510\n",
            "            macro avg       0.56      0.38      0.38       510\n",
            "         weighted avg       0.57      0.38      0.38       510\n",
            "\n"
          ],
          "name": "stdout"
        }
      ]
    },
    {
      "cell_type": "markdown",
      "metadata": {
        "id": "h57zKLByfy2Y",
        "colab_type": "text"
      },
      "source": [
        "TODO:\n",
        "\n",
        "-check what happens when combining diff data sources\n",
        "\n",
        "-graph components\n",
        "\n",
        "find correlations\n",
        "\n",
        "-interpret pca results\n",
        "\n",
        "-try pca per individual/word\n",
        "\n",
        "-read dataset papers\n",
        "\n",
        "correlation component with word\n",
        "\n",
        "-try straight to svm\n",
        "\n",
        "-resend email\n",
        "\n",
        "check what is the data\n",
        "\n",
        "-merge timeseries word index\n",
        "\n",
        "see how stable each feature are\n",
        "\n",
        "standard deviation timeseries\n",
        "\n",
        "-try without filter\n",
        "\n",
        "multi-class classifier SVM\n",
        "\n"
      ]
    },
    {
      "cell_type": "markdown",
      "metadata": {
        "id": "ScbnguG8ONoC",
        "colab_type": "text"
      },
      "source": [
        "https://www.researchgate.net/publication/303707429_Combining_Smartphone_and_Smartwatch_Sensor_Data_in_Activity_Recognition_Approaches_an_Experimental_Evaluation"
      ]
    },
    {
      "cell_type": "markdown",
      "metadata": {
        "id": "Ay3NExQ59xrM",
        "colab_type": "text"
      },
      "source": [
        "References\n",
        "\n",
        "https://stackoverflow.com/questions/56449262/how-to-upload-folders-to-google-colab\n",
        "\n",
        "https://github.com/datarail/datarail/issues/39\n",
        "\n",
        "https://dbader.org/blog/python-check-if-file-exists\n",
        "\n",
        "https://datacarpentry.org/python-socialsci/11-joins/index.html\n",
        "\n",
        "https://stackoverflow.com/questions/26414913/normalize-columns-of-pandas-data-frame\n",
        "\n",
        "https://scikit-learn.org/stable/modules/generated/sklearn.decomposition.PCA.html\n",
        "\n",
        "https://towardsdatascience.com/pca-using-python-scikit-learn-e653f8989e60\n",
        "\n",
        "https://pandas.pydata.org/pandas-docs/stable/reference/api/pandas.DataFrame.to_csv.html\n",
        "\n",
        "https://www.tutorialspoint.com/matplotlib/matplotlib_bar_plot.htm\n",
        "\n",
        "https://docs.scipy.org/doc/scipy-0.14.0/reference/generated/scipy.signal.butter.html\n",
        "\n",
        "https://stackoverflow.com/questions/32194967/how-to-do-pca-and-svm-for-classification-in-python\n",
        "\n",
        "https://stackoverflow.com/questions/6822725/rolling-or-sliding-window-iterator\n",
        "\n",
        "https://scikit-learn.org/stable/modules/cross_validation.html\n",
        "\n",
        "https://stackoverflow.com/questions/47684606/merge-cells-with-pandas\n",
        "\n",
        "https://scientificallysound.org/2016/08/18/python-analysing-emg-signals-part-3/\n",
        "\n",
        "https://stackoverflow.com/questions/58374492/python-valueerror-the-length-of-the-input-vector-x-must-be-greater-than-padle\n",
        "\n",
        "https://pandas.pydata.org/pandas-docs/stable/reference/api/pandas.DataFrame.set_index.html\n",
        "\n",
        "https://scikit-learn.org/stable/auto_examples/model_selection/plot_confusion_matrix.html\n",
        "\n",
        "https://statinfer.com/204-4-2-calculating-sensitivity-and-specificity-in-python/\n",
        "\n",
        "https://www.datacamp.com/community/tutorials/pandas-multi-index\n",
        "\n",
        "https://www.geeksforgeeks.org/how-to-get-rows-index-names-in-pandas-dataframe/\n",
        "\n",
        "https://stackoverflow.com/questions/28140771/select-only-one-index-of-multiindex-dataframe\n",
        "\n",
        "https://www.educative.io/edpresso/how-to-create-a-confusion-matrix-in-python-using-scikit-learn\n",
        "\n",
        "https://scikit-learn.org/stable/modules/generated/sklearn.metrics.classification_report.html\n",
        "\n",
        "http://www.datasciencemadesimple.com/standard-deviation-function-python-pandas-row-column/\n",
        "\n",
        "https://stackoverflow.com/questions/39047915/concat-series-onto-dataframe-with-column-name\n"
      ]
    },
    {
      "cell_type": "code",
      "metadata": {
        "id": "V77MeC59AHdU",
        "colab_type": "code",
        "colab": {
          "base_uri": "https://localhost:8080/",
          "height": 199
        },
        "outputId": "3baf9be8-e669-4837-801c-9181bc98aa87"
      },
      "source": [
        "\"\"\"\n",
        "### Combine all files\n",
        "words=['allmorning', 'bird', 'blue', 'cantsleep', 'cat', 'coldrunnynose', 'continuouslyforanhour', 'cost', 'day', 'dollar', 'everymorning', 'everynight', 'gold', 'goodnight', 'happy', 'headache', 'home', 'horse', 'hot', 'hurt', 'itching', 'large', 'mom', 'monthly', 'notfeelgood', 'orange', 'pizza', 'please', 'shirt', 'soreness', 'swelling', 'takeliquidmedicine', 'thatsterrible', 'tired', 'upsetstomach', 'wash']\n",
        "lengths=np.zeros(849, dtype=int)\n",
        "reps=np.zeros(36,dtype=int)\n",
        "wordnum=-1\n",
        "counter=0\n",
        "\n",
        "for w in words:\n",
        "  repcount=0\n",
        "  wordnum+=1\n",
        "\n",
        "  for i in range (10, 120):\n",
        "    path='/content/2MyoASL/' + w + '_' + str(i) + '.csv'\n",
        "\n",
        "    if os.path.exists(path)==True:\n",
        "      counter+=1\n",
        "      repcount+=1\n",
        "      trial=pd.read_csv(path)\n",
        "      lengths[counter-1]=len(trial)\n",
        "      \n",
        "      # Replace counter with evaluated term\n",
        "      for r in range(0,len(trial)):\n",
        "        trial.iloc[r,0]=wordnum\n",
        "        \n",
        "      # Combine all trials\n",
        "      if path=='/content/2MyoASL/allmorning_10.csv':\n",
        "          matrix=trial\n",
        "          \n",
        "          # Create plot for EMG\n",
        "\n",
        "          # Create plot for accelerometer\n",
        "          plt.figure()\n",
        "          alx=plt.axes(projection='3d')\n",
        "          alx.plot3D(trial.loc[:, 'AXL'].values, trial.loc[:, 'AYL'].values, trial.loc[:, 'AZL'].values)\n",
        "          alx.set_title('Accelerometer on left arm')\n",
        "\n",
        "          plt.figure()\n",
        "          arx=plt.axes(projection='3d')\n",
        "          arx.plot3D(trial.loc[:, 'AXR'].values, trial.loc[:, 'AYR'].values, trial.loc[:, 'AZR'].values)\n",
        "          arx.set_title('Accelerometer on right arm')\n",
        "\n",
        "          # Create plot for gyroscope\n",
        "          plt.figure()\n",
        "          glx=plt.axes(projection='3d')\n",
        "          glx.plot3D(trial.loc[:, 'GXL'].values, trial.loc[:, 'GYL'].values, trial.loc[:, 'GZL'].values)\n",
        "          glx.set_title('Gyroscope on left arm')\n",
        "\n",
        "          plt.figure()\n",
        "          grx=plt.axes(projection='3d')\n",
        "          grx.plot3D(trial.loc[:, 'GXR'].values, trial.loc[:, 'GYR'].values, trial.loc[:, 'GZR'].values)\n",
        "          grx.set_title('Gyroscope on right arm')\n",
        "      else:\n",
        "          matrix=pd.concat([matrix, trial])\n",
        "\n",
        "          ###############################################\n",
        "          # Create plot for accelerometer\n",
        "          alx.plot3D(trial.loc[:, 'AXL'].values, trial.loc[:, 'AYL'].values, trial.loc[:, 'AZL'].values)\n",
        "          arx.plot3D(trial.loc[:, 'AXR'].values, trial.loc[:, 'AYR'].values, trial.loc[:, 'AZR'].values)\n",
        "          #plt.show()\n",
        "\n",
        "          # Create plot for gyroscope\n",
        "          glx.plot3D(trial.loc[:, 'GXL'].values, trial.loc[:, 'GYL'].values, trial.loc[:, 'GZL'].values)\n",
        "          grx.plot3D(trial.loc[:, 'GXR'].values, trial.loc[:, 'GYR'].values, trial.loc[:, 'GZR'].values)\n",
        "          ###############################################\n",
        "\n",
        "  reps[wordnum]=repcount\n",
        "plt.show()\n",
        "\"\"\" "
      ],
      "execution_count": 15,
      "outputs": [
        {
          "output_type": "execute_result",
          "data": {
            "application/vnd.google.colaboratory.intrinsic+json": {
              "type": "string"
            },
            "text/plain": [
              "\"\\n### Combine all files\\nwords=['allmorning', 'bird', 'blue', 'cantsleep', 'cat', 'coldrunnynose', 'continuouslyforanhour', 'cost', 'day', 'dollar', 'everymorning', 'everynight', 'gold', 'goodnight', 'happy', 'headache', 'home', 'horse', 'hot', 'hurt', 'itching', 'large', 'mom', 'monthly', 'notfeelgood', 'orange', 'pizza', 'please', 'shirt', 'soreness', 'swelling', 'takeliquidmedicine', 'thatsterrible', 'tired', 'upsetstomach', 'wash']\\nlengths=np.zeros(849, dtype=int)\\nreps=np.zeros(36,dtype=int)\\nwordnum=-1\\ncounter=0\\n\\nfor w in words:\\n  repcount=0\\n  wordnum+=1\\n\\n  for i in range (10, 120):\\n    path='/content/2MyoASL/' + w + '_' + str(i) + '.csv'\\n\\n    if os.path.exists(path)==True:\\n      counter+=1\\n      repcount+=1\\n      trial=pd.read_csv(path)\\n      lengths[counter-1]=len(trial)\\n      \\n      # Replace counter with evaluated term\\n      for r in range(0,len(trial)):\\n        trial.iloc[r,0]=wordnum\\n        \\n      # Combine all trials\\n      if path=='/content/2MyoASL/allmorning_10.csv':\\n          matrix=trial\\n          \\n          # Create plot for EMG\\n\\n          # Create plot for accelerometer\\n          plt.figure()\\n          alx=plt.axes(projection='3d')\\n          alx.plot3D(trial.loc[:, 'AXL'].values, trial.loc[:, 'AYL'].values, trial.loc[:, 'AZL'].values)\\n          alx.set_title('Accelerometer on left arm')\\n\\n          plt.figure()\\n          arx=plt.axes(projection='3d')\\n          arx.plot3D(trial.loc[:, 'AXR'].values, trial.loc[:, 'AYR'].values, trial.loc[:, 'AZR'].values)\\n          arx.set_title('Accelerometer on right arm')\\n\\n          # Create plot for gyroscope\\n          plt.figure()\\n          glx=plt.axes(projection='3d')\\n          glx.plot3D(trial.loc[:, 'GXL'].values, trial.loc[:, 'GYL'].values, trial.loc[:, 'GZL'].values)\\n          glx.set_title('Gyroscope on left arm')\\n\\n          plt.figure()\\n          grx=plt.axes(projection='3d')\\n          grx.plot3D(trial.loc[:, 'GXR'].values, trial.loc[:, 'GYR'].values, trial.loc[:, 'GZR'].values)\\n          grx.set_title('Gyroscope on right arm')\\n      else:\\n          matrix=pd.concat([matrix, trial])\\n\\n          ###############################################\\n          # Create plot for accelerometer\\n          alx.plot3D(trial.loc[:, 'AXL'].values, trial.loc[:, 'AYL'].values, trial.loc[:, 'AZL'].values)\\n          arx.plot3D(trial.loc[:, 'AXR'].values, trial.loc[:, 'AYR'].values, trial.loc[:, 'AZR'].values)\\n          #plt.show()\\n\\n          # Create plot for gyroscope\\n          glx.plot3D(trial.loc[:, 'GXL'].values, trial.loc[:, 'GYL'].values, trial.loc[:, 'GZL'].values)\\n          grx.plot3D(trial.loc[:, 'GXR'].values, trial.loc[:, 'GYR'].values, trial.loc[:, 'GZR'].values)\\n          ###############################################\\n\\n  reps[wordnum]=repcount\\nplt.show()\\n\""
            ]
          },
          "metadata": {
            "tags": []
          },
          "execution_count": 15
        }
      ]
    },
    {
      "cell_type": "code",
      "metadata": {
        "id": "knhJG10SD22U",
        "colab_type": "code",
        "colab": {
          "base_uri": "https://localhost:8080/",
          "height": 145
        },
        "outputId": "15fa59d5-de2a-42cd-a3a6-3a06214c4286"
      },
      "source": [
        "\"\"\"\n",
        "# PCA for normmatrix\n",
        "pca = PCA(n_components=35)\n",
        "comp=pca.fit_transform(norm_matrix_eago)\n",
        "principal=pd.DataFrame(data=comp, columns=['PC 0', 'PC 1', 'PC 2', 'PC 3', 'PC 4', 'PC 5', 'PC 6', 'PC 7', 'PC 8', 'PC 9', 'PC 10', \n",
        "                                           'PC 11', 'PC 12', 'PC 13', 'PC 14', 'PC 16', 'PC 17', 'PC 18', 'PC 19', 'PC 20', \n",
        "                                           'PC 21', 'PC 22', 'PC 23', 'PC 24', 'PC 25', 'PC 26', 'PC 27', 'PC 28', 'PC 29', \n",
        "                                           'PC 30', 'PC 31', 'PC 32', 'PC 33', 'PC 34', 'PC35'])\n",
        "#principal.reset_index(drop=True, inplace=True)\n",
        "#norm_matrix_eago[['Counter']].reset_index(drop=True, inplace=True)\n",
        "norm_matrix_eago.reset_index(drop=True, inplace=True)\n",
        "m.reset_index(drop=True, inplace=True)\n",
        "#finaldf=pd.join([principal, norm_matrix_eago[['Counter']]], axis=1, ignore_index=True).reset_index()\n",
        "finaldf=principal.join(m[['Counter']],how='outer')\n",
        "finaldf=finaldf.drop(columns=['PC 0'])\n",
        "####finaldf=principal\n",
        "####print(m['Counter'])\n",
        "####finaldf['Word']=m['Counter']\n",
        "#finaldf=pd.concat([principal,norm_matrix_eago[['Counter']]], axis=1, ignore_index=True)\n",
        "\n",
        "print(\"Normalized matrix\")\n",
        "print(pca.explained_variance_ratio_)\n",
        "print(pca.singular_values_)\n",
        "plt.figure()\n",
        "plt.bar(fn,pca.explained_variance_ratio_)\n",
        "plt.show()\n",
        "plt.bar(fn,pca.singular_values_)\n",
        "plt.show()\n",
        "print(finaldf)\n",
        "#print(principal.join(norm_matrix_eago[['Counter']],how='inner'))\n",
        "\"\"\"\n",
        "\"\"\"\n",
        "# PCA for normalizedmatrix\n",
        "pca = PCA(n_components=34)\n",
        "pca.fit(normalized_matrix)\n",
        "print(\"Normalized features\")\n",
        "print(pca.explained_variance_ratio_)\n",
        "print(pca.singular_values_)\n",
        "plt.figure()\n",
        "plt.bar(fn[0:34],pca.explained_variance_ratio_)\n",
        "plt.show()\n",
        "plt.bar(fn[0:34],pca.singular_values_)\n",
        "plt.show()\n",
        "\n",
        "# PCA for standardizedmatrix\n",
        "pca = PCA(n_components=34)\n",
        "pca.fit(standardized_matrix)\n",
        "print(\"Standardized features\")\n",
        "print(pca.explained_variance_ratio_)\n",
        "print(pca.singular_values_)\n",
        "plt.figure()\n",
        "plt.bar(fn[0:34],pca.explained_variance_ratio_)\n",
        "plt.show()\n",
        "plt.bar(fn[0:34],pca.singular_values_)\n",
        "plt.show()\n",
        "\"\"\""
      ],
      "execution_count": 16,
      "outputs": [
        {
          "output_type": "execute_result",
          "data": {
            "application/vnd.google.colaboratory.intrinsic+json": {
              "type": "string"
            },
            "text/plain": [
              "'\\n# PCA for normalizedmatrix\\npca = PCA(n_components=34)\\npca.fit(normalized_matrix)\\nprint(\"Normalized features\")\\nprint(pca.explained_variance_ratio_)\\nprint(pca.singular_values_)\\nplt.figure()\\nplt.bar(fn[0:34],pca.explained_variance_ratio_)\\nplt.show()\\nplt.bar(fn[0:34],pca.singular_values_)\\nplt.show()\\n\\n# PCA for standardizedmatrix\\npca = PCA(n_components=34)\\npca.fit(standardized_matrix)\\nprint(\"Standardized features\")\\nprint(pca.explained_variance_ratio_)\\nprint(pca.singular_values_)\\nplt.figure()\\nplt.bar(fn[0:34],pca.explained_variance_ratio_)\\nplt.show()\\nplt.bar(fn[0:34],pca.singular_values_)\\nplt.show()\\n'"
            ]
          },
          "metadata": {
            "tags": []
          },
          "execution_count": 16
        }
      ]
    }
  ]
}