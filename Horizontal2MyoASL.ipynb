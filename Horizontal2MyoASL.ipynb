{
  "nbformat": 4,
  "nbformat_minor": 0,
  "metadata": {
    "colab": {
      "name": "Horizontal2MyoASL.ipynb",
      "provenance": [],
      "collapsed_sections": [],
      "authorship_tag": "ABX9TyMywD2JDadP+PskXO6EFhB4",
      "include_colab_link": true
    },
    "kernelspec": {
      "name": "python3",
      "display_name": "Python 3"
    }
  },
  "cells": [
    {
      "cell_type": "markdown",
      "metadata": {
        "id": "view-in-github",
        "colab_type": "text"
      },
      "source": [
        "<a href=\"https://colab.research.google.com/github/michelleaeh/Dissertation/blob/master/Horizontal2MyoASL.ipynb\" target=\"_parent\"><img src=\"https://colab.research.google.com/assets/colab-badge.svg\" alt=\"Open In Colab\"/></a>"
      ]
    },
    {
      "cell_type": "markdown",
      "metadata": {
        "id": "mH79ogCWrzbt",
        "colab_type": "text"
      },
      "source": [
        "**Myo armband dataset from https://data.mendeley.com/datasets/wgswcr8z24/2**\n",
        "\n",
        "\n",
        "**The dataset consits of .csv files collected from two Myo armbands. The format of the files are [word_name]_[id]. The ‘word_name’ is the English translation of the American Sign Language word used and the ‘id’ is a unique identifier. The .zip for each of the above links has sub-folders for each User.**\n",
        "\n",
        "**Each file has 50 columns. They represent a sub-sampled data collection from two Myo devices worn on left and right hands of the signer. The first column is the ‘Counter’ that goes from 1 to 50.**\n",
        "\n",
        "**The following columns are of the format: [Sensor][pod/direction][left/right]. For instance the EMG reading for the first EMG pod (out of 8) on the left hand would be called EMG0R and the accelerometer reading for the Z axis on the left hand would be called: AXL**\n",
        "\n",
        "**If you use this dataset please cite the following papers:**\n",
        "\n",
        "**@inproceedings{paudyal2016sceptre,\n",
        "title={Sceptre: a pervasive, non-invasive, and programmable gesture recognition technology},\n",
        "author={Paudyal, Prajwal and Banerjee, Ayan and Gupta, Sandeep KS},\n",
        "booktitle={Proceedings of the 21st International Conference on Intelligent User Interfaces},\n",
        "pages={282--293},\n",
        "year={2016},\n",
        "organization={ACM}\n",
        "}**\n",
        "\n",
        "**@inproceedings{paudyal2017dyfav,\n",
        "title={Dyfav: Dynamic feature selection and voting for real-time recognition of fingerspelled alphabet using wearables},\n",
        "author={Paudyal, Prajwal and Lee, Junghyo and Banerjee, Ayan and Gupta, Sandeep KS},\n",
        "booktitle={Proceedings of the 22nd International Conference on Intelligent User Interfaces},\n",
        "pages={457--467},\n",
        "year={2017},\n",
        "organization={ACM}\n",
        "}**"
      ]
    },
    {
      "cell_type": "markdown",
      "metadata": {
        "id": "FHNKWJHfhpMy",
        "colab_type": "text"
      },
      "source": [
        "**Frequency:**\n",
        "\n",
        "50Hz sampling rate\n",
        "\n",
        "**Words:**\n",
        "\n",
        "*36 total words*\n",
        "\n",
        "allmorning, bird, blue, cantsleep, cat, colrunnynose, continuouslyforanhour, cost, day, dollar, everymorning, everynight, gold, goodnight, happy, headache, home, horse, hot, hurt, itching, large, mom, monthly, notfeelgood, orange, pizza, please, shirt, soreness, swelling, takeliquidmedicine, thatsterrible, tired, upsetstomach, wash\n",
        "\n",
        "\n",
        "**Filenames:**\n",
        "\n",
        "*849 total files*\n",
        "\n",
        "(word)_(user#)(try#)\n",
        "\n",
        "\n",
        "**Columns of files:**\n",
        "\n",
        "Counter  (1 -> 50)\n",
        "\n",
        "EMG0L -> EMG7L  (EMG sensor readings)\n",
        "\n",
        "AXL, AYL, AZL  (accelerometer readings)\n",
        "\n",
        "GXL, GYL, GZL  (gyroscope readings)\n",
        "\n",
        "ORL, OPL, OYL  (magnetometer readings?)\n",
        "\n",
        "EMG0R -> EMG7R  (EMG sensor readings)\n",
        "\n",
        "AXR, AYR, AZR  (accelerometer readings)\n",
        "\n",
        "GXR, GYR, GZR  (gyroscope readings)\n",
        "\n",
        "ORR, OPR, OYR  (magnetometer readings?)\n",
        "\n",
        "features=['EMG0L', 'EMG1L', 'EMG2L', 'EMG3L', 'EMG4L', 'EMG5L', 'EMG6L', 'EMG7L', 'AXL', 'AYL', 'AZL', 'GXL', 'GYL', 'GZL', 'ORL', 'OPL', 'OYL', 'EMG0R', 'EMG1R', 'EMG2R', 'EMG3R', 'EMG4R', 'EMG5R', 'EMG6R', 'EMG7R', 'AXR', 'AYR', 'AZR', 'GXR', 'GYR', 'GZR', 'ORR', 'OPR', 'OYR']\n",
        "\n",
        "\n",
        "**Size of files:**\n",
        "\n",
        "All files are 50 rows x 35 columns except continuouslyforanhour_22.csv, headache_52.csv, home_61.csv, and mom_82.csv which are 101 rows x 35 columns\n"
      ]
    },
    {
      "cell_type": "markdown",
      "metadata": {
        "id": "lVqdAdxkr-U5",
        "colab_type": "text"
      },
      "source": [
        "**Steps:**\n",
        "\n",
        "1. Combine files\n",
        "2. Normalize or standardize matrix\n",
        "3. Apply Butterworth\n",
        "4. Apply PCA\n",
        "5. Input to SVM"
      ]
    },
    {
      "cell_type": "code",
      "metadata": {
        "id": "5TnTycFtrpHd",
        "colab_type": "code",
        "colab": {}
      },
      "source": [
        "import matplotlib.pyplot as plt\n",
        "import numpy as np\n",
        "import os.path\n",
        "import pandas as pd\n",
        "import scipy as sp\n",
        "import warnings\n",
        "\n",
        "from google.colab import files\n",
        "from mpl_toolkits import mplot3d\n",
        "from scipy import signal\n",
        "from scipy.io import loadmat\n",
        "from sklearn import metrics\n",
        "from sklearn.decomposition import PCA\n",
        "from sklearn.metrics import classification_report\n",
        "from sklearn.metrics import plot_confusion_matrix\n",
        "from sklearn.model_selection import train_test_split\n",
        "from sklearn.preprocessing import StandardScaler\n",
        "from sklearn.svm import SVC\n",
        "from zipfile import ZipFile\n",
        "\n",
        "# Import zip containing all files\n",
        "file_name = \"/content/2MyoASL.zip\"\n",
        "\n",
        "# Extract all files from zip\n",
        "with ZipFile(file_name, 'r') as zip:\n",
        "  zip.extractall()"
      ],
      "execution_count": 1,
      "outputs": []
    },
    {
      "cell_type": "code",
      "metadata": {
        "id": "vHsqsj2NRpEe",
        "colab_type": "code",
        "colab": {}
      },
      "source": [
        "# Generate matrices for all combinations of sensors (E=3, A=5, G=7, O=11)\n",
        "products=[3, 5, 7, 11, 15, 21, 33, 35, 55, 77, 105, 165, 231, 385, 1155]\n",
        "comb=['e', 'a', 'g', 'o', 'ea', 'eg', 'eo', 'ag', 'ao', 'go', 'eag', 'eao', 'ego', 'ago', 'eago']\n",
        "emg=['EMG0L', 'EMG1L', 'EMG2L', 'EMG3L', 'EMG4L', 'EMG5L', 'EMG6L', 'EMG7L', \n",
        "    'EMG0R', 'EMG1R', 'EMG2R', 'EMG3R', 'EMG4R', 'EMG5R', 'EMG6R', 'EMG7R']\n",
        "acc=['AXL', 'AYL', 'AZL', 'AXR', 'AYR', 'AZR']\n",
        "gyro=['GXL', 'GYL', 'GZL', 'GXR', 'GYR', 'GZR']\n",
        "ori=['ORL', 'OPL', 'OYL', 'ORR', 'OPR', 'OYR']\n",
        "\n",
        "# Initialization of counters\n",
        "words=['allmorning', 'bird', 'blue', 'cantsleep', 'cat', 'coldrunnynose', 'continuouslyforanhour', 'cost', 'day', \n",
        "       'dollar', 'everymorning', 'everynight', 'gold', 'goodnight', 'happy', 'headache', 'home', 'horse', 'hot', \n",
        "       'hurt', 'itching', 'large', 'mom', 'monthly', 'notfeelgood', 'orange', 'pizza', 'please', 'shirt', \n",
        "       'soreness', 'swelling', 'takeliquidmedicine', 'thatsterrible', 'tired', 'upsetstomach', 'wash']\n",
        "colnames=['EMG0L', 'EMG1L', 'EMG2L', 'EMG3L', 'EMG4L', 'EMG5L', 'EMG6L', 'EMG7L', 'AXL', 'AYL', 'AZL', 'GXL', 'GYL', 'GZL', 'ORL', 'OPL', 'OYL', \n",
        "          'EMG0R', 'EMG1R', 'EMG2R', 'EMG3R', 'EMG4R', 'EMG5R', 'EMG6R', 'EMG7R', 'AXR', 'AYR', 'AZR', 'GXR', 'GYR', 'GZR', 'ORR', 'OPR', 'OYR']\n",
        "lengths=np.zeros(849, dtype=int)\n",
        "reps=np.zeros(36,dtype=int)\n",
        "headers=np.empty(1701, dtype=object)\n",
        "features=np.zeros(15)\n",
        "target=np.zeros(15)\n",
        "matrix=np.zeros(1)\n",
        "\n",
        "fn=np.arange(1701)\n",
        "wordnum=-1\n",
        "counter=-1\n",
        "num=0\n",
        "n=0"
      ],
      "execution_count": 2,
      "outputs": []
    },
    {
      "cell_type": "code",
      "metadata": {
        "id": "MQFtofv7yG7G",
        "colab_type": "code",
        "colab": {
          "base_uri": "https://localhost:8080/",
          "height": 272
        },
        "outputId": "f52c3dad-83bb-4752-f110-52f1fe1ce6d9"
      },
      "source": [
        "# Combine all files\n",
        "for w in words:\n",
        "  repcount=0\n",
        "  wordnum+=1\n",
        "\n",
        "  for i in range (10, 120):\n",
        "    path='/content/2MyoASL/' + w + '_' + str(i) + '.csv'\n",
        "\n",
        "    if os.path.exists(path)==True:\n",
        "      counter+=1\n",
        "      repcount+=1\n",
        "      trial=pd.read_csv(path)\n",
        "\n",
        "      trial.reset_index(drop=True)\n",
        "      \n",
        "      # Assign word number to one row\n",
        "      row=np.zeros(1)\n",
        "      for t in range(35):\n",
        "        if t==0:\n",
        "          row[0]=wordnum\n",
        "        else:\n",
        "          sensor=trial.iloc[0:50,t].values\n",
        "          sensor.reshape([1,50])\n",
        "          row=np.concatenate((row, sensor))\n",
        "      prev=row\n",
        "      \n",
        "      # Combine all trials\n",
        "      if counter==0:\n",
        "        matrix=prev\n",
        "      else:\n",
        "        matrix=np.concatenate([matrix,prev])\n",
        "\n",
        "# Create header name array\n",
        "headers[0]='Word'\n",
        "for c in colnames:\n",
        "  for t in range(50):\n",
        "    num+=1\n",
        "    headers[num]=c\n",
        "\n",
        "# Give format to final matrix \n",
        "matrix=matrix.reshape([849,1701])\n",
        "matrix=pd.DataFrame(matrix, columns=headers)\n",
        "print(matrix)"
      ],
      "execution_count": 3,
      "outputs": [
        {
          "output_type": "stream",
          "text": [
            "     Word  EMG0L  EMG0L  EMG0L  EMG0L  ...    OYR    OYR    OYR    OYR    OYR\n",
            "0     0.0    0.0    0.0   -3.0   -1.0  ...   83.0   83.0   83.0   83.0   83.0\n",
            "1     0.0    0.0    0.0    4.0   -2.0  ...   83.0   83.0   83.0   83.0   83.0\n",
            "2     0.0    0.0    0.0   -8.0   -1.0  ...   84.0   84.0   84.0   84.0   84.0\n",
            "3     0.0    0.0    0.0   -1.0  -19.0  ...   83.0   83.0   83.0   83.0   83.0\n",
            "4     0.0    0.0    0.0    1.0  -16.0  ...   93.0   91.0   91.0   91.0   91.0\n",
            "..    ...    ...    ...    ...    ...  ...    ...    ...    ...    ...    ...\n",
            "844  35.0    0.0    0.0   -2.0    0.0  ...  106.0  104.0  100.0   98.0   95.0\n",
            "845  35.0    0.0    0.0    2.0   -8.0  ...  176.0  176.0  177.0  177.0  177.0\n",
            "846  35.0    0.0    0.0   -8.0   26.0  ...  177.0  176.0  175.0  175.0  176.0\n",
            "847  35.0    0.0    0.0   -1.0   21.0  ...  178.0  178.0  179.0  179.0  179.0\n",
            "848  35.0    0.0    0.0    8.0  -19.0  ...  179.0  179.0  179.0  179.0    0.0\n",
            "\n",
            "[849 rows x 1701 columns]\n"
          ],
          "name": "stdout"
        }
      ]
    },
    {
      "cell_type": "code",
      "metadata": {
        "id": "cry7YARuOhoY",
        "colab_type": "code",
        "colab": {}
      },
      "source": [
        "attempt=matrix\n",
        "attempt.to_csv(path_or_buf='/content/attempt.csv')"
      ],
      "execution_count": 4,
      "outputs": []
    },
    {
      "cell_type": "code",
      "metadata": {
        "id": "R7Ib41KW5f32",
        "colab_type": "code",
        "colab": {
          "base_uri": "https://localhost:8080/",
          "height": 108
        },
        "outputId": "eb9c07b7-519d-4e60-fffa-d38229699a14"
      },
      "source": [
        "# Eliminate unnecessary columns to create combinatory matrices\n",
        "for v in products:\n",
        "  m=matrix\n",
        "  if v%3!=0:\n",
        "    m=m.drop(emg,1)\n",
        "  if v%5!=0:\n",
        "    m=m.drop(acc,1)\n",
        "  if v%7!=0:\n",
        "    m=m.drop(gyro,1)\n",
        "  if v%11!=0:\n",
        "    m=m.drop(ori,1)\n",
        "  products[n]=m\n",
        "  exec(comb[n]+\"=products[n]\")\n",
        "  n+=1\n",
        "  \n",
        "  # Normalize and Standardize each of the 15 matrices\n",
        "  # Separate features from target values\n",
        "  x = m.iloc[:, m.columns!='Word'].values   # Features\n",
        " \n",
        "  ## Normalize features so that each column is between 0 and 1\n",
        "  norm_matrix=(m-m.min())/(m.max()-m.min())\n",
        "  exec(\"norm_matrix_\"+comb[n-1]+\"=pd.DataFrame(norm_matrix)\")\n",
        "  exec(\"norm_matrix_\"+comb[n-1]+\"=norm_matrix_\"+comb[n-1]+\".dropna(axis=1)\")\n",
        "\n",
        " # Standardize features with mean=0 and deviation=1\n",
        "  standardized_matrix=StandardScaler().fit_transform(x)\n",
        "  exec(\"standardized_matrix_\"+comb[n-1]+\"=pd.DataFrame(standardized_matrix)\")\n",
        "\"\"\"\n",
        "  # Save data frames as csv files\n",
        "  #matrix.to_csv(path_or_buf='/content/matrix_'+comb[n-1]+'.csv')\n",
        "  exec(\"norm_matrix_\"+comb[n-1]+\".to_csv(path_or_buf='/content/normmatrix_'+comb[n-1]+'.csv')\")\n",
        "#  exec(\"normalized_matrix_\"+comb[n-1]+\".to_csv(path_or_buf='/content/normalizedmatrix_'+comb[n-1]+'.csv')\")\n",
        "  exec(\"standardized_matrix_\"+comb[n-1]+\".to_csv(path_or_buf='/content/standardizedmatrix_'+comb[n-1]+'.csv')\")\n",
        "\"\"\""
      ],
      "execution_count": 5,
      "outputs": [
        {
          "output_type": "execute_result",
          "data": {
            "application/vnd.google.colaboratory.intrinsic+json": {
              "type": "string"
            },
            "text/plain": [
              "'\\n  # Save data frames as csv files\\n  #matrix.to_csv(path_or_buf=\\'/content/matrix_\\'+comb[n-1]+\\'.csv\\')\\n  exec(\"norm_matrix_\"+comb[n-1]+\".to_csv(path_or_buf=\\'/content/normmatrix_\\'+comb[n-1]+\\'.csv\\')\")\\n#  exec(\"normalized_matrix_\"+comb[n-1]+\".to_csv(path_or_buf=\\'/content/normalizedmatrix_\\'+comb[n-1]+\\'.csv\\')\")\\n  exec(\"standardized_matrix_\"+comb[n-1]+\".to_csv(path_or_buf=\\'/content/standardizedmatrix_\\'+comb[n-1]+\\'.csv\\')\")\\n'"
            ]
          },
          "metadata": {
            "tags": []
          },
          "execution_count": 5
        }
      ]
    },
    {
      "cell_type": "code",
      "metadata": {
        "id": "_IaWFWIUrT5i",
        "colab_type": "code",
        "colab": {
          "base_uri": "https://localhost:8080/",
          "height": 272
        },
        "outputId": "95d9c68b-0a86-4edd-a7ec-c14e3a6933f5"
      },
      "source": [
        "# Replace wordnum with word\n",
        "for r in range(849):\n",
        "  wn=int(35*norm_matrix_eago.iloc[r,0])\n",
        "  norm_matrix_eago.iloc[r,0]=words[wn]\n",
        "nmatrix=norm_matrix_eago\n",
        "print(nmatrix)\n",
        "nmatrix.to_csv(path_or_buf='/content/nmatrix.csv')"
      ],
      "execution_count": 6,
      "outputs": [
        {
          "output_type": "stream",
          "text": [
            "           Word     EMG0L     EMG0L  ...       OYR       OYR       OYR\n",
            "0    allmorning  0.321429  0.388889  ...  0.463687  0.463687  0.463687\n",
            "1    allmorning  0.321429  0.432099  ...  0.463687  0.463687  0.463687\n",
            "2    allmorning  0.321429  0.358025  ...  0.469274  0.469274  0.469274\n",
            "3    allmorning  0.321429  0.401235  ...  0.463687  0.463687  0.463687\n",
            "4    allmorning  0.321429  0.413580  ...  0.508380  0.508380  0.508380\n",
            "..          ...       ...       ...  ...       ...       ...       ...\n",
            "844        wash  0.321429  0.395062  ...  0.558659  0.547486  0.530726\n",
            "845        wash  0.321429  0.419753  ...  0.988827  0.988827  0.988827\n",
            "846        wash  0.321429  0.358025  ...  0.977654  0.977654  0.983240\n",
            "847        wash  0.321429  0.401235  ...  1.000000  1.000000  1.000000\n",
            "848        wash  0.321429  0.456790  ...  1.000000  1.000000  0.000000\n",
            "\n",
            "[849 rows x 1693 columns]\n"
          ],
          "name": "stdout"
        }
      ]
    },
    {
      "cell_type": "code",
      "metadata": {
        "id": "PJjGC_1Q5r03",
        "colab_type": "code",
        "colab": {}
      },
      "source": [
        "# Butterworth\n",
        "#high = 20/(1000/2)\n",
        "#low = 450/(1000/2)\n",
        "high = 1/(50/2)\n",
        "low = 23/(50/2)\n",
        "\n",
        "b, a = sp.signal.butter(4, [high,low], btype='bandpass')\n",
        "\n",
        "for r in emg:\n",
        "  norm_matrix_eago[[r]]\n",
        "  # process EMG signal: filter EMG\n",
        "  emg_filtered = sp.signal.lfilter(b, a, norm_matrix_eago[[r]])\n",
        "  norm_matrix_eago[[r]]=emg_filtered"
      ],
      "execution_count": 7,
      "outputs": []
    },
    {
      "cell_type": "code",
      "metadata": {
        "id": "oegUzb00nsA5",
        "colab_type": "code",
        "colab": {}
      },
      "source": [
        "buttermatrix=norm_matrix_eago"
      ],
      "execution_count": 8,
      "outputs": []
    },
    {
      "cell_type": "markdown",
      "metadata": {
        "id": "I16C6HCyrFZr",
        "colab_type": "text"
      },
      "source": [
        "**Combinations of steps for classification**"
      ]
    },
    {
      "cell_type": "code",
      "metadata": {
        "id": "Yw8kyulNOsmp",
        "colab_type": "code",
        "colab": {
          "base_uri": "https://localhost:8080/",
          "height": 1000
        },
        "outputId": "213c735a-60e5-44b5-c6fd-4e7e65646f16"
      },
      "source": [
        "# Directly to SVM\n",
        "x = attempt.iloc[:, attempt.columns!='Word'].values   # Features\n",
        "y = attempt.loc[:,'Word'].values     # Target\n",
        "x_train, x_test, y_train, y_test = train_test_split(x, y, test_size=0.6)\n",
        "\n",
        "clf = SVC()\n",
        "clf.fit(x_train, y_train)\n",
        "print ('score', clf.score(x_test, y_test))\n",
        "y_pred=clf.predict(x_test)\n",
        "print ('pred label', y_pred)\n",
        "print('length',len(clf.predict(x_test)))\n",
        "\n",
        "# Confusion matrix\n",
        "plot_confusion_matrix(clf, x_test, y_test,\n",
        "                                 cmap=plt.cm.Blues)\n",
        "plt.figure(figsize=(50,50))\n",
        "plt.show()\n",
        "\n",
        "print(classification_report(y_test, y_pred, target_names=words))"
      ],
      "execution_count": 9,
      "outputs": [
        {
          "output_type": "stream",
          "text": [
            "score 0.14901960784313725\n",
            "pred label [ 1. 13. 13. 13. 11. 13.  1. 13. 13.  7.  1.  1. 13.  1.  1.  1.  1. 13.\n",
            "  1.  1. 13. 13.  1. 21.  6. 28. 13. 13. 13. 13.  7. 34.  1. 13.  9. 13.\n",
            " 32. 13. 13.  1. 13. 13. 18.  1. 15. 13. 15. 19. 28.  1. 13. 32. 14.  7.\n",
            " 13. 13. 13.  1.  1. 13. 13. 13. 15. 13. 13. 13. 28. 13. 13. 13. 13.  1.\n",
            " 13.  1.  1.  1. 24. 13. 13.  1. 13. 13.  1. 28.  1. 13.  1. 13. 13. 13.\n",
            " 13. 13. 13. 13. 13. 15.  1. 28. 13. 28. 13.  1.  7. 13.  1. 13.  1. 13.\n",
            " 13. 13. 21.  1. 13.  0.  1.  9.  1.  1.  1.  1. 13.  1. 13. 11.  1. 13.\n",
            "  1. 13.  1. 13. 13.  1. 13. 28.  1. 13.  9.  1. 13. 13.  7. 28. 13.  6.\n",
            "  1. 13.  1.  1. 24.  1. 13. 15. 13. 13.  1.  1. 13.  9.  9. 15. 28. 13.\n",
            " 28. 13. 13.  1. 13.  1. 13. 13. 13.  9.  1.  1. 24. 21.  1. 21. 13. 13.\n",
            " 13.  1. 13. 13. 13. 13.  1.  1.  1.  1. 28. 24. 13. 13. 13. 13. 13. 13.\n",
            " 13.  1. 13. 13. 28.  1.  1. 13. 15. 13. 21.  1. 13. 15. 13. 13.  9. 13.\n",
            " 13. 21. 15. 27. 13. 14. 13. 13. 28. 13.  1.  1. 13. 13. 13. 13. 13.  1.\n",
            "  1. 13.  1. 13. 34. 27. 13.  1. 13. 13. 13.  1. 13. 21. 13. 13. 13.  1.\n",
            "  1. 21.  1.  1. 21. 21. 13.  1. 13. 13. 13. 13.  1. 13. 13.  1.  1. 13.\n",
            " 13. 13. 13.  7. 13. 35.  2. 13. 21. 28. 13. 21.  1. 13. 24. 15. 15. 32.\n",
            " 13. 13.  1.  1. 13. 21.  1. 15. 21. 13. 16. 15. 13. 32. 13. 21. 21.  1.\n",
            " 13.  1.  1.  1.  1.  7. 35. 27. 14. 13. 13.  1.  1.  9. 15.  1. 24.  1.\n",
            "  7. 13. 13.  7.  1.  8.  1. 13. 30. 13.  1.  1. 13. 24.  1.  1. 13. 35.\n",
            "  1.  1.  0. 13.  7.  1. 13. 28. 13. 13.  6. 21. 13.  9. 13. 13. 13.  1.\n",
            " 13.  9.  7. 13. 13. 13.  1. 11. 13. 13.  2. 15. 13.  1. 13.  7.  1.  1.\n",
            " 34.  1. 13. 13. 13. 13.  1. 34. 21.  1.  1. 13.  1.  7. 24. 13.  1. 16.\n",
            " 21.  1. 13. 13. 13. 13.  1. 13. 28. 13. 13. 13. 13. 13. 27.  1.  3.  1.\n",
            " 13. 13. 13. 13.  5. 13. 13. 13. 13. 28. 34. 13. 13.  7. 13.  9. 13. 13.\n",
            "  1. 13.  1. 13. 13. 13. 13.  1. 13. 13. 13. 13.  1. 13. 13.  1. 13.  1.\n",
            " 13. 28. 13.  3. 21. 13. 13. 13.  9. 13. 13. 13.  1.  1.  1.  1. 13.  1.\n",
            "  1. 13.  1. 13. 13. 24.  9. 13. 15. 13. 13. 13.  9. 13. 13. 15. 13.  1.\n",
            " 13.  1.  1. 13.  1. 13.  1.  1.  1. 30.  1.  1. 13.  1. 13.  7. 11. 28.\n",
            "  1. 21. 13.  7.  7.  1.]\n",
            "length 510\n"
          ],
          "name": "stdout"
        },
        {
          "output_type": "display_data",
          "data": {
            "image/png": "[encoded data removed]",
            "text/plain": [
              "<Figure size 432x288 with 2 Axes>"
            ]
          },
          "metadata": {
            "tags": [],
            "needs_background": "light"
          }
        },
        {
          "output_type": "display_data",
          "data": {
            "text/plain": [
              "<Figure size 3600x3600 with 0 Axes>"
            ]
          },
          "metadata": {
            "tags": []
          }
        },
        {
          "output_type": "stream",
          "text": [
            "                       precision    recall  f1-score   support\n",
            "\n",
            "           allmorning       0.00      0.00      0.00        10\n",
            "                 bird       0.04      0.83      0.07         6\n",
            "                 blue       1.00      0.09      0.17        22\n",
            "            cantsleep       1.00      0.20      0.33        10\n",
            "                  cat       0.00      0.00      0.00        16\n",
            "        coldrunnynose       0.00      0.00      0.00        13\n",
            "continuouslyforanhour       0.67      0.18      0.29        11\n",
            "                 cost       0.18      0.17      0.17        18\n",
            "                  day       1.00      0.06      0.12        16\n",
            "               dollar       0.14      0.12      0.13        16\n",
            "         everymorning       0.00      0.00      0.00        14\n",
            "           everynight       0.50      0.17      0.25        12\n",
            "                 gold       0.00      0.00      0.00        14\n",
            "            goodnight       0.06      0.76      0.10        17\n",
            "                happy       1.00      0.12      0.22        24\n",
            "             headache       0.29      0.71      0.42         7\n",
            "                 home       0.00      0.00      0.00        18\n",
            "                horse       0.00      0.00      0.00        15\n",
            "                  hot       1.00      0.05      0.09        22\n",
            "                 hurt       1.00      0.08      0.15        12\n",
            "              itching       0.00      0.00      0.00        10\n",
            "                large       0.67      0.67      0.67        21\n",
            "                  mom       0.00      0.00      0.00        22\n",
            "              monthly       0.00      0.00      0.00        12\n",
            "          notfeelgood       0.33      0.27      0.30        11\n",
            "               orange       0.00      0.00      0.00        16\n",
            "                pizza       0.00      0.00      0.00        15\n",
            "               please       0.25      0.06      0.10        16\n",
            "                shirt       0.42      0.47      0.44        17\n",
            "             soreness       0.00      0.00      0.00         2\n",
            "             swelling       0.50      0.09      0.15        11\n",
            "   takeliquidmedicine       0.00      0.00      0.00        14\n",
            "        thatsterrible       0.75      0.38      0.50         8\n",
            "                tired       0.00      0.00      0.00        13\n",
            "         upsetstomach       0.20      0.11      0.14         9\n",
            "                 wash       1.00      0.15      0.26        20\n",
            "\n",
            "             accuracy                           0.15       510\n",
            "            macro avg       0.33      0.16      0.14       510\n",
            "         weighted avg       0.37      0.15      0.14       510\n",
            "\n"
          ],
          "name": "stdout"
        },
        {
          "output_type": "stream",
          "text": [
            "/usr/local/lib/python3.6/dist-packages/sklearn/metrics/_classification.py:1272: UndefinedMetricWarning: Precision and F-score are ill-defined and being set to 0.0 in labels with no predicted samples. Use `zero_division` parameter to control this behavior.\n",
            "  _warn_prf(average, modifier, msg_start, len(result))\n"
          ],
          "name": "stderr"
        }
      ]
    },
    {
      "cell_type": "code",
      "metadata": {
        "id": "NgPwhYZvrn3i",
        "colab_type": "code",
        "colab": {
          "base_uri": "https://localhost:8080/",
          "height": 1000
        },
        "outputId": "dc2e4844-b600-49b6-f5aa-09390530581f"
      },
      "source": [
        "# Normalized to SVM\n",
        "x = nmatrix.iloc[:, nmatrix.columns!='Word'].values   # Features\n",
        "y = nmatrix.loc[:,'Word'].values     # Target\n",
        "\n",
        "x_train, x_test, y_train, y_test = train_test_split(x, y, test_size=0.6)\n",
        "\n",
        "clf = SVC()\n",
        "clf.fit(x_train, y_train)\n",
        "print ('score', clf.score(x_test, y_test))\n",
        "y_pred=clf.predict(x_test)\n",
        "print ('pred label', y_pred)\n",
        "print('length',len(clf.predict(x_test)))\n",
        "\n",
        "# Confusion matrix\n",
        "plot_confusion_matrix(clf, x_test, y_test,\n",
        "                                 cmap=plt.cm.Blues)\n",
        "plt.figure(figsize=(50,50))\n",
        "plt.show()\n",
        "\n",
        "print(classification_report(y_test, y_pred, target_names=words))"
      ],
      "execution_count": 10,
      "outputs": [
        {
          "output_type": "stream",
          "text": [
            "score 0.10196078431372549\n",
            "pred label ['cost' 'large' 'hot' 'cost' 'hot' 'hot' 'hot' 'large' 'hot' 'large' 'hot'\n",
            " 'cost' 'hot' 'cost' 'hot' 'hot' 'large' 'hot' 'large' 'cost' 'headache'\n",
            " 'hot' 'large' 'hot' 'hot' 'large' 'hot' 'hot' 'large' 'hot' 'hot' 'hot'\n",
            " 'large' 'hot' 'hot' 'large' 'hot' 'hot' 'hot' 'large' 'cost' 'hot'\n",
            " 'large' 'hot' 'hot' 'large' 'hot' 'hot' 'hot' 'cost' 'hot' 'hot' 'large'\n",
            " 'hot' 'headache' 'hot' 'hot' 'headache' 'hot' 'large' 'hot' 'hot' 'hot'\n",
            " 'cost' 'blue' 'hot' 'large' 'cost' 'hot' 'large' 'large' 'large' 'hot'\n",
            " 'large' 'hot' 'hot' 'large' 'hot' 'hot' 'cost' 'large' 'hot' 'blue' 'hot'\n",
            " 'large' 'hot' 'gold' 'hot' 'hot' 'headache' 'hot' 'mom' 'large' 'hot'\n",
            " 'hot' 'hot' 'hot' 'large' 'large' 'blue' 'cost' 'hot' 'hot' 'hot' 'large'\n",
            " 'hot' 'large' 'cost' 'hot' 'large' 'large' 'cost' 'large' 'hot' 'hot'\n",
            " 'blue' 'large' 'large' 'cost' 'large' 'large' 'cost' 'large' 'cost' 'hot'\n",
            " 'large' 'hot' 'large' 'large' 'hot' 'large' 'large' 'hot' 'hot' 'hot'\n",
            " 'large' 'large' 'hot' 'hot' 'hot' 'large' 'hot' 'cost' 'hot' 'hot' 'cost'\n",
            " 'hot' 'large' 'cost' 'large' 'large' 'hot' 'blue' 'large' 'hot' 'hot'\n",
            " 'hot' 'cost' 'hot' 'large' 'large' 'hot' 'hot' 'hot' 'hot' 'cost' 'cost'\n",
            " 'large' 'large' 'cost' 'hot' 'cost' 'blue' 'hot' 'blue' 'large' 'hot'\n",
            " 'large' 'hot' 'large' 'hot' 'cost' 'headache' 'blue' 'headache' 'hot'\n",
            " 'hot' 'hot' 'cost' 'large' 'large' 'cost' 'hot' 'large' 'hot' 'hot' 'hot'\n",
            " 'hot' 'large' 'large' 'large' 'hot' 'hot' 'cost' 'headache' 'hot' 'large'\n",
            " 'hot' 'large' 'cost' 'large' 'hot' 'hot' 'large' 'hot' 'hot' 'large'\n",
            " 'hot' 'hot' 'hot' 'hot' 'hot' 'hot' 'hot' 'large' 'hot' 'hot' 'hot' 'hot'\n",
            " 'hot' 'cost' 'hot' 'hot' 'hot' 'cost' 'large' 'hot' 'large' 'hot' 'large'\n",
            " 'hot' 'cost' 'large' 'hot' 'blue' 'large' 'large' 'hot' 'hot' 'hot' 'hot'\n",
            " 'hot' 'hot' 'hot' 'cost' 'hot' 'cost' 'hot' 'hot' 'hot' 'cost' 'hot'\n",
            " 'hot' 'large' 'hot' 'hot' 'hot' 'hot' 'hot' 'hot' 'blue' 'hot' 'please'\n",
            " 'headache' 'hot' 'hot' 'hot' 'large' 'cost' 'hot' 'large' 'blue' 'large'\n",
            " 'cost' 'hot' 'cost' 'hot' 'cost' 'hot' 'cost' 'large' 'hot' 'cost'\n",
            " 'large' 'large' 'cost' 'hot' 'hot' 'blue' 'large' 'hot' 'hot' 'hot'\n",
            " 'large' 'cost' 'large' 'large' 'hot' 'hot' 'hot' 'large' 'large' 'hot'\n",
            " 'blue' 'hot' 'cost' 'hot' 'hot' 'large' 'large' 'cost' 'hot' 'large'\n",
            " 'hot' 'hot' 'large' 'cost' 'large' 'cost' 'hot' 'hot' 'hot' 'hot' 'large'\n",
            " 'large' 'hot' 'hot' 'cost' 'cost' 'hot' 'hot' 'hot' 'cost' 'large'\n",
            " 'large' 'hot' 'large' 'hot' 'hot' 'large' 'large' 'hot' 'hot' 'large'\n",
            " 'hot' 'hot' 'hot' 'hot' 'hot' 'hot' 'hot' 'large' 'large' 'large' 'large'\n",
            " 'large' 'hot' 'headache' 'large' 'large' 'large' 'hot' 'hot' 'happy'\n",
            " 'hot' 'large' 'hot' 'large' 'large' 'hot' 'hot' 'large' 'cost' 'blue'\n",
            " 'hot' 'hot' 'hot' 'hot' 'large' 'horse' 'blue' 'hot' 'hot' 'cost' 'cost'\n",
            " 'hot' 'headache' 'large' 'large' 'large' 'hot' 'hot' 'hot' 'hot' 'cost'\n",
            " 'hot' 'hot' 'large' 'hot' 'blue' 'hot' 'hot' 'cost' 'hot' 'large' 'hot'\n",
            " 'hot' 'cost' 'large' 'cost' 'cost' 'hot' 'large' 'blue' 'hot' 'hot' 'hot'\n",
            " 'cost' 'large' 'large' 'large' 'hot' 'hot' 'large' 'large' 'cost' 'large'\n",
            " 'large' 'cost' 'dollar' 'large' 'hot' 'large' 'hot' 'cost' 'cost' 'hot'\n",
            " 'cost' 'blue' 'hot' 'hot' 'hot' 'large' 'hot' 'hot' 'large' 'large'\n",
            " 'cost' 'cost' 'large' 'cost' 'blue' 'hot' 'horse' 'hot' 'hot' 'cost'\n",
            " 'large' 'hot' 'hot' 'large' 'large' 'large' 'hot' 'large' 'hot' 'large'\n",
            " 'hot' 'hot' 'large' 'hot' 'cost' 'hot' 'hot' 'large' 'hot' 'hot' 'blue'\n",
            " 'hot' 'hot' 'blue' 'cost' 'large' 'large' 'large' 'large' 'hot' 'hot'\n",
            " 'large' 'hot' 'hot' 'hot' 'hot' 'hot' 'hot' 'large' 'large' 'hot' 'hot'\n",
            " 'hot']\n",
            "length 510\n"
          ],
          "name": "stdout"
        },
        {
          "output_type": "display_data",
          "data": {
            "image/png": "[encoded data removed]",
            "text/plain": [
              "<Figure size 432x288 with 2 Axes>"
            ]
          },
          "metadata": {
            "tags": [],
            "needs_background": "light"
          }
        },
        {
          "output_type": "display_data",
          "data": {
            "text/plain": [
              "<Figure size 3600x3600 with 0 Axes>"
            ]
          },
          "metadata": {
            "tags": []
          }
        },
        {
          "output_type": "stream",
          "text": [
            "                       precision    recall  f1-score   support\n",
            "\n",
            "           allmorning       0.00      0.00      0.00        12\n",
            "                 bird       0.00      0.00      0.00        14\n",
            "                 blue       0.19      0.21      0.20        19\n",
            "            cantsleep       0.00      0.00      0.00        11\n",
            "                  cat       0.00      0.00      0.00        15\n",
            "        coldrunnynose       0.00      0.00      0.00        17\n",
            "continuouslyforanhour       0.00      0.00      0.00        13\n",
            "                 cost       0.16      0.61      0.25        18\n",
            "                  day       0.00      0.00      0.00        14\n",
            "               dollar       1.00      0.06      0.11        17\n",
            "         everymorning       0.00      0.00      0.00         9\n",
            "           everynight       0.00      0.00      0.00        14\n",
            "                 gold       0.00      0.00      0.00        11\n",
            "            goodnight       0.00      0.00      0.00        22\n",
            "                happy       0.00      0.00      0.00        21\n",
            "             headache       0.50      0.56      0.53         9\n",
            "                 home       0.00      0.00      0.00        17\n",
            "                horse       1.00      0.14      0.25        14\n",
            "                  hot       0.05      0.70      0.10        20\n",
            "                 hurt       0.00      0.00      0.00        16\n",
            "              itching       0.00      0.00      0.00        12\n",
            "                large       0.10      0.83      0.18        18\n",
            "                  mom       0.00      0.00      0.00        18\n",
            "              monthly       0.00      0.00      0.00        12\n",
            "          notfeelgood       0.00      0.00      0.00        14\n",
            "               orange       0.00      0.00      0.00        12\n",
            "                pizza       0.00      0.00      0.00        12\n",
            "               please       0.00      0.00      0.00        13\n",
            "                shirt       0.00      0.00      0.00        19\n",
            "             soreness       0.00      0.00      0.00         2\n",
            "             swelling       0.00      0.00      0.00        11\n",
            "   takeliquidmedicine       0.00      0.00      0.00         8\n",
            "        thatsterrible       0.00      0.00      0.00        15\n",
            "                tired       0.00      0.00      0.00        13\n",
            "         upsetstomach       0.00      0.00      0.00        10\n",
            "                 wash       0.00      0.00      0.00        18\n",
            "\n",
            "             accuracy                           0.10       510\n",
            "            macro avg       0.08      0.09      0.05       510\n",
            "         weighted avg       0.09      0.10      0.05       510\n",
            "\n"
          ],
          "name": "stdout"
        },
        {
          "output_type": "stream",
          "text": [
            "/usr/local/lib/python3.6/dist-packages/sklearn/metrics/_classification.py:1272: UndefinedMetricWarning: Precision and F-score are ill-defined and being set to 0.0 in labels with no predicted samples. Use `zero_division` parameter to control this behavior.\n",
            "  _warn_prf(average, modifier, msg_start, len(result))\n"
          ],
          "name": "stderr"
        }
      ]
    },
    {
      "cell_type": "code",
      "metadata": {
        "id": "3OL74iKMnWZB",
        "colab_type": "code",
        "colab": {
          "base_uri": "https://localhost:8080/",
          "height": 1000
        },
        "outputId": "e9be78dc-88e5-4b97-c1c2-8aa8551de041"
      },
      "source": [
        "# Normalized, Butterworth to SVM\n",
        "x = buttermatrix.iloc[:, buttermatrix.columns!='Word'].values   # Features\n",
        "y = buttermatrix.loc[:,'Word'].values     # Target\n",
        "\n",
        "x_train, x_test, y_train, y_test = train_test_split(x, y, test_size=0.6)\n",
        "\n",
        "clf = SVC()\n",
        "clf.fit(x_train, y_train)\n",
        "print ('score', clf.score(x_test, y_test))\n",
        "y_pred=clf.predict(x_test)\n",
        "print ('pred label', y_pred)\n",
        "print('length',len(clf.predict(x_test)))\n",
        "\n",
        "# Confusion matrix\n",
        "plot_confusion_matrix(clf, x_test, y_test,\n",
        "                                 cmap=plt.cm.Blues)\n",
        "plt.figure(figsize=(50,50))\n",
        "plt.show()\n",
        "\n",
        "print(classification_report(y_test, y_pred, target_names=words))"
      ],
      "execution_count": 11,
      "outputs": [
        {
          "output_type": "stream",
          "text": [
            "score 0.09411764705882353\n",
            "pred label ['happy' 'happy' 'happy' 'happy' 'happy' 'happy' 'happy' 'dollar' 'happy'\n",
            " 'large' 'dollar' 'large' 'please' 'happy' 'happy' 'please' 'happy'\n",
            " 'happy' 'happy' 'happy' 'happy' 'happy' 'please' 'happy' 'happy' 'large'\n",
            " 'happy' 'happy' 'happy' 'happy' 'horse' 'happy' 'shirt' 'shirt' 'blue'\n",
            " 'dollar' 'happy' 'shirt' 'large' 'happy' 'please' 'happy' 'happy' 'large'\n",
            " 'happy' 'happy' 'happy' 'happy' 'shirt' 'happy' 'happy' 'happy' 'large'\n",
            " 'happy' 'happy' 'home' 'large' 'happy' 'happy' 'happy' 'happy' 'large'\n",
            " 'happy' 'happy' 'shirt' 'happy' 'happy' 'shirt' 'happy' 'happy' 'happy'\n",
            " 'happy' 'happy' 'happy' 'happy' 'happy' 'happy' 'happy' 'shirt' 'happy'\n",
            " 'happy' 'please' 'large' 'large' 'happy' 'happy' 'happy' 'happy' 'please'\n",
            " 'home' 'shirt' 'happy' 'happy' 'please' 'please' 'happy' 'happy' 'large'\n",
            " 'happy' 'shirt' 'happy' 'dollar' 'happy' 'happy' 'happy' 'large' 'please'\n",
            " 'happy' 'happy' 'happy' 'happy' 'please' 'happy' 'dollar' 'happy' 'happy'\n",
            " 'happy' 'happy' 'happy' 'happy' 'happy' 'please' 'happy' 'please' 'happy'\n",
            " 'happy' 'happy' 'happy' 'happy' 'shirt' 'happy' 'please' 'happy' 'home'\n",
            " 'happy' 'please' 'please' 'happy' 'happy' 'happy' 'shirt' 'dollar'\n",
            " 'dollar' 'happy' 'large' 'large' 'please' 'happy' 'happy' 'shirt'\n",
            " 'please' 'happy' 'large' 'large' 'dollar' 'happy' 'happy' 'happy'\n",
            " 'please' 'happy' 'happy' 'happy' 'please' 'happy' 'happy' 'happy' 'happy'\n",
            " 'home' 'happy' 'please' 'happy' 'please' 'happy' 'shirt' 'happy' 'shirt'\n",
            " 'dollar' 'happy' 'happy' 'happy' 'happy' 'happy' 'large' 'please' 'happy'\n",
            " 'shirt' 'large' 'happy' 'shirt' 'shirt' 'happy' 'please' 'happy' 'shirt'\n",
            " 'dollar' 'happy' 'happy' 'happy' 'large' 'happy' 'happy' 'shirt' 'happy'\n",
            " 'happy' 'shirt' 'large' 'happy' 'happy' 'happy' 'happy' 'happy' 'happy'\n",
            " 'shirt' 'please' 'happy' 'happy' 'large' 'happy' 'happy' 'please' 'happy'\n",
            " 'happy' 'happy' 'happy' 'happy' 'happy' 'happy' 'please' 'happy' 'happy'\n",
            " 'happy' 'blue' 'happy' 'happy' 'happy' 'happy' 'happy' 'happy' 'happy'\n",
            " 'happy' 'happy' 'shirt' 'happy' 'happy' 'happy' 'happy' 'shirt' 'happy'\n",
            " 'please' 'please' 'please' 'please' 'happy' 'shirt' 'happy' 'happy'\n",
            " 'happy' 'please' 'happy' 'happy' 'happy' 'happy' 'large' 'please' 'happy'\n",
            " 'happy' 'happy' 'happy' 'happy' 'happy' 'happy' 'happy' 'large' 'happy'\n",
            " 'happy' 'happy' 'happy' 'shirt' 'dollar' 'shirt' 'happy' 'shirt' 'please'\n",
            " 'please' 'home' 'shirt' 'large' 'happy' 'happy' 'happy' 'happy' 'happy'\n",
            " 'happy' 'happy' 'happy' 'please' 'large' 'large' 'happy' 'happy' 'happy'\n",
            " 'happy' 'happy' 'happy' 'happy' 'happy' 'happy' 'large' 'happy' 'happy'\n",
            " 'happy' 'shirt' 'blue' 'happy' 'horse' 'happy' 'happy' 'happy' 'happy'\n",
            " 'happy' 'happy' 'shirt' 'please' 'happy' 'large' 'please' 'happy' 'happy'\n",
            " 'happy' 'happy' 'happy' 'happy' 'please' 'shirt' 'happy' 'happy' 'happy'\n",
            " 'happy' 'happy' 'happy' 'shirt' 'happy' 'happy' 'shirt' 'happy' 'happy'\n",
            " 'happy' 'please' 'happy' 'shirt' 'happy' 'please' 'happy' 'shirt' 'happy'\n",
            " 'happy' 'happy' 'happy' 'happy' 'dollar' 'happy' 'happy' 'happy' 'happy'\n",
            " 'happy' 'happy' 'please' 'happy' 'happy' 'happy' 'dollar' 'happy' 'happy'\n",
            " 'happy' 'happy' 'shirt' 'happy' 'shirt' 'happy' 'happy' 'happy' 'happy'\n",
            " 'happy' 'happy' 'happy' 'please' 'large' 'happy' 'happy' 'happy' 'happy'\n",
            " 'happy' 'please' 'please' 'happy' 'happy' 'shirt' 'shirt' 'happy' 'happy'\n",
            " 'happy' 'happy' 'large' 'happy' 'happy' 'happy' 'happy' 'happy' 'happy'\n",
            " 'please' 'happy' 'happy' 'happy' 'dollar' 'shirt' 'happy' 'happy' 'happy'\n",
            " 'happy' 'happy' 'happy' 'happy' 'please' 'please' 'happy' 'happy' 'happy'\n",
            " 'happy' 'happy' 'happy' 'dollar' 'happy' 'happy' 'shirt' 'shirt' 'please'\n",
            " 'happy' 'happy' 'happy' 'happy' 'happy' 'happy' 'large' 'happy' 'happy'\n",
            " 'happy' 'happy' 'happy' 'happy' 'shirt' 'happy' 'happy' 'happy' 'happy'\n",
            " 'happy' 'happy' 'happy' 'home' 'horse' 'happy' 'please' 'happy' 'home'\n",
            " 'happy' 'shirt' 'happy' 'happy' 'happy' 'large' 'please' 'happy' 'shirt'\n",
            " 'please' 'happy' 'large' 'happy' 'happy' 'please' 'please' 'large'\n",
            " 'happy' 'happy' 'please' 'dollar' 'happy' 'happy' 'please' 'happy'\n",
            " 'happy' 'dollar' 'please' 'happy' 'happy' 'large' 'happy' 'happy' 'happy'\n",
            " 'happy' 'happy' 'happy' 'happy' 'happy' 'happy' 'happy' 'large' 'happy'\n",
            " 'happy' 'happy' 'happy' 'happy']\n",
            "length 510\n"
          ],
          "name": "stdout"
        },
        {
          "output_type": "display_data",
          "data": {
            "image/png": "[encoded data removed]",
            "text/plain": [
              "<Figure size 432x288 with 2 Axes>"
            ]
          },
          "metadata": {
            "tags": [],
            "needs_background": "light"
          }
        },
        {
          "output_type": "display_data",
          "data": {
            "text/plain": [
              "<Figure size 3600x3600 with 0 Axes>"
            ]
          },
          "metadata": {
            "tags": []
          }
        },
        {
          "output_type": "stream",
          "text": [
            "                       precision    recall  f1-score   support\n",
            "\n",
            "           allmorning       0.00      0.00      0.00        15\n",
            "                 bird       0.00      0.00      0.00        17\n",
            "                 blue       0.67      0.11      0.18        19\n",
            "            cantsleep       0.00      0.00      0.00        14\n",
            "                  cat       0.00      0.00      0.00        16\n",
            "        coldrunnynose       0.00      0.00      0.00        14\n",
            "continuouslyforanhour       0.00      0.00      0.00        14\n",
            "                 cost       0.00      0.00      0.00        20\n",
            "                  day       0.00      0.00      0.00        15\n",
            "               dollar       0.29      0.33      0.31        15\n",
            "         everymorning       0.00      0.00      0.00         9\n",
            "           everynight       0.00      0.00      0.00        10\n",
            "                 gold       0.00      0.00      0.00        13\n",
            "            goodnight       0.00      0.00      0.00        23\n",
            "                happy       0.04      0.83      0.08        18\n",
            "             headache       0.00      0.00      0.00        11\n",
            "                 home       0.00      0.00      0.00        14\n",
            "                horse       1.00      0.23      0.38        13\n",
            "                  hot       0.00      0.00      0.00        25\n",
            "                 hurt       0.00      0.00      0.00        10\n",
            "              itching       0.00      0.00      0.00         9\n",
            "                large       0.11      0.20      0.14        20\n",
            "                  mom       0.00      0.00      0.00        19\n",
            "              monthly       0.00      0.00      0.00        11\n",
            "          notfeelgood       0.00      0.00      0.00        12\n",
            "               orange       0.00      0.00      0.00        16\n",
            "                pizza       0.00      0.00      0.00        11\n",
            "               please       0.11      0.46      0.17        13\n",
            "                shirt       0.29      1.00      0.45        13\n",
            "             soreness       0.00      0.00      0.00         4\n",
            "             swelling       0.00      0.00      0.00        11\n",
            "   takeliquidmedicine       0.00      0.00      0.00        11\n",
            "        thatsterrible       0.00      0.00      0.00        15\n",
            "                tired       0.00      0.00      0.00        10\n",
            "         upsetstomach       0.00      0.00      0.00        11\n",
            "                 wash       0.00      0.00      0.00        19\n",
            "\n",
            "             accuracy                           0.09       510\n",
            "            macro avg       0.07      0.09      0.05       510\n",
            "         weighted avg       0.07      0.09      0.05       510\n",
            "\n"
          ],
          "name": "stdout"
        },
        {
          "output_type": "stream",
          "text": [
            "/usr/local/lib/python3.6/dist-packages/sklearn/metrics/_classification.py:1272: UndefinedMetricWarning: Precision and F-score are ill-defined and being set to 0.0 in labels with no predicted samples. Use `zero_division` parameter to control this behavior.\n",
            "  _warn_prf(average, modifier, msg_start, len(result))\n"
          ],
          "name": "stderr"
        }
      ]
    },
    {
      "cell_type": "code",
      "metadata": {
        "id": "riv-kFwa9oMD",
        "colab_type": "code",
        "colab": {
          "base_uri": "https://localhost:8080/",
          "height": 1000
        },
        "outputId": "cfb94cc7-37dc-4b8a-f4a6-bb98e647e7fa"
      },
      "source": [
        "# PCA for norm_matrix\n",
        "\n",
        "x = norm_matrix_eago.iloc[:, norm_matrix_eago.columns!='Word'].values   # Features\n",
        "y = norm_matrix_eago.loc[:,'Word'].values     # Target\n",
        "print(y)\n",
        "\n",
        "x_train, x_test, y_train, y_test = train_test_split(x, y, test_size=0.6)\n",
        "\n",
        "pca = PCA(n_components=100)\n",
        "pca.fit(x_train)\n",
        "x_t_train = pca.transform(x_train)\n",
        "x_t_test = pca.transform(x_test)\n",
        "\n",
        "#### plot\n",
        "print(\"Normalized matrix\")\n",
        "print(pca.explained_variance_ratio_)\n",
        "print(pca.singular_values_)\n",
        "plt.figure()\n",
        "plt.bar(fn[:100],pca.explained_variance_ratio_)\n",
        "plt.show()\n",
        "plt.bar(fn[:100],pca.singular_values_)\n",
        "plt.show()"
      ],
      "execution_count": 12,
      "outputs": [
        {
          "output_type": "stream",
          "text": [
            "['allmorning' 'allmorning' 'allmorning' 'allmorning' 'allmorning'\n",
            " 'allmorning' 'allmorning' 'allmorning' 'allmorning' 'allmorning'\n",
            " 'allmorning' 'allmorning' 'allmorning' 'allmorning' 'allmorning'\n",
            " 'allmorning' 'allmorning' 'allmorning' 'allmorning' 'bird' 'bird' 'bird'\n",
            " 'bird' 'bird' 'bird' 'bird' 'bird' 'bird' 'bird' 'bird' 'bird' 'bird'\n",
            " 'bird' 'bird' 'bird' 'bird' 'bird' 'bird' 'bird' 'bird' 'bird' 'bird'\n",
            " 'bird' 'blue' 'blue' 'blue' 'blue' 'blue' 'blue' 'blue' 'blue' 'blue'\n",
            " 'blue' 'blue' 'blue' 'blue' 'blue' 'blue' 'blue' 'blue' 'blue' 'blue'\n",
            " 'blue' 'blue' 'blue' 'blue' 'blue' 'blue' 'blue' 'blue' 'blue' 'blue'\n",
            " 'blue' 'blue' 'blue' 'cantsleep' 'cantsleep' 'cantsleep' 'cantsleep'\n",
            " 'cantsleep' 'cantsleep' 'cantsleep' 'cantsleep' 'cantsleep' 'cantsleep'\n",
            " 'cantsleep' 'cantsleep' 'cantsleep' 'cantsleep' 'cantsleep' 'cantsleep'\n",
            " 'cantsleep' 'cantsleep' 'cantsleep' 'cantsleep' 'cat' 'cat' 'cat' 'cat'\n",
            " 'cat' 'cat' 'cat' 'cat' 'cat' 'cat' 'cat' 'cat' 'cat' 'cat' 'cat' 'cat'\n",
            " 'cat' 'cat' 'cat' 'cat' 'cat' 'cat' 'cat' 'cat' 'coldrunnynose'\n",
            " 'coldrunnynose' 'coldrunnynose' 'coldrunnynose' 'coldrunnynose'\n",
            " 'coldrunnynose' 'coldrunnynose' 'coldrunnynose' 'coldrunnynose'\n",
            " 'coldrunnynose' 'coldrunnynose' 'coldrunnynose' 'coldrunnynose'\n",
            " 'coldrunnynose' 'coldrunnynose' 'coldrunnynose' 'coldrunnynose'\n",
            " 'coldrunnynose' 'coldrunnynose' 'coldrunnynose' 'continuouslyforanhour'\n",
            " 'continuouslyforanhour' 'continuouslyforanhour' 'continuouslyforanhour'\n",
            " 'continuouslyforanhour' 'continuouslyforanhour' 'continuouslyforanhour'\n",
            " 'continuouslyforanhour' 'continuouslyforanhour' 'continuouslyforanhour'\n",
            " 'continuouslyforanhour' 'continuouslyforanhour' 'continuouslyforanhour'\n",
            " 'continuouslyforanhour' 'continuouslyforanhour' 'continuouslyforanhour'\n",
            " 'continuouslyforanhour' 'continuouslyforanhour' 'continuouslyforanhour'\n",
            " 'cost' 'cost' 'cost' 'cost' 'cost' 'cost' 'cost' 'cost' 'cost' 'cost'\n",
            " 'cost' 'cost' 'cost' 'cost' 'cost' 'cost' 'cost' 'cost' 'cost' 'cost'\n",
            " 'cost' 'cost' 'cost' 'cost' 'cost' 'cost' 'cost' 'cost' 'cost' 'cost'\n",
            " 'cost' 'day' 'day' 'day' 'day' 'day' 'day' 'day' 'day' 'day' 'day' 'day'\n",
            " 'day' 'day' 'day' 'day' 'day' 'day' 'day' 'day' 'day' 'day' 'day' 'day'\n",
            " 'day' 'dollar' 'dollar' 'dollar' 'dollar' 'dollar' 'dollar' 'dollar'\n",
            " 'dollar' 'dollar' 'dollar' 'dollar' 'dollar' 'dollar' 'dollar' 'dollar'\n",
            " 'dollar' 'dollar' 'dollar' 'dollar' 'dollar' 'dollar' 'dollar' 'dollar'\n",
            " 'dollar' 'dollar' 'dollar' 'dollar' 'dollar' 'dollar' 'everymorning'\n",
            " 'everymorning' 'everymorning' 'everymorning' 'everymorning'\n",
            " 'everymorning' 'everymorning' 'everymorning' 'everymorning'\n",
            " 'everymorning' 'everymorning' 'everymorning' 'everymorning'\n",
            " 'everymorning' 'everymorning' 'everymorning' 'everymorning'\n",
            " 'everymorning' 'everymorning' 'everymorning' 'everynight' 'everynight'\n",
            " 'everynight' 'everynight' 'everynight' 'everynight' 'everynight'\n",
            " 'everynight' 'everynight' 'everynight' 'everynight' 'everynight'\n",
            " 'everynight' 'everynight' 'everynight' 'everynight' 'everynight'\n",
            " 'everynight' 'everynight' 'everynight' 'everynight' 'gold' 'gold' 'gold'\n",
            " 'gold' 'gold' 'gold' 'gold' 'gold' 'gold' 'gold' 'gold' 'gold' 'gold'\n",
            " 'gold' 'gold' 'gold' 'gold' 'gold' 'gold' 'gold' 'gold' 'gold' 'gold'\n",
            " 'goodnight' 'goodnight' 'goodnight' 'goodnight' 'goodnight' 'goodnight'\n",
            " 'goodnight' 'goodnight' 'goodnight' 'goodnight' 'goodnight' 'goodnight'\n",
            " 'goodnight' 'goodnight' 'goodnight' 'goodnight' 'goodnight' 'goodnight'\n",
            " 'goodnight' 'goodnight' 'goodnight' 'goodnight' 'goodnight' 'goodnight'\n",
            " 'goodnight' 'goodnight' 'goodnight' 'goodnight' 'goodnight' 'goodnight'\n",
            " 'goodnight' 'goodnight' 'goodnight' 'happy' 'happy' 'happy' 'happy'\n",
            " 'happy' 'happy' 'happy' 'happy' 'happy' 'happy' 'happy' 'happy' 'happy'\n",
            " 'happy' 'happy' 'happy' 'happy' 'happy' 'happy' 'happy' 'happy' 'happy'\n",
            " 'happy' 'happy' 'happy' 'happy' 'happy' 'happy' 'happy' 'happy' 'happy'\n",
            " 'happy' 'happy' 'happy' 'headache' 'headache' 'headache' 'headache'\n",
            " 'headache' 'headache' 'headache' 'headache' 'headache' 'headache'\n",
            " 'headache' 'headache' 'headache' 'headache' 'headache' 'headache'\n",
            " 'headache' 'headache' 'home' 'home' 'home' 'home' 'home' 'home' 'home'\n",
            " 'home' 'home' 'home' 'home' 'home' 'home' 'home' 'home' 'home' 'home'\n",
            " 'home' 'home' 'home' 'home' 'home' 'home' 'home' 'home' 'home' 'home'\n",
            " 'horse' 'horse' 'horse' 'horse' 'horse' 'horse' 'horse' 'horse' 'horse'\n",
            " 'horse' 'horse' 'horse' 'horse' 'horse' 'horse' 'horse' 'horse' 'horse'\n",
            " 'horse' 'horse' 'horse' 'horse' 'horse' 'horse' 'hot' 'hot' 'hot' 'hot'\n",
            " 'hot' 'hot' 'hot' 'hot' 'hot' 'hot' 'hot' 'hot' 'hot' 'hot' 'hot' 'hot'\n",
            " 'hot' 'hot' 'hot' 'hot' 'hot' 'hot' 'hot' 'hot' 'hot' 'hot' 'hot' 'hot'\n",
            " 'hot' 'hot' 'hot' 'hot' 'hot' 'hot' 'hot' 'hurt' 'hurt' 'hurt' 'hurt'\n",
            " 'hurt' 'hurt' 'hurt' 'hurt' 'hurt' 'hurt' 'hurt' 'hurt' 'hurt' 'hurt'\n",
            " 'hurt' 'hurt' 'hurt' 'hurt' 'hurt' 'itching' 'itching' 'itching'\n",
            " 'itching' 'itching' 'itching' 'itching' 'itching' 'itching' 'itching'\n",
            " 'itching' 'itching' 'itching' 'itching' 'itching' 'itching' 'itching'\n",
            " 'large' 'large' 'large' 'large' 'large' 'large' 'large' 'large' 'large'\n",
            " 'large' 'large' 'large' 'large' 'large' 'large' 'large' 'large' 'large'\n",
            " 'large' 'large' 'large' 'large' 'large' 'large' 'large' 'large' 'large'\n",
            " 'large' 'large' 'large' 'large' 'large' 'large' 'large' 'mom' 'mom' 'mom'\n",
            " 'mom' 'mom' 'mom' 'mom' 'mom' 'mom' 'mom' 'mom' 'mom' 'mom' 'mom' 'mom'\n",
            " 'mom' 'mom' 'mom' 'mom' 'mom' 'mom' 'mom' 'mom' 'mom' 'mom' 'mom' 'mom'\n",
            " 'mom' 'mom' 'mom' 'monthly' 'monthly' 'monthly' 'monthly' 'monthly'\n",
            " 'monthly' 'monthly' 'monthly' 'monthly' 'monthly' 'monthly' 'monthly'\n",
            " 'monthly' 'monthly' 'monthly' 'monthly' 'monthly' 'monthly' 'monthly'\n",
            " 'notfeelgood' 'notfeelgood' 'notfeelgood' 'notfeelgood' 'notfeelgood'\n",
            " 'notfeelgood' 'notfeelgood' 'notfeelgood' 'notfeelgood' 'notfeelgood'\n",
            " 'notfeelgood' 'notfeelgood' 'notfeelgood' 'notfeelgood' 'notfeelgood'\n",
            " 'notfeelgood' 'notfeelgood' 'notfeelgood' 'notfeelgood' 'notfeelgood'\n",
            " 'notfeelgood' 'notfeelgood' 'orange' 'orange' 'orange' 'orange' 'orange'\n",
            " 'orange' 'orange' 'orange' 'orange' 'orange' 'orange' 'orange' 'orange'\n",
            " 'orange' 'orange' 'orange' 'orange' 'orange' 'orange' 'orange' 'orange'\n",
            " 'pizza' 'pizza' 'pizza' 'pizza' 'pizza' 'pizza' 'pizza' 'pizza' 'pizza'\n",
            " 'pizza' 'pizza' 'pizza' 'pizza' 'pizza' 'pizza' 'pizza' 'pizza' 'pizza'\n",
            " 'pizza' 'pizza' 'pizza' 'pizza' 'pizza' 'please' 'please' 'please'\n",
            " 'please' 'please' 'please' 'please' 'please' 'please' 'please' 'please'\n",
            " 'please' 'please' 'please' 'please' 'please' 'please' 'please' 'please'\n",
            " 'please' 'please' 'please' 'please' 'please' 'please' 'please' 'please'\n",
            " 'shirt' 'shirt' 'shirt' 'shirt' 'shirt' 'shirt' 'shirt' 'shirt' 'shirt'\n",
            " 'shirt' 'shirt' 'shirt' 'shirt' 'shirt' 'shirt' 'shirt' 'shirt' 'shirt'\n",
            " 'shirt' 'shirt' 'shirt' 'shirt' 'shirt' 'shirt' 'shirt' 'shirt' 'shirt'\n",
            " 'soreness' 'soreness' 'soreness' 'soreness' 'swelling' 'swelling'\n",
            " 'swelling' 'swelling' 'swelling' 'swelling' 'swelling' 'swelling'\n",
            " 'swelling' 'swelling' 'swelling' 'swelling' 'swelling' 'swelling'\n",
            " 'swelling' 'swelling' 'swelling' 'swelling' 'swelling' 'swelling'\n",
            " 'takeliquidmedicine' 'takeliquidmedicine' 'takeliquidmedicine'\n",
            " 'takeliquidmedicine' 'takeliquidmedicine' 'takeliquidmedicine'\n",
            " 'takeliquidmedicine' 'takeliquidmedicine' 'takeliquidmedicine'\n",
            " 'takeliquidmedicine' 'takeliquidmedicine' 'takeliquidmedicine'\n",
            " 'takeliquidmedicine' 'takeliquidmedicine' 'takeliquidmedicine'\n",
            " 'takeliquidmedicine' 'takeliquidmedicine' 'takeliquidmedicine'\n",
            " 'takeliquidmedicine' 'thatsterrible' 'thatsterrible' 'thatsterrible'\n",
            " 'thatsterrible' 'thatsterrible' 'thatsterrible' 'thatsterrible'\n",
            " 'thatsterrible' 'thatsterrible' 'thatsterrible' 'thatsterrible'\n",
            " 'thatsterrible' 'thatsterrible' 'thatsterrible' 'thatsterrible'\n",
            " 'thatsterrible' 'thatsterrible' 'thatsterrible' 'thatsterrible'\n",
            " 'thatsterrible' 'tired' 'tired' 'tired' 'tired' 'tired' 'tired' 'tired'\n",
            " 'tired' 'tired' 'tired' 'tired' 'tired' 'tired' 'tired' 'tired' 'tired'\n",
            " 'tired' 'tired' 'tired' 'tired' 'upsetstomach' 'upsetstomach'\n",
            " 'upsetstomach' 'upsetstomach' 'upsetstomach' 'upsetstomach'\n",
            " 'upsetstomach' 'upsetstomach' 'upsetstomach' 'upsetstomach'\n",
            " 'upsetstomach' 'upsetstomach' 'upsetstomach' 'upsetstomach'\n",
            " 'upsetstomach' 'upsetstomach' 'upsetstomach' 'upsetstomach'\n",
            " 'upsetstomach' 'upsetstomach' 'upsetstomach' 'wash' 'wash' 'wash' 'wash'\n",
            " 'wash' 'wash' 'wash' 'wash' 'wash' 'wash' 'wash' 'wash' 'wash' 'wash'\n",
            " 'wash' 'wash' 'wash' 'wash' 'wash' 'wash' 'wash' 'wash' 'wash' 'wash'\n",
            " 'wash' 'wash' 'wash' 'wash' 'wash']\n",
            "Normalized matrix\n",
            "[0.12664624 0.09386183 0.08546164 0.07191447 0.06798039 0.04227977\n",
            " 0.03346902 0.02446666 0.02297302 0.02028166 0.01717931 0.01628427\n",
            " 0.01553658 0.01419903 0.01379985 0.01250403 0.01199161 0.01117283\n",
            " 0.01092889 0.01032758 0.0100839  0.00968585 0.00900199 0.0088215\n",
            " 0.00855766 0.00825125 0.00780548 0.00702452 0.00679799 0.0066007\n",
            " 0.00618137 0.00603252 0.00578396 0.00548736 0.00537992 0.0051149\n",
            " 0.004838   0.00474016 0.0044291  0.00430837 0.00407998 0.00395782\n",
            " 0.00366491 0.00360541 0.00354792 0.00345571 0.00324662 0.00309317\n",
            " 0.00306567 0.00293265 0.00291494 0.00277399 0.00267784 0.00257519\n",
            " 0.00253342 0.00243441 0.00231926 0.00218104 0.00206804 0.00201414\n",
            " 0.00197649 0.001972   0.00187022 0.00176793 0.00174112 0.00163374\n",
            " 0.0016107  0.00154477 0.0015272  0.00145974 0.00143137 0.00137076\n",
            " 0.00132625 0.00128961 0.00123296 0.00121306 0.00119037 0.00116208\n",
            " 0.00113306 0.00107772 0.00104209 0.00103287 0.00099926 0.00098693\n",
            " 0.00095303 0.00093847 0.00089745 0.00088412 0.00084962 0.00083139\n",
            " 0.00081168 0.00078279 0.00075598 0.00073732 0.00071672 0.00070283\n",
            " 0.00067902 0.00065825 0.00065236 0.00063252]\n",
            "[30.44351    26.20855491 25.00830017 22.94070185 22.30439258 17.58996001\n",
            " 15.65020587 13.38091718 12.96604733 12.18288868 11.21247305 10.91648071\n",
            " 10.66292236 10.19360654 10.04929947  9.56585133  9.36779247  9.04232681\n",
            "  8.94306738  8.6935628   8.59039095  8.41913342  8.11648094  8.03470114\n",
            "  7.91363714  7.7706683   7.5578513   7.16979512  7.05324211  6.95013839\n",
            "  6.72575582  6.64427938  6.50595667  6.33695054  6.27460859  6.11810865\n",
            "  5.95020126  5.88972545  5.69319904  5.61506563  5.46421291  5.38178462\n",
            "  5.17881281  5.13660496  5.09548374  5.02883606  4.87431923  4.75773995\n",
            "  4.73653781  4.63264343  4.61863425  4.50558174  4.42681296  4.34113168\n",
            "  4.30577958  4.22080964  4.11977441  3.99512526  3.89025544  3.83922625\n",
            "  3.80317077  3.79884831  3.6995202   3.59692616  3.56954843  3.45772355\n",
            "  3.43325678  3.3622539   3.34307365  3.26840962  3.23648753  3.16722641\n",
            "  3.11538206  3.07204513  3.00380985  2.97948024  2.95148421  2.91619124\n",
            "  2.8795511   2.80834675  2.76153951  2.74928942  2.70419617  2.68746238\n",
            "  2.64089553  2.62065042  2.56272964  2.54363189  2.49350752  2.4666168\n",
            "  2.43719938  2.39343851  2.35208347  2.3228819   2.29020174  2.26789804\n",
            "  2.2291595   2.19479798  2.18495261  2.15147898]\n"
          ],
          "name": "stdout"
        },
        {
          "output_type": "display_data",
          "data": {
            "image/png": "[encoded data removed]",
            "text/plain": [
              "<Figure size 432x288 with 1 Axes>"
            ]
          },
          "metadata": {
            "tags": [],
            "needs_background": "light"
          }
        },
        {
          "output_type": "display_data",
          "data": {
            "image/png": "[encoded data removed]",
            "text/plain": [
              "<Figure size 432x288 with 1 Axes>"
            ]
          },
          "metadata": {
            "tags": [],
            "needs_background": "light"
          }
        }
      ]
    },
    {
      "cell_type": "code",
      "metadata": {
        "id": "BSevZSPDFZjz",
        "colab_type": "code",
        "colab": {
          "base_uri": "https://localhost:8080/",
          "height": 1000
        },
        "outputId": "22f98f99-d9f6-469a-aada-aa40cba11f61"
      },
      "source": [
        "# Normalized, Butterworth, PCA to SVM\n",
        "clf = SVC()\n",
        "clf.fit(x_t_train, y_train)\n",
        "print ('score', clf.score(x_t_test, y_test))\n",
        "y_pred=clf.predict(x_t_test)\n",
        "print ('pred label', y_pred)\n",
        "print('length',len(clf.predict(x_t_test)))\n",
        "\n",
        "# Confusion matrix\n",
        "plot_confusion_matrix(clf, x_t_test, y_test,\n",
        "                                 cmap=plt.cm.Blues)\n",
        "plt.figure(figsize=(50,50))\n",
        "plt.show()\n",
        "\n",
        "print(classification_report(y_test, y_pred, target_names=words))"
      ],
      "execution_count": 13,
      "outputs": [
        {
          "output_type": "stream",
          "text": [
            "score 0.2823529411764706\n",
            "pred label ['goodnight' 'bird' 'cantsleep' 'horse' 'mom' 'goodnight' 'pizza' 'shirt'\n",
            " 'orange' 'happy' 'gold' 'bird' 'everynight' 'blue' 'everynight'\n",
            " 'goodnight' 'everynight' 'large' 'bird' 'coldrunnynose' 'cost' 'hot'\n",
            " 'goodnight' 'coldrunnynose' 'goodnight' 'hot' 'large' 'cost' 'headache'\n",
            " 'coldrunnynose' 'goodnight' 'blue' 'large' 'coldrunnynose' 'blue'\n",
            " 'orange' 'bird' 'hot' 'cantsleep' 'coldrunnynose' 'blue' 'blue'\n",
            " 'goodnight' 'goodnight' 'goodnight' 'large' 'everynight' 'coldrunnynose'\n",
            " 'orange' 'coldrunnynose' 'everynight' 'hurt' 'happy' 'cost' 'blue' 'gold'\n",
            " 'goodnight' 'cost' 'coldrunnynose' 'goodnight' 'mom' 'large' 'cost'\n",
            " 'continuouslyforanhour' 'orange' 'mom' 'goodnight' 'day' 'coldrunnynose'\n",
            " 'takeliquidmedicine' 'please' 'large' 'everynight' 'large' 'goodnight'\n",
            " 'cost' 'gold' 'cost' 'bird' 'wash' 'hot' 'blue' 'goodnight' 'large'\n",
            " 'goodnight' 'pizza' 'pizza' 'everynight' 'happy' 'large' 'coldrunnynose'\n",
            " 'mom' 'hot' 'blue' 'gold' 'headache' 'large' 'blue' 'goodnight'\n",
            " 'coldrunnynose' 'goodnight' 'goodnight' 'everynight' 'goodnight'\n",
            " 'goodnight' 'cost' 'cost' 'large' 'orange' 'coldrunnynose' 'goodnight'\n",
            " 'shirt' 'continuouslyforanhour' 'day' 'continuouslyforanhour' 'cat'\n",
            " 'large' 'everynight' 'everynight' 'gold' 'goodnight' 'day' 'large'\n",
            " 'dollar' 'blue' 'coldrunnynose' 'everynight' 'cost' 'shirt'\n",
            " 'coldrunnynose' 'orange' 'cost' 'goodnight' 'goodnight' 'goodnight'\n",
            " 'coldrunnynose' 'blue' 'mom' 'bird' 'swelling' 'cost' 'mom' 'bird' 'bird'\n",
            " 'blue' 'hot' 'goodnight' 'pizza' 'blue' 'coldrunnynose' 'goodnight'\n",
            " 'everynight' 'mom' 'mom' 'blue' 'orange' 'blue' 'blue' 'coldrunnynose'\n",
            " 'blue' 'hot' 'coldrunnynose' 'blue' 'goodnight' 'cost' 'cost' 'orange'\n",
            " 'everynight' 'continuouslyforanhour' 'large' 'swelling' 'goodnight' 'day'\n",
            " 'monthly' 'please' 'hot' 'please' 'blue' 'hot' 'goodnight' 'goodnight'\n",
            " 'blue' 'orange' 'blue' 'happy' 'everynight' 'shirt' 'cantsleep' 'orange'\n",
            " 'mom' 'cost' 'cost' 'cost' 'coldrunnynose' 'happy' 'everynight'\n",
            " 'everynight' 'goodnight' 'orange' 'headache' 'mom' 'cost' 'goodnight'\n",
            " 'goodnight' 'please' 'wash' 'blue' 'headache' 'happy' 'wash' 'blue'\n",
            " 'bird' 'day' 'hot' 'goodnight' 'wash' 'hot' 'coldrunnynose' 'horse'\n",
            " 'orange' 'headache' 'mom' 'coldrunnynose' 'coldrunnynose' 'upsetstomach'\n",
            " 'wash' 'goodnight' 'cost' 'home' 'everynight' 'cost' 'goodnight'\n",
            " 'continuouslyforanhour' 'large' 'cost' 'home' 'coldrunnynose' 'blue'\n",
            " 'blue' 'orange' 'blue' 'coldrunnynose' 'gold' 'headache' 'coldrunnynose'\n",
            " 'monthly' 'everynight' 'bird' 'hot' 'monthly' 'large' 'wash' 'cost'\n",
            " 'blue' 'wash' 'goodnight' 'cost' 'goodnight' 'please' 'orange' 'bird'\n",
            " 'bird' 'day' 'orange' 'coldrunnynose' 'gold' 'bird' 'home' 'goodnight'\n",
            " 'bird' 'continuouslyforanhour' 'blue' 'goodnight' 'mom' 'coldrunnynose'\n",
            " 'coldrunnynose' 'blue' 'gold' 'bird' 'large' 'happy' 'bird' 'please'\n",
            " 'large' 'please' 'coldrunnynose' 'everynight' 'large'\n",
            " 'continuouslyforanhour' 'shirt' 'pizza' 'blue' 'large' 'cost' 'goodnight'\n",
            " 'mom' 'goodnight' 'takeliquidmedicine' 'gold' 'wash' 'please' 'blue'\n",
            " 'everynight' 'large' 'dollar' 'blue' 'large' 'everynight' 'cantsleep'\n",
            " 'large' 'large' 'headache' 'happy' 'blue' 'happy' 'hot' 'headache' 'cost'\n",
            " 'large' 'blue' 'hot' 'itching' 'large' 'bird' 'cost' 'mom' 'large'\n",
            " 'everynight' 'goodnight' 'goodnight' 'large' 'blue' 'orange' 'goodnight'\n",
            " 'large' 'blue' 'cost' 'headache' 'cost' 'large' 'wash'\n",
            " 'continuouslyforanhour' 'wash' 'blue' 'cat' 'large' 'orange' 'gold'\n",
            " 'bird' 'blue' 'gold' 'blue' 'happy' 'cantsleep' 'gold' 'allmorning'\n",
            " 'coldrunnynose' 'everynight' 'everynight' 'hurt' 'gold' 'goodnight'\n",
            " 'pizza' 'bird' 'bird' 'mom' 'continuouslyforanhour' 'large' 'large'\n",
            " 'happy' 'bird' 'everynight' 'mom' 'gold' 'hot' 'bird' 'happy' 'headache'\n",
            " 'please' 'orange' 'orange' 'goodnight' 'hot' 'cost' 'mom'\n",
            " 'continuouslyforanhour' 'goodnight' 'home' 'mom' 'cat' 'gold' 'mom'\n",
            " 'goodnight' 'cost' 'goodnight' 'large' 'hot' 'cantsleep' 'large' 'please'\n",
            " 'takeliquidmedicine' 'please' 'hot' 'hot' 'cost' 'bird' 'cat' 'large'\n",
            " 'goodnight' 'blue' 'goodnight' 'allmorning' 'goodnight' 'blue' 'large'\n",
            " 'large' 'happy' 'coldrunnynose' 'hot' 'coldrunnynose' 'blue'\n",
            " 'continuouslyforanhour' 'happy' 'coldrunnynose' 'dollar' 'monthly' 'blue'\n",
            " 'large' 'mom' 'cost' 'hot' 'swelling' 'everymorning' 'happy'\n",
            " 'coldrunnynose' 'hot' 'upsetstomach' 'cost' 'continuouslyforanhour'\n",
            " 'wash' 'please' 'upsetstomach' 'day' 'swelling' 'happy' 'happy' 'mom'\n",
            " 'orange' 'everynight' 'blue' 'mom' 'continuouslyforanhour' 'gold' 'shirt'\n",
            " 'everynight' 'hot' 'coldrunnynose' 'bird' 'cost' 'happy' 'blue'\n",
            " 'goodnight' 'everynight' 'everynight' 'bird' 'goodnight' 'blue' 'orange'\n",
            " 'coldrunnynose' 'orange' 'goodnight' 'mom' 'mom' 'blue' 'bird' 'headache'\n",
            " 'gold' 'large' 'wash' 'blue' 'day' 'takeliquidmedicine' 'blue' 'bird'\n",
            " 'blue' 'large' 'hot' 'shirt' 'coldrunnynose' 'wash' 'goodnight' 'blue'\n",
            " 'everynight' 'mom' 'allmorning' 'bird' 'blue' 'goodnight' 'everynight'\n",
            " 'blue' 'coldrunnynose' 'blue' 'cost' 'cantsleep' 'coldrunnynose' 'gold'\n",
            " 'please' 'continuouslyforanhour' 'goodnight' 'day']\n",
            "length 510\n"
          ],
          "name": "stdout"
        },
        {
          "output_type": "display_data",
          "data": {
            "image/png": "[encoded data removed]",
            "text/plain": [
              "<Figure size 432x288 with 2 Axes>"
            ]
          },
          "metadata": {
            "tags": [],
            "needs_background": "light"
          }
        },
        {
          "output_type": "display_data",
          "data": {
            "text/plain": [
              "<Figure size 3600x3600 with 0 Axes>"
            ]
          },
          "metadata": {
            "tags": []
          }
        },
        {
          "output_type": "stream",
          "text": [
            "                       precision    recall  f1-score   support\n",
            "\n",
            "           allmorning       1.00      0.25      0.40        12\n",
            "                 bird       0.25      0.64      0.36        11\n",
            "                 blue       0.11      0.46      0.18        13\n",
            "            cantsleep       0.57      0.36      0.44        11\n",
            "                  cat       0.25      0.07      0.11        14\n",
            "        coldrunnynose       0.15      0.55      0.24        11\n",
            "continuouslyforanhour       0.29      0.40      0.33        10\n",
            "                 cost       0.26      0.64      0.37        14\n",
            "                  day       0.67      0.50      0.57        12\n",
            "               dollar       1.00      0.14      0.25        21\n",
            "         everymorning       1.00      0.08      0.14        13\n",
            "           everynight       0.19      0.60      0.29        10\n",
            "                 gold       0.28      0.50      0.36        10\n",
            "            goodnight       0.17      0.53      0.25        19\n",
            "                happy       0.28      0.22      0.24        23\n",
            "             headache       0.73      0.67      0.70        12\n",
            "                 home       0.50      0.10      0.17        20\n",
            "                horse       1.00      0.11      0.19        19\n",
            "                  hot       0.38      0.41      0.39        22\n",
            "                 hurt       1.00      0.14      0.25        14\n",
            "              itching       1.00      0.10      0.18        10\n",
            "                large       0.27      0.58      0.37        19\n",
            "                  mom       0.16      0.24      0.19        17\n",
            "              monthly       0.00      0.00      0.00        12\n",
            "          notfeelgood       0.00      0.00      0.00        16\n",
            "               orange       0.14      0.43      0.21         7\n",
            "                pizza       0.33      0.13      0.19        15\n",
            "               please       0.23      0.20      0.21        15\n",
            "                shirt       0.86      0.27      0.41        22\n",
            "             soreness       0.00      0.00      0.00         2\n",
            "             swelling       1.00      0.36      0.53        11\n",
            "   takeliquidmedicine       0.75      0.30      0.43        10\n",
            "        thatsterrible       0.00      0.00      0.00        16\n",
            "                tired       0.00      0.00      0.00        14\n",
            "         upsetstomach       1.00      0.23      0.38        13\n",
            "                 wash       0.38      0.25      0.30        20\n",
            "\n",
            "             accuracy                           0.28       510\n",
            "            macro avg       0.45      0.29      0.27       510\n",
            "         weighted avg       0.46      0.28      0.27       510\n",
            "\n"
          ],
          "name": "stdout"
        },
        {
          "output_type": "stream",
          "text": [
            "/usr/local/lib/python3.6/dist-packages/sklearn/metrics/_classification.py:1272: UndefinedMetricWarning: Precision and F-score are ill-defined and being set to 0.0 in labels with no predicted samples. Use `zero_division` parameter to control this behavior.\n",
            "  _warn_prf(average, modifier, msg_start, len(result))\n"
          ],
          "name": "stderr"
        }
      ]
    },
    {
      "cell_type": "markdown",
      "metadata": {
        "id": "h57zKLByfy2Y",
        "colab_type": "text"
      },
      "source": [
        "TODO:\n",
        "\n",
        "-check what happens when combining diff data sources\n",
        "\n",
        "-graph components\n",
        "\n",
        "find correlations\n",
        "\n",
        "-interpret pca results\n",
        "\n",
        "-try pca per individual/word\n",
        "\n",
        "-read dataset papers\n",
        "\n",
        "correlation component with word\n",
        "\n",
        "-try straight to svm\n",
        "\n",
        "-resend email\n",
        "\n",
        "check what is the data\n",
        "\n",
        "-merge timeseries word index\n",
        "\n",
        "see how stable each feature are\n",
        "\n",
        "standard deviation timeseries\n",
        "\n",
        "-try without filter\n",
        "\n",
        "multi-class classifier SVM\n",
        "\n"
      ]
    },
    {
      "cell_type": "markdown",
      "metadata": {
        "id": "ScbnguG8ONoC",
        "colab_type": "text"
      },
      "source": [
        "https://www.researchgate.net/publication/303707429_Combining_Smartphone_and_Smartwatch_Sensor_Data_in_Activity_Recognition_Approaches_an_Experimental_Evaluation"
      ]
    },
    {
      "cell_type": "markdown",
      "metadata": {
        "id": "Ay3NExQ59xrM",
        "colab_type": "text"
      },
      "source": [
        "References\n",
        "\n",
        "https://stackoverflow.com/questions/56449262/how-to-upload-folders-to-google-colab\n",
        "\n",
        "https://github.com/datarail/datarail/issues/39\n",
        "\n",
        "https://dbader.org/blog/python-check-if-file-exists\n",
        "\n",
        "https://datacarpentry.org/python-socialsci/11-joins/index.html\n",
        "\n",
        "https://stackoverflow.com/questions/26414913/normalize-columns-of-pandas-data-frame\n",
        "\n",
        "https://scikit-learn.org/stable/modules/generated/sklearn.decomposition.PCA.html\n",
        "\n",
        "https://towardsdatascience.com/pca-using-python-scikit-learn-e653f8989e60\n",
        "\n",
        "https://pandas.pydata.org/pandas-docs/stable/reference/api/pandas.DataFrame.to_csv.html\n",
        "\n",
        "https://www.tutorialspoint.com/matplotlib/matplotlib_bar_plot.htm\n",
        "\n",
        "https://docs.scipy.org/doc/scipy-0.14.0/reference/generated/scipy.signal.butter.html\n",
        "\n",
        "https://stackoverflow.com/questions/32194967/how-to-do-pca-and-svm-for-classification-in-python\n",
        "\n",
        "https://stackoverflow.com/questions/6822725/rolling-or-sliding-window-iterator\n",
        "\n",
        "https://scikit-learn.org/stable/modules/cross_validation.html\n",
        "\n",
        "https://stackoverflow.com/questions/47684606/merge-cells-with-pandas\n",
        "\n",
        "https://scientificallysound.org/2016/08/18/python-analysing-emg-signals-part-3/\n",
        "\n",
        "https://stackoverflow.com/questions/58374492/python-valueerror-the-length-of-the-input-vector-x-must-be-greater-than-padle\n",
        "\n",
        "https://pandas.pydata.org/pandas-docs/stable/reference/api/pandas.DataFrame.set_index.html\n",
        "\n",
        "https://scikit-learn.org/stable/auto_examples/model_selection/plot_confusion_matrix.html\n",
        "\n",
        "https://statinfer.com/204-4-2-calculating-sensitivity-and-specificity-in-python/\n",
        "\n",
        "https://www.datacamp.com/community/tutorials/pandas-multi-index\n",
        "\n",
        "https://www.geeksforgeeks.org/how-to-get-rows-index-names-in-pandas-dataframe/\n",
        "\n",
        "https://stackoverflow.com/questions/28140771/select-only-one-index-of-multiindex-dataframe\n",
        "\n",
        "https://www.educative.io/edpresso/how-to-create-a-confusion-matrix-in-python-using-scikit-learn\n",
        "\n",
        "https://scikit-learn.org/stable/modules/generated/sklearn.metrics.classification_report.html\n",
        "\n",
        "http://www.datasciencemadesimple.com/standard-deviation-function-python-pandas-row-column/\n",
        "\n",
        "https://stackoverflow.com/questions/39047915/concat-series-onto-dataframe-with-column-name\n"
      ]
    },
    {
      "cell_type": "code",
      "metadata": {
        "id": "V77MeC59AHdU",
        "colab_type": "code",
        "colab": {
          "base_uri": "https://localhost:8080/",
          "height": 199
        },
        "outputId": "9ba3394f-9cfd-4867-b750-25423f07bcc2"
      },
      "source": [
        "\"\"\"\n",
        "### Combine all files\n",
        "words=['allmorning', 'bird', 'blue', 'cantsleep', 'cat', 'coldrunnynose', 'continuouslyforanhour', 'cost', 'day', 'dollar', 'everymorning', 'everynight', 'gold', 'goodnight', 'happy', 'headache', 'home', 'horse', 'hot', 'hurt', 'itching', 'large', 'mom', 'monthly', 'notfeelgood', 'orange', 'pizza', 'please', 'shirt', 'soreness', 'swelling', 'takeliquidmedicine', 'thatsterrible', 'tired', 'upsetstomach', 'wash']\n",
        "lengths=np.zeros(849, dtype=int)\n",
        "reps=np.zeros(36,dtype=int)\n",
        "wordnum=-1\n",
        "counter=0\n",
        "\n",
        "for w in words:\n",
        "  repcount=0\n",
        "  wordnum+=1\n",
        "\n",
        "  for i in range (10, 120):\n",
        "    path='/content/2MyoASL/' + w + '_' + str(i) + '.csv'\n",
        "\n",
        "    if os.path.exists(path)==True:\n",
        "      counter+=1\n",
        "      repcount+=1\n",
        "      trial=pd.read_csv(path)\n",
        "      lengths[counter-1]=len(trial)\n",
        "      \n",
        "      # Replace counter with evaluated term\n",
        "      for r in range(0,len(trial)):\n",
        "        trial.iloc[r,0]=wordnum\n",
        "        \n",
        "      # Combine all trials\n",
        "      if path=='/content/2MyoASL/allmorning_10.csv':\n",
        "          matrix=trial\n",
        "          \n",
        "          # Create plot for EMG\n",
        "\n",
        "          # Create plot for accelerometer\n",
        "          plt.figure()\n",
        "          alx=plt.axes(projection='3d')\n",
        "          alx.plot3D(trial.loc[:, 'AXL'].values, trial.loc[:, 'AYL'].values, trial.loc[:, 'AZL'].values)\n",
        "          alx.set_title('Accelerometer on left arm')\n",
        "\n",
        "          plt.figure()\n",
        "          arx=plt.axes(projection='3d')\n",
        "          arx.plot3D(trial.loc[:, 'AXR'].values, trial.loc[:, 'AYR'].values, trial.loc[:, 'AZR'].values)\n",
        "          arx.set_title('Accelerometer on right arm')\n",
        "\n",
        "          # Create plot for gyroscope\n",
        "          plt.figure()\n",
        "          glx=plt.axes(projection='3d')\n",
        "          glx.plot3D(trial.loc[:, 'GXL'].values, trial.loc[:, 'GYL'].values, trial.loc[:, 'GZL'].values)\n",
        "          glx.set_title('Gyroscope on left arm')\n",
        "\n",
        "          plt.figure()\n",
        "          grx=plt.axes(projection='3d')\n",
        "          grx.plot3D(trial.loc[:, 'GXR'].values, trial.loc[:, 'GYR'].values, trial.loc[:, 'GZR'].values)\n",
        "          grx.set_title('Gyroscope on right arm')\n",
        "      else:\n",
        "          matrix=pd.concat([matrix, trial])\n",
        "\n",
        "          ###############################################\n",
        "          # Create plot for accelerometer\n",
        "          alx.plot3D(trial.loc[:, 'AXL'].values, trial.loc[:, 'AYL'].values, trial.loc[:, 'AZL'].values)\n",
        "          arx.plot3D(trial.loc[:, 'AXR'].values, trial.loc[:, 'AYR'].values, trial.loc[:, 'AZR'].values)\n",
        "          #plt.show()\n",
        "\n",
        "          # Create plot for gyroscope\n",
        "          glx.plot3D(trial.loc[:, 'GXL'].values, trial.loc[:, 'GYL'].values, trial.loc[:, 'GZL'].values)\n",
        "          grx.plot3D(trial.loc[:, 'GXR'].values, trial.loc[:, 'GYR'].values, trial.loc[:, 'GZR'].values)\n",
        "          ###############################################\n",
        "\n",
        "  reps[wordnum]=repcount\n",
        "plt.show()\n",
        "\"\"\" "
      ],
      "execution_count": 14,
      "outputs": [
        {
          "output_type": "execute_result",
          "data": {
            "application/vnd.google.colaboratory.intrinsic+json": {
              "type": "string"
            },
            "text/plain": [
              "\"\\n### Combine all files\\nwords=['allmorning', 'bird', 'blue', 'cantsleep', 'cat', 'coldrunnynose', 'continuouslyforanhour', 'cost', 'day', 'dollar', 'everymorning', 'everynight', 'gold', 'goodnight', 'happy', 'headache', 'home', 'horse', 'hot', 'hurt', 'itching', 'large', 'mom', 'monthly', 'notfeelgood', 'orange', 'pizza', 'please', 'shirt', 'soreness', 'swelling', 'takeliquidmedicine', 'thatsterrible', 'tired', 'upsetstomach', 'wash']\\nlengths=np.zeros(849, dtype=int)\\nreps=np.zeros(36,dtype=int)\\nwordnum=-1\\ncounter=0\\n\\nfor w in words:\\n  repcount=0\\n  wordnum+=1\\n\\n  for i in range (10, 120):\\n    path='/content/2MyoASL/' + w + '_' + str(i) + '.csv'\\n\\n    if os.path.exists(path)==True:\\n      counter+=1\\n      repcount+=1\\n      trial=pd.read_csv(path)\\n      lengths[counter-1]=len(trial)\\n      \\n      # Replace counter with evaluated term\\n      for r in range(0,len(trial)):\\n        trial.iloc[r,0]=wordnum\\n        \\n      # Combine all trials\\n      if path=='/content/2MyoASL/allmorning_10.csv':\\n          matrix=trial\\n          \\n          # Create plot for EMG\\n\\n          # Create plot for accelerometer\\n          plt.figure()\\n          alx=plt.axes(projection='3d')\\n          alx.plot3D(trial.loc[:, 'AXL'].values, trial.loc[:, 'AYL'].values, trial.loc[:, 'AZL'].values)\\n          alx.set_title('Accelerometer on left arm')\\n\\n          plt.figure()\\n          arx=plt.axes(projection='3d')\\n          arx.plot3D(trial.loc[:, 'AXR'].values, trial.loc[:, 'AYR'].values, trial.loc[:, 'AZR'].values)\\n          arx.set_title('Accelerometer on right arm')\\n\\n          # Create plot for gyroscope\\n          plt.figure()\\n          glx=plt.axes(projection='3d')\\n          glx.plot3D(trial.loc[:, 'GXL'].values, trial.loc[:, 'GYL'].values, trial.loc[:, 'GZL'].values)\\n          glx.set_title('Gyroscope on left arm')\\n\\n          plt.figure()\\n          grx=plt.axes(projection='3d')\\n          grx.plot3D(trial.loc[:, 'GXR'].values, trial.loc[:, 'GYR'].values, trial.loc[:, 'GZR'].values)\\n          grx.set_title('Gyroscope on right arm')\\n      else:\\n          matrix=pd.concat([matrix, trial])\\n\\n          ###############################################\\n          # Create plot for accelerometer\\n          alx.plot3D(trial.loc[:, 'AXL'].values, trial.loc[:, 'AYL'].values, trial.loc[:, 'AZL'].values)\\n          arx.plot3D(trial.loc[:, 'AXR'].values, trial.loc[:, 'AYR'].values, trial.loc[:, 'AZR'].values)\\n          #plt.show()\\n\\n          # Create plot for gyroscope\\n          glx.plot3D(trial.loc[:, 'GXL'].values, trial.loc[:, 'GYL'].values, trial.loc[:, 'GZL'].values)\\n          grx.plot3D(trial.loc[:, 'GXR'].values, trial.loc[:, 'GYR'].values, trial.loc[:, 'GZR'].values)\\n          ###############################################\\n\\n  reps[wordnum]=repcount\\nplt.show()\\n\""
            ]
          },
          "metadata": {
            "tags": []
          },
          "execution_count": 14
        }
      ]
    },
    {
      "cell_type": "code",
      "metadata": {
        "id": "knhJG10SD22U",
        "colab_type": "code",
        "colab": {
          "base_uri": "https://localhost:8080/",
          "height": 145
        },
        "outputId": "f32b5e50-d6ec-4951-bc90-a21b259a9706"
      },
      "source": [
        "\"\"\"\n",
        "# PCA for normmatrix\n",
        "pca = PCA(n_components=35)\n",
        "comp=pca.fit_transform(norm_matrix_eago)\n",
        "principal=pd.DataFrame(data=comp, columns=['PC 0', 'PC 1', 'PC 2', 'PC 3', 'PC 4', 'PC 5', 'PC 6', 'PC 7', 'PC 8', 'PC 9', 'PC 10', \n",
        "                                           'PC 11', 'PC 12', 'PC 13', 'PC 14', 'PC 16', 'PC 17', 'PC 18', 'PC 19', 'PC 20', \n",
        "                                           'PC 21', 'PC 22', 'PC 23', 'PC 24', 'PC 25', 'PC 26', 'PC 27', 'PC 28', 'PC 29', \n",
        "                                           'PC 30', 'PC 31', 'PC 32', 'PC 33', 'PC 34', 'PC35'])\n",
        "#principal.reset_index(drop=True, inplace=True)\n",
        "#norm_matrix_eago[['Counter']].reset_index(drop=True, inplace=True)\n",
        "norm_matrix_eago.reset_index(drop=True, inplace=True)\n",
        "m.reset_index(drop=True, inplace=True)\n",
        "#finaldf=pd.join([principal, norm_matrix_eago[['Counter']]], axis=1, ignore_index=True).reset_index()\n",
        "finaldf=principal.join(m[['Counter']],how='outer')\n",
        "finaldf=finaldf.drop(columns=['PC 0'])\n",
        "####finaldf=principal\n",
        "####print(m['Counter'])\n",
        "####finaldf['Word']=m['Counter']\n",
        "#finaldf=pd.concat([principal,norm_matrix_eago[['Counter']]], axis=1, ignore_index=True)\n",
        "\n",
        "print(\"Normalized matrix\")\n",
        "print(pca.explained_variance_ratio_)\n",
        "print(pca.singular_values_)\n",
        "plt.figure()\n",
        "plt.bar(fn,pca.explained_variance_ratio_)\n",
        "plt.show()\n",
        "plt.bar(fn,pca.singular_values_)\n",
        "plt.show()\n",
        "print(finaldf)\n",
        "#print(principal.join(norm_matrix_eago[['Counter']],how='inner'))\n",
        "\"\"\"\n",
        "\"\"\"\n",
        "# PCA for normalizedmatrix\n",
        "pca = PCA(n_components=34)\n",
        "pca.fit(normalized_matrix)\n",
        "print(\"Normalized features\")\n",
        "print(pca.explained_variance_ratio_)\n",
        "print(pca.singular_values_)\n",
        "plt.figure()\n",
        "plt.bar(fn[0:34],pca.explained_variance_ratio_)\n",
        "plt.show()\n",
        "plt.bar(fn[0:34],pca.singular_values_)\n",
        "plt.show()\n",
        "\n",
        "# PCA for standardizedmatrix\n",
        "pca = PCA(n_components=34)\n",
        "pca.fit(standardized_matrix)\n",
        "print(\"Standardized features\")\n",
        "print(pca.explained_variance_ratio_)\n",
        "print(pca.singular_values_)\n",
        "plt.figure()\n",
        "plt.bar(fn[0:34],pca.explained_variance_ratio_)\n",
        "plt.show()\n",
        "plt.bar(fn[0:34],pca.singular_values_)\n",
        "plt.show()\n",
        "\"\"\""
      ],
      "execution_count": 15,
      "outputs": [
        {
          "output_type": "execute_result",
          "data": {
            "application/vnd.google.colaboratory.intrinsic+json": {
              "type": "string"
            },
            "text/plain": [
              "'\\n# PCA for normalizedmatrix\\npca = PCA(n_components=34)\\npca.fit(normalized_matrix)\\nprint(\"Normalized features\")\\nprint(pca.explained_variance_ratio_)\\nprint(pca.singular_values_)\\nplt.figure()\\nplt.bar(fn[0:34],pca.explained_variance_ratio_)\\nplt.show()\\nplt.bar(fn[0:34],pca.singular_values_)\\nplt.show()\\n\\n# PCA for standardizedmatrix\\npca = PCA(n_components=34)\\npca.fit(standardized_matrix)\\nprint(\"Standardized features\")\\nprint(pca.explained_variance_ratio_)\\nprint(pca.singular_values_)\\nplt.figure()\\nplt.bar(fn[0:34],pca.explained_variance_ratio_)\\nplt.show()\\nplt.bar(fn[0:34],pca.singular_values_)\\nplt.show()\\n'"
            ]
          },
          "metadata": {
            "tags": []
          },
          "execution_count": 15
        }
      ]
    }
  ]
}