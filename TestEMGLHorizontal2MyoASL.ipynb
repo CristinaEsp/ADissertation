{
  "nbformat": 4,
  "nbformat_minor": 0,
  "metadata": {
    "colab": {
      "name": "TestEMGLHorizontal2MyoASL.ipynb",
      "provenance": [],
      "collapsed_sections": [],
      "authorship_tag": "ABX9TyMcnsWltl9ubbT7pP/bdfiB",
      "include_colab_link": true
    },
    "kernelspec": {
      "name": "python3",
      "display_name": "Python 3"
    }
  },
  "cells": [
    {
      "cell_type": "markdown",
      "metadata": {
        "id": "view-in-github",
        "colab_type": "text"
      },
      "source": [
        "<a href=\"https://colab.research.google.com/github/michelleaeh/Dissertation/blob/master/TestEMGLHorizontal2MyoASL.ipynb\" target=\"_parent\"><img src=\"https://colab.research.google.com/assets/colab-badge.svg\" alt=\"Open In Colab\"/></a>"
      ]
    },
    {
      "cell_type": "markdown",
      "metadata": {
        "id": "mH79ogCWrzbt",
        "colab_type": "text"
      },
      "source": [
        "**Myo armband dataset from https://data.mendeley.com/datasets/wgswcr8z24/2**\n",
        "\n",
        "\n",
        "**The dataset consits of .csv files collected from two Myo armbands. The format of the files are [word_name]_[id]. The ‘word_name’ is the English translation of the American Sign Language word used and the ‘id’ is a unique identifier. The .zip for each of the above links has sub-folders for each User.**\n",
        "\n",
        "**Each file has 50 columns. They represent a sub-sampled data collection from two Myo devices worn on left and right hands of the signer. The first column is the ‘Counter’ that goes from 1 to 50.**\n",
        "\n",
        "**The following columns are of the format: [Sensor][pod/direction][left/right]. For instance the EMG reading for the first EMG pod (out of 8) on the left hand would be called EMG0R and the accelerometer reading for the Z axis on the left hand would be called: AXL**\n",
        "\n",
        "**If you use this dataset please cite the following papers:**\n",
        "\n",
        "**@inproceedings{paudyal2016sceptre,\n",
        "title={Sceptre: a pervasive, non-invasive, and programmable gesture recognition technology},\n",
        "author={Paudyal, Prajwal and Banerjee, Ayan and Gupta, Sandeep KS},\n",
        "booktitle={Proceedings of the 21st International Conference on Intelligent User Interfaces},\n",
        "pages={282--293},\n",
        "year={2016},\n",
        "organization={ACM}\n",
        "}**\n",
        "\n",
        "**@inproceedings{paudyal2017dyfav,\n",
        "title={Dyfav: Dynamic feature selection and voting for real-time recognition of fingerspelled alphabet using wearables},\n",
        "author={Paudyal, Prajwal and Lee, Junghyo and Banerjee, Ayan and Gupta, Sandeep KS},\n",
        "booktitle={Proceedings of the 22nd International Conference on Intelligent User Interfaces},\n",
        "pages={457--467},\n",
        "year={2017},\n",
        "organization={ACM}\n",
        "}**"
      ]
    },
    {
      "cell_type": "markdown",
      "metadata": {
        "id": "FHNKWJHfhpMy",
        "colab_type": "text"
      },
      "source": [
        "**Frequency:**\n",
        "\n",
        "50Hz sampling rate\n",
        "\n",
        "**Words:**\n",
        "\n",
        "*36 total words*\n",
        "\n",
        "allmorning, bird, blue, cantsleep, cat, colrunnynose, continuouslyforanhour, cost, day, dollar, everymorning, everynight, gold, goodnight, happy, headache, home, horse, hot, hurt, itching, large, mom, monthly, notfeelgood, orange, pizza, please, shirt, soreness, swelling, takeliquidmedicine, thatsterrible, tired, upsetstomach, wash\n",
        "\n",
        "\n",
        "**Filenames:**\n",
        "\n",
        "*849 total files*\n",
        "\n",
        "(word)_(user#)(try#)\n",
        "\n",
        "\n",
        "**Columns of files:**\n",
        "\n",
        "Counter  (1 -> 50)\n",
        "\n",
        "EMG0L -> EMG7L  (EMG sensor readings)\n",
        "\n",
        "AXL, AYL, AZL  (accelerometer readings)\n",
        "\n",
        "GXL, GYL, GZL  (gyroscope readings)\n",
        "\n",
        "ORL, OPL, OYL  (magnetometer readings?)\n",
        "\n",
        "EMG0R -> EMG7R  (EMG sensor readings)\n",
        "\n",
        "AXR, AYR, AZR  (accelerometer readings)\n",
        "\n",
        "GXR, GYR, GZR  (gyroscope readings)\n",
        "\n",
        "ORR, OPR, OYR  (magnetometer readings?)\n",
        "\n",
        "features=['EMG0L', 'EMG1L', 'EMG2L', 'EMG3L', 'EMG4L', 'EMG5L', 'EMG6L', 'EMG7L', 'AXL', 'AYL', 'AZL', 'GXL', 'GYL', 'GZL', 'ORL', 'OPL', 'OYL', 'EMG0R', 'EMG1R', 'EMG2R', 'EMG3R', 'EMG4R', 'EMG5R', 'EMG6R', 'EMG7R', 'AXR', 'AYR', 'AZR', 'GXR', 'GYR', 'GZR', 'ORR', 'OPR', 'OYR']\n",
        "\n",
        "\n",
        "**Size of files:**\n",
        "\n",
        "All files are 50 rows x 35 columns except continuouslyforanhour_22.csv, headache_52.csv, home_61.csv, and mom_82.csv which are 101 rows x 35 columns\n"
      ]
    },
    {
      "cell_type": "markdown",
      "metadata": {
        "id": "lVqdAdxkr-U5",
        "colab_type": "text"
      },
      "source": [
        "**Steps:**\n",
        "\n",
        "1. Combine files\n",
        "2. Normalize or standardize matrix\n",
        "3. Apply Butterworth\n",
        "4. Apply PCA\n",
        "5. Input to SVM"
      ]
    },
    {
      "cell_type": "code",
      "metadata": {
        "id": "5TnTycFtrpHd",
        "colab_type": "code",
        "colab": {}
      },
      "source": [
        "import matplotlib.pyplot as plt\n",
        "import numpy as np\n",
        "import os.path\n",
        "import pandas as pd\n",
        "import scipy as sp\n",
        "import warnings\n",
        "\n",
        "from google.colab import files\n",
        "from mpl_toolkits import mplot3d\n",
        "from scipy import signal\n",
        "from scipy.io import loadmat\n",
        "from sklearn import metrics\n",
        "from sklearn.decomposition import PCA\n",
        "from sklearn.metrics import classification_report\n",
        "from sklearn.metrics import plot_confusion_matrix\n",
        "from sklearn.model_selection import train_test_split\n",
        "from sklearn.preprocessing import StandardScaler\n",
        "from sklearn.svm import SVC\n",
        "from zipfile import ZipFile\n",
        "\n",
        "# Import zip containing all files\n",
        "file_name = \"/content/2MyoASL.zip\"\n",
        "\n",
        "# Extract all files from zip\n",
        "with ZipFile(file_name, 'r') as zip:\n",
        "  zip.extractall()"
      ],
      "execution_count": 1,
      "outputs": []
    },
    {
      "cell_type": "code",
      "metadata": {
        "id": "vHsqsj2NRpEe",
        "colab_type": "code",
        "colab": {}
      },
      "source": [
        "# Generate matrices for all combinations of sensors (E=3, A=5, G=7, O=11)\n",
        "products=[3, 5, 7, 11, 15, 21, 33, 35, 55, 77, 105, 165, 231, 385, 1155]\n",
        "comb=['e', 'a', 'g', 'o', 'ea', 'eg', 'eo', 'ag', 'ao', 'go', 'eag', 'eao', 'ego', 'ago', 'eago']\n",
        "emg=['EMG0L', 'EMG1L', 'EMG2L', 'EMG3L', 'EMG4L', 'EMG5L', 'EMG6L', 'EMG7L', \n",
        "    'EMG0R', 'EMG1R', 'EMG2R', 'EMG3R', 'EMG4R', 'EMG5R', 'EMG6R', 'EMG7R']\n",
        "acc=['AXL', 'AYL', 'AZL', 'AXR', 'AYR', 'AZR']\n",
        "gyro=['GXL', 'GYL', 'GZL', 'GXR', 'GYR', 'GZR']\n",
        "ori=['ORL', 'OPL', 'OYL', 'ORR', 'OPR', 'OYR']\n",
        "\n",
        "# Initialization of counters\n",
        "words=['allmorning', 'bird', 'blue', 'cantsleep', 'cat', 'coldrunnynose', 'continuouslyforanhour', 'cost', 'day', \n",
        "       'dollar', 'everymorning', 'everynight', 'gold', 'goodnight', 'happy', 'headache', 'home', 'horse', 'hot', \n",
        "       'hurt', 'itching', 'large', 'mom', 'monthly', 'notfeelgood', 'orange', 'pizza', 'please', 'shirt', \n",
        "       'soreness', 'swelling', 'takeliquidmedicine', 'thatsterrible', 'tired', 'upsetstomach', 'wash']\n",
        "colnames=['EMG0L', 'EMG1L', 'EMG2L', 'EMG3L', 'EMG4L', 'EMG5L', 'EMG6L', 'EMG7L', 'AXL', 'AYL', 'AZL', 'GXL', 'GYL', 'GZL', 'ORL', 'OPL', 'OYL', \n",
        "          'EMG0R', 'EMG1R', 'EMG2R', 'EMG3R', 'EMG4R', 'EMG5R', 'EMG6R', 'EMG7R', 'AXR', 'AYR', 'AZR', 'GXR', 'GYR', 'GZR', 'ORR', 'OPR', 'OYR']\n",
        "lengths=np.zeros(849, dtype=int)\n",
        "reps=np.zeros(36,dtype=int)\n",
        "headers=np.empty(1701, dtype=object)\n",
        "features=np.zeros(15)\n",
        "target=np.zeros(15)\n",
        "matrix=np.zeros(1)\n",
        "\n",
        "fn=np.arange(1701)\n",
        "wordnum=-1\n",
        "counter=-1\n",
        "num=0\n",
        "n=0"
      ],
      "execution_count": 2,
      "outputs": []
    },
    {
      "cell_type": "code",
      "metadata": {
        "id": "MQFtofv7yG7G",
        "colab_type": "code",
        "colab": {
          "base_uri": "https://localhost:8080/",
          "height": 697
        },
        "outputId": "723943b9-2c89-4e53-81e8-05db588fda24"
      },
      "source": [
        "# Combine all files\n",
        "for w in words:\n",
        "  repcount=0\n",
        "  wordnum+=1\n",
        "\n",
        "  for i in range (10, 120):\n",
        "    path='/content/2MyoASL/' + w + '_' + str(i) + '.csv'\n",
        "\n",
        "    if os.path.exists(path)==True:\n",
        "      counter+=1\n",
        "      repcount+=1\n",
        "      trial=pd.read_csv(path)\n",
        "\n",
        "      trial.reset_index(drop=True)\n",
        "      \n",
        "      # Assign word number to one row\n",
        "      row=np.zeros(1)\n",
        "      for t in range(35):\n",
        "        if t==0:\n",
        "          row[0]=wordnum\n",
        "        else:\n",
        "          sensor=trial.iloc[0:50,t].values\n",
        "          sensor.reshape([1,50])\n",
        "          row=np.concatenate((row, sensor))\n",
        "      prev=row\n",
        "      \n",
        "      # Combine all trials\n",
        "      if counter==0:\n",
        "        matrix=prev\n",
        "      else:\n",
        "        matrix=np.concatenate([matrix,prev])\n",
        "\n",
        "# Create header name array\n",
        "headers[0]='Word'\n",
        "for c in colnames:\n",
        "  for t in range(50):\n",
        "    num+=1\n",
        "    headers[num]=c\n",
        "\n",
        "# Give format to final matrix \n",
        "matrix=matrix.reshape([849,1701])\n",
        "matrix=pd.DataFrame(matrix, columns=headers)\n",
        "matrix=matrix.iloc[0:37,0:401]\n",
        "print(matrix)"
      ],
      "execution_count": 3,
      "outputs": [
        {
          "output_type": "stream",
          "text": [
            "    Word  EMG0L  EMG0L  EMG0L  EMG0L  ...  EMG7L  EMG7L  EMG7L  EMG7L  EMG7L\n",
            "0    0.0    0.0    0.0   -3.0   -1.0  ...   -1.0   -6.0   -7.0    2.0    2.0\n",
            "1    0.0    0.0    0.0    4.0   -2.0  ...    1.0   -1.0   26.0  -11.0  -10.0\n",
            "2    0.0    0.0    0.0   -8.0   -1.0  ...   -4.0   -6.0    1.0   -3.0   -3.0\n",
            "3    0.0    0.0    0.0   -1.0  -19.0  ...   -9.0    9.0   -3.0    1.0    0.0\n",
            "4    0.0    0.0    0.0    1.0  -16.0  ...   -2.0    0.0    3.0   -8.0    0.0\n",
            "5    0.0    0.0    0.0   -2.0    0.0  ...    1.0    2.0   -4.0    1.0   -2.0\n",
            "6    0.0    0.0    0.0   -6.0   24.0  ...    0.0   -2.0   -4.0    4.0   -3.0\n",
            "7    0.0    0.0    0.0   -2.0    6.0  ...   15.0   -5.0    0.0    4.0  -10.0\n",
            "8    0.0    0.0    0.0   -6.0   -3.0  ...    0.0    7.0   -1.0   -1.0    5.0\n",
            "9    0.0    0.0    0.0  -22.0   -1.0  ...   -1.0    1.0   -3.0    0.0    0.0\n",
            "10   0.0    0.0    0.0   -2.0    0.0  ...   -1.0   -2.0   -1.0   -2.0    0.0\n",
            "11   0.0    0.0    0.0    4.0   -7.0  ...   -5.0   -5.0   -2.0   -3.0    0.0\n",
            "12   0.0    0.0    0.0  -10.0    2.0  ...   -7.0    2.0   -2.0    2.0   -5.0\n",
            "13   0.0    0.0    0.0    3.0   10.0  ...  -13.0    8.0   -3.0   -3.0   -1.0\n",
            "14   0.0    0.0    0.0   -8.0   -1.0  ...    0.0   -4.0   -1.0    3.0    1.0\n",
            "15   0.0    0.0    0.0   -2.0    3.0  ...   -3.0    0.0   -4.0    4.0    7.0\n",
            "16   0.0    0.0    0.0   -1.0    5.0  ...   -5.0  -30.0    0.0    0.0    9.0\n",
            "17   0.0    0.0    0.0   -5.0    0.0  ...    3.0   -2.0  -31.0   -9.0    1.0\n",
            "18   0.0    0.0    0.0    1.0    2.0  ...   -2.0   -4.0   -4.0  -19.0   -3.0\n",
            "19   1.0    0.0    0.0   -3.0   -2.0  ...   -2.0    0.0   -3.0   -1.0    1.0\n",
            "20   1.0    0.0    0.0   -1.0   -2.0  ...   -1.0   -1.0    0.0   -2.0   -3.0\n",
            "21   1.0    0.0    0.0   -1.0    1.0  ...    0.0   -2.0   -1.0    0.0   -2.0\n",
            "22   1.0    0.0    0.0    0.0   -1.0  ...   -2.0   -2.0    1.0   -2.0   -2.0\n",
            "23   1.0    0.0    0.0   -1.0   -1.0  ...   -3.0   -1.0   -2.0   -1.0   -1.0\n",
            "24   1.0    0.0    0.0    0.0   -2.0  ...    0.0    0.0   -2.0   -1.0   -1.0\n",
            "25   1.0    0.0    0.0   -1.0   -1.0  ...    0.0   -3.0   -2.0   -1.0    0.0\n",
            "26   1.0    0.0    0.0   -1.0   -1.0  ...    1.0   -2.0   -3.0   -2.0   -3.0\n",
            "27   1.0    0.0    0.0   -1.0    0.0  ...    0.0   -2.0   -3.0   -1.0   -2.0\n",
            "28   1.0    0.0    0.0    0.0   -1.0  ...   -3.0   -2.0    3.0   -1.0    0.0\n",
            "29   1.0    0.0    0.0    0.0   -1.0  ...   -1.0    1.0    0.0    1.0   -3.0\n",
            "30   1.0    0.0    0.0   -2.0    0.0  ...   -1.0   -1.0   -1.0   -5.0   -2.0\n",
            "31   1.0    0.0    0.0   10.0   13.0  ...   -2.0   -7.0    3.0    8.0   -2.0\n",
            "32   1.0    0.0    0.0  -25.0   29.0  ...   -2.0  -13.0  -10.0   -8.0    8.0\n",
            "33   1.0    0.0    0.0   -3.0    0.0  ...    0.0   -1.0   -3.0   -1.0   -2.0\n",
            "34   1.0    0.0    0.0   -2.0   -1.0  ...    0.0    0.0   -1.0   -1.0    1.0\n",
            "35   1.0    0.0    0.0    1.0    0.0  ...    2.0    5.0   -7.0   -7.0    7.0\n",
            "36   1.0    0.0    0.0   -2.0   -2.0  ...    2.0  -16.0    8.0    4.0   -3.0\n",
            "\n",
            "[37 rows x 401 columns]\n"
          ],
          "name": "stdout"
        }
      ]
    },
    {
      "cell_type": "code",
      "metadata": {
        "id": "cry7YARuOhoY",
        "colab_type": "code",
        "colab": {
          "base_uri": "https://localhost:8080/",
          "height": 697
        },
        "outputId": "68dcaa77-9fad-41bd-c75c-1d937b5910c5"
      },
      "source": [
        "attempt=matrix\n",
        "print(attempt)\n",
        "attempt.to_csv(path_or_buf='/content/attempt.csv')"
      ],
      "execution_count": 4,
      "outputs": [
        {
          "output_type": "stream",
          "text": [
            "    Word  EMG0L  EMG0L  EMG0L  EMG0L  ...  EMG7L  EMG7L  EMG7L  EMG7L  EMG7L\n",
            "0    0.0    0.0    0.0   -3.0   -1.0  ...   -1.0   -6.0   -7.0    2.0    2.0\n",
            "1    0.0    0.0    0.0    4.0   -2.0  ...    1.0   -1.0   26.0  -11.0  -10.0\n",
            "2    0.0    0.0    0.0   -8.0   -1.0  ...   -4.0   -6.0    1.0   -3.0   -3.0\n",
            "3    0.0    0.0    0.0   -1.0  -19.0  ...   -9.0    9.0   -3.0    1.0    0.0\n",
            "4    0.0    0.0    0.0    1.0  -16.0  ...   -2.0    0.0    3.0   -8.0    0.0\n",
            "5    0.0    0.0    0.0   -2.0    0.0  ...    1.0    2.0   -4.0    1.0   -2.0\n",
            "6    0.0    0.0    0.0   -6.0   24.0  ...    0.0   -2.0   -4.0    4.0   -3.0\n",
            "7    0.0    0.0    0.0   -2.0    6.0  ...   15.0   -5.0    0.0    4.0  -10.0\n",
            "8    0.0    0.0    0.0   -6.0   -3.0  ...    0.0    7.0   -1.0   -1.0    5.0\n",
            "9    0.0    0.0    0.0  -22.0   -1.0  ...   -1.0    1.0   -3.0    0.0    0.0\n",
            "10   0.0    0.0    0.0   -2.0    0.0  ...   -1.0   -2.0   -1.0   -2.0    0.0\n",
            "11   0.0    0.0    0.0    4.0   -7.0  ...   -5.0   -5.0   -2.0   -3.0    0.0\n",
            "12   0.0    0.0    0.0  -10.0    2.0  ...   -7.0    2.0   -2.0    2.0   -5.0\n",
            "13   0.0    0.0    0.0    3.0   10.0  ...  -13.0    8.0   -3.0   -3.0   -1.0\n",
            "14   0.0    0.0    0.0   -8.0   -1.0  ...    0.0   -4.0   -1.0    3.0    1.0\n",
            "15   0.0    0.0    0.0   -2.0    3.0  ...   -3.0    0.0   -4.0    4.0    7.0\n",
            "16   0.0    0.0    0.0   -1.0    5.0  ...   -5.0  -30.0    0.0    0.0    9.0\n",
            "17   0.0    0.0    0.0   -5.0    0.0  ...    3.0   -2.0  -31.0   -9.0    1.0\n",
            "18   0.0    0.0    0.0    1.0    2.0  ...   -2.0   -4.0   -4.0  -19.0   -3.0\n",
            "19   1.0    0.0    0.0   -3.0   -2.0  ...   -2.0    0.0   -3.0   -1.0    1.0\n",
            "20   1.0    0.0    0.0   -1.0   -2.0  ...   -1.0   -1.0    0.0   -2.0   -3.0\n",
            "21   1.0    0.0    0.0   -1.0    1.0  ...    0.0   -2.0   -1.0    0.0   -2.0\n",
            "22   1.0    0.0    0.0    0.0   -1.0  ...   -2.0   -2.0    1.0   -2.0   -2.0\n",
            "23   1.0    0.0    0.0   -1.0   -1.0  ...   -3.0   -1.0   -2.0   -1.0   -1.0\n",
            "24   1.0    0.0    0.0    0.0   -2.0  ...    0.0    0.0   -2.0   -1.0   -1.0\n",
            "25   1.0    0.0    0.0   -1.0   -1.0  ...    0.0   -3.0   -2.0   -1.0    0.0\n",
            "26   1.0    0.0    0.0   -1.0   -1.0  ...    1.0   -2.0   -3.0   -2.0   -3.0\n",
            "27   1.0    0.0    0.0   -1.0    0.0  ...    0.0   -2.0   -3.0   -1.0   -2.0\n",
            "28   1.0    0.0    0.0    0.0   -1.0  ...   -3.0   -2.0    3.0   -1.0    0.0\n",
            "29   1.0    0.0    0.0    0.0   -1.0  ...   -1.0    1.0    0.0    1.0   -3.0\n",
            "30   1.0    0.0    0.0   -2.0    0.0  ...   -1.0   -1.0   -1.0   -5.0   -2.0\n",
            "31   1.0    0.0    0.0   10.0   13.0  ...   -2.0   -7.0    3.0    8.0   -2.0\n",
            "32   1.0    0.0    0.0  -25.0   29.0  ...   -2.0  -13.0  -10.0   -8.0    8.0\n",
            "33   1.0    0.0    0.0   -3.0    0.0  ...    0.0   -1.0   -3.0   -1.0   -2.0\n",
            "34   1.0    0.0    0.0   -2.0   -1.0  ...    0.0    0.0   -1.0   -1.0    1.0\n",
            "35   1.0    0.0    0.0    1.0    0.0  ...    2.0    5.0   -7.0   -7.0    7.0\n",
            "36   1.0    0.0    0.0   -2.0   -2.0  ...    2.0  -16.0    8.0    4.0   -3.0\n",
            "\n",
            "[37 rows x 401 columns]\n"
          ],
          "name": "stdout"
        }
      ]
    },
    {
      "cell_type": "code",
      "metadata": {
        "id": "R7Ib41KW5f32",
        "colab_type": "code",
        "colab": {
          "base_uri": "https://localhost:8080/",
          "height": 697
        },
        "outputId": "8eaf745e-9c2c-4cb6-d1cd-c9d96f0ef137"
      },
      "source": [
        "# Eliminate unnecessary columns to create combinatory matrices\n",
        "for v in products:\n",
        "  m=matrix\n",
        "  \"\"\"\n",
        "  if v%3!=0:\n",
        "    m=m.drop(emg,1)\n",
        "  if v%5!=0:\n",
        "    m=m.drop(acc,1)\n",
        "  if v%7!=0:\n",
        "    m=m.drop(gyro,1)\n",
        "  if v%11!=0:\n",
        "    m=m.drop(ori,1)\n",
        "  \"\"\"\n",
        "  products[n]=m\n",
        "  exec(comb[n]+\"=products[n]\")\n",
        "  n+=1\n",
        "  \n",
        "  # Normalize and Standardize each of the 15 matrices\n",
        "  # Separate features from target values\n",
        "  x = m.iloc[:, m.columns!='Word'].values   # Features\n",
        " \n",
        "  ## Normalize features so that each column is between 0 and 1\n",
        "  norm_matrix=(m-m.min())/(m.max()-m.min())\n",
        "  exec(\"norm_matrix_\"+comb[n-1]+\"=pd.DataFrame(norm_matrix)\")\n",
        "  exec(\"norm_matrix_\"+comb[n-1]+\"=norm_matrix_\"+comb[n-1]+\".dropna(axis=1)\")\n",
        "\n",
        " # Standardize features with mean=0 and deviation=1\n",
        "  standardized_matrix=StandardScaler().fit_transform(x)\n",
        "  exec(\"standardized_matrix_\"+comb[n-1]+\"=pd.DataFrame(standardized_matrix)\")\n",
        "\"\"\"\n",
        "  # Save data frames as csv files\n",
        "  #matrix.to_csv(path_or_buf='/content/matrix_'+comb[n-1]+'.csv')\n",
        "  exec(\"norm_matrix_\"+comb[n-1]+\".to_csv(path_or_buf='/content/normmatrix_'+comb[n-1]+'.csv')\")\n",
        "#  exec(\"normalized_matrix_\"+comb[n-1]+\".to_csv(path_or_buf='/content/normalizedmatrix_'+comb[n-1]+'.csv')\")\n",
        "  exec(\"standardized_matrix_\"+comb[n-1]+\".to_csv(path_or_buf='/content/standardizedmatrix_'+comb[n-1]+'.csv')\")\n",
        "\"\"\"\n",
        "print(norm_matrix_e)"
      ],
      "execution_count": 5,
      "outputs": [
        {
          "output_type": "stream",
          "text": [
            "    Word     EMG0L     EMG0L     EMG0L  ...     EMG7L     EMG7L     EMG7L     EMG7L\n",
            "0    0.0  0.628571  0.375000  0.000000  ...  0.615385  0.421053  0.777778  0.631579\n",
            "1    0.0  0.828571  0.354167  0.357143  ...  0.743590  1.000000  0.296296  0.000000\n",
            "2    0.0  0.485714  0.375000  0.600000  ...  0.615385  0.561404  0.592593  0.368421\n",
            "3    0.0  0.685714  0.000000  0.457143  ...  1.000000  0.491228  0.740741  0.526316\n",
            "4    0.0  0.742857  0.062500  0.385714  ...  0.769231  0.596491  0.407407  0.526316\n",
            "5    0.0  0.657143  0.395833  0.414286  ...  0.820513  0.473684  0.740741  0.421053\n",
            "6    0.0  0.542857  0.895833  0.428571  ...  0.717949  0.473684  0.851852  0.368421\n",
            "7    0.0  0.657143  0.520833  0.428571  ...  0.641026  0.543860  0.851852  0.000000\n",
            "8    0.0  0.542857  0.333333  0.628571  ...  0.948718  0.526316  0.666667  0.789474\n",
            "9    0.0  0.085714  0.375000  0.414286  ...  0.794872  0.491228  0.703704  0.526316\n",
            "10   0.0  0.657143  0.395833  0.442857  ...  0.717949  0.526316  0.629630  0.526316\n",
            "11   0.0  0.828571  0.250000  0.514286  ...  0.641026  0.508772  0.592593  0.526316\n",
            "12   0.0  0.428571  0.437500  0.428571  ...  0.820513  0.508772  0.777778  0.263158\n",
            "13   0.0  0.800000  0.604167  0.371429  ...  0.974359  0.491228  0.592593  0.473684\n",
            "14   0.0  0.485714  0.375000  0.442857  ...  0.666667  0.526316  0.814815  0.578947\n",
            "15   0.0  0.657143  0.458333  0.385714  ...  0.769231  0.473684  0.851852  0.894737\n",
            "16   0.0  0.685714  0.500000  0.357143  ...  0.000000  0.543860  0.703704  1.000000\n",
            "17   0.0  0.571429  0.395833  0.528571  ...  0.717949  0.000000  0.370370  0.578947\n",
            "18   0.0  0.742857  0.437500  0.385714  ...  0.666667  0.473684  0.000000  0.368421\n",
            "19   1.0  0.628571  0.354167  0.442857  ...  0.769231  0.491228  0.666667  0.578947\n",
            "20   1.0  0.685714  0.354167  0.428571  ...  0.743590  0.543860  0.629630  0.368421\n",
            "21   1.0  0.685714  0.416667  0.442857  ...  0.717949  0.526316  0.703704  0.421053\n",
            "22   1.0  0.714286  0.375000  0.428571  ...  0.717949  0.561404  0.629630  0.421053\n",
            "23   1.0  0.685714  0.375000  0.428571  ...  0.743590  0.508772  0.666667  0.473684\n",
            "24   1.0  0.714286  0.354167  0.428571  ...  0.769231  0.508772  0.666667  0.473684\n",
            "25   1.0  0.685714  0.375000  0.414286  ...  0.692308  0.508772  0.666667  0.526316\n",
            "26   1.0  0.685714  0.375000  0.428571  ...  0.717949  0.491228  0.629630  0.368421\n",
            "27   1.0  0.685714  0.395833  0.428571  ...  0.717949  0.491228  0.666667  0.421053\n",
            "28   1.0  0.714286  0.375000  0.414286  ...  0.717949  0.596491  0.666667  0.526316\n",
            "29   1.0  0.714286  0.375000  0.414286  ...  0.794872  0.543860  0.740741  0.368421\n",
            "30   1.0  0.657143  0.395833  0.414286  ...  0.743590  0.526316  0.518519  0.421053\n",
            "31   1.0  1.000000  0.666667  1.000000  ...  0.589744  0.596491  1.000000  0.421053\n",
            "32   1.0  0.000000  1.000000  0.428571  ...  0.435897  0.368421  0.407407  0.947368\n",
            "33   1.0  0.628571  0.395833  0.442857  ...  0.743590  0.491228  0.666667  0.421053\n",
            "34   1.0  0.657143  0.375000  0.442857  ...  0.769231  0.526316  0.666667  0.578947\n",
            "35   1.0  0.742857  0.395833  0.442857  ...  0.897436  0.421053  0.444444  0.894737\n",
            "36   1.0  0.657143  0.354167  0.414286  ...  0.358974  0.684211  0.851852  0.368421\n",
            "\n",
            "[37 rows x 385 columns]\n"
          ],
          "name": "stdout"
        }
      ]
    },
    {
      "cell_type": "code",
      "metadata": {
        "id": "_IaWFWIUrT5i",
        "colab_type": "code",
        "colab": {
          "base_uri": "https://localhost:8080/",
          "height": 697
        },
        "outputId": "3741dfe9-0ca3-41b7-8bde-6662d7ae94a1"
      },
      "source": [
        "# Replace wordnum with word\n",
        "for r in range(37):\n",
        "  wn=int(1*norm_matrix_e.iloc[r,0])\n",
        "  norm_matrix_e.iloc[r,0]=words[wn]\n",
        "nmatrix=norm_matrix_e\n",
        "print(nmatrix)\n",
        "nmatrix.to_csv(path_or_buf='/content/nmatrix.csv')"
      ],
      "execution_count": 6,
      "outputs": [
        {
          "output_type": "stream",
          "text": [
            "          Word     EMG0L     EMG0L  ...     EMG7L     EMG7L     EMG7L\n",
            "0   allmorning  0.628571  0.375000  ...  0.421053  0.777778  0.631579\n",
            "1   allmorning  0.828571  0.354167  ...  1.000000  0.296296  0.000000\n",
            "2   allmorning  0.485714  0.375000  ...  0.561404  0.592593  0.368421\n",
            "3   allmorning  0.685714  0.000000  ...  0.491228  0.740741  0.526316\n",
            "4   allmorning  0.742857  0.062500  ...  0.596491  0.407407  0.526316\n",
            "5   allmorning  0.657143  0.395833  ...  0.473684  0.740741  0.421053\n",
            "6   allmorning  0.542857  0.895833  ...  0.473684  0.851852  0.368421\n",
            "7   allmorning  0.657143  0.520833  ...  0.543860  0.851852  0.000000\n",
            "8   allmorning  0.542857  0.333333  ...  0.526316  0.666667  0.789474\n",
            "9   allmorning  0.085714  0.375000  ...  0.491228  0.703704  0.526316\n",
            "10  allmorning  0.657143  0.395833  ...  0.526316  0.629630  0.526316\n",
            "11  allmorning  0.828571  0.250000  ...  0.508772  0.592593  0.526316\n",
            "12  allmorning  0.428571  0.437500  ...  0.508772  0.777778  0.263158\n",
            "13  allmorning  0.800000  0.604167  ...  0.491228  0.592593  0.473684\n",
            "14  allmorning  0.485714  0.375000  ...  0.526316  0.814815  0.578947\n",
            "15  allmorning  0.657143  0.458333  ...  0.473684  0.851852  0.894737\n",
            "16  allmorning  0.685714  0.500000  ...  0.543860  0.703704  1.000000\n",
            "17  allmorning  0.571429  0.395833  ...  0.000000  0.370370  0.578947\n",
            "18  allmorning  0.742857  0.437500  ...  0.473684  0.000000  0.368421\n",
            "19        bird  0.628571  0.354167  ...  0.491228  0.666667  0.578947\n",
            "20        bird  0.685714  0.354167  ...  0.543860  0.629630  0.368421\n",
            "21        bird  0.685714  0.416667  ...  0.526316  0.703704  0.421053\n",
            "22        bird  0.714286  0.375000  ...  0.561404  0.629630  0.421053\n",
            "23        bird  0.685714  0.375000  ...  0.508772  0.666667  0.473684\n",
            "24        bird  0.714286  0.354167  ...  0.508772  0.666667  0.473684\n",
            "25        bird  0.685714  0.375000  ...  0.508772  0.666667  0.526316\n",
            "26        bird  0.685714  0.375000  ...  0.491228  0.629630  0.368421\n",
            "27        bird  0.685714  0.395833  ...  0.491228  0.666667  0.421053\n",
            "28        bird  0.714286  0.375000  ...  0.596491  0.666667  0.526316\n",
            "29        bird  0.714286  0.375000  ...  0.543860  0.740741  0.368421\n",
            "30        bird  0.657143  0.395833  ...  0.526316  0.518519  0.421053\n",
            "31        bird  1.000000  0.666667  ...  0.596491  1.000000  0.421053\n",
            "32        bird  0.000000  1.000000  ...  0.368421  0.407407  0.947368\n",
            "33        bird  0.628571  0.395833  ...  0.491228  0.666667  0.421053\n",
            "34        bird  0.657143  0.375000  ...  0.526316  0.666667  0.578947\n",
            "35        bird  0.742857  0.395833  ...  0.421053  0.444444  0.894737\n",
            "36        bird  0.657143  0.354167  ...  0.684211  0.851852  0.368421\n",
            "\n",
            "[37 rows x 385 columns]\n"
          ],
          "name": "stdout"
        }
      ]
    },
    {
      "cell_type": "code",
      "metadata": {
        "id": "PJjGC_1Q5r03",
        "colab_type": "code",
        "colab": {
          "base_uri": "https://localhost:8080/",
          "height": 935
        },
        "outputId": "550f6ab5-6238-420b-e7a9-f257b73afb3b"
      },
      "source": [
        "\"\"\"\n",
        "# Butterworth\n",
        "#high = 20/(1000/2)\n",
        "#low = 450/(1000/2)\n",
        "high = 1/(50/2)\n",
        "low = 23/(50/2)\n",
        "\n",
        "b, a = sp.signal.butter(4, [high,low], btype='bandpass')\n",
        "\n",
        "for r in emg:\n",
        "  if r in norm_matrix_e:\n",
        "    norm_matrix_e[[r]]\n",
        "    # process EMG signal: filter EMG\n",
        "    emg_filtered = sp.signal.lfilter(b, a, norm_matrix_e[[r]])\n",
        "    norm_matrix_e[[r]]=emg_filtered\n",
        "    \"\"\"\n",
        "# Butterworth\n",
        "#high = 20/(1000/2)\n",
        "#low = 450/(1000/2)\n",
        "high = 1/(50/2)\n",
        "low = 23/(50/2)\n",
        "\n",
        "b, a = sp.signal.butter(4, [high,low], btype='bandpass')\n",
        "\n",
        "norm_matrix_e=norm_matrix_e.transpose()\n",
        "print(norm_matrix_e)\n",
        "for r in emg:\n",
        "  if r in norm_matrix_e:\n",
        "    norm_matrix_e[[r]]\n",
        "    # process EMG signal: filter EMG\n",
        "    emg_filtered = sp.signal.lfilter(b, a, norm_matrix_e[[r]])\n",
        "    norm_matrix_e[[r]]=emg_filtered\n",
        "norm_matrix_e=norm_matrix_e.transpose()\n",
        "print(norm_matrix_e)"
      ],
      "execution_count": 7,
      "outputs": [
        {
          "output_type": "stream",
          "text": [
            "               0           1           2   ...        34        35        36\n",
            "Word   allmorning  allmorning  allmorning  ...      bird      bird      bird\n",
            "EMG0L    0.628571    0.828571    0.485714  ...  0.657143  0.742857  0.657143\n",
            "EMG0L       0.375    0.354167       0.375  ...     0.375  0.395833  0.354167\n",
            "EMG0L           0    0.357143         0.6  ...  0.442857  0.442857  0.414286\n",
            "EMG0L      0.8125           0      0.4375  ...       0.5       0.5    0.5625\n",
            "...           ...         ...         ...  ...       ...       ...       ...\n",
            "EMG7L    0.428571         0.5    0.321429  ...  0.464286  0.535714  0.535714\n",
            "EMG7L    0.615385     0.74359    0.615385  ...  0.769231  0.897436  0.358974\n",
            "EMG7L    0.421053           1    0.561404  ...  0.526316  0.421053  0.684211\n",
            "EMG7L    0.777778    0.296296    0.592593  ...  0.666667  0.444444  0.851852\n",
            "EMG7L    0.631579           0    0.368421  ...  0.578947  0.894737  0.368421\n",
            "\n",
            "[385 rows x 37 columns]\n",
            "          Word      EMG0L     EMG0L  ...     EMG7L     EMG7L     EMG7L\n",
            "0   allmorning   0.628571     0.375  ...  0.421053  0.777778  0.631579\n",
            "1   allmorning   0.828571  0.354167  ...         1  0.296296         0\n",
            "2   allmorning   0.485714     0.375  ...  0.561404  0.592593  0.368421\n",
            "3   allmorning   0.685714         0  ...  0.491228  0.740741  0.526316\n",
            "4   allmorning   0.742857    0.0625  ...  0.596491  0.407407  0.526316\n",
            "5   allmorning   0.657143  0.395833  ...  0.473684  0.740741  0.421053\n",
            "6   allmorning   0.542857  0.895833  ...  0.473684  0.851852  0.368421\n",
            "7   allmorning   0.657143  0.520833  ...   0.54386  0.851852         0\n",
            "8   allmorning   0.542857  0.333333  ...  0.526316  0.666667  0.789474\n",
            "9   allmorning  0.0857143     0.375  ...  0.491228  0.703704  0.526316\n",
            "10  allmorning   0.657143  0.395833  ...  0.526316   0.62963  0.526316\n",
            "11  allmorning   0.828571      0.25  ...  0.508772  0.592593  0.526316\n",
            "12  allmorning   0.428571    0.4375  ...  0.508772  0.777778  0.263158\n",
            "13  allmorning        0.8  0.604167  ...  0.491228  0.592593  0.473684\n",
            "14  allmorning   0.485714     0.375  ...  0.526316  0.814815  0.578947\n",
            "15  allmorning   0.657143  0.458333  ...  0.473684  0.851852  0.894737\n",
            "16  allmorning   0.685714       0.5  ...   0.54386  0.703704         1\n",
            "17  allmorning   0.571429  0.395833  ...         0   0.37037  0.578947\n",
            "18  allmorning   0.742857    0.4375  ...  0.473684         0  0.368421\n",
            "19        bird   0.628571  0.354167  ...  0.491228  0.666667  0.578947\n",
            "20        bird   0.685714  0.354167  ...   0.54386   0.62963  0.368421\n",
            "21        bird   0.685714  0.416667  ...  0.526316  0.703704  0.421053\n",
            "22        bird   0.714286     0.375  ...  0.561404   0.62963  0.421053\n",
            "23        bird   0.685714     0.375  ...  0.508772  0.666667  0.473684\n",
            "24        bird   0.714286  0.354167  ...  0.508772  0.666667  0.473684\n",
            "25        bird   0.685714     0.375  ...  0.508772  0.666667  0.526316\n",
            "26        bird   0.685714     0.375  ...  0.491228   0.62963  0.368421\n",
            "27        bird   0.685714  0.395833  ...  0.491228  0.666667  0.421053\n",
            "28        bird   0.714286     0.375  ...  0.596491  0.666667  0.526316\n",
            "29        bird   0.714286     0.375  ...   0.54386  0.740741  0.368421\n",
            "30        bird   0.657143  0.395833  ...  0.526316  0.518519  0.421053\n",
            "31        bird          1  0.666667  ...  0.596491         1  0.421053\n",
            "32        bird          0         1  ...  0.368421  0.407407  0.947368\n",
            "33        bird   0.628571  0.395833  ...  0.491228  0.666667  0.421053\n",
            "34        bird   0.657143     0.375  ...  0.526316  0.666667  0.578947\n",
            "35        bird   0.742857  0.395833  ...  0.421053  0.444444  0.894737\n",
            "36        bird   0.657143  0.354167  ...  0.684211  0.851852  0.368421\n",
            "\n",
            "[37 rows x 385 columns]\n"
          ],
          "name": "stdout"
        }
      ]
    },
    {
      "cell_type": "code",
      "metadata": {
        "id": "oegUzb00nsA5",
        "colab_type": "code",
        "colab": {
          "base_uri": "https://localhost:8080/",
          "height": 697
        },
        "outputId": "fe801c14-608c-4a70-87a4-8c12b4229dac"
      },
      "source": [
        "buttermatrix=norm_matrix_e\n",
        "print(buttermatrix)"
      ],
      "execution_count": 8,
      "outputs": [
        {
          "output_type": "stream",
          "text": [
            "          Word      EMG0L     EMG0L  ...     EMG7L     EMG7L     EMG7L\n",
            "0   allmorning   0.628571     0.375  ...  0.421053  0.777778  0.631579\n",
            "1   allmorning   0.828571  0.354167  ...         1  0.296296         0\n",
            "2   allmorning   0.485714     0.375  ...  0.561404  0.592593  0.368421\n",
            "3   allmorning   0.685714         0  ...  0.491228  0.740741  0.526316\n",
            "4   allmorning   0.742857    0.0625  ...  0.596491  0.407407  0.526316\n",
            "5   allmorning   0.657143  0.395833  ...  0.473684  0.740741  0.421053\n",
            "6   allmorning   0.542857  0.895833  ...  0.473684  0.851852  0.368421\n",
            "7   allmorning   0.657143  0.520833  ...   0.54386  0.851852         0\n",
            "8   allmorning   0.542857  0.333333  ...  0.526316  0.666667  0.789474\n",
            "9   allmorning  0.0857143     0.375  ...  0.491228  0.703704  0.526316\n",
            "10  allmorning   0.657143  0.395833  ...  0.526316   0.62963  0.526316\n",
            "11  allmorning   0.828571      0.25  ...  0.508772  0.592593  0.526316\n",
            "12  allmorning   0.428571    0.4375  ...  0.508772  0.777778  0.263158\n",
            "13  allmorning        0.8  0.604167  ...  0.491228  0.592593  0.473684\n",
            "14  allmorning   0.485714     0.375  ...  0.526316  0.814815  0.578947\n",
            "15  allmorning   0.657143  0.458333  ...  0.473684  0.851852  0.894737\n",
            "16  allmorning   0.685714       0.5  ...   0.54386  0.703704         1\n",
            "17  allmorning   0.571429  0.395833  ...         0   0.37037  0.578947\n",
            "18  allmorning   0.742857    0.4375  ...  0.473684         0  0.368421\n",
            "19        bird   0.628571  0.354167  ...  0.491228  0.666667  0.578947\n",
            "20        bird   0.685714  0.354167  ...   0.54386   0.62963  0.368421\n",
            "21        bird   0.685714  0.416667  ...  0.526316  0.703704  0.421053\n",
            "22        bird   0.714286     0.375  ...  0.561404   0.62963  0.421053\n",
            "23        bird   0.685714     0.375  ...  0.508772  0.666667  0.473684\n",
            "24        bird   0.714286  0.354167  ...  0.508772  0.666667  0.473684\n",
            "25        bird   0.685714     0.375  ...  0.508772  0.666667  0.526316\n",
            "26        bird   0.685714     0.375  ...  0.491228   0.62963  0.368421\n",
            "27        bird   0.685714  0.395833  ...  0.491228  0.666667  0.421053\n",
            "28        bird   0.714286     0.375  ...  0.596491  0.666667  0.526316\n",
            "29        bird   0.714286     0.375  ...   0.54386  0.740741  0.368421\n",
            "30        bird   0.657143  0.395833  ...  0.526316  0.518519  0.421053\n",
            "31        bird          1  0.666667  ...  0.596491         1  0.421053\n",
            "32        bird          0         1  ...  0.368421  0.407407  0.947368\n",
            "33        bird   0.628571  0.395833  ...  0.491228  0.666667  0.421053\n",
            "34        bird   0.657143     0.375  ...  0.526316  0.666667  0.578947\n",
            "35        bird   0.742857  0.395833  ...  0.421053  0.444444  0.894737\n",
            "36        bird   0.657143  0.354167  ...  0.684211  0.851852  0.368421\n",
            "\n",
            "[37 rows x 385 columns]\n"
          ],
          "name": "stdout"
        }
      ]
    },
    {
      "cell_type": "markdown",
      "metadata": {
        "id": "I16C6HCyrFZr",
        "colab_type": "text"
      },
      "source": [
        "**Combinations of steps for classification**"
      ]
    },
    {
      "cell_type": "code",
      "metadata": {
        "id": "Yw8kyulNOsmp",
        "colab_type": "code",
        "colab": {
          "base_uri": "https://localhost:8080/",
          "height": 351
        },
        "outputId": "bd69a70e-54fb-4ef3-c6cd-10443942eda6"
      },
      "source": [
        "# Directly to SVM\n",
        "x = attempt.iloc[:, attempt.columns!='Word'].values   # Features\n",
        "y = attempt.loc[:,'Word'].values     # Target\n",
        "x_train, x_test, y_train, y_test = train_test_split(x, y, test_size=0.6)\n",
        "\n",
        "clf = SVC()\n",
        "clf.fit(x_train, y_train)\n",
        "print ('score', clf.score(x_test, y_test))\n",
        "y_pred=clf.predict(x_test)\n",
        "print ('pred label', y_pred)\n",
        "print('length',len(clf.predict(x_test)))\n",
        "\n",
        "# Confusion matrix\n",
        "plot_confusion_matrix(clf, x_test, y_test,\n",
        "                                 cmap=plt.cm.Blues)\n",
        "plt.figure(figsize=(50,50))\n",
        "plt.show()\n",
        "\n",
        "#print(classification_report(y_test, y_pred, target_names=words))\n",
        "directresults=classification_report(y_test, y_pred, target_names=words[0:2])"
      ],
      "execution_count": 9,
      "outputs": [
        {
          "output_type": "stream",
          "text": [
            "score 0.9130434782608695\n",
            "pred label [1. 0. 0. 1. 1. 1. 0. 0. 0. 0. 1. 1. 0. 0. 0. 1. 0. 0. 1. 1. 0. 0. 1.]\n",
            "length 23\n"
          ],
          "name": "stdout"
        },
        {
          "output_type": "display_data",
          "data": {
            "image/png": "[encoded data removed]",
            "text/plain": [
              "<Figure size 432x288 with 2 Axes>"
            ]
          },
          "metadata": {
            "tags": [],
            "needs_background": "light"
          }
        },
        {
          "output_type": "display_data",
          "data": {
            "text/plain": [
              "<Figure size 3600x3600 with 0 Axes>"
            ]
          },
          "metadata": {
            "tags": []
          }
        }
      ]
    },
    {
      "cell_type": "code",
      "metadata": {
        "id": "NgPwhYZvrn3i",
        "colab_type": "code",
        "colab": {
          "base_uri": "https://localhost:8080/",
          "height": 402
        },
        "outputId": "6f74c567-8407-45a9-a86e-ac8cd2de114b"
      },
      "source": [
        "# Normalized to SVM\n",
        "x = nmatrix.iloc[:, nmatrix.columns!='Word'].values   # Features\n",
        "y = nmatrix.loc[:,'Word'].values     # Target\n",
        "\n",
        "x_train, x_test, y_train, y_test = train_test_split(x, y, test_size=0.6)\n",
        "\n",
        "clf = SVC()\n",
        "clf.fit(x_train, y_train)\n",
        "print ('score', clf.score(x_test, y_test))\n",
        "y_pred=clf.predict(x_test)\n",
        "print ('pred label', y_pred)\n",
        "print('length',len(clf.predict(x_test)))\n",
        "\n",
        "# Confusion matrix\n",
        "plot_confusion_matrix(clf, x_test, y_test,\n",
        "                                 cmap=plt.cm.Blues)\n",
        "plt.figure(figsize=(50,50))\n",
        "plt.show()\n",
        "\n",
        "#print(classification_report(y_test, y_pred, target_names=words))\n",
        "normresults=classification_report(y_test, y_pred, target_names=words[0:2])"
      ],
      "execution_count": 10,
      "outputs": [
        {
          "output_type": "stream",
          "text": [
            "score 0.8695652173913043\n",
            "pred label ['allmorning' 'allmorning' 'allmorning' 'bird' 'allmorning' 'bird' 'bird'\n",
            " 'bird' 'bird' 'allmorning' 'allmorning' 'bird' 'bird' 'allmorning' 'bird'\n",
            " 'bird' 'allmorning' 'bird' 'allmorning' 'allmorning' 'allmorning'\n",
            " 'allmorning' 'bird']\n",
            "length 23\n"
          ],
          "name": "stdout"
        },
        {
          "output_type": "display_data",
          "data": {
            "image/png": "[encoded data removed]",
            "text/plain": [
              "<Figure size 432x288 with 2 Axes>"
            ]
          },
          "metadata": {
            "tags": [],
            "needs_background": "light"
          }
        },
        {
          "output_type": "display_data",
          "data": {
            "text/plain": [
              "<Figure size 3600x3600 with 0 Axes>"
            ]
          },
          "metadata": {
            "tags": []
          }
        }
      ]
    },
    {
      "cell_type": "code",
      "metadata": {
        "id": "3OL74iKMnWZB",
        "colab_type": "code",
        "colab": {
          "base_uri": "https://localhost:8080/",
          "height": 473
        },
        "outputId": "4c29b565-367d-474e-df25-99b5a4a36adf"
      },
      "source": [
        "# Normalized, Butterworth to SVM\n",
        "x = buttermatrix.iloc[:, buttermatrix.columns!='Word'].values   # Features\n",
        "y = buttermatrix.loc[:,'Word'].values     # Target\n",
        "\n",
        "x_train, x_test, y_train, y_test = train_test_split(x, y, test_size=0.6)\n",
        "\n",
        "clf = SVC()\n",
        "clf.fit(x_train, y_train)\n",
        "print ('score', clf.score(x_test, y_test))\n",
        "y_pred=clf.predict(x_test)\n",
        "print ('pred label', y_pred)\n",
        "print('length',len(clf.predict(x_test)))\n",
        "\n",
        "# Confusion matrix\n",
        "plot_confusion_matrix(clf, x_test, y_test,\n",
        "                                 cmap=plt.cm.Blues)\n",
        "plt.figure(figsize=(50,50))\n",
        "plt.show()\n",
        "\n",
        "#print(classification_report(y_test, y_pred, target_names=words))\n",
        "butterresults=classification_report(y_test, y_pred, target_names=words[0:2])"
      ],
      "execution_count": 11,
      "outputs": [
        {
          "output_type": "stream",
          "text": [
            "score 0.4782608695652174\n",
            "pred label ['allmorning' 'allmorning' 'allmorning' 'allmorning' 'allmorning'\n",
            " 'allmorning' 'allmorning' 'allmorning' 'allmorning' 'allmorning'\n",
            " 'allmorning' 'allmorning' 'allmorning' 'allmorning' 'allmorning'\n",
            " 'allmorning' 'allmorning' 'allmorning' 'allmorning' 'allmorning'\n",
            " 'allmorning' 'allmorning' 'allmorning']\n",
            "length 23\n"
          ],
          "name": "stdout"
        },
        {
          "output_type": "display_data",
          "data": {
            "image/png": "[encoded data removed]",
            "text/plain": [
              "<Figure size 432x288 with 2 Axes>"
            ]
          },
          "metadata": {
            "tags": [],
            "needs_background": "light"
          }
        },
        {
          "output_type": "display_data",
          "data": {
            "text/plain": [
              "<Figure size 3600x3600 with 0 Axes>"
            ]
          },
          "metadata": {
            "tags": []
          }
        },
        {
          "output_type": "stream",
          "text": [
            "/usr/local/lib/python3.6/dist-packages/sklearn/metrics/_classification.py:1272: UndefinedMetricWarning: Precision and F-score are ill-defined and being set to 0.0 in labels with no predicted samples. Use `zero_division` parameter to control this behavior.\n",
            "  _warn_prf(average, modifier, msg_start, len(result))\n"
          ],
          "name": "stderr"
        }
      ]
    },
    {
      "cell_type": "code",
      "metadata": {
        "id": "riv-kFwa9oMD",
        "colab_type": "code",
        "colab": {
          "base_uri": "https://localhost:8080/",
          "height": 1000
        },
        "outputId": "f5a1a512-365b-4e92-c809-012ef8125349"
      },
      "source": [
        "# PCA for norm_matrix\n",
        "x = norm_matrix_e.iloc[:, norm_matrix_e.columns!='Word'].values   # Features\n",
        "y = norm_matrix_e.loc[:,'Word'].values     # Target\n",
        "print(norm_matrix_e)\n",
        "print(x)\n",
        "print(y)\n",
        "\n",
        "x_train, x_test, y_train, y_test = train_test_split(x, y, test_size=0.6)\n",
        "\n",
        "pca = PCA(n_components=14)\n",
        "pca.fit(x_train)\n",
        "x_t_train = pca.transform(x_train)\n",
        "x_t_test = pca.transform(x_test)\n",
        "\n",
        "#### plot\n",
        "print(\"Normalized matrix\")\n",
        "print(pca.explained_variance_ratio_)\n",
        "print(pca.singular_values_)\n",
        "plt.figure()\n",
        "plt.bar(fn[:14],pca.explained_variance_ratio_)\n",
        "plt.show()\n",
        "plt.bar(fn[:14],pca.singular_values_)\n",
        "plt.show()"
      ],
      "execution_count": 12,
      "outputs": [
        {
          "output_type": "stream",
          "text": [
            "          Word      EMG0L     EMG0L  ...     EMG7L     EMG7L     EMG7L\n",
            "0   allmorning   0.628571     0.375  ...  0.421053  0.777778  0.631579\n",
            "1   allmorning   0.828571  0.354167  ...         1  0.296296         0\n",
            "2   allmorning   0.485714     0.375  ...  0.561404  0.592593  0.368421\n",
            "3   allmorning   0.685714         0  ...  0.491228  0.740741  0.526316\n",
            "4   allmorning   0.742857    0.0625  ...  0.596491  0.407407  0.526316\n",
            "5   allmorning   0.657143  0.395833  ...  0.473684  0.740741  0.421053\n",
            "6   allmorning   0.542857  0.895833  ...  0.473684  0.851852  0.368421\n",
            "7   allmorning   0.657143  0.520833  ...   0.54386  0.851852         0\n",
            "8   allmorning   0.542857  0.333333  ...  0.526316  0.666667  0.789474\n",
            "9   allmorning  0.0857143     0.375  ...  0.491228  0.703704  0.526316\n",
            "10  allmorning   0.657143  0.395833  ...  0.526316   0.62963  0.526316\n",
            "11  allmorning   0.828571      0.25  ...  0.508772  0.592593  0.526316\n",
            "12  allmorning   0.428571    0.4375  ...  0.508772  0.777778  0.263158\n",
            "13  allmorning        0.8  0.604167  ...  0.491228  0.592593  0.473684\n",
            "14  allmorning   0.485714     0.375  ...  0.526316  0.814815  0.578947\n",
            "15  allmorning   0.657143  0.458333  ...  0.473684  0.851852  0.894737\n",
            "16  allmorning   0.685714       0.5  ...   0.54386  0.703704         1\n",
            "17  allmorning   0.571429  0.395833  ...         0   0.37037  0.578947\n",
            "18  allmorning   0.742857    0.4375  ...  0.473684         0  0.368421\n",
            "19        bird   0.628571  0.354167  ...  0.491228  0.666667  0.578947\n",
            "20        bird   0.685714  0.354167  ...   0.54386   0.62963  0.368421\n",
            "21        bird   0.685714  0.416667  ...  0.526316  0.703704  0.421053\n",
            "22        bird   0.714286     0.375  ...  0.561404   0.62963  0.421053\n",
            "23        bird   0.685714     0.375  ...  0.508772  0.666667  0.473684\n",
            "24        bird   0.714286  0.354167  ...  0.508772  0.666667  0.473684\n",
            "25        bird   0.685714     0.375  ...  0.508772  0.666667  0.526316\n",
            "26        bird   0.685714     0.375  ...  0.491228   0.62963  0.368421\n",
            "27        bird   0.685714  0.395833  ...  0.491228  0.666667  0.421053\n",
            "28        bird   0.714286     0.375  ...  0.596491  0.666667  0.526316\n",
            "29        bird   0.714286     0.375  ...   0.54386  0.740741  0.368421\n",
            "30        bird   0.657143  0.395833  ...  0.526316  0.518519  0.421053\n",
            "31        bird          1  0.666667  ...  0.596491         1  0.421053\n",
            "32        bird          0         1  ...  0.368421  0.407407  0.947368\n",
            "33        bird   0.628571  0.395833  ...  0.491228  0.666667  0.421053\n",
            "34        bird   0.657143     0.375  ...  0.526316  0.666667  0.578947\n",
            "35        bird   0.742857  0.395833  ...  0.421053  0.444444  0.894737\n",
            "36        bird   0.657143  0.354167  ...  0.684211  0.851852  0.368421\n",
            "\n",
            "[37 rows x 385 columns]\n",
            "[[0.6285714285714286 0.375 0.0 ... 0.42105263157894735 0.7777777777777778\n",
            "  0.631578947368421]\n",
            " [0.8285714285714286 0.3541666666666667 0.35714285714285715 ... 1.0\n",
            "  0.2962962962962963 0.0]\n",
            " [0.4857142857142857 0.375 0.6 ... 0.5614035087719298 0.5925925925925926\n",
            "  0.3684210526315789]\n",
            " ...\n",
            " [0.6571428571428571 0.375 0.44285714285714284 ... 0.5263157894736842\n",
            "  0.6666666666666666 0.5789473684210527]\n",
            " [0.7428571428571429 0.3958333333333333 0.44285714285714284 ...\n",
            "  0.42105263157894735 0.4444444444444444 0.8947368421052632]\n",
            " [0.6571428571428571 0.3541666666666667 0.4142857142857143 ...\n",
            "  0.6842105263157895 0.8518518518518519 0.3684210526315789]]\n",
            "['allmorning' 'allmorning' 'allmorning' 'allmorning' 'allmorning'\n",
            " 'allmorning' 'allmorning' 'allmorning' 'allmorning' 'allmorning'\n",
            " 'allmorning' 'allmorning' 'allmorning' 'allmorning' 'allmorning'\n",
            " 'allmorning' 'allmorning' 'allmorning' 'allmorning' 'bird' 'bird' 'bird'\n",
            " 'bird' 'bird' 'bird' 'bird' 'bird' 'bird' 'bird' 'bird' 'bird' 'bird'\n",
            " 'bird' 'bird' 'bird' 'bird' 'bird']\n",
            "Normalized matrix\n",
            "[1.84965705e-01 1.71867936e-01 1.31283949e-01 1.26797512e-01\n",
            " 1.04220941e-01 7.31244085e-02 7.07670935e-02 6.31422487e-02\n",
            " 4.57752138e-02 1.87442354e-02 3.84443350e-03 3.30037783e-03\n",
            " 2.16594710e-03 1.71967567e-31]\n",
            "[4.92928420e+00 4.75155415e+00 4.15282918e+00 4.08125394e+00\n",
            " 3.70011948e+00 3.09934153e+00 3.04897548e+00 2.88003838e+00\n",
            " 2.45218620e+00 1.56917766e+00 7.10647822e-01 6.58445878e-01\n",
            " 5.33411256e-01 4.75293119e-15]\n"
          ],
          "name": "stdout"
        },
        {
          "output_type": "display_data",
          "data": {
            "image/png": "[encoded data removed]",
            "text/plain": [
              "<Figure size 432x288 with 1 Axes>"
            ]
          },
          "metadata": {
            "tags": [],
            "needs_background": "light"
          }
        },
        {
          "output_type": "display_data",
          "data": {
            "image/png": "[encoded data removed]",
            "text/plain": [
              "<Figure size 432x288 with 1 Axes>"
            ]
          },
          "metadata": {
            "tags": [],
            "needs_background": "light"
          }
        }
      ]
    },
    {
      "cell_type": "code",
      "metadata": {
        "id": "BSevZSPDFZjz",
        "colab_type": "code",
        "colab": {
          "base_uri": "https://localhost:8080/",
          "height": 439
        },
        "outputId": "fef5e828-0fe6-4b59-dc81-14c177347052"
      },
      "source": [
        "# Normalized, Butterworth, PCA to SVM\n",
        "clf = SVC()\n",
        "clf.fit(x_t_train, y_train)\n",
        "print ('score', clf.score(x_t_test, y_test))\n",
        "y_pred=clf.predict(x_t_test)\n",
        "print ('pred label', y_pred)\n",
        "print('length',len(clf.predict(x_t_test)))\n",
        "\n",
        "# Confusion matrix\n",
        "plot_confusion_matrix(clf, x_t_test, y_test,\n",
        "                                 cmap=plt.cm.Blues)\n",
        "plt.figure(figsize=(50,50))\n",
        "plt.show()\n",
        "\n",
        "#print(classification_report(y_test, y_pred, target_names=words))\n",
        "pcaresults=classification_report(y_test, y_pred, target_names=words[0:2])"
      ],
      "execution_count": 13,
      "outputs": [
        {
          "output_type": "stream",
          "text": [
            "score 0.4782608695652174\n",
            "pred label ['bird' 'bird' 'bird' 'bird' 'bird' 'bird' 'bird' 'bird' 'bird' 'bird'\n",
            " 'bird' 'bird' 'bird' 'bird' 'bird' 'bird' 'bird' 'bird' 'bird' 'bird'\n",
            " 'bird' 'bird' 'bird']\n",
            "length 23\n"
          ],
          "name": "stdout"
        },
        {
          "output_type": "display_data",
          "data": {
            "image/png": "[encoded data removed]",
            "text/plain": [
              "<Figure size 432x288 with 2 Axes>"
            ]
          },
          "metadata": {
            "tags": [],
            "needs_background": "light"
          }
        },
        {
          "output_type": "display_data",
          "data": {
            "text/plain": [
              "<Figure size 3600x3600 with 0 Axes>"
            ]
          },
          "metadata": {
            "tags": []
          }
        },
        {
          "output_type": "stream",
          "text": [
            "/usr/local/lib/python3.6/dist-packages/sklearn/metrics/_classification.py:1272: UndefinedMetricWarning: Precision and F-score are ill-defined and being set to 0.0 in labels with no predicted samples. Use `zero_division` parameter to control this behavior.\n",
            "  _warn_prf(average, modifier, msg_start, len(result))\n"
          ],
          "name": "stderr"
        }
      ]
    },
    {
      "cell_type": "markdown",
      "metadata": {
        "id": "oPsmjnnASPYX",
        "colab_type": "text"
      },
      "source": [
        "**Summary of results**\n"
      ]
    },
    {
      "cell_type": "code",
      "metadata": {
        "id": "NGL1j6iBSlGj",
        "colab_type": "code",
        "colab": {
          "base_uri": "https://localhost:8080/",
          "height": 697
        },
        "outputId": "42c68dc8-7160-443d-bf42-4880dc2adf5b"
      },
      "source": [
        "print('Directly:')\n",
        "print(directresults)\n",
        "print('Normalized:')\n",
        "print(normresults)\n",
        "print('Butterworth:')\n",
        "print(butterresults)\n",
        "print('PCA:')\n",
        "print(pcaresults)"
      ],
      "execution_count": 14,
      "outputs": [
        {
          "output_type": "stream",
          "text": [
            "Directly:\n",
            "              precision    recall  f1-score   support\n",
            "\n",
            "  allmorning       0.92      0.92      0.92        13\n",
            "        bird       0.90      0.90      0.90        10\n",
            "\n",
            "    accuracy                           0.91        23\n",
            "   macro avg       0.91      0.91      0.91        23\n",
            "weighted avg       0.91      0.91      0.91        23\n",
            "\n",
            "Normalized:\n",
            "              precision    recall  f1-score   support\n",
            "\n",
            "  allmorning       0.83      0.91      0.87        11\n",
            "        bird       0.91      0.83      0.87        12\n",
            "\n",
            "    accuracy                           0.87        23\n",
            "   macro avg       0.87      0.87      0.87        23\n",
            "weighted avg       0.87      0.87      0.87        23\n",
            "\n",
            "Butterworth:\n",
            "              precision    recall  f1-score   support\n",
            "\n",
            "  allmorning       0.48      1.00      0.65        11\n",
            "        bird       0.00      0.00      0.00        12\n",
            "\n",
            "    accuracy                           0.48        23\n",
            "   macro avg       0.24      0.50      0.32        23\n",
            "weighted avg       0.23      0.48      0.31        23\n",
            "\n",
            "PCA:\n",
            "              precision    recall  f1-score   support\n",
            "\n",
            "  allmorning       0.00      0.00      0.00        12\n",
            "        bird       0.48      1.00      0.65        11\n",
            "\n",
            "    accuracy                           0.48        23\n",
            "   macro avg       0.24      0.50      0.32        23\n",
            "weighted avg       0.23      0.48      0.31        23\n",
            "\n"
          ],
          "name": "stdout"
        }
      ]
    },
    {
      "cell_type": "markdown",
      "metadata": {
        "id": "h57zKLByfy2Y",
        "colab_type": "text"
      },
      "source": [
        "TODO:\n",
        "\n",
        "-check what happens when combining diff data sources\n",
        "\n",
        "-graph components\n",
        "\n",
        "find correlations\n",
        "\n",
        "-interpret pca results\n",
        "\n",
        "-try pca per individual/word\n",
        "\n",
        "-read dataset papers\n",
        "\n",
        "correlation component with word\n",
        "\n",
        "-try straight to svm\n",
        "\n",
        "-resend email\n",
        "\n",
        "check what is the data\n",
        "\n",
        "-merge timeseries word index\n",
        "\n",
        "see how stable each feature are\n",
        "\n",
        "standard deviation timeseries\n",
        "\n",
        "-try without filter\n",
        "\n",
        "multi-class classifier SVM\n",
        "\n",
        "**try with 2 words, only emg\n",
        "average per column\n",
        "test each step\n",
        "test svm with 2 matrices\n",
        "see if svm has access to test set \n",
        "maybe shifted per set \n",
        "\n"
      ]
    },
    {
      "cell_type": "markdown",
      "metadata": {
        "id": "ScbnguG8ONoC",
        "colab_type": "text"
      },
      "source": [
        "https://www.researchgate.net/publication/303707429_Combining_Smartphone_and_Smartwatch_Sensor_Data_in_Activity_Recognition_Approaches_an_Experimental_Evaluation"
      ]
    },
    {
      "cell_type": "markdown",
      "metadata": {
        "id": "Ay3NExQ59xrM",
        "colab_type": "text"
      },
      "source": [
        "References\n",
        "\n",
        "https://stackoverflow.com/questions/56449262/how-to-upload-folders-to-google-colab\n",
        "\n",
        "https://github.com/datarail/datarail/issues/39\n",
        "\n",
        "https://dbader.org/blog/python-check-if-file-exists\n",
        "\n",
        "https://datacarpentry.org/python-socialsci/11-joins/index.html\n",
        "\n",
        "https://stackoverflow.com/questions/26414913/normalize-columns-of-pandas-data-frame\n",
        "\n",
        "https://scikit-learn.org/stable/modules/generated/sklearn.decomposition.PCA.html\n",
        "\n",
        "https://towardsdatascience.com/pca-using-python-scikit-learn-e653f8989e60\n",
        "\n",
        "https://pandas.pydata.org/pandas-docs/stable/reference/api/pandas.DataFrame.to_csv.html\n",
        "\n",
        "https://www.tutorialspoint.com/matplotlib/matplotlib_bar_plot.htm\n",
        "\n",
        "https://docs.scipy.org/doc/scipy-0.14.0/reference/generated/scipy.signal.butter.html\n",
        "\n",
        "https://stackoverflow.com/questions/32194967/how-to-do-pca-and-svm-for-classification-in-python\n",
        "\n",
        "https://stackoverflow.com/questions/6822725/rolling-or-sliding-window-iterator\n",
        "\n",
        "https://scikit-learn.org/stable/modules/cross_validation.html\n",
        "\n",
        "https://stackoverflow.com/questions/47684606/merge-cells-with-pandas\n",
        "\n",
        "https://scientificallysound.org/2016/08/18/python-analysing-emg-signals-part-3/\n",
        "\n",
        "https://stackoverflow.com/questions/58374492/python-valueerror-the-length-of-the-input-vector-x-must-be-greater-than-padle\n",
        "\n",
        "https://pandas.pydata.org/pandas-docs/stable/reference/api/pandas.DataFrame.set_index.html\n",
        "\n",
        "https://scikit-learn.org/stable/auto_examples/model_selection/plot_confusion_matrix.html\n",
        "\n",
        "https://statinfer.com/204-4-2-calculating-sensitivity-and-specificity-in-python/\n",
        "\n",
        "https://www.datacamp.com/community/tutorials/pandas-multi-index\n",
        "\n",
        "https://www.geeksforgeeks.org/how-to-get-rows-index-names-in-pandas-dataframe/\n",
        "\n",
        "https://stackoverflow.com/questions/28140771/select-only-one-index-of-multiindex-dataframe\n",
        "\n",
        "https://www.educative.io/edpresso/how-to-create-a-confusion-matrix-in-python-using-scikit-learn\n",
        "\n",
        "https://scikit-learn.org/stable/modules/generated/sklearn.metrics.classification_report.html\n",
        "\n",
        "http://www.datasciencemadesimple.com/standard-deviation-function-python-pandas-row-column/\n",
        "\n",
        "https://stackoverflow.com/questions/39047915/concat-series-onto-dataframe-with-column-name\n"
      ]
    },
    {
      "cell_type": "code",
      "metadata": {
        "id": "V77MeC59AHdU",
        "colab_type": "code",
        "colab": {
          "base_uri": "https://localhost:8080/",
          "height": 191
        },
        "outputId": "82b5e3fd-01a8-4c66-c179-cbc9debe42cc"
      },
      "source": [
        "\"\"\"\n",
        "### Combine all files\n",
        "words=['allmorning', 'bird', 'blue', 'cantsleep', 'cat', 'coldrunnynose', 'continuouslyforanhour', 'cost', 'day', 'dollar', 'everymorning', 'everynight', 'gold', 'goodnight', 'happy', 'headache', 'home', 'horse', 'hot', 'hurt', 'itching', 'large', 'mom', 'monthly', 'notfeelgood', 'orange', 'pizza', 'please', 'shirt', 'soreness', 'swelling', 'takeliquidmedicine', 'thatsterrible', 'tired', 'upsetstomach', 'wash']\n",
        "lengths=np.zeros(849, dtype=int)\n",
        "reps=np.zeros(36,dtype=int)\n",
        "wordnum=-1\n",
        "counter=0\n",
        "\n",
        "for w in words:\n",
        "  repcount=0\n",
        "  wordnum+=1\n",
        "\n",
        "  for i in range (10, 120):\n",
        "    path='/content/2MyoASL/' + w + '_' + str(i) + '.csv'\n",
        "\n",
        "    if os.path.exists(path)==True:\n",
        "      counter+=1\n",
        "      repcount+=1\n",
        "      trial=pd.read_csv(path)\n",
        "      lengths[counter-1]=len(trial)\n",
        "      \n",
        "      # Replace counter with evaluated term\n",
        "      for r in range(0,len(trial)):\n",
        "        trial.iloc[r,0]=wordnum\n",
        "        \n",
        "      # Combine all trials\n",
        "      if path=='/content/2MyoASL/allmorning_10.csv':\n",
        "          matrix=trial\n",
        "          \n",
        "          # Create plot for EMG\n",
        "\n",
        "          # Create plot for accelerometer\n",
        "          plt.figure()\n",
        "          alx=plt.axes(projection='3d')\n",
        "          alx.plot3D(trial.loc[:, 'AXL'].values, trial.loc[:, 'AYL'].values, trial.loc[:, 'AZL'].values)\n",
        "          alx.set_title('Accelerometer on left arm')\n",
        "\n",
        "          plt.figure()\n",
        "          arx=plt.axes(projection='3d')\n",
        "          arx.plot3D(trial.loc[:, 'AXR'].values, trial.loc[:, 'AYR'].values, trial.loc[:, 'AZR'].values)\n",
        "          arx.set_title('Accelerometer on right arm')\n",
        "\n",
        "          # Create plot for gyroscope\n",
        "          plt.figure()\n",
        "          glx=plt.axes(projection='3d')\n",
        "          glx.plot3D(trial.loc[:, 'GXL'].values, trial.loc[:, 'GYL'].values, trial.loc[:, 'GZL'].values)\n",
        "          glx.set_title('Gyroscope on left arm')\n",
        "\n",
        "          plt.figure()\n",
        "          grx=plt.axes(projection='3d')\n",
        "          grx.plot3D(trial.loc[:, 'GXR'].values, trial.loc[:, 'GYR'].values, trial.loc[:, 'GZR'].values)\n",
        "          grx.set_title('Gyroscope on right arm')\n",
        "      else:\n",
        "          matrix=pd.concat([matrix, trial])\n",
        "\n",
        "          ###############################################\n",
        "          # Create plot for accelerometer\n",
        "          alx.plot3D(trial.loc[:, 'AXL'].values, trial.loc[:, 'AYL'].values, trial.loc[:, 'AZL'].values)\n",
        "          arx.plot3D(trial.loc[:, 'AXR'].values, trial.loc[:, 'AYR'].values, trial.loc[:, 'AZR'].values)\n",
        "          #plt.show()\n",
        "\n",
        "          # Create plot for gyroscope\n",
        "          glx.plot3D(trial.loc[:, 'GXL'].values, trial.loc[:, 'GYL'].values, trial.loc[:, 'GZL'].values)\n",
        "          grx.plot3D(trial.loc[:, 'GXR'].values, trial.loc[:, 'GYR'].values, trial.loc[:, 'GZR'].values)\n",
        "          ###############################################\n",
        "\n",
        "  reps[wordnum]=repcount\n",
        "plt.show()\n",
        "\"\"\" "
      ],
      "execution_count": 15,
      "outputs": [
        {
          "output_type": "execute_result",
          "data": {
            "application/vnd.google.colaboratory.intrinsic+json": {
              "type": "string"
            },
            "text/plain": [
              "\"\\n### Combine all files\\nwords=['allmorning', 'bird', 'blue', 'cantsleep', 'cat', 'coldrunnynose', 'continuouslyforanhour', 'cost', 'day', 'dollar', 'everymorning', 'everynight', 'gold', 'goodnight', 'happy', 'headache', 'home', 'horse', 'hot', 'hurt', 'itching', 'large', 'mom', 'monthly', 'notfeelgood', 'orange', 'pizza', 'please', 'shirt', 'soreness', 'swelling', 'takeliquidmedicine', 'thatsterrible', 'tired', 'upsetstomach', 'wash']\\nlengths=np.zeros(849, dtype=int)\\nreps=np.zeros(36,dtype=int)\\nwordnum=-1\\ncounter=0\\n\\nfor w in words:\\n  repcount=0\\n  wordnum+=1\\n\\n  for i in range (10, 120):\\n    path='/content/2MyoASL/' + w + '_' + str(i) + '.csv'\\n\\n    if os.path.exists(path)==True:\\n      counter+=1\\n      repcount+=1\\n      trial=pd.read_csv(path)\\n      lengths[counter-1]=len(trial)\\n      \\n      # Replace counter with evaluated term\\n      for r in range(0,len(trial)):\\n        trial.iloc[r,0]=wordnum\\n        \\n      # Combine all trials\\n      if path=='/content/2MyoASL/allmorning_10.csv':\\n          matrix=trial\\n          \\n          # Create plot for EMG\\n\\n          # Create plot for accelerometer\\n          plt.figure()\\n          alx=plt.axes(projection='3d')\\n          alx.plot3D(trial.loc[:, 'AXL'].values, trial.loc[:, 'AYL'].values, trial.loc[:, 'AZL'].values)\\n          alx.set_title('Accelerometer on left arm')\\n\\n          plt.figure()\\n          arx=plt.axes(projection='3d')\\n          arx.plot3D(trial.loc[:, 'AXR'].values, trial.loc[:, 'AYR'].values, trial.loc[:, 'AZR'].values)\\n          arx.set_title('Accelerometer on right arm')\\n\\n          # Create plot for gyroscope\\n          plt.figure()\\n          glx=plt.axes(projection='3d')\\n          glx.plot3D(trial.loc[:, 'GXL'].values, trial.loc[:, 'GYL'].values, trial.loc[:, 'GZL'].values)\\n          glx.set_title('Gyroscope on left arm')\\n\\n          plt.figure()\\n          grx=plt.axes(projection='3d')\\n          grx.plot3D(trial.loc[:, 'GXR'].values, trial.loc[:, 'GYR'].values, trial.loc[:, 'GZR'].values)\\n          grx.set_title('Gyroscope on right arm')\\n      else:\\n          matrix=pd.concat([matrix, trial])\\n\\n          ###############################################\\n          # Create plot for accelerometer\\n          alx.plot3D(trial.loc[:, 'AXL'].values, trial.loc[:, 'AYL'].values, trial.loc[:, 'AZL'].values)\\n          arx.plot3D(trial.loc[:, 'AXR'].values, trial.loc[:, 'AYR'].values, trial.loc[:, 'AZR'].values)\\n          #plt.show()\\n\\n          # Create plot for gyroscope\\n          glx.plot3D(trial.loc[:, 'GXL'].values, trial.loc[:, 'GYL'].values, trial.loc[:, 'GZL'].values)\\n          grx.plot3D(trial.loc[:, 'GXR'].values, trial.loc[:, 'GYR'].values, trial.loc[:, 'GZR'].values)\\n          ###############################################\\n\\n  reps[wordnum]=repcount\\nplt.show()\\n\""
            ]
          },
          "metadata": {
            "tags": []
          },
          "execution_count": 15
        }
      ]
    },
    {
      "cell_type": "code",
      "metadata": {
        "id": "knhJG10SD22U",
        "colab_type": "code",
        "colab": {
          "base_uri": "https://localhost:8080/",
          "height": 139
        },
        "outputId": "d1857ed6-ab02-48e0-be29-37c4ce5916fc"
      },
      "source": [
        "\"\"\"\n",
        "# PCA for normmatrix\n",
        "pca = PCA(n_components=35)\n",
        "comp=pca.fit_transform(norm_matrix_eago)\n",
        "principal=pd.DataFrame(data=comp, columns=['PC 0', 'PC 1', 'PC 2', 'PC 3', 'PC 4', 'PC 5', 'PC 6', 'PC 7', 'PC 8', 'PC 9', 'PC 10', \n",
        "                                           'PC 11', 'PC 12', 'PC 13', 'PC 14', 'PC 16', 'PC 17', 'PC 18', 'PC 19', 'PC 20', \n",
        "                                           'PC 21', 'PC 22', 'PC 23', 'PC 24', 'PC 25', 'PC 26', 'PC 27', 'PC 28', 'PC 29', \n",
        "                                           'PC 30', 'PC 31', 'PC 32', 'PC 33', 'PC 34', 'PC35'])\n",
        "#principal.reset_index(drop=True, inplace=True)\n",
        "#norm_matrix_eago[['Counter']].reset_index(drop=True, inplace=True)\n",
        "norm_matrix_eago.reset_index(drop=True, inplace=True)\n",
        "m.reset_index(drop=True, inplace=True)\n",
        "#finaldf=pd.join([principal, norm_matrix_eago[['Counter']]], axis=1, ignore_index=True).reset_index()\n",
        "finaldf=principal.join(m[['Counter']],how='outer')\n",
        "finaldf=finaldf.drop(columns=['PC 0'])\n",
        "####finaldf=principal\n",
        "####print(m['Counter'])\n",
        "####finaldf['Word']=m['Counter']\n",
        "#finaldf=pd.concat([principal,norm_matrix_eago[['Counter']]], axis=1, ignore_index=True)\n",
        "\n",
        "print(\"Normalized matrix\")\n",
        "print(pca.explained_variance_ratio_)\n",
        "print(pca.singular_values_)\n",
        "plt.figure()\n",
        "plt.bar(fn,pca.explained_variance_ratio_)\n",
        "plt.show()\n",
        "plt.bar(fn,pca.singular_values_)\n",
        "plt.show()\n",
        "print(finaldf)\n",
        "#print(principal.join(norm_matrix_eago[['Counter']],how='inner'))\n",
        "\"\"\"\n",
        "\"\"\"\n",
        "# PCA for normalizedmatrix\n",
        "pca = PCA(n_components=34)\n",
        "pca.fit(normalized_matrix)\n",
        "print(\"Normalized features\")\n",
        "print(pca.explained_variance_ratio_)\n",
        "print(pca.singular_values_)\n",
        "plt.figure()\n",
        "plt.bar(fn[0:34],pca.explained_variance_ratio_)\n",
        "plt.show()\n",
        "plt.bar(fn[0:34],pca.singular_values_)\n",
        "plt.show()\n",
        "\n",
        "# PCA for standardizedmatrix\n",
        "pca = PCA(n_components=34)\n",
        "pca.fit(standardized_matrix)\n",
        "print(\"Standardized features\")\n",
        "print(pca.explained_variance_ratio_)\n",
        "print(pca.singular_values_)\n",
        "plt.figure()\n",
        "plt.bar(fn[0:34],pca.explained_variance_ratio_)\n",
        "plt.show()\n",
        "plt.bar(fn[0:34],pca.singular_values_)\n",
        "plt.show()\n",
        "\"\"\""
      ],
      "execution_count": 16,
      "outputs": [
        {
          "output_type": "execute_result",
          "data": {
            "application/vnd.google.colaboratory.intrinsic+json": {
              "type": "string"
            },
            "text/plain": [
              "'\\n# PCA for normalizedmatrix\\npca = PCA(n_components=34)\\npca.fit(normalized_matrix)\\nprint(\"Normalized features\")\\nprint(pca.explained_variance_ratio_)\\nprint(pca.singular_values_)\\nplt.figure()\\nplt.bar(fn[0:34],pca.explained_variance_ratio_)\\nplt.show()\\nplt.bar(fn[0:34],pca.singular_values_)\\nplt.show()\\n\\n# PCA for standardizedmatrix\\npca = PCA(n_components=34)\\npca.fit(standardized_matrix)\\nprint(\"Standardized features\")\\nprint(pca.explained_variance_ratio_)\\nprint(pca.singular_values_)\\nplt.figure()\\nplt.bar(fn[0:34],pca.explained_variance_ratio_)\\nplt.show()\\nplt.bar(fn[0:34],pca.singular_values_)\\nplt.show()\\n'"
            ]
          },
          "metadata": {
            "tags": []
          },
          "execution_count": 16
        }
      ]
    }
  ]
}