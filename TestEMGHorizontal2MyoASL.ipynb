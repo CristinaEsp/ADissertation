{
  "nbformat": 4,
  "nbformat_minor": 0,
  "metadata": {
    "colab": {
      "name": "TestEMGHorizontal2MyoASL.ipynb",
      "provenance": [],
      "collapsed_sections": [],
      "authorship_tag": "ABX9TyO6xrHJeHdKPYYZLWM0A6V4",
      "include_colab_link": true
    },
    "kernelspec": {
      "name": "python3",
      "display_name": "Python 3"
    }
  },
  "cells": [
    {
      "cell_type": "markdown",
      "metadata": {
        "id": "view-in-github",
        "colab_type": "text"
      },
      "source": [
        "<a href=\"https://colab.research.google.com/github/michelleaeh/Dissertation/blob/master/TestEMGHorizontal2MyoASL.ipynb\" target=\"_parent\"><img src=\"https://colab.research.google.com/assets/colab-badge.svg\" alt=\"Open In Colab\"/></a>"
      ]
    },
    {
      "cell_type": "markdown",
      "metadata": {
        "id": "mH79ogCWrzbt",
        "colab_type": "text"
      },
      "source": [
        "**Myo armband dataset from https://data.mendeley.com/datasets/wgswcr8z24/2**\n",
        "\n",
        "\n",
        "**The dataset consits of .csv files collected from two Myo armbands. The format of the files are [word_name]_[id]. The ‘word_name’ is the English translation of the American Sign Language word used and the ‘id’ is a unique identifier. The .zip for each of the above links has sub-folders for each User.**\n",
        "\n",
        "**Each file has 50 columns. They represent a sub-sampled data collection from two Myo devices worn on left and right hands of the signer. The first column is the ‘Counter’ that goes from 1 to 50.**\n",
        "\n",
        "**The following columns are of the format: [Sensor][pod/direction][left/right]. For instance the EMG reading for the first EMG pod (out of 8) on the left hand would be called EMG0R and the accelerometer reading for the Z axis on the left hand would be called: AXL**\n",
        "\n",
        "**If you use this dataset please cite the following papers:**\n",
        "\n",
        "**@inproceedings{paudyal2016sceptre,\n",
        "title={Sceptre: a pervasive, non-invasive, and programmable gesture recognition technology},\n",
        "author={Paudyal, Prajwal and Banerjee, Ayan and Gupta, Sandeep KS},\n",
        "booktitle={Proceedings of the 21st International Conference on Intelligent User Interfaces},\n",
        "pages={282--293},\n",
        "year={2016},\n",
        "organization={ACM}\n",
        "}**\n",
        "\n",
        "**@inproceedings{paudyal2017dyfav,\n",
        "title={Dyfav: Dynamic feature selection and voting for real-time recognition of fingerspelled alphabet using wearables},\n",
        "author={Paudyal, Prajwal and Lee, Junghyo and Banerjee, Ayan and Gupta, Sandeep KS},\n",
        "booktitle={Proceedings of the 22nd International Conference on Intelligent User Interfaces},\n",
        "pages={457--467},\n",
        "year={2017},\n",
        "organization={ACM}\n",
        "}**"
      ]
    },
    {
      "cell_type": "markdown",
      "metadata": {
        "id": "FHNKWJHfhpMy",
        "colab_type": "text"
      },
      "source": [
        "**Frequency:**\n",
        "\n",
        "50Hz sampling rate\n",
        "\n",
        "**Words:**\n",
        "\n",
        "*36 total words*\n",
        "\n",
        "allmorning, bird, blue, cantsleep, cat, colrunnynose, continuouslyforanhour, cost, day, dollar, everymorning, everynight, gold, goodnight, happy, headache, home, horse, hot, hurt, itching, large, mom, monthly, notfeelgood, orange, pizza, please, shirt, soreness, swelling, takeliquidmedicine, thatsterrible, tired, upsetstomach, wash\n",
        "\n",
        "\n",
        "**Filenames:**\n",
        "\n",
        "*849 total files*\n",
        "\n",
        "(word)_(user#)(try#)\n",
        "\n",
        "\n",
        "**Columns of files:**\n",
        "\n",
        "Counter  (1 -> 50)\n",
        "\n",
        "EMG0L -> EMG7L  (EMG sensor readings)\n",
        "\n",
        "AXL, AYL, AZL  (accelerometer readings)\n",
        "\n",
        "GXL, GYL, GZL  (gyroscope readings)\n",
        "\n",
        "ORL, OPL, OYL  (magnetometer readings?)\n",
        "\n",
        "EMG0R -> EMG7R  (EMG sensor readings)\n",
        "\n",
        "AXR, AYR, AZR  (accelerometer readings)\n",
        "\n",
        "GXR, GYR, GZR  (gyroscope readings)\n",
        "\n",
        "ORR, OPR, OYR  (magnetometer readings?)\n",
        "\n",
        "features=['EMG0L', 'EMG1L', 'EMG2L', 'EMG3L', 'EMG4L', 'EMG5L', 'EMG6L', 'EMG7L', 'AXL', 'AYL', 'AZL', 'GXL', 'GYL', 'GZL', 'ORL', 'OPL', 'OYL', 'EMG0R', 'EMG1R', 'EMG2R', 'EMG3R', 'EMG4R', 'EMG5R', 'EMG6R', 'EMG7R', 'AXR', 'AYR', 'AZR', 'GXR', 'GYR', 'GZR', 'ORR', 'OPR', 'OYR']\n",
        "\n",
        "\n",
        "**Size of files:**\n",
        "\n",
        "All files are 50 rows x 35 columns except continuouslyforanhour_22.csv, headache_52.csv, home_61.csv, and mom_82.csv which are 101 rows x 35 columns\n"
      ]
    },
    {
      "cell_type": "markdown",
      "metadata": {
        "id": "lVqdAdxkr-U5",
        "colab_type": "text"
      },
      "source": [
        "**Steps:**\n",
        "\n",
        "1. Combine files\n",
        "2. Normalize or standardize matrix\n",
        "3. Apply Butterworth\n",
        "4. Apply PCA\n",
        "5. Input to SVM"
      ]
    },
    {
      "cell_type": "code",
      "metadata": {
        "id": "5TnTycFtrpHd",
        "colab_type": "code",
        "colab": {}
      },
      "source": [
        "import matplotlib.pyplot as plt\n",
        "import numpy as np\n",
        "import os.path\n",
        "import pandas as pd\n",
        "import scipy as sp\n",
        "import warnings\n",
        "\n",
        "from google.colab import files\n",
        "from mpl_toolkits import mplot3d\n",
        "from scipy import signal\n",
        "from scipy.io import loadmat\n",
        "from sklearn import metrics\n",
        "from sklearn.decomposition import PCA\n",
        "from sklearn.metrics import classification_report\n",
        "from sklearn.metrics import plot_confusion_matrix\n",
        "from sklearn.model_selection import train_test_split\n",
        "from sklearn.preprocessing import StandardScaler\n",
        "from sklearn.svm import SVC\n",
        "from zipfile import ZipFile\n",
        "\n",
        "# Import zip containing all files\n",
        "file_name = \"/content/2MyoASL.zip\"\n",
        "\n",
        "# Extract all files from zip\n",
        "with ZipFile(file_name, 'r') as zip:\n",
        "  zip.extractall()"
      ],
      "execution_count": 1,
      "outputs": []
    },
    {
      "cell_type": "code",
      "metadata": {
        "id": "vHsqsj2NRpEe",
        "colab_type": "code",
        "colab": {}
      },
      "source": [
        "# Generate matrices for all combinations of sensors (E=3, A=5, G=7, O=11)\n",
        "products=[3, 5, 7, 11, 15, 21, 33, 35, 55, 77, 105, 165, 231, 385, 1155]\n",
        "comb=['e', 'a', 'g', 'o', 'ea', 'eg', 'eo', 'ag', 'ao', 'go', 'eag', 'eao', 'ego', 'ago', 'eago']\n",
        "emg=['EMG0L', 'EMG1L', 'EMG2L', 'EMG3L', 'EMG4L', 'EMG5L', 'EMG6L', 'EMG7L', \n",
        "    'EMG0R', 'EMG1R', 'EMG2R', 'EMG3R', 'EMG4R', 'EMG5R', 'EMG6R', 'EMG7R']\n",
        "acc=['AXL', 'AYL', 'AZL', 'AXR', 'AYR', 'AZR']\n",
        "gyro=['GXL', 'GYL', 'GZL', 'GXR', 'GYR', 'GZR']\n",
        "ori=['ORL', 'OPL', 'OYL', 'ORR', 'OPR', 'OYR']\n",
        "\n",
        "# Initialization of counters\n",
        "words=['allmorning', 'bird', 'blue', 'cantsleep', 'cat', 'coldrunnynose', 'continuouslyforanhour', 'cost', 'day', \n",
        "       'dollar', 'everymorning', 'everynight', 'gold', 'goodnight', 'happy', 'headache', 'home', 'horse', 'hot', \n",
        "       'hurt', 'itching', 'large', 'mom', 'monthly', 'notfeelgood', 'orange', 'pizza', 'please', 'shirt', \n",
        "       'soreness', 'swelling', 'takeliquidmedicine', 'thatsterrible', 'tired', 'upsetstomach', 'wash']\n",
        "colnames=['EMG0L', 'EMG1L', 'EMG2L', 'EMG3L', 'EMG4L', 'EMG5L', 'EMG6L', 'EMG7L', 'AXL', 'AYL', 'AZL', 'GXL', 'GYL', 'GZL', 'ORL', 'OPL', 'OYL', \n",
        "          'EMG0R', 'EMG1R', 'EMG2R', 'EMG3R', 'EMG4R', 'EMG5R', 'EMG6R', 'EMG7R', 'AXR', 'AYR', 'AZR', 'GXR', 'GYR', 'GZR', 'ORR', 'OPR', 'OYR']\n",
        "lengths=np.zeros(849, dtype=int)\n",
        "reps=np.zeros(36,dtype=int)\n",
        "headers=np.empty(1701, dtype=object)\n",
        "features=np.zeros(15)\n",
        "target=np.zeros(15)\n",
        "matrix=np.zeros(1)\n",
        "\n",
        "fn=np.arange(1701)\n",
        "wordnum=-1\n",
        "counter=-1\n",
        "num=0\n",
        "n=0"
      ],
      "execution_count": 2,
      "outputs": []
    },
    {
      "cell_type": "code",
      "metadata": {
        "id": "MQFtofv7yG7G",
        "colab_type": "code",
        "colab": {
          "base_uri": "https://localhost:8080/",
          "height": 255
        },
        "outputId": "b228099a-2c45-4611-971c-d64b98452ffd"
      },
      "source": [
        "# Combine all files\n",
        "for w in words:\n",
        "  repcount=0\n",
        "  wordnum+=1\n",
        "\n",
        "  for i in range (10, 120):\n",
        "    path='/content/2MyoASL/' + w + '_' + str(i) + '.csv'\n",
        "\n",
        "    if os.path.exists(path)==True:\n",
        "      counter+=1\n",
        "      repcount+=1\n",
        "      trial=pd.read_csv(path)\n",
        "\n",
        "      trial.reset_index(drop=True)\n",
        "      \n",
        "      # Assign word number to one row\n",
        "      row=np.zeros(1)\n",
        "      for t in range(35):\n",
        "        if t==0:\n",
        "          row[0]=wordnum\n",
        "        else:\n",
        "          sensor=trial.iloc[0:50,t].values\n",
        "          sensor.reshape([1,50])\n",
        "          row=np.concatenate((row, sensor))\n",
        "      prev=row\n",
        "      \n",
        "      # Combine all trials\n",
        "      if counter==0:\n",
        "        matrix=prev\n",
        "      else:\n",
        "        matrix=np.concatenate([matrix,prev])\n",
        "\n",
        "# Create header name array\n",
        "headers[0]='Word'\n",
        "for c in colnames:\n",
        "  for t in range(50):\n",
        "    num+=1\n",
        "    headers[num]=c\n",
        "\n",
        "# Give format to final matrix \n",
        "matrix=matrix.reshape([849,1701])\n",
        "matrix=pd.DataFrame(matrix, columns=headers)\n",
        "matrix=matrix.iloc[:,0:51]\n",
        "print(matrix)"
      ],
      "execution_count": 3,
      "outputs": [
        {
          "output_type": "stream",
          "text": [
            "     Word  EMG0L  EMG0L  EMG0L  EMG0L  ...  EMG0L  EMG0L  EMG0L  EMG0L  EMG0L\n",
            "0     0.0    0.0    0.0   -3.0   -1.0  ...   -7.0   -4.0  -12.0    2.0    1.0\n",
            "1     0.0    0.0    0.0    4.0   -2.0  ...    1.0    0.0    0.0   -3.0  -11.0\n",
            "2     0.0    0.0    0.0   -8.0   -1.0  ...   -7.0   -4.0    9.0   -2.0   -1.0\n",
            "3     0.0    0.0    0.0   -1.0  -19.0  ...   -7.0   -2.0    8.0    0.0  -11.0\n",
            "4     0.0    0.0    0.0    1.0  -16.0  ...   -2.0   -4.0   -4.0    1.0   -2.0\n",
            "..    ...    ...    ...    ...    ...  ...    ...    ...    ...    ...    ...\n",
            "844  35.0    0.0    0.0   -2.0    0.0  ...   12.0    4.0   22.0   11.0  -23.0\n",
            "845  35.0    0.0    0.0    2.0   -8.0  ...    0.0    0.0    0.0   -2.0   -2.0\n",
            "846  35.0    0.0    0.0   -8.0   26.0  ...   10.0    7.0   -6.0   -1.0   -3.0\n",
            "847  35.0    0.0    0.0   -1.0   21.0  ...   -1.0   -1.0   -1.0   -1.0    0.0\n",
            "848  35.0    0.0    0.0    8.0  -19.0  ...   -2.0    0.0   -1.0    1.0   -1.0\n",
            "\n",
            "[849 rows x 51 columns]\n"
          ],
          "name": "stdout"
        }
      ]
    },
    {
      "cell_type": "code",
      "metadata": {
        "id": "cry7YARuOhoY",
        "colab_type": "code",
        "colab": {
          "base_uri": "https://localhost:8080/",
          "height": 255
        },
        "outputId": "40937013-8a09-4e1f-fda1-d196c0ed557d"
      },
      "source": [
        "attempt=matrix\n",
        "print(attempt)\n",
        "attempt.to_csv(path_or_buf='/content/attempt.csv')"
      ],
      "execution_count": 4,
      "outputs": [
        {
          "output_type": "stream",
          "text": [
            "     Word  EMG0L  EMG0L  EMG0L  EMG0L  ...  EMG0L  EMG0L  EMG0L  EMG0L  EMG0L\n",
            "0     0.0    0.0    0.0   -3.0   -1.0  ...   -7.0   -4.0  -12.0    2.0    1.0\n",
            "1     0.0    0.0    0.0    4.0   -2.0  ...    1.0    0.0    0.0   -3.0  -11.0\n",
            "2     0.0    0.0    0.0   -8.0   -1.0  ...   -7.0   -4.0    9.0   -2.0   -1.0\n",
            "3     0.0    0.0    0.0   -1.0  -19.0  ...   -7.0   -2.0    8.0    0.0  -11.0\n",
            "4     0.0    0.0    0.0    1.0  -16.0  ...   -2.0   -4.0   -4.0    1.0   -2.0\n",
            "..    ...    ...    ...    ...    ...  ...    ...    ...    ...    ...    ...\n",
            "844  35.0    0.0    0.0   -2.0    0.0  ...   12.0    4.0   22.0   11.0  -23.0\n",
            "845  35.0    0.0    0.0    2.0   -8.0  ...    0.0    0.0    0.0   -2.0   -2.0\n",
            "846  35.0    0.0    0.0   -8.0   26.0  ...   10.0    7.0   -6.0   -1.0   -3.0\n",
            "847  35.0    0.0    0.0   -1.0   21.0  ...   -1.0   -1.0   -1.0   -1.0    0.0\n",
            "848  35.0    0.0    0.0    8.0  -19.0  ...   -2.0    0.0   -1.0    1.0   -1.0\n",
            "\n",
            "[849 rows x 51 columns]\n"
          ],
          "name": "stdout"
        }
      ]
    },
    {
      "cell_type": "code",
      "metadata": {
        "id": "R7Ib41KW5f32",
        "colab_type": "code",
        "colab": {
          "base_uri": "https://localhost:8080/",
          "height": 255
        },
        "outputId": "8be999a4-fd5a-4f83-9ebe-27c54b149114"
      },
      "source": [
        "# Eliminate unnecessary columns to create combinatory matrices\n",
        "for v in products:\n",
        "  m=matrix\n",
        "  \"\"\"\n",
        "  if v%3!=0:\n",
        "    m=m.drop(emg,1)\n",
        "  if v%5!=0:\n",
        "    m=m.drop(acc,1)\n",
        "  if v%7!=0:\n",
        "    m=m.drop(gyro,1)\n",
        "  if v%11!=0:\n",
        "    m=m.drop(ori,1)\n",
        "  \"\"\"\n",
        "  products[n]=m\n",
        "  exec(comb[n]+\"=products[n]\")\n",
        "  n+=1\n",
        "  \n",
        "  # Normalize and Standardize each of the 15 matrices\n",
        "  # Separate features from target values\n",
        "  x = m.iloc[:, m.columns!='Word'].values   # Features\n",
        " \n",
        "  ## Normalize features so that each column is between 0 and 1\n",
        "  norm_matrix=(m-m.min())/(m.max()-m.min())\n",
        "  exec(\"norm_matrix_\"+comb[n-1]+\"=pd.DataFrame(norm_matrix)\")\n",
        "  exec(\"norm_matrix_\"+comb[n-1]+\"=norm_matrix_\"+comb[n-1]+\".dropna(axis=1)\")\n",
        "\n",
        " # Standardize features with mean=0 and deviation=1\n",
        "  standardized_matrix=StandardScaler().fit_transform(x)\n",
        "  exec(\"standardized_matrix_\"+comb[n-1]+\"=pd.DataFrame(standardized_matrix)\")\n",
        "\"\"\"\n",
        "  # Save data frames as csv files\n",
        "  #matrix.to_csv(path_or_buf='/content/matrix_'+comb[n-1]+'.csv')\n",
        "  exec(\"norm_matrix_\"+comb[n-1]+\".to_csv(path_or_buf='/content/normmatrix_'+comb[n-1]+'.csv')\")\n",
        "#  exec(\"normalized_matrix_\"+comb[n-1]+\".to_csv(path_or_buf='/content/normalizedmatrix_'+comb[n-1]+'.csv')\")\n",
        "  exec(\"standardized_matrix_\"+comb[n-1]+\".to_csv(path_or_buf='/content/standardizedmatrix_'+comb[n-1]+'.csv')\")\n",
        "\"\"\"\n",
        "print(norm_matrix_e)"
      ],
      "execution_count": 5,
      "outputs": [
        {
          "output_type": "stream",
          "text": [
            "     Word     EMG0L     EMG0L     EMG0L  ...     EMG0L     EMG0L     EMG0L  EMG0L\n",
            "0     0.0  0.321429  0.388889  0.673759  ...  0.505263  0.387597  0.522222  0.648\n",
            "1     0.0  0.321429  0.432099  0.666667  ...  0.547368  0.480620  0.466667  0.552\n",
            "2     0.0  0.321429  0.358025  0.673759  ...  0.505263  0.550388  0.477778  0.632\n",
            "3     0.0  0.321429  0.401235  0.546099  ...  0.526316  0.542636  0.500000  0.552\n",
            "4     0.0  0.321429  0.413580  0.567376  ...  0.505263  0.449612  0.511111  0.624\n",
            "..    ...       ...       ...       ...  ...       ...       ...       ...    ...\n",
            "844   1.0  0.321429  0.395062  0.680851  ...  0.589474  0.651163  0.622222  0.456\n",
            "845   1.0  0.321429  0.419753  0.624113  ...  0.547368  0.480620  0.477778  0.624\n",
            "846   1.0  0.321429  0.358025  0.865248  ...  0.621053  0.434109  0.488889  0.616\n",
            "847   1.0  0.321429  0.401235  0.829787  ...  0.536842  0.472868  0.488889  0.640\n",
            "848   1.0  0.321429  0.456790  0.546099  ...  0.547368  0.472868  0.511111  0.632\n",
            "\n",
            "[849 rows x 50 columns]\n"
          ],
          "name": "stdout"
        }
      ]
    },
    {
      "cell_type": "code",
      "metadata": {
        "id": "_IaWFWIUrT5i",
        "colab_type": "code",
        "colab": {
          "base_uri": "https://localhost:8080/",
          "height": 255
        },
        "outputId": "e737b449-26d8-4852-be46-8b96b73e4968"
      },
      "source": [
        "# Replace wordnum with word\n",
        "for r in range(849):\n",
        "  wn=int(35*norm_matrix_e.iloc[r,0])\n",
        "  norm_matrix_e.iloc[r,0]=words[wn]\n",
        "nmatrix=norm_matrix_e\n",
        "print(nmatrix)\n",
        "nmatrix.to_csv(path_or_buf='/content/nmatrix.csv')"
      ],
      "execution_count": 6,
      "outputs": [
        {
          "output_type": "stream",
          "text": [
            "           Word     EMG0L     EMG0L  ...     EMG0L     EMG0L  EMG0L\n",
            "0    allmorning  0.321429  0.388889  ...  0.387597  0.522222  0.648\n",
            "1    allmorning  0.321429  0.432099  ...  0.480620  0.466667  0.552\n",
            "2    allmorning  0.321429  0.358025  ...  0.550388  0.477778  0.632\n",
            "3    allmorning  0.321429  0.401235  ...  0.542636  0.500000  0.552\n",
            "4    allmorning  0.321429  0.413580  ...  0.449612  0.511111  0.624\n",
            "..          ...       ...       ...  ...       ...       ...    ...\n",
            "844        wash  0.321429  0.395062  ...  0.651163  0.622222  0.456\n",
            "845        wash  0.321429  0.419753  ...  0.480620  0.477778  0.624\n",
            "846        wash  0.321429  0.358025  ...  0.434109  0.488889  0.616\n",
            "847        wash  0.321429  0.401235  ...  0.472868  0.488889  0.640\n",
            "848        wash  0.321429  0.456790  ...  0.472868  0.511111  0.632\n",
            "\n",
            "[849 rows x 50 columns]\n"
          ],
          "name": "stdout"
        }
      ]
    },
    {
      "cell_type": "code",
      "metadata": {
        "id": "PJjGC_1Q5r03",
        "colab_type": "code",
        "colab": {
          "base_uri": "https://localhost:8080/",
          "height": 69
        },
        "outputId": "30aa2caf-e07f-466f-dfd0-c4a7f953af38"
      },
      "source": [
        "\"\"\"\n",
        "# Butterworth\n",
        "#high = 20/(1000/2)\n",
        "#low = 450/(1000/2)\n",
        "high = 1/(50/2)\n",
        "low = 23/(50/2)\n",
        "\n",
        "b, a = sp.signal.butter(4, [high,low], btype='bandpass')\n",
        "\n",
        "for r in emg:\n",
        "  if r in norm_matrix_e:\n",
        "    norm_matrix_e[[r]]\n",
        "    # process EMG signal: filter EMG\n",
        "    emg_filtered = sp.signal.lfilter(b, a, norm_matrix_e[[r]])\n",
        "    norm_matrix_e[[r]]=emg_filtered\n",
        "    \"\"\""
      ],
      "execution_count": 7,
      "outputs": [
        {
          "output_type": "execute_result",
          "data": {
            "application/vnd.google.colaboratory.intrinsic+json": {
              "type": "string"
            },
            "text/plain": [
              "\"\\n# Butterworth\\n#high = 20/(1000/2)\\n#low = 450/(1000/2)\\nhigh = 1/(50/2)\\nlow = 23/(50/2)\\n\\nb, a = sp.signal.butter(4, [high,low], btype='bandpass')\\n\\nfor r in emg:\\n  if r in norm_matrix_e:\\n    norm_matrix_e[[r]]\\n    # process EMG signal: filter EMG\\n    emg_filtered = sp.signal.lfilter(b, a, norm_matrix_e[[r]])\\n    norm_matrix_e[[r]]=emg_filtered\\n    \""
            ]
          },
          "metadata": {
            "tags": []
          },
          "execution_count": 7
        }
      ]
    },
    {
      "cell_type": "code",
      "metadata": {
        "id": "oegUzb00nsA5",
        "colab_type": "code",
        "colab": {
          "base_uri": "https://localhost:8080/",
          "height": 255
        },
        "outputId": "d18eec33-07e5-43e2-a98a-30dbe4e16c7c"
      },
      "source": [
        "buttermatrix=norm_matrix_e\n",
        "print(buttermatrix)"
      ],
      "execution_count": 8,
      "outputs": [
        {
          "output_type": "stream",
          "text": [
            "           Word     EMG0L     EMG0L  ...     EMG0L     EMG0L  EMG0L\n",
            "0    allmorning  0.321429  0.388889  ...  0.387597  0.522222  0.648\n",
            "1    allmorning  0.321429  0.432099  ...  0.480620  0.466667  0.552\n",
            "2    allmorning  0.321429  0.358025  ...  0.550388  0.477778  0.632\n",
            "3    allmorning  0.321429  0.401235  ...  0.542636  0.500000  0.552\n",
            "4    allmorning  0.321429  0.413580  ...  0.449612  0.511111  0.624\n",
            "..          ...       ...       ...  ...       ...       ...    ...\n",
            "844        wash  0.321429  0.395062  ...  0.651163  0.622222  0.456\n",
            "845        wash  0.321429  0.419753  ...  0.480620  0.477778  0.624\n",
            "846        wash  0.321429  0.358025  ...  0.434109  0.488889  0.616\n",
            "847        wash  0.321429  0.401235  ...  0.472868  0.488889  0.640\n",
            "848        wash  0.321429  0.456790  ...  0.472868  0.511111  0.632\n",
            "\n",
            "[849 rows x 50 columns]\n"
          ],
          "name": "stdout"
        }
      ]
    },
    {
      "cell_type": "markdown",
      "metadata": {
        "id": "I16C6HCyrFZr",
        "colab_type": "text"
      },
      "source": [
        "**Combinations of steps for classification**"
      ]
    },
    {
      "cell_type": "code",
      "metadata": {
        "id": "Yw8kyulNOsmp",
        "colab_type": "code",
        "colab": {
          "base_uri": "https://localhost:8080/",
          "height": 881
        },
        "outputId": "664f3660-c2f1-496c-95d2-ac5347c52845"
      },
      "source": [
        "# Directly to SVM\n",
        "x = attempt.iloc[:, attempt.columns!='Word'].values   # Features\n",
        "y = attempt.loc[:,'Word'].values     # Target\n",
        "x_train, x_test, y_train, y_test = train_test_split(x, y, test_size=0.6)\n",
        "\n",
        "clf = SVC()\n",
        "clf.fit(x_train, y_train)\n",
        "print ('score', clf.score(x_test, y_test))\n",
        "y_pred=clf.predict(x_test)\n",
        "print ('pred label', y_pred)\n",
        "print('length',len(clf.predict(x_test)))\n",
        "\n",
        "# Confusion matrix\n",
        "plot_confusion_matrix(clf, x_test, y_test,\n",
        "                                 cmap=plt.cm.Blues)\n",
        "plt.figure(figsize=(50,50))\n",
        "plt.show()\n",
        "\n",
        "#print(classification_report(y_test, y_pred, target_names=words))\n",
        "directresults=classification_report(y_test, y_pred, target_names=words)"
      ],
      "execution_count": 9,
      "outputs": [
        {
          "output_type": "stream",
          "text": [
            "score 0.047058823529411764\n",
            "pred label [18. 18. 18. 18. 18. 21. 21. 21. 18. 13. 14. 21. 21. 18. 21. 21. 18. 18.\n",
            " 21. 18. 18. 18. 18. 18. 21. 18. 18. 18. 21.  2. 18. 18. 18. 21. 13. 14.\n",
            " 13. 21. 18. 18. 18. 18. 18. 18. 21. 21. 18. 21. 18. 18. 18. 18. 18. 18.\n",
            "  2. 18. 18. 21. 18. 21. 18. 21. 18. 21.  2. 14. 18. 18. 18. 18. 18. 18.\n",
            " 18. 21. 13. 21. 18. 21. 18. 18. 18. 18. 21. 18. 18. 21. 18. 21. 18. 21.\n",
            " 18. 18. 13. 21. 21. 18. 18. 18. 21. 18. 18. 21. 21. 21. 18. 18. 18. 18.\n",
            " 18. 18. 18. 21. 18. 18. 21. 21. 18. 18. 18. 18. 18. 18. 18. 18. 18. 13.\n",
            " 21. 13. 18. 18. 18. 18. 18. 18. 21. 18. 18. 13. 18. 18. 18. 21. 21. 13.\n",
            " 18. 13. 18. 21. 13. 18. 18. 18.  2. 18. 18. 18. 18. 18. 21.  2. 18. 18.\n",
            " 21.  2. 18. 18. 18. 18. 21. 21. 18. 18. 18. 18. 18. 18. 21. 21. 18. 18.\n",
            " 21.  7. 18. 21. 18. 21. 18. 13. 18. 18. 13. 21. 21. 18. 21. 18. 18. 18.\n",
            " 21. 21. 13. 21. 18. 21. 18. 21. 21. 18. 18. 21. 18. 21. 18. 21. 21. 18.\n",
            " 18. 18. 18. 21. 21. 18. 18. 18. 18. 21. 21. 13. 21. 21. 13. 18. 21. 13.\n",
            " 18. 18. 18. 18. 18. 18. 21. 21. 21.  6. 21. 21. 18. 21. 18. 18. 21. 18.\n",
            " 21. 18. 18. 13. 21. 18. 18.  2. 18. 21. 18. 18. 18. 18. 18. 18. 21. 18.\n",
            " 21. 18. 21. 21. 18. 18. 21. 18. 18. 21. 18. 18. 21. 21. 21. 18. 21. 18.\n",
            " 21. 18. 18. 18. 18. 21. 18. 18. 13. 21. 18. 21. 18. 21. 21. 18. 21. 13.\n",
            " 18. 18. 18. 21. 18.  7. 21. 18. 18. 18. 18. 18. 18. 18. 18. 18. 21. 21.\n",
            " 18. 18. 18.  2. 18. 21. 18. 18. 18. 18. 21. 21. 21. 18. 21. 13. 21. 18.\n",
            " 18. 18. 21. 18. 18. 18. 21. 18. 18. 21. 18. 18. 18. 18. 21.  2.  2. 21.\n",
            " 21. 18. 21. 18. 18. 21. 18. 18. 18.  2. 18. 18. 18. 13. 21. 21. 18.  2.\n",
            " 18. 13. 18. 21. 18. 18. 21. 21. 21. 18. 21. 18. 21. 18. 18.  2. 21. 18.\n",
            " 18. 18. 13. 18. 18. 18. 18. 18. 21. 18. 13. 18. 18. 14. 18. 21. 18. 18.\n",
            " 21. 18. 18. 18. 13. 13. 18. 21. 21. 18. 18. 18. 21. 18. 21. 18. 21. 18.\n",
            "  2. 13. 18. 18.  2. 18. 18. 18. 18. 13. 21. 18. 21. 18. 21. 21. 21. 18.\n",
            " 18. 21. 18. 21. 18. 21. 18. 18. 21. 18. 18. 18. 21. 18. 13. 18. 18. 18.\n",
            " 18. 18. 18. 18. 18. 21. 18. 18. 18. 18.  2. 18. 21. 18. 18. 21. 13. 18.\n",
            " 18. 18. 18. 18. 13. 18. 21. 13. 21. 18. 18. 18. 21. 21. 21. 18. 18. 18.\n",
            " 21. 18. 21. 18. 18. 18.]\n",
            "length 510\n"
          ],
          "name": "stdout"
        },
        {
          "output_type": "display_data",
          "data": {
            "image/png": "[encoded data removed]",
            "text/plain": [
              "<Figure size 432x288 with 2 Axes>"
            ]
          },
          "metadata": {
            "tags": [],
            "needs_background": "light"
          }
        },
        {
          "output_type": "display_data",
          "data": {
            "text/plain": [
              "<Figure size 3600x3600 with 0 Axes>"
            ]
          },
          "metadata": {
            "tags": []
          }
        },
        {
          "output_type": "stream",
          "text": [
            "/usr/local/lib/python3.6/dist-packages/sklearn/metrics/_classification.py:1272: UndefinedMetricWarning: Precision and F-score are ill-defined and being set to 0.0 in labels with no predicted samples. Use `zero_division` parameter to control this behavior.\n",
            "  _warn_prf(average, modifier, msg_start, len(result))\n"
          ],
          "name": "stderr"
        }
      ]
    },
    {
      "cell_type": "code",
      "metadata": {
        "id": "NgPwhYZvrn3i",
        "colab_type": "code",
        "colab": {
          "base_uri": "https://localhost:8080/",
          "height": 1000
        },
        "outputId": "cb7097c6-0b9d-4102-f83e-60c145fe632a"
      },
      "source": [
        "# Normalized to SVM\n",
        "x = nmatrix.iloc[:, nmatrix.columns!='Word'].values   # Features\n",
        "y = nmatrix.loc[:,'Word'].values     # Target\n",
        "\n",
        "x_train, x_test, y_train, y_test = train_test_split(x, y, test_size=0.6)\n",
        "\n",
        "clf = SVC()\n",
        "clf.fit(x_train, y_train)\n",
        "print ('score', clf.score(x_test, y_test))\n",
        "y_pred=clf.predict(x_test)\n",
        "print ('pred label', y_pred)\n",
        "print('length',len(clf.predict(x_test)))\n",
        "\n",
        "# Confusion matrix\n",
        "plot_confusion_matrix(clf, x_test, y_test,\n",
        "                                 cmap=plt.cm.Blues)\n",
        "plt.figure(figsize=(50,50))\n",
        "plt.show()\n",
        "\n",
        "#print(classification_report(y_test, y_pred, target_names=words))\n",
        "normresults=classification_report(y_test, y_pred, target_names=words)"
      ],
      "execution_count": 10,
      "outputs": [
        {
          "output_type": "stream",
          "text": [
            "score 0.03725490196078431\n",
            "pred label ['blue' 'cost' 'blue' 'blue' 'blue' 'blue' 'blue' 'blue' 'blue' 'blue'\n",
            " 'blue' 'blue' 'cost' 'cost' 'blue' 'cost' 'blue' 'blue' 'blue' 'blue'\n",
            " 'blue' 'blue' 'blue' 'blue' 'blue' 'blue' 'blue' 'blue' 'cost' 'blue'\n",
            " 'blue' 'cost' 'blue' 'blue' 'blue' 'blue' 'blue' 'blue' 'blue' 'blue'\n",
            " 'blue' 'blue' 'blue' 'cost' 'cost' 'blue' 'blue' 'blue' 'blue' 'blue'\n",
            " 'blue' 'blue' 'blue' 'blue' 'blue' 'cost' 'blue' 'blue' 'blue' 'blue'\n",
            " 'blue' 'blue' 'blue' 'blue' 'blue' 'blue' 'blue' 'blue' 'blue' 'blue'\n",
            " 'blue' 'blue' 'blue' 'blue' 'blue' 'blue' 'blue' 'blue' 'blue'\n",
            " 'takeliquidmedicine' 'blue' 'blue' 'blue' 'blue' 'blue' 'blue' 'blue'\n",
            " 'blue' 'blue' 'blue' 'blue' 'blue' 'blue' 'blue' 'blue' 'cost' 'cost'\n",
            " 'blue' 'blue' 'blue' 'blue' 'blue' 'blue' 'blue' 'blue' 'wash' 'cost'\n",
            " 'blue' 'blue' 'blue' 'blue' 'blue' 'blue' 'blue' 'blue' 'blue' 'blue'\n",
            " 'blue' 'blue' 'cost' 'blue' 'blue' 'blue' 'blue' 'blue' 'cost' 'blue'\n",
            " 'blue' 'blue' 'blue' 'blue' 'blue' 'blue' 'blue' 'blue' 'blue' 'blue'\n",
            " 'blue' 'blue' 'blue' 'cost' 'blue' 'blue' 'cost' 'blue' 'blue' 'blue'\n",
            " 'blue' 'blue' 'blue' 'cost' 'blue' 'blue' 'blue' 'blue' 'cost' 'cost'\n",
            " 'blue' 'blue' 'blue' 'blue' 'cost' 'blue' 'blue' 'blue' 'cost' 'blue'\n",
            " 'blue' 'blue' 'blue' 'blue' 'blue' 'blue' 'blue' 'blue' 'blue' 'blue'\n",
            " 'blue' 'blue' 'blue' 'blue' 'blue' 'blue' 'blue' 'blue' 'blue' 'blue'\n",
            " 'blue' 'blue' 'blue' 'cost' 'blue' 'blue' 'blue' 'blue' 'blue' 'blue'\n",
            " 'blue' 'blue' 'blue' 'blue' 'cost' 'cost' 'blue' 'blue' 'blue' 'blue'\n",
            " 'cost' 'blue' 'blue' 'cost' 'blue' 'blue' 'blue' 'blue' 'blue' 'blue'\n",
            " 'blue' 'blue' 'cost' 'blue' 'blue' 'blue' 'blue' 'blue' 'blue' 'cost'\n",
            " 'blue' 'blue' 'blue' 'blue' 'blue' 'blue' 'blue' 'blue' 'blue' 'blue'\n",
            " 'blue' 'takeliquidmedicine' 'blue' 'blue' 'blue' 'blue' 'blue' 'blue'\n",
            " 'blue' 'blue' 'cost' 'blue' 'blue' 'blue' 'blue' 'blue' 'blue' 'blue'\n",
            " 'blue' 'cost' 'blue' 'cost' 'blue' 'blue' 'blue' 'blue' 'blue' 'cost'\n",
            " 'blue' 'cost' 'blue' 'blue' 'blue' 'blue' 'blue' 'blue' 'blue' 'blue'\n",
            " 'blue' 'blue' 'cost' 'blue' 'blue' 'blue' 'blue' 'blue' 'blue' 'blue'\n",
            " 'blue' 'blue' 'blue' 'blue' 'blue' 'blue' 'blue' 'blue' 'blue' 'blue'\n",
            " 'blue' 'blue' 'blue' 'blue' 'blue' 'blue' 'blue' 'blue' 'blue' 'blue'\n",
            " 'blue' 'blue' 'blue' 'blue' 'blue' 'blue' 'blue' 'blue' 'blue' 'blue'\n",
            " 'blue' 'blue' 'blue' 'blue' 'blue' 'cost' 'blue' 'blue' 'blue' 'cost'\n",
            " 'blue' 'cost' 'blue' 'blue' 'blue' 'blue' 'cost' 'blue' 'blue' 'blue'\n",
            " 'blue' 'blue' 'blue' 'blue' 'blue' 'blue' 'blue' 'blue' 'blue' 'blue'\n",
            " 'blue' 'cost' 'blue' 'takeliquidmedicine' 'blue' 'happy' 'blue' 'cost'\n",
            " 'blue' 'blue' 'blue' 'blue' 'cost' 'blue' 'blue' 'blue' 'blue' 'blue'\n",
            " 'blue' 'blue' 'cost' 'blue' 'blue' 'blue' 'blue' 'blue' 'blue' 'blue'\n",
            " 'blue' 'blue' 'blue' 'blue' 'blue' 'blue' 'blue' 'cost' 'blue' 'blue'\n",
            " 'blue' 'blue' 'blue' 'blue' 'blue' 'blue' 'blue' 'blue' 'blue' 'blue'\n",
            " 'blue' 'blue' 'blue' 'blue' 'blue' 'cost' 'blue' 'blue' 'blue' 'blue'\n",
            " 'blue' 'blue' 'blue' 'blue' 'blue' 'blue' 'cost' 'blue' 'blue' 'blue'\n",
            " 'blue' 'blue' 'blue' 'blue' 'blue' 'blue' 'blue' 'blue' 'blue' 'cost'\n",
            " 'blue' 'blue' 'blue' 'blue' 'blue' 'blue' 'blue' 'blue' 'blue' 'blue'\n",
            " 'blue' 'blue' 'blue' 'cost' 'blue' 'takeliquidmedicine' 'blue' 'blue'\n",
            " 'blue' 'blue' 'blue' 'blue' 'cost' 'blue' 'blue' 'blue' 'blue' 'blue'\n",
            " 'blue' 'blue' 'blue' 'blue' 'blue' 'blue' 'blue' 'cost' 'blue' 'blue'\n",
            " 'blue' 'blue' 'blue' 'blue' 'happy' 'blue' 'blue' 'blue' 'blue' 'blue'\n",
            " 'blue' 'cost' 'blue' 'cost' 'cost' 'blue' 'blue' 'blue' 'cost' 'blue'\n",
            " 'blue' 'blue' 'blue' 'blue' 'blue' 'blue' 'blue' 'blue' 'blue' 'blue'\n",
            " 'takeliquidmedicine' 'blue' 'wash' 'blue' 'blue' 'blue' 'blue' 'blue'\n",
            " 'blue' 'blue' 'cost' 'blue' 'blue' 'blue' 'blue' 'takeliquidmedicine'\n",
            " 'blue' 'blue' 'blue']\n",
            "length 510\n"
          ],
          "name": "stdout"
        },
        {
          "output_type": "display_data",
          "data": {
            "image/png": "[encoded data removed]",
            "text/plain": [
              "<Figure size 432x288 with 2 Axes>"
            ]
          },
          "metadata": {
            "tags": [],
            "needs_background": "light"
          }
        },
        {
          "output_type": "display_data",
          "data": {
            "text/plain": [
              "<Figure size 3600x3600 with 0 Axes>"
            ]
          },
          "metadata": {
            "tags": []
          }
        },
        {
          "output_type": "stream",
          "text": [
            "/usr/local/lib/python3.6/dist-packages/sklearn/metrics/_classification.py:1272: UndefinedMetricWarning: Precision and F-score are ill-defined and being set to 0.0 in labels with no predicted samples. Use `zero_division` parameter to control this behavior.\n",
            "  _warn_prf(average, modifier, msg_start, len(result))\n"
          ],
          "name": "stderr"
        }
      ]
    },
    {
      "cell_type": "code",
      "metadata": {
        "id": "3OL74iKMnWZB",
        "colab_type": "code",
        "colab": {
          "base_uri": "https://localhost:8080/",
          "height": 1000
        },
        "outputId": "4babffa3-3c55-455a-9139-77c9cd8a5d8d"
      },
      "source": [
        "# Normalized, Butterworth to SVM\n",
        "x = buttermatrix.iloc[:, buttermatrix.columns!='Word'].values   # Features\n",
        "y = buttermatrix.loc[:,'Word'].values     # Target\n",
        "\n",
        "x_train, x_test, y_train, y_test = train_test_split(x, y, test_size=0.6)\n",
        "\n",
        "clf = SVC()\n",
        "clf.fit(x_train, y_train)\n",
        "print ('score', clf.score(x_test, y_test))\n",
        "y_pred=clf.predict(x_test)\n",
        "print ('pred label', y_pred)\n",
        "print('length',len(clf.predict(x_test)))\n",
        "\n",
        "# Confusion matrix\n",
        "plot_confusion_matrix(clf, x_test, y_test,\n",
        "                                 cmap=plt.cm.Blues)\n",
        "plt.figure(figsize=(50,50))\n",
        "plt.show()\n",
        "\n",
        "#print(classification_report(y_test, y_pred, target_names=words))\n",
        "butterresults=classification_report(y_test, y_pred, target_names=words)"
      ],
      "execution_count": 11,
      "outputs": [
        {
          "output_type": "stream",
          "text": [
            "score 0.03137254901960784\n",
            "pred label ['goodnight' 'goodnight' 'goodnight' 'goodnight' 'goodnight' 'happy'\n",
            " 'happy' 'goodnight' 'goodnight' 'goodnight' 'goodnight' 'goodnight'\n",
            " 'goodnight' 'goodnight' 'goodnight' 'goodnight' 'goodnight' 'goodnight'\n",
            " 'goodnight' 'goodnight' 'goodnight' 'goodnight' 'happy' 'goodnight'\n",
            " 'goodnight' 'goodnight' 'goodnight' 'goodnight' 'goodnight' 'goodnight'\n",
            " 'goodnight' 'happy' 'goodnight' 'goodnight' 'goodnight' 'goodnight'\n",
            " 'goodnight' 'goodnight' 'goodnight' 'goodnight' 'goodnight' 'goodnight'\n",
            " 'goodnight' 'goodnight' 'happy' 'goodnight' 'goodnight' 'goodnight'\n",
            " 'goodnight' 'goodnight' 'goodnight' 'goodnight' 'happy' 'goodnight'\n",
            " 'shirt' 'goodnight' 'goodnight' 'goodnight' 'goodnight' 'goodnight'\n",
            " 'goodnight' 'goodnight' 'goodnight' 'goodnight' 'happy' 'goodnight'\n",
            " 'goodnight' 'goodnight' 'goodnight' 'goodnight' 'goodnight' 'goodnight'\n",
            " 'goodnight' 'goodnight' 'goodnight' 'goodnight' 'goodnight' 'goodnight'\n",
            " 'goodnight' 'happy' 'happy' 'goodnight' 'goodnight' 'goodnight'\n",
            " 'goodnight' 'goodnight' 'goodnight' 'goodnight' 'goodnight' 'goodnight'\n",
            " 'goodnight' 'goodnight' 'goodnight' 'goodnight' 'goodnight' 'goodnight'\n",
            " 'goodnight' 'goodnight' 'goodnight' 'goodnight' 'happy' 'goodnight'\n",
            " 'goodnight' 'goodnight' 'goodnight' 'goodnight' 'hot' 'goodnight'\n",
            " 'goodnight' 'goodnight' 'happy' 'goodnight' 'happy' 'goodnight'\n",
            " 'goodnight' 'goodnight' 'goodnight' 'goodnight' 'goodnight' 'happy'\n",
            " 'goodnight' 'goodnight' 'goodnight' 'goodnight' 'happy' 'goodnight'\n",
            " 'goodnight' 'goodnight' 'goodnight' 'goodnight' 'goodnight' 'goodnight'\n",
            " 'goodnight' 'goodnight' 'goodnight' 'goodnight' 'goodnight' 'goodnight'\n",
            " 'goodnight' 'goodnight' 'goodnight' 'goodnight' 'goodnight' 'goodnight'\n",
            " 'goodnight' 'goodnight' 'goodnight' 'goodnight' 'goodnight' 'goodnight'\n",
            " 'goodnight' 'goodnight' 'happy' 'goodnight' 'goodnight' 'goodnight'\n",
            " 'goodnight' 'goodnight' 'goodnight' 'goodnight' 'goodnight' 'happy'\n",
            " 'goodnight' 'goodnight' 'goodnight' 'goodnight' 'happy' 'goodnight'\n",
            " 'goodnight' 'goodnight' 'goodnight' 'happy' 'goodnight' 'goodnight'\n",
            " 'goodnight' 'happy' 'goodnight' 'goodnight' 'goodnight' 'goodnight'\n",
            " 'goodnight' 'goodnight' 'goodnight' 'goodnight' 'goodnight' 'happy'\n",
            " 'goodnight' 'goodnight' 'goodnight' 'goodnight' 'goodnight' 'goodnight'\n",
            " 'goodnight' 'goodnight' 'goodnight' 'goodnight' 'goodnight' 'goodnight'\n",
            " 'goodnight' 'goodnight' 'goodnight' 'goodnight' 'goodnight' 'goodnight'\n",
            " 'goodnight' 'goodnight' 'goodnight' 'goodnight' 'happy' 'goodnight'\n",
            " 'goodnight' 'goodnight' 'happy' 'goodnight' 'goodnight' 'happy'\n",
            " 'goodnight' 'goodnight' 'goodnight' 'goodnight' 'happy' 'goodnight'\n",
            " 'goodnight' 'happy' 'goodnight' 'goodnight' 'happy' 'goodnight'\n",
            " 'goodnight' 'happy' 'goodnight' 'happy' 'happy' 'goodnight' 'happy'\n",
            " 'goodnight' 'goodnight' 'happy' 'goodnight' 'goodnight' 'goodnight'\n",
            " 'goodnight' 'goodnight' 'goodnight' 'goodnight' 'goodnight' 'happy'\n",
            " 'goodnight' 'goodnight' 'goodnight' 'goodnight' 'goodnight' 'happy'\n",
            " 'goodnight' 'goodnight' 'goodnight' 'goodnight' 'goodnight' 'goodnight'\n",
            " 'happy' 'goodnight' 'goodnight' 'goodnight' 'goodnight' 'goodnight'\n",
            " 'goodnight' 'goodnight' 'happy' 'goodnight' 'goodnight' 'goodnight'\n",
            " 'goodnight' 'goodnight' 'goodnight' 'goodnight' 'goodnight' 'goodnight'\n",
            " 'goodnight' 'goodnight' 'goodnight' 'goodnight' 'goodnight' 'happy'\n",
            " 'happy' 'goodnight' 'goodnight' 'goodnight' 'goodnight' 'goodnight'\n",
            " 'goodnight' 'goodnight' 'goodnight' 'goodnight' 'goodnight' 'goodnight'\n",
            " 'goodnight' 'goodnight' 'goodnight' 'goodnight' 'goodnight' 'goodnight'\n",
            " 'goodnight' 'goodnight' 'goodnight' 'goodnight' 'goodnight' 'goodnight'\n",
            " 'goodnight' 'goodnight' 'goodnight' 'goodnight' 'happy' 'goodnight'\n",
            " 'goodnight' 'goodnight' 'goodnight' 'goodnight' 'goodnight' 'goodnight'\n",
            " 'goodnight' 'goodnight' 'goodnight' 'goodnight' 'goodnight' 'goodnight'\n",
            " 'goodnight' 'goodnight' 'goodnight' 'goodnight' 'goodnight' 'goodnight'\n",
            " 'goodnight' 'goodnight' 'goodnight' 'goodnight' 'goodnight' 'goodnight'\n",
            " 'goodnight' 'goodnight' 'goodnight' 'goodnight' 'goodnight' 'goodnight'\n",
            " 'happy' 'goodnight' 'goodnight' 'goodnight' 'goodnight' 'goodnight'\n",
            " 'happy' 'goodnight' 'goodnight' 'goodnight' 'goodnight' 'goodnight'\n",
            " 'goodnight' 'goodnight' 'goodnight' 'goodnight' 'goodnight' 'goodnight'\n",
            " 'goodnight' 'goodnight' 'goodnight' 'goodnight' 'goodnight' 'goodnight'\n",
            " 'goodnight' 'goodnight' 'goodnight' 'goodnight' 'goodnight' 'goodnight'\n",
            " 'happy' 'goodnight' 'goodnight' 'goodnight' 'goodnight' 'goodnight'\n",
            " 'goodnight' 'goodnight' 'goodnight' 'goodnight' 'goodnight' 'goodnight'\n",
            " 'goodnight' 'goodnight' 'goodnight' 'goodnight' 'goodnight'\n",
            " 'takeliquidmedicine' 'goodnight' 'goodnight' 'goodnight' 'goodnight'\n",
            " 'goodnight' 'goodnight' 'goodnight' 'goodnight' 'goodnight' 'goodnight'\n",
            " 'goodnight' 'goodnight' 'goodnight' 'goodnight' 'goodnight' 'goodnight'\n",
            " 'happy' 'happy' 'goodnight' 'goodnight' 'goodnight' 'goodnight'\n",
            " 'goodnight' 'goodnight' 'happy' 'goodnight' 'happy' 'goodnight'\n",
            " 'goodnight' 'goodnight' 'goodnight' 'goodnight' 'goodnight' 'goodnight'\n",
            " 'goodnight' 'goodnight' 'goodnight' 'goodnight' 'goodnight' 'goodnight'\n",
            " 'happy' 'happy' 'goodnight' 'goodnight' 'goodnight' 'happy' 'goodnight'\n",
            " 'goodnight' 'goodnight' 'goodnight' 'goodnight' 'goodnight' 'happy'\n",
            " 'goodnight' 'goodnight' 'goodnight' 'goodnight' 'goodnight' 'goodnight'\n",
            " 'goodnight' 'goodnight' 'goodnight' 'goodnight' 'goodnight' 'goodnight'\n",
            " 'goodnight' 'happy' 'goodnight' 'goodnight' 'goodnight' 'goodnight'\n",
            " 'goodnight' 'goodnight' 'happy' 'goodnight' 'goodnight' 'goodnight'\n",
            " 'goodnight' 'goodnight' 'goodnight' 'goodnight' 'goodnight' 'goodnight'\n",
            " 'goodnight' 'goodnight' 'goodnight' 'goodnight' 'goodnight' 'goodnight'\n",
            " 'goodnight' 'goodnight' 'goodnight' 'goodnight' 'happy' 'goodnight'\n",
            " 'goodnight' 'goodnight' 'goodnight' 'goodnight' 'goodnight' 'goodnight'\n",
            " 'goodnight' 'goodnight' 'goodnight' 'goodnight' 'goodnight' 'goodnight'\n",
            " 'goodnight' 'goodnight' 'goodnight' 'goodnight' 'goodnight' 'goodnight'\n",
            " 'goodnight' 'goodnight' 'goodnight' 'goodnight' 'happy' 'goodnight']\n",
            "length 510\n"
          ],
          "name": "stdout"
        },
        {
          "output_type": "display_data",
          "data": {
            "image/png": "[encoded data removed]",
            "text/plain": [
              "<Figure size 432x288 with 2 Axes>"
            ]
          },
          "metadata": {
            "tags": [],
            "needs_background": "light"
          }
        },
        {
          "output_type": "display_data",
          "data": {
            "text/plain": [
              "<Figure size 3600x3600 with 0 Axes>"
            ]
          },
          "metadata": {
            "tags": []
          }
        },
        {
          "output_type": "stream",
          "text": [
            "/usr/local/lib/python3.6/dist-packages/sklearn/metrics/_classification.py:1272: UndefinedMetricWarning: Precision and F-score are ill-defined and being set to 0.0 in labels with no predicted samples. Use `zero_division` parameter to control this behavior.\n",
            "  _warn_prf(average, modifier, msg_start, len(result))\n"
          ],
          "name": "stderr"
        }
      ]
    },
    {
      "cell_type": "code",
      "metadata": {
        "id": "riv-kFwa9oMD",
        "colab_type": "code",
        "colab": {
          "base_uri": "https://localhost:8080/",
          "height": 1000
        },
        "outputId": "d28036f5-41fa-4cd7-83e4-1b86f5c2d8a8"
      },
      "source": [
        "# PCA for norm_matrix\n",
        "x = norm_matrix_e.iloc[:, norm_matrix_e.columns!='Word'].values   # Features\n",
        "y = norm_matrix_e.loc[:,'Word'].values     # Target\n",
        "print(norm_matrix_e)\n",
        "print(x)\n",
        "print(y)\n",
        "\n",
        "x_train, x_test, y_train, y_test = train_test_split(x, y, test_size=0.6)\n",
        "\n",
        "pca = PCA(n_components=49)\n",
        "pca.fit(x_train)\n",
        "x_t_train = pca.transform(x_train)\n",
        "x_t_test = pca.transform(x_test)\n",
        "\n",
        "#### plot\n",
        "print(\"Normalized matrix\")\n",
        "print(pca.explained_variance_ratio_)\n",
        "print(pca.singular_values_)\n",
        "plt.figure()\n",
        "plt.bar(fn[:49],pca.explained_variance_ratio_)\n",
        "plt.show()\n",
        "plt.bar(fn[:49],pca.singular_values_)\n",
        "plt.show()"
      ],
      "execution_count": 12,
      "outputs": [
        {
          "output_type": "stream",
          "text": [
            "           Word     EMG0L     EMG0L  ...     EMG0L     EMG0L  EMG0L\n",
            "0    allmorning  0.321429  0.388889  ...  0.387597  0.522222  0.648\n",
            "1    allmorning  0.321429  0.432099  ...  0.480620  0.466667  0.552\n",
            "2    allmorning  0.321429  0.358025  ...  0.550388  0.477778  0.632\n",
            "3    allmorning  0.321429  0.401235  ...  0.542636  0.500000  0.552\n",
            "4    allmorning  0.321429  0.413580  ...  0.449612  0.511111  0.624\n",
            "..          ...       ...       ...  ...       ...       ...    ...\n",
            "844        wash  0.321429  0.395062  ...  0.651163  0.622222  0.456\n",
            "845        wash  0.321429  0.419753  ...  0.480620  0.477778  0.624\n",
            "846        wash  0.321429  0.358025  ...  0.434109  0.488889  0.616\n",
            "847        wash  0.321429  0.401235  ...  0.472868  0.488889  0.640\n",
            "848        wash  0.321429  0.456790  ...  0.472868  0.511111  0.632\n",
            "\n",
            "[849 rows x 50 columns]\n",
            "[[0.32142857 0.38888889 0.67375887 ... 0.3875969  0.52222222 0.648     ]\n",
            " [0.32142857 0.43209877 0.66666667 ... 0.48062016 0.46666667 0.552     ]\n",
            " [0.32142857 0.35802469 0.67375887 ... 0.5503876  0.47777778 0.632     ]\n",
            " ...\n",
            " [0.32142857 0.35802469 0.86524823 ... 0.43410853 0.48888889 0.616     ]\n",
            " [0.32142857 0.40123457 0.82978723 ... 0.47286822 0.48888889 0.64      ]\n",
            " [0.32142857 0.45679012 0.54609929 ... 0.47286822 0.51111111 0.632     ]]\n",
            "['allmorning' 'allmorning' 'allmorning' 'allmorning' 'allmorning'\n",
            " 'allmorning' 'allmorning' 'allmorning' 'allmorning' 'allmorning'\n",
            " 'allmorning' 'allmorning' 'allmorning' 'allmorning' 'allmorning'\n",
            " 'allmorning' 'allmorning' 'allmorning' 'allmorning' 'bird' 'bird' 'bird'\n",
            " 'bird' 'bird' 'bird' 'bird' 'bird' 'bird' 'bird' 'bird' 'bird' 'bird'\n",
            " 'bird' 'bird' 'bird' 'bird' 'bird' 'bird' 'bird' 'bird' 'bird' 'bird'\n",
            " 'bird' 'blue' 'blue' 'blue' 'blue' 'blue' 'blue' 'blue' 'blue' 'blue'\n",
            " 'blue' 'blue' 'blue' 'blue' 'blue' 'blue' 'blue' 'blue' 'blue' 'blue'\n",
            " 'blue' 'blue' 'blue' 'blue' 'blue' 'blue' 'blue' 'blue' 'blue' 'blue'\n",
            " 'blue' 'blue' 'blue' 'cantsleep' 'cantsleep' 'cantsleep' 'cantsleep'\n",
            " 'cantsleep' 'cantsleep' 'cantsleep' 'cantsleep' 'cantsleep' 'cantsleep'\n",
            " 'cantsleep' 'cantsleep' 'cantsleep' 'cantsleep' 'cantsleep' 'cantsleep'\n",
            " 'cantsleep' 'cantsleep' 'cantsleep' 'cantsleep' 'cat' 'cat' 'cat' 'cat'\n",
            " 'cat' 'cat' 'cat' 'cat' 'cat' 'cat' 'cat' 'cat' 'cat' 'cat' 'cat' 'cat'\n",
            " 'cat' 'cat' 'cat' 'cat' 'cat' 'cat' 'cat' 'cat' 'coldrunnynose'\n",
            " 'coldrunnynose' 'coldrunnynose' 'coldrunnynose' 'coldrunnynose'\n",
            " 'coldrunnynose' 'coldrunnynose' 'coldrunnynose' 'coldrunnynose'\n",
            " 'coldrunnynose' 'coldrunnynose' 'coldrunnynose' 'coldrunnynose'\n",
            " 'coldrunnynose' 'coldrunnynose' 'coldrunnynose' 'coldrunnynose'\n",
            " 'coldrunnynose' 'coldrunnynose' 'coldrunnynose' 'continuouslyforanhour'\n",
            " 'continuouslyforanhour' 'continuouslyforanhour' 'continuouslyforanhour'\n",
            " 'continuouslyforanhour' 'continuouslyforanhour' 'continuouslyforanhour'\n",
            " 'continuouslyforanhour' 'continuouslyforanhour' 'continuouslyforanhour'\n",
            " 'continuouslyforanhour' 'continuouslyforanhour' 'continuouslyforanhour'\n",
            " 'continuouslyforanhour' 'continuouslyforanhour' 'continuouslyforanhour'\n",
            " 'continuouslyforanhour' 'continuouslyforanhour' 'continuouslyforanhour'\n",
            " 'cost' 'cost' 'cost' 'cost' 'cost' 'cost' 'cost' 'cost' 'cost' 'cost'\n",
            " 'cost' 'cost' 'cost' 'cost' 'cost' 'cost' 'cost' 'cost' 'cost' 'cost'\n",
            " 'cost' 'cost' 'cost' 'cost' 'cost' 'cost' 'cost' 'cost' 'cost' 'cost'\n",
            " 'cost' 'day' 'day' 'day' 'day' 'day' 'day' 'day' 'day' 'day' 'day' 'day'\n",
            " 'day' 'day' 'day' 'day' 'day' 'day' 'day' 'day' 'day' 'day' 'day' 'day'\n",
            " 'day' 'dollar' 'dollar' 'dollar' 'dollar' 'dollar' 'dollar' 'dollar'\n",
            " 'dollar' 'dollar' 'dollar' 'dollar' 'dollar' 'dollar' 'dollar' 'dollar'\n",
            " 'dollar' 'dollar' 'dollar' 'dollar' 'dollar' 'dollar' 'dollar' 'dollar'\n",
            " 'dollar' 'dollar' 'dollar' 'dollar' 'dollar' 'dollar' 'everymorning'\n",
            " 'everymorning' 'everymorning' 'everymorning' 'everymorning'\n",
            " 'everymorning' 'everymorning' 'everymorning' 'everymorning'\n",
            " 'everymorning' 'everymorning' 'everymorning' 'everymorning'\n",
            " 'everymorning' 'everymorning' 'everymorning' 'everymorning'\n",
            " 'everymorning' 'everymorning' 'everymorning' 'everynight' 'everynight'\n",
            " 'everynight' 'everynight' 'everynight' 'everynight' 'everynight'\n",
            " 'everynight' 'everynight' 'everynight' 'everynight' 'everynight'\n",
            " 'everynight' 'everynight' 'everynight' 'everynight' 'everynight'\n",
            " 'everynight' 'everynight' 'everynight' 'everynight' 'gold' 'gold' 'gold'\n",
            " 'gold' 'gold' 'gold' 'gold' 'gold' 'gold' 'gold' 'gold' 'gold' 'gold'\n",
            " 'gold' 'gold' 'gold' 'gold' 'gold' 'gold' 'gold' 'gold' 'gold' 'gold'\n",
            " 'goodnight' 'goodnight' 'goodnight' 'goodnight' 'goodnight' 'goodnight'\n",
            " 'goodnight' 'goodnight' 'goodnight' 'goodnight' 'goodnight' 'goodnight'\n",
            " 'goodnight' 'goodnight' 'goodnight' 'goodnight' 'goodnight' 'goodnight'\n",
            " 'goodnight' 'goodnight' 'goodnight' 'goodnight' 'goodnight' 'goodnight'\n",
            " 'goodnight' 'goodnight' 'goodnight' 'goodnight' 'goodnight' 'goodnight'\n",
            " 'goodnight' 'goodnight' 'goodnight' 'happy' 'happy' 'happy' 'happy'\n",
            " 'happy' 'happy' 'happy' 'happy' 'happy' 'happy' 'happy' 'happy' 'happy'\n",
            " 'happy' 'happy' 'happy' 'happy' 'happy' 'happy' 'happy' 'happy' 'happy'\n",
            " 'happy' 'happy' 'happy' 'happy' 'happy' 'happy' 'happy' 'happy' 'happy'\n",
            " 'happy' 'happy' 'happy' 'headache' 'headache' 'headache' 'headache'\n",
            " 'headache' 'headache' 'headache' 'headache' 'headache' 'headache'\n",
            " 'headache' 'headache' 'headache' 'headache' 'headache' 'headache'\n",
            " 'headache' 'headache' 'home' 'home' 'home' 'home' 'home' 'home' 'home'\n",
            " 'home' 'home' 'home' 'home' 'home' 'home' 'home' 'home' 'home' 'home'\n",
            " 'home' 'home' 'home' 'home' 'home' 'home' 'home' 'home' 'home' 'home'\n",
            " 'horse' 'horse' 'horse' 'horse' 'horse' 'horse' 'horse' 'horse' 'horse'\n",
            " 'horse' 'horse' 'horse' 'horse' 'horse' 'horse' 'horse' 'horse' 'horse'\n",
            " 'horse' 'horse' 'horse' 'horse' 'horse' 'horse' 'hot' 'hot' 'hot' 'hot'\n",
            " 'hot' 'hot' 'hot' 'hot' 'hot' 'hot' 'hot' 'hot' 'hot' 'hot' 'hot' 'hot'\n",
            " 'hot' 'hot' 'hot' 'hot' 'hot' 'hot' 'hot' 'hot' 'hot' 'hot' 'hot' 'hot'\n",
            " 'hot' 'hot' 'hot' 'hot' 'hot' 'hot' 'hot' 'hurt' 'hurt' 'hurt' 'hurt'\n",
            " 'hurt' 'hurt' 'hurt' 'hurt' 'hurt' 'hurt' 'hurt' 'hurt' 'hurt' 'hurt'\n",
            " 'hurt' 'hurt' 'hurt' 'hurt' 'hurt' 'itching' 'itching' 'itching'\n",
            " 'itching' 'itching' 'itching' 'itching' 'itching' 'itching' 'itching'\n",
            " 'itching' 'itching' 'itching' 'itching' 'itching' 'itching' 'itching'\n",
            " 'large' 'large' 'large' 'large' 'large' 'large' 'large' 'large' 'large'\n",
            " 'large' 'large' 'large' 'large' 'large' 'large' 'large' 'large' 'large'\n",
            " 'large' 'large' 'large' 'large' 'large' 'large' 'large' 'large' 'large'\n",
            " 'large' 'large' 'large' 'large' 'large' 'large' 'large' 'mom' 'mom' 'mom'\n",
            " 'mom' 'mom' 'mom' 'mom' 'mom' 'mom' 'mom' 'mom' 'mom' 'mom' 'mom' 'mom'\n",
            " 'mom' 'mom' 'mom' 'mom' 'mom' 'mom' 'mom' 'mom' 'mom' 'mom' 'mom' 'mom'\n",
            " 'mom' 'mom' 'mom' 'monthly' 'monthly' 'monthly' 'monthly' 'monthly'\n",
            " 'monthly' 'monthly' 'monthly' 'monthly' 'monthly' 'monthly' 'monthly'\n",
            " 'monthly' 'monthly' 'monthly' 'monthly' 'monthly' 'monthly' 'monthly'\n",
            " 'notfeelgood' 'notfeelgood' 'notfeelgood' 'notfeelgood' 'notfeelgood'\n",
            " 'notfeelgood' 'notfeelgood' 'notfeelgood' 'notfeelgood' 'notfeelgood'\n",
            " 'notfeelgood' 'notfeelgood' 'notfeelgood' 'notfeelgood' 'notfeelgood'\n",
            " 'notfeelgood' 'notfeelgood' 'notfeelgood' 'notfeelgood' 'notfeelgood'\n",
            " 'notfeelgood' 'notfeelgood' 'orange' 'orange' 'orange' 'orange' 'orange'\n",
            " 'orange' 'orange' 'orange' 'orange' 'orange' 'orange' 'orange' 'orange'\n",
            " 'orange' 'orange' 'orange' 'orange' 'orange' 'orange' 'orange' 'orange'\n",
            " 'pizza' 'pizza' 'pizza' 'pizza' 'pizza' 'pizza' 'pizza' 'pizza' 'pizza'\n",
            " 'pizza' 'pizza' 'pizza' 'pizza' 'pizza' 'pizza' 'pizza' 'pizza' 'pizza'\n",
            " 'pizza' 'pizza' 'pizza' 'pizza' 'pizza' 'please' 'please' 'please'\n",
            " 'please' 'please' 'please' 'please' 'please' 'please' 'please' 'please'\n",
            " 'please' 'please' 'please' 'please' 'please' 'please' 'please' 'please'\n",
            " 'please' 'please' 'please' 'please' 'please' 'please' 'please' 'please'\n",
            " 'shirt' 'shirt' 'shirt' 'shirt' 'shirt' 'shirt' 'shirt' 'shirt' 'shirt'\n",
            " 'shirt' 'shirt' 'shirt' 'shirt' 'shirt' 'shirt' 'shirt' 'shirt' 'shirt'\n",
            " 'shirt' 'shirt' 'shirt' 'shirt' 'shirt' 'shirt' 'shirt' 'shirt' 'shirt'\n",
            " 'soreness' 'soreness' 'soreness' 'soreness' 'swelling' 'swelling'\n",
            " 'swelling' 'swelling' 'swelling' 'swelling' 'swelling' 'swelling'\n",
            " 'swelling' 'swelling' 'swelling' 'swelling' 'swelling' 'swelling'\n",
            " 'swelling' 'swelling' 'swelling' 'swelling' 'swelling' 'swelling'\n",
            " 'takeliquidmedicine' 'takeliquidmedicine' 'takeliquidmedicine'\n",
            " 'takeliquidmedicine' 'takeliquidmedicine' 'takeliquidmedicine'\n",
            " 'takeliquidmedicine' 'takeliquidmedicine' 'takeliquidmedicine'\n",
            " 'takeliquidmedicine' 'takeliquidmedicine' 'takeliquidmedicine'\n",
            " 'takeliquidmedicine' 'takeliquidmedicine' 'takeliquidmedicine'\n",
            " 'takeliquidmedicine' 'takeliquidmedicine' 'takeliquidmedicine'\n",
            " 'takeliquidmedicine' 'thatsterrible' 'thatsterrible' 'thatsterrible'\n",
            " 'thatsterrible' 'thatsterrible' 'thatsterrible' 'thatsterrible'\n",
            " 'thatsterrible' 'thatsterrible' 'thatsterrible' 'thatsterrible'\n",
            " 'thatsterrible' 'thatsterrible' 'thatsterrible' 'thatsterrible'\n",
            " 'thatsterrible' 'thatsterrible' 'thatsterrible' 'thatsterrible'\n",
            " 'thatsterrible' 'tired' 'tired' 'tired' 'tired' 'tired' 'tired' 'tired'\n",
            " 'tired' 'tired' 'tired' 'tired' 'tired' 'tired' 'tired' 'tired' 'tired'\n",
            " 'tired' 'tired' 'tired' 'tired' 'upsetstomach' 'upsetstomach'\n",
            " 'upsetstomach' 'upsetstomach' 'upsetstomach' 'upsetstomach'\n",
            " 'upsetstomach' 'upsetstomach' 'upsetstomach' 'upsetstomach'\n",
            " 'upsetstomach' 'upsetstomach' 'upsetstomach' 'upsetstomach'\n",
            " 'upsetstomach' 'upsetstomach' 'upsetstomach' 'upsetstomach'\n",
            " 'upsetstomach' 'upsetstomach' 'upsetstomach' 'wash' 'wash' 'wash' 'wash'\n",
            " 'wash' 'wash' 'wash' 'wash' 'wash' 'wash' 'wash' 'wash' 'wash' 'wash'\n",
            " 'wash' 'wash' 'wash' 'wash' 'wash' 'wash' 'wash' 'wash' 'wash' 'wash'\n",
            " 'wash' 'wash' 'wash' 'wash' 'wash']\n",
            "Normalized matrix\n",
            "[0.13345296 0.10521362 0.05992326 0.05291003 0.04217089 0.03699603\n",
            " 0.03591841 0.03473259 0.03351554 0.02957273 0.02776773 0.02558857\n",
            " 0.02494481 0.02329894 0.02245328 0.02094852 0.02029816 0.01813553\n",
            " 0.01795725 0.01643971 0.01567786 0.01519968 0.01376604 0.01325865\n",
            " 0.01204006 0.01164691 0.01055849 0.01007445 0.00978228 0.00907397\n",
            " 0.00823029 0.00805392 0.00741826 0.00721988 0.00680757 0.00615603\n",
            " 0.00605184 0.00557449 0.00529383 0.00479083 0.00462905 0.00432954\n",
            " 0.0039471  0.00385243 0.00338772 0.00331079 0.00317076 0.00259677\n",
            " 0.00186197]\n",
            "[2.86759445 2.54618291 1.92154845 1.80560451 1.61198137 1.50984083\n",
            " 1.48768905 1.46292539 1.437066   1.34989288 1.30804829 1.25567332\n",
            " 1.23977733 1.19817893 1.17623345 1.13613605 1.11836081 1.05710648\n",
            " 1.05189774 1.00646979 0.98287217 0.96776707 0.9209969  0.9038643\n",
            " 0.86132686 0.84714732 0.80659316 0.78788747 0.77637885 0.74774286\n",
            " 0.71213329 0.70446151 0.67609026 0.66698878 0.64766393 0.61589094\n",
            " 0.61065701 0.58607924 0.57113484 0.54332401 0.53407193 0.51650496\n",
            " 0.49316527 0.48721518 0.45688517 0.4516683  0.44201308 0.40000942\n",
            " 0.33871937]\n"
          ],
          "name": "stdout"
        },
        {
          "output_type": "display_data",
          "data": {
            "image/png": "[encoded data removed]",
            "text/plain": [
              "<Figure size 432x288 with 1 Axes>"
            ]
          },
          "metadata": {
            "tags": [],
            "needs_background": "light"
          }
        },
        {
          "output_type": "display_data",
          "data": {
            "image/png": "[encoded data removed]",
            "text/plain": [
              "<Figure size 432x288 with 1 Axes>"
            ]
          },
          "metadata": {
            "tags": [],
            "needs_background": "light"
          }
        }
      ]
    },
    {
      "cell_type": "code",
      "metadata": {
        "id": "BSevZSPDFZjz",
        "colab_type": "code",
        "colab": {
          "base_uri": "https://localhost:8080/",
          "height": 1000
        },
        "outputId": "212c3cfa-3f37-422e-f7bc-1b5f61d0330c"
      },
      "source": [
        "# Normalized, Butterworth, PCA to SVM\n",
        "clf = SVC()\n",
        "clf.fit(x_t_train, y_train)\n",
        "print ('score', clf.score(x_t_test, y_test))\n",
        "y_pred=clf.predict(x_t_test)\n",
        "print ('pred label', y_pred)\n",
        "print('length',len(clf.predict(x_t_test)))\n",
        "\n",
        "# Confusion matrix\n",
        "plot_confusion_matrix(clf, x_t_test, y_test,\n",
        "                                 cmap=plt.cm.Blues)\n",
        "plt.figure(figsize=(50,50))\n",
        "plt.show()\n",
        "\n",
        "#print(classification_report(y_test, y_pred, target_names=words))\n",
        "pcaresults=classification_report(y_test, y_pred, target_names=words)"
      ],
      "execution_count": 13,
      "outputs": [
        {
          "output_type": "stream",
          "text": [
            "score 0.052941176470588235\n",
            "pred label ['wash' 'hot' 'wash' 'hot' 'hot' 'wash' 'hot' 'hot' 'large' 'cost' 'hot'\n",
            " 'cost' 'wash' 'wash' 'hot' 'hot' 'hot' 'large' 'cost' 'hot' 'wash' 'hot'\n",
            " 'hot' 'hot' 'wash' 'hot' 'cost' 'hot' 'cost' 'hot' 'wash' 'hot' 'cost'\n",
            " 'hot' 'hot' 'hot' 'hot' 'wash' 'hot' 'hot' 'hot' 'hot' 'hot' 'hot' 'hot'\n",
            " 'hot' 'hot' 'cost' 'wash' 'hot' 'hot' 'cost' 'hot' 'hot' 'hot' 'hot'\n",
            " 'hot' 'large' 'hot' 'hot' 'hot' 'wash' 'hot' 'hot' 'hot' 'hot' 'hot'\n",
            " 'hot' 'hot' 'hot' 'cost' 'hot' 'wash' 'wash' 'hot' 'wash' 'hot' 'wash'\n",
            " 'hot' 'swelling' 'hot' 'hot' 'hot' 'hot' 'wash' 'hot' 'hot' 'wash' 'hot'\n",
            " 'large' 'hot' 'wash' 'hot' 'hot' 'large' 'hot' 'wash' 'hot' 'hot' 'hot'\n",
            " 'hot' 'hot' 'hot' 'hot' 'hot' 'wash' 'hot' 'hot' 'cost' 'hot' 'cost'\n",
            " 'hot' 'hot' 'wash' 'hot' 'hot' 'large' 'hot' 'hot' 'hot' 'hot' 'wash'\n",
            " 'hot' 'wash' 'cost' 'hot' 'hot' 'hot' 'hot' 'cost' 'hot' 'hot' 'hot'\n",
            " 'hot' 'hot' 'hot' 'hot' 'large' 'hot' 'hot' 'hot' 'hot' 'hot' 'hot'\n",
            " 'wash' 'hot' 'hot' 'hot' 'hot' 'large' 'hot' 'cost' 'wash' 'wash' 'wash'\n",
            " 'hot' 'hot' 'hot' 'hot' 'hot' 'hot' 'hot' 'wash' 'wash' 'hot' 'hot' 'hot'\n",
            " 'hot' 'hot' 'wash' 'hot' 'everynight' 'hot' 'wash' 'wash' 'hot' 'wash'\n",
            " 'wash' 'hot' 'hot' 'hot' 'hot' 'hot' 'wash' 'hot' 'hot' 'wash' 'hot'\n",
            " 'wash' 'hot' 'hot' 'wash' 'hot' 'hot' 'cost' 'hot' 'hot' 'hot' 'hot'\n",
            " 'hot' 'wash' 'hot' 'wash' 'hot' 'cost' 'wash' 'hot' 'wash' 'hot' 'hot'\n",
            " 'cost' 'hot' 'hot' 'hot' 'hot' 'hot' 'hot' 'hot' 'hot' 'wash' 'cost'\n",
            " 'hot' 'hot' 'hot' 'hot' 'hot' 'wash' 'hot' 'hot' 'cost' 'hot' 'hot' 'hot'\n",
            " 'hot' 'hot' 'cost' 'hot' 'wash' 'hot' 'wash' 'wash' 'hot' 'wash' 'hot'\n",
            " 'hot' 'wash' 'hot' 'wash' 'hot' 'wash' 'wash' 'hot' 'hot' 'wash' 'hot'\n",
            " 'hot' 'hot' 'hot' 'hot' 'hot' 'hot' 'hot' 'hot' 'hot' 'cost' 'hot' 'hot'\n",
            " 'hot' 'wash' 'hot' 'cost' 'hot' 'hot' 'hot' 'hot' 'hot' 'wash' 'hot'\n",
            " 'hot' 'hot' 'hot' 'hot' 'goodnight' 'hot' 'wash' 'hot' 'hot' 'wash' 'hot'\n",
            " 'shirt' 'cost' 'cost' 'cost' 'large' 'cost' 'hot' 'cost' 'hot' 'hot'\n",
            " 'hot' 'hot' 'hot' 'hot' 'hot' 'hot' 'hot' 'dollar' 'hot' 'cost' 'wash'\n",
            " 'hot' 'hot' 'hot' 'hot' 'hot' 'hot' 'hot' 'hot' 'hot' 'hot' 'hot' 'wash'\n",
            " 'hot' 'hot' 'hot' 'hot' 'hot' 'large' 'hot' 'cost' 'hot' 'dollar' 'hot'\n",
            " 'swelling' 'hot' 'hot' 'hot' 'hot' 'large' 'hot' 'hot' 'hot' 'hot' 'cost'\n",
            " 'hot' 'cost' 'hot' 'hot' 'hot' 'wash' 'hot' 'cost' 'cost' 'hot' 'cost'\n",
            " 'hot' 'wash' 'large' 'hot' 'hot' 'hot' 'hot' 'hot' 'wash' 'cost' 'hot'\n",
            " 'hot' 'hot' 'hot' 'hot' 'wash' 'hot' 'hot' 'hot' 'hot' 'hot' 'hot' 'cost'\n",
            " 'hot' 'hot' 'hot' 'hot' 'wash' 'hot' 'hot' 'cost' 'hot' 'hot' 'horse'\n",
            " 'wash' 'cost' 'hot' 'hot' 'cost' 'wash' 'hot' 'wash' 'wash' 'cost'\n",
            " 'everynight' 'hot' 'hot' 'hot' 'hot' 'hot' 'hot' 'cost' 'hot' 'hot'\n",
            " 'cost' 'hot' 'hot' 'cost' 'hot' 'hot' 'hot' 'hot' 'hot' 'hot' 'hot' 'hot'\n",
            " 'hot' 'hot' 'wash' 'hot' 'cost' 'hot' 'wash' 'hot' 'hot' 'cost' 'hot'\n",
            " 'wash' 'hot' 'cost' 'hot' 'wash' 'hot' 'wash' 'hot' 'hot' 'wash' 'hot'\n",
            " 'cost' 'hot' 'hot' 'hot' 'hot' 'hot' 'hot' 'cost' 'hot' 'hot' 'wash'\n",
            " 'hot' 'hot' 'hot' 'hot' 'hot' 'hot' 'hot' 'hot' 'hot' 'hot' 'cost' 'wash'\n",
            " 'cost' 'hot' 'hot' 'hot' 'thatsterrible' 'hot' 'hot' 'hot' 'hot' 'hot'\n",
            " 'hot' 'hot' 'hot' 'cost' 'hot' 'wash' 'swelling' 'hot' 'hot' 'hot' 'wash'\n",
            " 'hot' 'wash' 'hot' 'hot' 'everynight' 'hot' 'hot' 'wash' 'cost' 'hot'\n",
            " 'hot' 'hot' 'hot' 'hot' 'wash' 'hot' 'hot' 'hot' 'large' 'cost' 'wash'\n",
            " 'wash' 'hot']\n",
            "length 510\n"
          ],
          "name": "stdout"
        },
        {
          "output_type": "display_data",
          "data": {
            "image/png": "[encoded data removed]",
            "text/plain": [
              "<Figure size 432x288 with 2 Axes>"
            ]
          },
          "metadata": {
            "tags": [],
            "needs_background": "light"
          }
        },
        {
          "output_type": "display_data",
          "data": {
            "text/plain": [
              "<Figure size 3600x3600 with 0 Axes>"
            ]
          },
          "metadata": {
            "tags": []
          }
        },
        {
          "output_type": "stream",
          "text": [
            "/usr/local/lib/python3.6/dist-packages/sklearn/metrics/_classification.py:1272: UndefinedMetricWarning: Precision and F-score are ill-defined and being set to 0.0 in labels with no predicted samples. Use `zero_division` parameter to control this behavior.\n",
            "  _warn_prf(average, modifier, msg_start, len(result))\n"
          ],
          "name": "stderr"
        }
      ]
    },
    {
      "cell_type": "markdown",
      "metadata": {
        "id": "oPsmjnnASPYX",
        "colab_type": "text"
      },
      "source": [
        "**Summary of results**\n"
      ]
    },
    {
      "cell_type": "code",
      "metadata": {
        "id": "NGL1j6iBSlGj",
        "colab_type": "code",
        "colab": {
          "base_uri": "https://localhost:8080/",
          "height": 1000
        },
        "outputId": "e00f314e-7ed8-4b1e-a50c-d6ddf450bbd4"
      },
      "source": [
        "print('Directly:')\n",
        "print(directresults)\n",
        "print('Normalized:')\n",
        "print(normresults)\n",
        "print('Butterworth:')\n",
        "print(butterresults)\n",
        "print('PCA:')\n",
        "print(pcaresults)"
      ],
      "execution_count": 14,
      "outputs": [
        {
          "output_type": "stream",
          "text": [
            "Directly:\n",
            "                       precision    recall  f1-score   support\n",
            "\n",
            "           allmorning       0.00      0.00      0.00        14\n",
            "                 bird       0.00      0.00      0.00        13\n",
            "                 blue       0.00      0.00      0.00        18\n",
            "            cantsleep       0.00      0.00      0.00        13\n",
            "                  cat       0.00      0.00      0.00        12\n",
            "        coldrunnynose       0.00      0.00      0.00        15\n",
            "continuouslyforanhour       0.00      0.00      0.00         8\n",
            "                 cost       0.00      0.00      0.00        18\n",
            "                  day       0.00      0.00      0.00        15\n",
            "               dollar       0.00      0.00      0.00        23\n",
            "         everymorning       0.00      0.00      0.00         9\n",
            "           everynight       0.00      0.00      0.00        12\n",
            "                 gold       0.00      0.00      0.00        13\n",
            "            goodnight       0.03      0.06      0.04        18\n",
            "                happy       0.25      0.05      0.08        20\n",
            "             headache       0.00      0.00      0.00        10\n",
            "                 home       0.00      0.00      0.00        15\n",
            "                horse       0.00      0.00      0.00        20\n",
            "                  hot       0.04      0.75      0.08        16\n",
            "                 hurt       0.00      0.00      0.00         9\n",
            "              itching       0.00      0.00      0.00        10\n",
            "                large       0.07      0.59      0.12        17\n",
            "                  mom       0.00      0.00      0.00        17\n",
            "              monthly       0.00      0.00      0.00        12\n",
            "          notfeelgood       0.00      0.00      0.00        16\n",
            "               orange       0.00      0.00      0.00        14\n",
            "                pizza       0.00      0.00      0.00        12\n",
            "               please       0.00      0.00      0.00        18\n",
            "                shirt       0.00      0.00      0.00        15\n",
            "             soreness       0.00      0.00      0.00         2\n",
            "             swelling       0.00      0.00      0.00        12\n",
            "   takeliquidmedicine       0.00      0.00      0.00        13\n",
            "        thatsterrible       0.00      0.00      0.00        15\n",
            "                tired       0.00      0.00      0.00        15\n",
            "         upsetstomach       0.00      0.00      0.00         9\n",
            "                 wash       0.00      0.00      0.00        22\n",
            "\n",
            "             accuracy                           0.05       510\n",
            "            macro avg       0.01      0.04      0.01       510\n",
            "         weighted avg       0.01      0.05      0.01       510\n",
            "\n",
            "Normalized:\n",
            "                       precision    recall  f1-score   support\n",
            "\n",
            "           allmorning       0.00      0.00      0.00        12\n",
            "                 bird       0.00      0.00      0.00        15\n",
            "                 blue       0.04      0.94      0.07        17\n",
            "            cantsleep       0.00      0.00      0.00        15\n",
            "                  cat       0.00      0.00      0.00        11\n",
            "        coldrunnynose       0.00      0.00      0.00        12\n",
            "continuouslyforanhour       0.00      0.00      0.00        13\n",
            "                 cost       0.02      0.06      0.03        17\n",
            "                  day       0.00      0.00      0.00        11\n",
            "               dollar       0.00      0.00      0.00        18\n",
            "         everymorning       0.00      0.00      0.00        14\n",
            "           everynight       0.00      0.00      0.00        12\n",
            "                 gold       0.00      0.00      0.00        15\n",
            "            goodnight       0.00      0.00      0.00        21\n",
            "                happy       0.00      0.00      0.00        21\n",
            "             headache       0.00      0.00      0.00        11\n",
            "                 home       0.00      0.00      0.00        16\n",
            "                horse       0.00      0.00      0.00        15\n",
            "                  hot       0.00      0.00      0.00        24\n",
            "                 hurt       0.00      0.00      0.00         9\n",
            "              itching       0.00      0.00      0.00        14\n",
            "                large       0.00      0.00      0.00        23\n",
            "                  mom       0.00      0.00      0.00        21\n",
            "              monthly       0.00      0.00      0.00        13\n",
            "          notfeelgood       0.00      0.00      0.00        12\n",
            "               orange       0.00      0.00      0.00         9\n",
            "                pizza       0.00      0.00      0.00        13\n",
            "               please       0.00      0.00      0.00        15\n",
            "                shirt       0.00      0.00      0.00        14\n",
            "             soreness       0.00      0.00      0.00         4\n",
            "             swelling       0.00      0.00      0.00        12\n",
            "   takeliquidmedicine       0.33      0.17      0.22        12\n",
            "        thatsterrible       0.00      0.00      0.00         9\n",
            "                tired       0.00      0.00      0.00         8\n",
            "         upsetstomach       0.00      0.00      0.00        16\n",
            "                 wash       0.00      0.00      0.00        16\n",
            "\n",
            "             accuracy                           0.04       510\n",
            "            macro avg       0.01      0.03      0.01       510\n",
            "         weighted avg       0.01      0.04      0.01       510\n",
            "\n",
            "Butterworth:\n",
            "                       precision    recall  f1-score   support\n",
            "\n",
            "           allmorning       0.00      0.00      0.00        12\n",
            "                 bird       0.00      0.00      0.00        10\n",
            "                 blue       0.00      0.00      0.00        17\n",
            "            cantsleep       0.00      0.00      0.00        14\n",
            "                  cat       0.00      0.00      0.00        12\n",
            "        coldrunnynose       0.00      0.00      0.00        15\n",
            "continuouslyforanhour       0.00      0.00      0.00         9\n",
            "                 cost       0.00      0.00      0.00        18\n",
            "                  day       0.00      0.00      0.00        15\n",
            "               dollar       0.00      0.00      0.00        16\n",
            "         everymorning       0.00      0.00      0.00        11\n",
            "           everynight       0.00      0.00      0.00        13\n",
            "                 gold       0.00      0.00      0.00        14\n",
            "            goodnight       0.03      0.88      0.06        16\n",
            "                happy       0.04      0.12      0.06        17\n",
            "             headache       0.00      0.00      0.00        10\n",
            "                 home       0.00      0.00      0.00        17\n",
            "                horse       0.00      0.00      0.00        16\n",
            "                  hot       0.00      0.00      0.00        20\n",
            "                 hurt       0.00      0.00      0.00        15\n",
            "              itching       0.00      0.00      0.00        11\n",
            "                large       0.00      0.00      0.00        22\n",
            "                  mom       0.00      0.00      0.00        19\n",
            "              monthly       0.00      0.00      0.00         9\n",
            "          notfeelgood       0.00      0.00      0.00        17\n",
            "               orange       0.00      0.00      0.00        12\n",
            "                pizza       0.00      0.00      0.00        15\n",
            "               please       0.00      0.00      0.00        20\n",
            "                shirt       0.00      0.00      0.00        13\n",
            "             soreness       0.00      0.00      0.00         3\n",
            "             swelling       0.00      0.00      0.00        13\n",
            "   takeliquidmedicine       0.00      0.00      0.00        12\n",
            "        thatsterrible       0.00      0.00      0.00        14\n",
            "                tired       0.00      0.00      0.00        14\n",
            "         upsetstomach       0.00      0.00      0.00        12\n",
            "                 wash       0.00      0.00      0.00        17\n",
            "\n",
            "             accuracy                           0.03       510\n",
            "            macro avg       0.00      0.03      0.00       510\n",
            "         weighted avg       0.00      0.03      0.00       510\n",
            "\n",
            "PCA:\n",
            "                       precision    recall  f1-score   support\n",
            "\n",
            "           allmorning       0.00      0.00      0.00        15\n",
            "                 bird       0.00      0.00      0.00        14\n",
            "                 blue       0.00      0.00      0.00        22\n",
            "            cantsleep       0.00      0.00      0.00        11\n",
            "                  cat       0.00      0.00      0.00        14\n",
            "        coldrunnynose       0.00      0.00      0.00        13\n",
            "continuouslyforanhour       0.00      0.00      0.00        12\n",
            "                 cost       0.06      0.18      0.09        17\n",
            "                  day       0.00      0.00      0.00        15\n",
            "               dollar       0.00      0.00      0.00        17\n",
            "         everymorning       0.00      0.00      0.00        13\n",
            "           everynight       0.00      0.00      0.00         9\n",
            "                 gold       0.00      0.00      0.00        15\n",
            "            goodnight       0.00      0.00      0.00        21\n",
            "                happy       0.00      0.00      0.00        26\n",
            "             headache       0.00      0.00      0.00         7\n",
            "                 home       0.00      0.00      0.00        21\n",
            "                horse       0.00      0.00      0.00        13\n",
            "                  hot       0.05      0.86      0.10        21\n",
            "                 hurt       0.00      0.00      0.00        10\n",
            "              itching       0.00      0.00      0.00         9\n",
            "                large       0.08      0.05      0.06        21\n",
            "                  mom       0.00      0.00      0.00        22\n",
            "              monthly       0.00      0.00      0.00        14\n",
            "          notfeelgood       0.00      0.00      0.00        12\n",
            "               orange       0.00      0.00      0.00        12\n",
            "                pizza       0.00      0.00      0.00        13\n",
            "               please       0.00      0.00      0.00        16\n",
            "                shirt       0.00      0.00      0.00        15\n",
            "             soreness       0.00      0.00      0.00         1\n",
            "             swelling       0.00      0.00      0.00         8\n",
            "   takeliquidmedicine       0.00      0.00      0.00        14\n",
            "        thatsterrible       0.00      0.00      0.00         9\n",
            "                tired       0.00      0.00      0.00        11\n",
            "         upsetstomach       0.00      0.00      0.00        12\n",
            "                 wash       0.06      0.33      0.10        15\n",
            "\n",
            "             accuracy                           0.05       510\n",
            "            macro avg       0.01      0.04      0.01       510\n",
            "         weighted avg       0.01      0.05      0.01       510\n",
            "\n"
          ],
          "name": "stdout"
        }
      ]
    },
    {
      "cell_type": "markdown",
      "metadata": {
        "id": "h57zKLByfy2Y",
        "colab_type": "text"
      },
      "source": [
        "TODO:\n",
        "\n",
        "-check what happens when combining diff data sources\n",
        "\n",
        "-graph components\n",
        "\n",
        "find correlations\n",
        "\n",
        "-interpret pca results\n",
        "\n",
        "-try pca per individual/word\n",
        "\n",
        "-read dataset papers\n",
        "\n",
        "correlation component with word\n",
        "\n",
        "-try straight to svm\n",
        "\n",
        "-resend email\n",
        "\n",
        "check what is the data\n",
        "\n",
        "-merge timeseries word index\n",
        "\n",
        "see how stable each feature are\n",
        "\n",
        "standard deviation timeseries\n",
        "\n",
        "-try without filter\n",
        "\n",
        "multi-class classifier SVM\n",
        "\n",
        "**try with 2 words, only emg\n",
        "average per column\n",
        "test each step\n",
        "test svm with 2 matrices\n",
        "see if svm has access to test set \n",
        "maybe shifted per set \n",
        "\n"
      ]
    },
    {
      "cell_type": "markdown",
      "metadata": {
        "id": "ScbnguG8ONoC",
        "colab_type": "text"
      },
      "source": [
        "https://www.researchgate.net/publication/303707429_Combining_Smartphone_and_Smartwatch_Sensor_Data_in_Activity_Recognition_Approaches_an_Experimental_Evaluation"
      ]
    },
    {
      "cell_type": "markdown",
      "metadata": {
        "id": "Ay3NExQ59xrM",
        "colab_type": "text"
      },
      "source": [
        "References\n",
        "\n",
        "https://stackoverflow.com/questions/56449262/how-to-upload-folders-to-google-colab\n",
        "\n",
        "https://github.com/datarail/datarail/issues/39\n",
        "\n",
        "https://dbader.org/blog/python-check-if-file-exists\n",
        "\n",
        "https://datacarpentry.org/python-socialsci/11-joins/index.html\n",
        "\n",
        "https://stackoverflow.com/questions/26414913/normalize-columns-of-pandas-data-frame\n",
        "\n",
        "https://scikit-learn.org/stable/modules/generated/sklearn.decomposition.PCA.html\n",
        "\n",
        "https://towardsdatascience.com/pca-using-python-scikit-learn-e653f8989e60\n",
        "\n",
        "https://pandas.pydata.org/pandas-docs/stable/reference/api/pandas.DataFrame.to_csv.html\n",
        "\n",
        "https://www.tutorialspoint.com/matplotlib/matplotlib_bar_plot.htm\n",
        "\n",
        "https://docs.scipy.org/doc/scipy-0.14.0/reference/generated/scipy.signal.butter.html\n",
        "\n",
        "https://stackoverflow.com/questions/32194967/how-to-do-pca-and-svm-for-classification-in-python\n",
        "\n",
        "https://stackoverflow.com/questions/6822725/rolling-or-sliding-window-iterator\n",
        "\n",
        "https://scikit-learn.org/stable/modules/cross_validation.html\n",
        "\n",
        "https://stackoverflow.com/questions/47684606/merge-cells-with-pandas\n",
        "\n",
        "https://scientificallysound.org/2016/08/18/python-analysing-emg-signals-part-3/\n",
        "\n",
        "https://stackoverflow.com/questions/58374492/python-valueerror-the-length-of-the-input-vector-x-must-be-greater-than-padle\n",
        "\n",
        "https://pandas.pydata.org/pandas-docs/stable/reference/api/pandas.DataFrame.set_index.html\n",
        "\n",
        "https://scikit-learn.org/stable/auto_examples/model_selection/plot_confusion_matrix.html\n",
        "\n",
        "https://statinfer.com/204-4-2-calculating-sensitivity-and-specificity-in-python/\n",
        "\n",
        "https://www.datacamp.com/community/tutorials/pandas-multi-index\n",
        "\n",
        "https://www.geeksforgeeks.org/how-to-get-rows-index-names-in-pandas-dataframe/\n",
        "\n",
        "https://stackoverflow.com/questions/28140771/select-only-one-index-of-multiindex-dataframe\n",
        "\n",
        "https://www.educative.io/edpresso/how-to-create-a-confusion-matrix-in-python-using-scikit-learn\n",
        "\n",
        "https://scikit-learn.org/stable/modules/generated/sklearn.metrics.classification_report.html\n",
        "\n",
        "http://www.datasciencemadesimple.com/standard-deviation-function-python-pandas-row-column/\n",
        "\n",
        "https://stackoverflow.com/questions/39047915/concat-series-onto-dataframe-with-column-name\n"
      ]
    },
    {
      "cell_type": "code",
      "metadata": {
        "id": "V77MeC59AHdU",
        "colab_type": "code",
        "colab": {
          "base_uri": "https://localhost:8080/",
          "height": 120
        },
        "outputId": "6ebe68e2-5151-4ac3-ae3b-ce5905efdcef"
      },
      "source": [
        "\"\"\"\n",
        "### Combine all files\n",
        "words=['allmorning', 'bird', 'blue', 'cantsleep', 'cat', 'coldrunnynose', 'continuouslyforanhour', 'cost', 'day', 'dollar', 'everymorning', 'everynight', 'gold', 'goodnight', 'happy', 'headache', 'home', 'horse', 'hot', 'hurt', 'itching', 'large', 'mom', 'monthly', 'notfeelgood', 'orange', 'pizza', 'please', 'shirt', 'soreness', 'swelling', 'takeliquidmedicine', 'thatsterrible', 'tired', 'upsetstomach', 'wash']\n",
        "lengths=np.zeros(849, dtype=int)\n",
        "reps=np.zeros(36,dtype=int)\n",
        "wordnum=-1\n",
        "counter=0\n",
        "\n",
        "for w in words:\n",
        "  repcount=0\n",
        "  wordnum+=1\n",
        "\n",
        "  for i in range (10, 120):\n",
        "    path='/content/2MyoASL/' + w + '_' + str(i) + '.csv'\n",
        "\n",
        "    if os.path.exists(path)==True:\n",
        "      counter+=1\n",
        "      repcount+=1\n",
        "      trial=pd.read_csv(path)\n",
        "      lengths[counter-1]=len(trial)\n",
        "      \n",
        "      # Replace counter with evaluated term\n",
        "      for r in range(0,len(trial)):\n",
        "        trial.iloc[r,0]=wordnum\n",
        "        \n",
        "      # Combine all trials\n",
        "      if path=='/content/2MyoASL/allmorning_10.csv':\n",
        "          matrix=trial\n",
        "          \n",
        "          # Create plot for EMG\n",
        "\n",
        "          # Create plot for accelerometer\n",
        "          plt.figure()\n",
        "          alx=plt.axes(projection='3d')\n",
        "          alx.plot3D(trial.loc[:, 'AXL'].values, trial.loc[:, 'AYL'].values, trial.loc[:, 'AZL'].values)\n",
        "          alx.set_title('Accelerometer on left arm')\n",
        "\n",
        "          plt.figure()\n",
        "          arx=plt.axes(projection='3d')\n",
        "          arx.plot3D(trial.loc[:, 'AXR'].values, trial.loc[:, 'AYR'].values, trial.loc[:, 'AZR'].values)\n",
        "          arx.set_title('Accelerometer on right arm')\n",
        "\n",
        "          # Create plot for gyroscope\n",
        "          plt.figure()\n",
        "          glx=plt.axes(projection='3d')\n",
        "          glx.plot3D(trial.loc[:, 'GXL'].values, trial.loc[:, 'GYL'].values, trial.loc[:, 'GZL'].values)\n",
        "          glx.set_title('Gyroscope on left arm')\n",
        "\n",
        "          plt.figure()\n",
        "          grx=plt.axes(projection='3d')\n",
        "          grx.plot3D(trial.loc[:, 'GXR'].values, trial.loc[:, 'GYR'].values, trial.loc[:, 'GZR'].values)\n",
        "          grx.set_title('Gyroscope on right arm')\n",
        "      else:\n",
        "          matrix=pd.concat([matrix, trial])\n",
        "\n",
        "          ###############################################\n",
        "          # Create plot for accelerometer\n",
        "          alx.plot3D(trial.loc[:, 'AXL'].values, trial.loc[:, 'AYL'].values, trial.loc[:, 'AZL'].values)\n",
        "          arx.plot3D(trial.loc[:, 'AXR'].values, trial.loc[:, 'AYR'].values, trial.loc[:, 'AZR'].values)\n",
        "          #plt.show()\n",
        "\n",
        "          # Create plot for gyroscope\n",
        "          glx.plot3D(trial.loc[:, 'GXL'].values, trial.loc[:, 'GYL'].values, trial.loc[:, 'GZL'].values)\n",
        "          grx.plot3D(trial.loc[:, 'GXR'].values, trial.loc[:, 'GYR'].values, trial.loc[:, 'GZR'].values)\n",
        "          ###############################################\n",
        "\n",
        "  reps[wordnum]=repcount\n",
        "plt.show()\n",
        "\"\"\" "
      ],
      "execution_count": 15,
      "outputs": [
        {
          "output_type": "execute_result",
          "data": {
            "application/vnd.google.colaboratory.intrinsic+json": {
              "type": "string"
            },
            "text/plain": [
              "\"\\n### Combine all files\\nwords=['allmorning', 'bird', 'blue', 'cantsleep', 'cat', 'coldrunnynose', 'continuouslyforanhour', 'cost', 'day', 'dollar', 'everymorning', 'everynight', 'gold', 'goodnight', 'happy', 'headache', 'home', 'horse', 'hot', 'hurt', 'itching', 'large', 'mom', 'monthly', 'notfeelgood', 'orange', 'pizza', 'please', 'shirt', 'soreness', 'swelling', 'takeliquidmedicine', 'thatsterrible', 'tired', 'upsetstomach', 'wash']\\nlengths=np.zeros(849, dtype=int)\\nreps=np.zeros(36,dtype=int)\\nwordnum=-1\\ncounter=0\\n\\nfor w in words:\\n  repcount=0\\n  wordnum+=1\\n\\n  for i in range (10, 120):\\n    path='/content/2MyoASL/' + w + '_' + str(i) + '.csv'\\n\\n    if os.path.exists(path)==True:\\n      counter+=1\\n      repcount+=1\\n      trial=pd.read_csv(path)\\n      lengths[counter-1]=len(trial)\\n      \\n      # Replace counter with evaluated term\\n      for r in range(0,len(trial)):\\n        trial.iloc[r,0]=wordnum\\n        \\n      # Combine all trials\\n      if path=='/content/2MyoASL/allmorning_10.csv':\\n          matrix=trial\\n          \\n          # Create plot for EMG\\n\\n          # Create plot for accelerometer\\n          plt.figure()\\n          alx=plt.axes(projection='3d')\\n          alx.plot3D(trial.loc[:, 'AXL'].values, trial.loc[:, 'AYL'].values, trial.loc[:, 'AZL'].values)\\n          alx.set_title('Accelerometer on left arm')\\n\\n          plt.figure()\\n          arx=plt.axes(projection='3d')\\n          arx.plot3D(trial.loc[:, 'AXR'].values, trial.loc[:, 'AYR'].values, trial.loc[:, 'AZR'].values)\\n          arx.set_title('Accelerometer on right arm')\\n\\n          # Create plot for gyroscope\\n          plt.figure()\\n          glx=plt.axes(projection='3d')\\n          glx.plot3D(trial.loc[:, 'GXL'].values, trial.loc[:, 'GYL'].values, trial.loc[:, 'GZL'].values)\\n          glx.set_title('Gyroscope on left arm')\\n\\n          plt.figure()\\n          grx=plt.axes(projection='3d')\\n          grx.plot3D(trial.loc[:, 'GXR'].values, trial.loc[:, 'GYR'].values, trial.loc[:, 'GZR'].values)\\n          grx.set_title('Gyroscope on right arm')\\n      else:\\n          matrix=pd.concat([matrix, trial])\\n\\n          ###############################################\\n          # Create plot for accelerometer\\n          alx.plot3D(trial.loc[:, 'AXL'].values, trial.loc[:, 'AYL'].values, trial.loc[:, 'AZL'].values)\\n          arx.plot3D(trial.loc[:, 'AXR'].values, trial.loc[:, 'AYR'].values, trial.loc[:, 'AZR'].values)\\n          #plt.show()\\n\\n          # Create plot for gyroscope\\n          glx.plot3D(trial.loc[:, 'GXL'].values, trial.loc[:, 'GYL'].values, trial.loc[:, 'GZL'].values)\\n          grx.plot3D(trial.loc[:, 'GXR'].values, trial.loc[:, 'GYR'].values, trial.loc[:, 'GZR'].values)\\n          ###############################################\\n\\n  reps[wordnum]=repcount\\nplt.show()\\n\""
            ]
          },
          "metadata": {
            "tags": []
          },
          "execution_count": 15
        }
      ]
    },
    {
      "cell_type": "code",
      "metadata": {
        "id": "knhJG10SD22U",
        "colab_type": "code",
        "colab": {
          "base_uri": "https://localhost:8080/",
          "height": 86
        },
        "outputId": "ee41e5ee-f1b4-4792-de28-c0431f60912d"
      },
      "source": [
        "\"\"\"\n",
        "# PCA for normmatrix\n",
        "pca = PCA(n_components=35)\n",
        "comp=pca.fit_transform(norm_matrix_eago)\n",
        "principal=pd.DataFrame(data=comp, columns=['PC 0', 'PC 1', 'PC 2', 'PC 3', 'PC 4', 'PC 5', 'PC 6', 'PC 7', 'PC 8', 'PC 9', 'PC 10', \n",
        "                                           'PC 11', 'PC 12', 'PC 13', 'PC 14', 'PC 16', 'PC 17', 'PC 18', 'PC 19', 'PC 20', \n",
        "                                           'PC 21', 'PC 22', 'PC 23', 'PC 24', 'PC 25', 'PC 26', 'PC 27', 'PC 28', 'PC 29', \n",
        "                                           'PC 30', 'PC 31', 'PC 32', 'PC 33', 'PC 34', 'PC35'])\n",
        "#principal.reset_index(drop=True, inplace=True)\n",
        "#norm_matrix_eago[['Counter']].reset_index(drop=True, inplace=True)\n",
        "norm_matrix_eago.reset_index(drop=True, inplace=True)\n",
        "m.reset_index(drop=True, inplace=True)\n",
        "#finaldf=pd.join([principal, norm_matrix_eago[['Counter']]], axis=1, ignore_index=True).reset_index()\n",
        "finaldf=principal.join(m[['Counter']],how='outer')\n",
        "finaldf=finaldf.drop(columns=['PC 0'])\n",
        "####finaldf=principal\n",
        "####print(m['Counter'])\n",
        "####finaldf['Word']=m['Counter']\n",
        "#finaldf=pd.concat([principal,norm_matrix_eago[['Counter']]], axis=1, ignore_index=True)\n",
        "\n",
        "print(\"Normalized matrix\")\n",
        "print(pca.explained_variance_ratio_)\n",
        "print(pca.singular_values_)\n",
        "plt.figure()\n",
        "plt.bar(fn,pca.explained_variance_ratio_)\n",
        "plt.show()\n",
        "plt.bar(fn,pca.singular_values_)\n",
        "plt.show()\n",
        "print(finaldf)\n",
        "#print(principal.join(norm_matrix_eago[['Counter']],how='inner'))\n",
        "\"\"\"\n",
        "\"\"\"\n",
        "# PCA for normalizedmatrix\n",
        "pca = PCA(n_components=34)\n",
        "pca.fit(normalized_matrix)\n",
        "print(\"Normalized features\")\n",
        "print(pca.explained_variance_ratio_)\n",
        "print(pca.singular_values_)\n",
        "plt.figure()\n",
        "plt.bar(fn[0:34],pca.explained_variance_ratio_)\n",
        "plt.show()\n",
        "plt.bar(fn[0:34],pca.singular_values_)\n",
        "plt.show()\n",
        "\n",
        "# PCA for standardizedmatrix\n",
        "pca = PCA(n_components=34)\n",
        "pca.fit(standardized_matrix)\n",
        "print(\"Standardized features\")\n",
        "print(pca.explained_variance_ratio_)\n",
        "print(pca.singular_values_)\n",
        "plt.figure()\n",
        "plt.bar(fn[0:34],pca.explained_variance_ratio_)\n",
        "plt.show()\n",
        "plt.bar(fn[0:34],pca.singular_values_)\n",
        "plt.show()\n",
        "\"\"\""
      ],
      "execution_count": 16,
      "outputs": [
        {
          "output_type": "execute_result",
          "data": {
            "application/vnd.google.colaboratory.intrinsic+json": {
              "type": "string"
            },
            "text/plain": [
              "'\\n# PCA for normalizedmatrix\\npca = PCA(n_components=34)\\npca.fit(normalized_matrix)\\nprint(\"Normalized features\")\\nprint(pca.explained_variance_ratio_)\\nprint(pca.singular_values_)\\nplt.figure()\\nplt.bar(fn[0:34],pca.explained_variance_ratio_)\\nplt.show()\\nplt.bar(fn[0:34],pca.singular_values_)\\nplt.show()\\n\\n# PCA for standardizedmatrix\\npca = PCA(n_components=34)\\npca.fit(standardized_matrix)\\nprint(\"Standardized features\")\\nprint(pca.explained_variance_ratio_)\\nprint(pca.singular_values_)\\nplt.figure()\\nplt.bar(fn[0:34],pca.explained_variance_ratio_)\\nplt.show()\\nplt.bar(fn[0:34],pca.singular_values_)\\nplt.show()\\n'"
            ]
          },
          "metadata": {
            "tags": []
          },
          "execution_count": 16
        }
      ]
    }
  ]
}