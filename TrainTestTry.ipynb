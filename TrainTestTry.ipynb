{
  "nbformat": 4,
  "nbformat_minor": 0,
  "metadata": {
    "colab": {
      "name": "TrainTestTry.ipynb",
      "provenance": [],
      "collapsed_sections": [],
      "authorship_tag": "ABX9TyPgOshkDdkbhOsdVRDENhcm",
      "include_colab_link": true
    },
    "kernelspec": {
      "name": "python3",
      "display_name": "Python 3"
    }
  },
  "cells": [
    {
      "cell_type": "markdown",
      "metadata": {
        "id": "view-in-github",
        "colab_type": "text"
      },
      "source": [
        "<a href=\"https://colab.research.google.com/github/michelleaeh/Dissertation/blob/master/TrainTestTry.ipynb\" target=\"_parent\"><img src=\"https://colab.research.google.com/assets/colab-badge.svg\" alt=\"Open In Colab\"/></a>"
      ]
    },
    {
      "cell_type": "code",
      "metadata": {
        "id": "JYr-NOjv2-5P",
        "colab_type": "code",
        "colab": {
          "base_uri": "https://localhost:8080/",
          "height": 595
        },
        "outputId": "e082b14d-84f2-4da4-da8b-b3c4e2f98351"
      },
      "source": [
        "import numpy as np\n",
        "import pandas as pd\n",
        "import random\n",
        "matrix=[[0, 1, 2, 3, 4, 5],\n",
        "        [6, 7, 8, 9, 10, 11],\n",
        "        [12, 13, 14, 15, 16, 17],\n",
        "        [18, 19, 20, 21, 22, 23],\n",
        "        [24, 25, 26, 27, 28, 29],\n",
        "        [30, 31, 32, 33, 34, 35],\n",
        "        [36, 37, 38, 39, 40, 41],\n",
        "        [42, 43, 44, 45, 46, 47],\n",
        "        [48, 49, 50, 51, 52, 53]]\n",
        "df=pd.DataFrame(matrix,columns=['a', 'b', 'c', 'd', 'e', 'f'])\n",
        "print(df)\n",
        "\n",
        "trainrows=random.sample(range(0,len(df)-1),int(0.6*(len(df)-1)))\n",
        "train=df.iloc[trainrows,:]\n",
        "test=df.drop(index=trainrows)\n",
        "\n",
        "x_train=train.iloc[:,1:]\n",
        "print('train')\n",
        "print(x_train)\n",
        "y_train=train.iloc[:,0]\n",
        "print(y_train)\n",
        "x_test=test.iloc[:,1:]\n",
        "print('test')\n",
        "print(x_test)\n",
        "y_test=test.iloc[:,0]\n",
        "print(y_test)"
      ],
      "execution_count": 11,
      "outputs": [
        {
          "output_type": "stream",
          "text": [
            "    a   b   c   d   e   f\n",
            "0   0   1   2   3   4   5\n",
            "1   6   7   8   9  10  11\n",
            "2  12  13  14  15  16  17\n",
            "3  18  19  20  21  22  23\n",
            "4  24  25  26  27  28  29\n",
            "5  30  31  32  33  34  35\n",
            "6  36  37  38  39  40  41\n",
            "7  42  43  44  45  46  47\n",
            "8  48  49  50  51  52  53\n",
            "train\n",
            "    b   c   d   e   f\n",
            "3  19  20  21  22  23\n",
            "7  43  44  45  46  47\n",
            "5  31  32  33  34  35\n",
            "4  25  26  27  28  29\n",
            "3    18\n",
            "7    42\n",
            "5    30\n",
            "4    24\n",
            "Name: a, dtype: int64\n",
            "test\n",
            "    b   c   d   e   f\n",
            "0   1   2   3   4   5\n",
            "1   7   8   9  10  11\n",
            "2  13  14  15  16  17\n",
            "6  37  38  39  40  41\n",
            "8  49  50  51  52  53\n",
            "0     0\n",
            "1     6\n",
            "2    12\n",
            "6    36\n",
            "8    48\n",
            "Name: a, dtype: int64\n"
          ],
          "name": "stdout"
        }
      ]
    }
  ]
}