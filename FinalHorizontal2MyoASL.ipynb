{
  "nbformat": 4,
  "nbformat_minor": 0,
  "metadata": {
    "colab": {
      "name": "FinalHorizontal2MyoASL.ipynb",
      "provenance": [],
      "collapsed_sections": [],
      "authorship_tag": "ABX9TyOB8gi2Jy73m3pGiunoTAit",
      "include_colab_link": true
    },
    "kernelspec": {
      "name": "python3",
      "display_name": "Python 3"
    }
  },
  "cells": [
    {
      "cell_type": "markdown",
      "metadata": {
        "id": "view-in-github",
        "colab_type": "text"
      },
      "source": [
        "<a href=\"https://colab.research.google.com/github/michelleaeh/Dissertation/blob/master/FinalHorizontal2MyoASL.ipynb\" target=\"_parent\"><img src=\"https://colab.research.google.com/assets/colab-badge.svg\" alt=\"Open In Colab\"/></a>"
      ]
    },
    {
      "cell_type": "markdown",
      "metadata": {
        "id": "mH79ogCWrzbt",
        "colab_type": "text"
      },
      "source": [
        "**Myo armband dataset from https://data.mendeley.com/datasets/wgswcr8z24/2**\n",
        "\n",
        "\n",
        "**The dataset consits of .csv files collected from two Myo armbands. The format of the files are [word_name]_[id]. The ‘word_name’ is the English translation of the American Sign Language word used and the ‘id’ is a unique identifier. The .zip for each of the above links has sub-folders for each User.**\n",
        "\n",
        "**Each file has 50 columns. They represent a sub-sampled data collection from two Myo devices worn on left and right hands of the signer. The first column is the ‘Counter’ that goes from 1 to 50.**\n",
        "\n",
        "**The following columns are of the format: [Sensor][pod/direction][left/right]. For instance the EMG reading for the first EMG pod (out of 8) on the left hand would be called EMG0R and the accelerometer reading for the Z axis on the left hand would be called: AXL**\n",
        "\n",
        "**If you use this dataset please cite the following papers:**\n",
        "\n",
        "**@inproceedings{paudyal2016sceptre,\n",
        "title={Sceptre: a pervasive, non-invasive, and programmable gesture recognition technology},\n",
        "author={Paudyal, Prajwal and Banerjee, Ayan and Gupta, Sandeep KS},\n",
        "booktitle={Proceedings of the 21st International Conference on Intelligent User Interfaces},\n",
        "pages={282--293},\n",
        "year={2016},\n",
        "organization={ACM}\n",
        "}**\n",
        "\n",
        "**@inproceedings{paudyal2017dyfav,\n",
        "title={Dyfav: Dynamic feature selection and voting for real-time recognition of fingerspelled alphabet using wearables},\n",
        "author={Paudyal, Prajwal and Lee, Junghyo and Banerjee, Ayan and Gupta, Sandeep KS},\n",
        "booktitle={Proceedings of the 22nd International Conference on Intelligent User Interfaces},\n",
        "pages={457--467},\n",
        "year={2017},\n",
        "organization={ACM}\n",
        "}**"
      ]
    },
    {
      "cell_type": "markdown",
      "metadata": {
        "id": "FHNKWJHfhpMy",
        "colab_type": "text"
      },
      "source": [
        "**Frequency:**\n",
        "\n",
        "50Hz sampling rate\n",
        "\n",
        "**Words:**\n",
        "\n",
        "*36 total words*\n",
        "\n",
        "allmorning, bird, blue, cantsleep, cat, colrunnynose, continuouslyforanhour, cost, day, dollar, everymorning, everynight, gold, goodnight, happy, headache, home, horse, hot, hurt, itching, large, mom, monthly, notfeelgood, orange, pizza, please, shirt, soreness, swelling, takeliquidmedicine, thatsterrible, tired, upsetstomach, wash\n",
        "\n",
        "\n",
        "**Filenames:**\n",
        "\n",
        "*849 total files*\n",
        "\n",
        "(word)_(user#)(try#)\n",
        "\n",
        "\n",
        "**Columns of files:**\n",
        "\n",
        "Counter  (1 -> 50)\n",
        "\n",
        "EMG0L -> EMG7L  (EMG sensor readings)\n",
        "\n",
        "AXL, AYL, AZL  (accelerometer readings)\n",
        "\n",
        "GXL, GYL, GZL  (gyroscope readings)\n",
        "\n",
        "ORL, OPL, OYL  (magnetometer readings?)\n",
        "\n",
        "EMG0R -> EMG7R  (EMG sensor readings)\n",
        "\n",
        "AXR, AYR, AZR  (accelerometer readings)\n",
        "\n",
        "GXR, GYR, GZR  (gyroscope readings)\n",
        "\n",
        "ORR, OPR, OYR  (magnetometer readings?)\n",
        "\n",
        "features=['EMG0L', 'EMG1L', 'EMG2L', 'EMG3L', 'EMG4L', 'EMG5L', 'EMG6L', 'EMG7L', 'AXL', 'AYL', 'AZL', 'GXL', 'GYL', 'GZL', 'ORL', 'OPL', 'OYL', 'EMG0R', 'EMG1R', 'EMG2R', 'EMG3R', 'EMG4R', 'EMG5R', 'EMG6R', 'EMG7R', 'AXR', 'AYR', 'AZR', 'GXR', 'GYR', 'GZR', 'ORR', 'OPR', 'OYR']\n",
        "\n",
        "\n",
        "**Size of files:**\n",
        "\n",
        "All files are 50 rows x 35 columns except continuouslyforanhour_22.csv, headache_52.csv, home_61.csv, and mom_82.csv which are 101 rows x 35 columns\n",
        "\n",
        "**Steps:**\n",
        "\n",
        "1. Combine files\n",
        "2. Normalize or standardize matrix\n",
        "3. Apply Butterworth\n",
        "4. Apply PCA\n",
        "5. Input to SVM\n"
      ]
    },
    {
      "cell_type": "code",
      "metadata": {
        "id": "5TnTycFtrpHd",
        "colab_type": "code",
        "colab": {}
      },
      "source": [
        "import matplotlib.pyplot as plt\n",
        "import numpy as np\n",
        "import os.path\n",
        "import pandas as pd\n",
        "import scipy as sp\n",
        "import warnings\n",
        "\n",
        "from google.colab import files\n",
        "from mpl_toolkits import mplot3d\n",
        "from scipy import signal\n",
        "from scipy.io import loadmat\n",
        "from sklearn import metrics\n",
        "from sklearn.decomposition import PCA\n",
        "from sklearn.metrics import classification_report\n",
        "from sklearn.metrics import plot_confusion_matrix\n",
        "from sklearn.model_selection import train_test_split\n",
        "from sklearn.preprocessing import StandardScaler\n",
        "from sklearn.svm import SVC\n",
        "from zipfile import ZipFile\n",
        "\n",
        "# Import zip containing all files\n",
        "file_name = \"/content/2MyoASL.zip\"\n",
        "\n",
        "# Extract all files from zip\n",
        "with ZipFile(file_name, 'r') as zip:\n",
        "  zip.extractall()"
      ],
      "execution_count": 1,
      "outputs": []
    },
    {
      "cell_type": "code",
      "metadata": {
        "id": "vHsqsj2NRpEe",
        "colab_type": "code",
        "colab": {}
      },
      "source": [
        "# Generate matrices for all combinations of sensors (E=3, A=5, G=7, O=11)\n",
        "products=[3, 5, 7, 11, 15, 21, 33, 35, 55, 77, 105, 165, 231, 385, 1155]\n",
        "comb=['e', 'a', 'g', 'o', 'ea', 'eg', 'eo', 'ag', 'ao', 'go', 'eag', 'eao', 'ego', 'ago', 'eago']\n",
        "emg=['EMG0L', 'EMG1L', 'EMG2L', 'EMG3L', 'EMG4L', 'EMG5L', 'EMG6L', 'EMG7L', \n",
        "    'EMG0R', 'EMG1R', 'EMG2R', 'EMG3R', 'EMG4R', 'EMG5R', 'EMG6R', 'EMG7R']\n",
        "acc=['AXL', 'AYL', 'AZL', 'AXR', 'AYR', 'AZR']\n",
        "gyro=['GXL', 'GYL', 'GZL', 'GXR', 'GYR', 'GZR']\n",
        "ori=['ORL', 'OPL', 'OYL', 'ORR', 'OPR', 'OYR']\n",
        "\n",
        "# Initialization of counters\n",
        "words=['allmorning', 'bird', 'blue', 'cantsleep', 'cat', 'coldrunnynose', 'continuouslyforanhour', 'cost', 'day', \n",
        "       'dollar', 'everymorning', 'everynight', 'gold', 'goodnight', 'happy', 'headache', 'home', 'horse', 'hot', \n",
        "       'hurt', 'itching', 'large', 'mom', 'monthly', 'notfeelgood', 'orange', 'pizza', 'please', 'shirt', \n",
        "       'soreness', 'swelling', 'takeliquidmedicine', 'thatsterrible', 'tired', 'upsetstomach', 'wash']\n",
        "colnames=['EMG0L', 'EMG1L', 'EMG2L', 'EMG3L', 'EMG4L', 'EMG5L', 'EMG6L', 'EMG7L', 'AXL', 'AYL', 'AZL', 'GXL', 'GYL', 'GZL', 'ORL', 'OPL', 'OYL', \n",
        "          'EMG0R', 'EMG1R', 'EMG2R', 'EMG3R', 'EMG4R', 'EMG5R', 'EMG6R', 'EMG7R', 'AXR', 'AYR', 'AZR', 'GXR', 'GYR', 'GZR', 'ORR', 'OPR', 'OYR']\n",
        "lengths=np.zeros(849, dtype=int)\n",
        "reps=np.zeros(36,dtype=int)\n",
        "headers=np.empty(1701, dtype=object)\n",
        "features=np.zeros(15)\n",
        "target=np.zeros(15)\n",
        "matrix=np.zeros(1)\n",
        "norm=products\n",
        "stand=products\n",
        "\n",
        "fn=np.arange(1701)\n",
        "wordnum=-1\n",
        "counter=-1\n",
        "num=0\n",
        "n=0"
      ],
      "execution_count": 2,
      "outputs": []
    },
    {
      "cell_type": "markdown",
      "metadata": {
        "id": "KlNv9yLMcZoR",
        "colab_type": "text"
      },
      "source": [
        "**1. Combine all files**"
      ]
    },
    {
      "cell_type": "code",
      "metadata": {
        "id": "MQFtofv7yG7G",
        "colab_type": "code",
        "colab": {}
      },
      "source": [
        "# Combine all files\n",
        "for w in words:\n",
        "  repcount=0\n",
        "  wordnum+=1\n",
        "\n",
        "  for i in range (10, 120):\n",
        "    path='/content/2MyoASL/' + w + '_' + str(i) + '.csv'\n",
        "\n",
        "    if os.path.exists(path)==True:\n",
        "      counter+=1\n",
        "      repcount+=1\n",
        "      trial=pd.read_csv(path)\n",
        "\n",
        "      trial.reset_index(drop=True)\n",
        "      \n",
        "      # Assign word number per row\n",
        "      row=np.zeros(1)\n",
        "      for t in range(35):\n",
        "        if t==0:\n",
        "          row[0]=wordnum\n",
        "        else:\n",
        "          sensor=trial.iloc[0:50,t].values\n",
        "          sensor.reshape([1,50])\n",
        "          row=np.concatenate((row, sensor))\n",
        "      prev=row\n",
        "      \n",
        "      # Combine all trials\n",
        "      if counter==0:\n",
        "        matrix=prev\n",
        "      else:\n",
        "        matrix=np.concatenate([matrix,prev])\n",
        "\n",
        "# Create header name array\n",
        "headers[0]='Word'\n",
        "for c in colnames:\n",
        "  for t in range(50):\n",
        "    num+=1\n",
        "    headers[num]=c\n",
        "\n",
        "# Give format to final matrix \n",
        "matrix=matrix.reshape([849,1701])\n",
        "matrix=pd.DataFrame(matrix, columns=headers) ####### matrix stores raw data of all 849 files"
      ],
      "execution_count": 3,
      "outputs": []
    },
    {
      "cell_type": "markdown",
      "metadata": {
        "id": "OUm4BOpRexH1",
        "colab_type": "text"
      },
      "source": [
        "**1.1 Create combinatory matrices**"
      ]
    },
    {
      "cell_type": "code",
      "metadata": {
        "id": "wYF1iX-Wet2m",
        "colab_type": "code",
        "colab": {
          "base_uri": "https://localhost:8080/",
          "height": 255
        },
        "outputId": "cc4cee90-a259-4327-fcda-69be828ed305"
      },
      "source": [
        "# Eliminate unnecessary columns to create combinatory matrices\n",
        "for v in products:\n",
        "  m=matrix\n",
        "  if v%3!=0:\n",
        "    m=m.drop(emg,axis=1)\n",
        "  if v%5!=0:\n",
        "    m=m.drop(acc,axis=1)\n",
        "  if v%7!=0:\n",
        "    m=m.drop(gyro,axis=1)\n",
        "  if v%11!=0:\n",
        "    m=m.drop(ori,axis=1)\n",
        "  products[n]=m ####### products stores the raw data of all 849 files according to combinatory sensors\n",
        "  exec(comb[n]+\"=products[n]\")\n",
        "  n+=1\n",
        "print(products[0])"
      ],
      "execution_count": 4,
      "outputs": [
        {
          "output_type": "stream",
          "text": [
            "     Word  EMG0L  EMG0L  EMG0L  EMG0L  ...  EMG7R  EMG7R  EMG7R  EMG7R  EMG7R\n",
            "0     0.0    0.0    0.0   -3.0   -1.0  ...   -2.0    9.0  -14.0   11.0  -20.0\n",
            "1     0.0    0.0    0.0    4.0   -2.0  ...    1.0   -3.0    1.0    0.0    2.0\n",
            "2     0.0    0.0    0.0   -8.0   -1.0  ...    2.0   -2.0   -1.0    2.0   14.0\n",
            "3     0.0    0.0    0.0   -1.0  -19.0  ...    0.0   -2.0   -1.0   -3.0    1.0\n",
            "4     0.0    0.0    0.0    1.0  -16.0  ...    3.0   -3.0    2.0    0.0   -1.0\n",
            "..    ...    ...    ...    ...    ...  ...    ...    ...    ...    ...    ...\n",
            "844  35.0    0.0    0.0   -2.0    0.0  ...   -2.0   -2.0    1.0   11.0  -10.0\n",
            "845  35.0    0.0    0.0    2.0   -8.0  ...    1.0    0.0   -1.0   -2.0   -2.0\n",
            "846  35.0    0.0    0.0   -8.0   26.0  ...   -2.0    1.0   -2.0    7.0   -3.0\n",
            "847  35.0    0.0    0.0   -1.0   21.0  ...   -4.0   -1.0   -4.0    0.0   -2.0\n",
            "848  35.0    0.0    0.0    8.0  -19.0  ...   -3.0    4.0    9.0   -4.0    4.0\n",
            "\n",
            "[849 rows x 801 columns]\n"
          ],
          "name": "stdout"
        }
      ]
    },
    {
      "cell_type": "markdown",
      "metadata": {
        "id": "3SXoB8OWcBuB",
        "colab_type": "text"
      },
      "source": [
        "**2. Normalize and standardize each combinatory matrix**"
      ]
    },
    {
      "cell_type": "code",
      "metadata": {
        "id": "R7Ib41KW5f32",
        "colab_type": "code",
        "colab": {
          "base_uri": "https://localhost:8080/",
          "height": 1000
        },
        "outputId": "8d705bee-bb3a-4e79-8fb3-1d97102d3046"
      },
      "source": [
        "n=0\n",
        "for m in products:\n",
        "  # Separate features from target values\n",
        "  x = m.iloc[:, m.columns!='Word'].values   # Features\n",
        " \n",
        "  # Normalize features so that each column is between 0 and 1\n",
        "  norm_matrix=(m-m.min())/(m.max()-m.min())\n",
        "  norm_matrix=pd.DataFrame(norm_matrix)\n",
        "  norm_matrix=norm_matrix.dropna(axis=1)\n",
        "  for r in range(849):\n",
        "    wn=int(35*norm_matrix.iloc[r,0])\n",
        "    norm_matrix.iloc[r,0]=words[wn]\n",
        "  norm[n]=norm_matrix\n",
        "  print(m)\n",
        "\n",
        "  # Standardize features with mean=0 and deviation=1\n",
        "  standardized_matrix=StandardScaler().fit_transform(x)\n",
        "  standardized_matrix=pd.DataFrame(standardized_matrix)\n",
        "  standardized_matrix=standardized_matrix.dropna(axis=1)\n",
        "  stand[n]=standardized_matrix\n",
        "\n",
        "  n+=1\n",
        "\n",
        "cm=norm+stand ####### cm stores all 15 matrices normalized first and then standardized\n",
        "\n",
        "print(m)\n",
        "print(products[14])\n",
        "print(norm[14])\n",
        "print(stand[14])"
      ],
      "execution_count": 12,
      "outputs": [
        {
          "output_type": "stream",
          "text": [
            "/usr/local/lib/python3.6/dist-packages/pandas/core/indexes/base.py:122: FutureWarning: elementwise comparison failed; returning scalar instead, but in the future will perform elementwise comparison\n",
            "  result = op(self.values, np.asarray(other))\n"
          ],
          "name": "stderr"
        },
        {
          "output_type": "stream",
          "text": [
            "     0         1         2         3    ...       796       797       798       799\n",
            "0    0.0 -0.008979 -0.230710 -0.008521  ...  1.038845 -1.499971  1.623874 -2.743880\n",
            "1    0.0 -0.008979  0.576775 -0.123346  ... -0.262970  0.215995  0.152081  0.403779\n",
            "2    0.0 -0.008979 -0.807486 -0.008521  ... -0.154485 -0.012801  0.419679  2.120685\n",
            "3    0.0 -0.008979  0.000000 -2.075372  ... -0.154485 -0.012801 -0.249318  0.260704\n",
            "4    0.0 -0.008979  0.230710 -1.730897  ... -0.262970  0.330392  0.152081 -0.025447\n",
            "..   ...       ...       ...       ...  ...       ...       ...       ...       ...\n",
            "844  0.0 -0.008979 -0.115355  0.106304  ... -0.154485  0.215995  1.623874 -1.313126\n",
            "845  0.0 -0.008979  0.346065 -0.812296  ...  0.062484 -0.012801 -0.115518 -0.168522\n",
            "846  0.0 -0.008979 -0.807486  3.091757  ...  0.170969 -0.127198  1.088676 -0.311598\n",
            "847  0.0 -0.008979  0.000000  2.517631  ... -0.046000 -0.355994  0.152081 -0.168522\n",
            "848  0.0 -0.008979  1.038196 -2.075372  ...  0.496422  1.131176 -0.383117  0.689930\n",
            "\n",
            "[849 rows x 800 columns]\n"
          ],
          "name": "stdout"
        },
        {
          "output_type": "stream",
          "text": [
            "/usr/local/lib/python3.6/dist-packages/pandas/core/indexes/base.py:122: FutureWarning: elementwise comparison failed; returning scalar instead, but in the future will perform elementwise comparison\n",
            "  result = op(self.values, np.asarray(other))\n"
          ],
          "name": "stderr"
        },
        {
          "output_type": "stream",
          "text": [
            "          0         1         2    ...       297       298       299\n",
            "0    0.868317  0.710788  0.299576  ...  0.864979  0.792709  0.792012\n",
            "1    1.075622  1.016774  1.342839  ...  0.735316  0.816698  0.761102\n",
            "2    0.939312  0.919926  0.861120  ...  1.015471  0.782078  0.853924\n",
            "3   -0.043259  0.421646  1.379999  ...  0.898711  0.896517  0.775137\n",
            "4   -0.240624 -0.332088 -0.011475  ...  1.075126  0.515853 -0.394692\n",
            "..        ...       ...       ...  ...       ...       ...       ...\n",
            "844 -1.119541 -1.283731 -0.910223  ...  0.626375  0.497217  0.493951\n",
            "845  0.484945  0.466562 -0.051389  ... -0.948064 -1.339665 -0.434062\n",
            "846 -1.067003 -0.906161  0.190845  ... -0.022079  0.057960 -0.436873\n",
            "847  1.095501  0.752896  0.371145  ... -0.203641 -0.549010 -0.442500\n",
            "848 -0.913655 -0.948271 -1.383684  ... -0.190674  0.313526  0.817353\n",
            "\n",
            "[849 rows x 300 columns]\n"
          ],
          "name": "stdout"
        },
        {
          "output_type": "stream",
          "text": [
            "/usr/local/lib/python3.6/dist-packages/pandas/core/indexes/base.py:122: FutureWarning: elementwise comparison failed; returning scalar instead, but in the future will perform elementwise comparison\n",
            "  result = op(self.values, np.asarray(other))\n"
          ],
          "name": "stderr"
        },
        {
          "output_type": "stream",
          "text": [
            "          0         1         2    ...       297       298       299\n",
            "0    0.015394  0.204646  0.414048  ...  0.392949  0.376767  0.355482\n",
            "1    1.555134  1.452890  1.152575  ...  0.403843  0.396188  0.378354\n",
            "2    0.979916  1.096041  0.604727  ...  0.435315  0.402662  0.379784\n",
            "3    2.178021  0.969323  0.396972  ...  0.362687  0.401367  0.392649\n",
            "4    0.039229 -0.105594 -1.256533  ...  0.102438  0.056967  0.294013\n",
            "..        ...       ...       ...  ...       ...       ...       ...\n",
            "844 -3.067264 -2.469537 -2.855965  ... -2.684049 -2.980485 -2.766586\n",
            "845 -1.826256 -1.805361 -0.472470  ...  0.591465  0.119114  0.464125\n",
            "846 -0.195943 -0.608096 -0.970514  ... -1.122551 -0.214928  0.229684\n",
            "847 -3.504251 -3.796445  0.611842  ...  0.717353  0.143714  0.539890\n",
            "848  0.005860 -0.012376 -1.122773  ...  0.079439  0.313325  0.509870\n",
            "\n",
            "[849 rows x 300 columns]\n"
          ],
          "name": "stdout"
        },
        {
          "output_type": "stream",
          "text": [
            "/usr/local/lib/python3.6/dist-packages/pandas/core/indexes/base.py:122: FutureWarning: elementwise comparison failed; returning scalar instead, but in the future will perform elementwise comparison\n",
            "  result = op(self.values, np.asarray(other))\n"
          ],
          "name": "stderr"
        },
        {
          "output_type": "stream",
          "text": [
            "          0         1         2    ...       297       298       299\n",
            "0    2.380355  2.377798  2.355299  ... -0.062523 -0.057314 -0.053570\n",
            "1    1.458864  1.460059  1.631281  ... -0.062523 -0.057314 -0.053570\n",
            "2    2.103908  2.194250  2.355299  ... -0.041058 -0.035783 -0.031995\n",
            "3    1.551013  1.551833  1.631281  ... -0.062523 -0.057314 -0.053570\n",
            "4   -0.199819 -0.191871 -0.269268  ...  0.109193  0.114933  0.119033\n",
            "..        ...       ...       ...  ...       ...       ...       ...\n",
            "844 -0.844863 -0.926063 -1.355297  ...  0.302373  0.265649  0.205335\n",
            "845 -1.213459 -1.293158 -1.445799  ...  1.955137  1.966589  1.974518\n",
            "846 -1.029161 -1.017836 -1.264794  ...  1.912208  1.923528  1.952943\n",
            "847 -1.397757 -1.476706 -1.626804  ...  1.998066  2.009651  2.017669\n",
            "848 -0.752714 -0.742515 -0.812282  ...  1.998066  2.009651 -1.844329\n",
            "\n",
            "[849 rows x 300 columns]\n"
          ],
          "name": "stdout"
        },
        {
          "output_type": "stream",
          "text": [
            "/usr/local/lib/python3.6/dist-packages/pandas/core/indexes/base.py:122: FutureWarning: elementwise comparison failed; returning scalar instead, but in the future will perform elementwise comparison\n",
            "  result = op(self.values, np.asarray(other))\n"
          ],
          "name": "stderr"
        },
        {
          "output_type": "stream",
          "text": [
            "     0         1         2         3     ...      1096      1097      1098      1099\n",
            "0     0.0 -0.008979 -0.230710 -0.008521  ...  0.922006  0.864979  0.792709  0.792012\n",
            "1     0.0 -0.008979  0.576775 -0.123346  ...  0.733398  0.735316  0.816698  0.761102\n",
            "2     0.0 -0.008979 -0.807486 -0.008521  ...  0.846092  1.015471  0.782078  0.853924\n",
            "3     0.0 -0.008979  0.000000 -2.075372  ...  0.721105  0.898711  0.896517  0.775137\n",
            "4     0.0 -0.008979  0.230710 -1.730897  ... -0.410749  1.075126  0.515853 -0.394692\n",
            "..    ...       ...       ...       ...  ...       ...       ...       ...       ...\n",
            "844   0.0 -0.008979 -0.115355  0.106304  ...  0.456532  0.626375  0.497217  0.493951\n",
            "845   0.0 -0.008979  0.346065 -0.812296  ...  0.334035 -0.948064 -1.339665 -0.434062\n",
            "846   0.0 -0.008979 -0.807486  3.091757  ...  0.343839 -0.022079  0.057960 -0.436873\n",
            "847   0.0 -0.008979  0.000000  2.517631  ...  0.924465 -0.203641 -0.549010 -0.442500\n",
            "848   0.0 -0.008979  1.038196 -2.075372  ... -0.153507 -0.190674  0.313526  0.817353\n",
            "\n",
            "[849 rows x 1100 columns]\n"
          ],
          "name": "stdout"
        },
        {
          "output_type": "stream",
          "text": [
            "/usr/local/lib/python3.6/dist-packages/pandas/core/indexes/base.py:122: FutureWarning: elementwise comparison failed; returning scalar instead, but in the future will perform elementwise comparison\n",
            "  result = op(self.values, np.asarray(other))\n"
          ],
          "name": "stderr"
        },
        {
          "output_type": "stream",
          "text": [
            "     0         1         2         3     ...      1096      1097      1098      1099\n",
            "0     0.0 -0.008979 -0.230710 -0.008521  ...  0.363894  0.392949  0.376767  0.355482\n",
            "1     0.0 -0.008979  0.576775 -0.123346  ...  0.388662  0.403843  0.396188  0.378354\n",
            "2     0.0 -0.008979 -0.807486 -0.008521  ...  0.444096  0.435315  0.402662  0.379784\n",
            "3     0.0 -0.008979  0.000000 -2.075372  ...  0.367433  0.362687  0.401367  0.392649\n",
            "4     0.0 -0.008979  0.230710 -1.730897  ... -0.749490  0.102438  0.056967  0.294013\n",
            "..    ...       ...       ...       ...  ...       ...       ...       ...       ...\n",
            "844   0.0 -0.008979 -0.115355  0.106304  ... -1.920675 -2.684049 -2.980485 -2.766586\n",
            "845   0.0 -0.008979  0.346065 -0.812296  ...  0.830950  0.591465  0.119114  0.464125\n",
            "846   0.0 -0.008979 -0.807486  3.091757  ... -1.707189 -1.122551 -0.214928  0.229684\n",
            "847   0.0 -0.008979  0.000000  2.517631  ...  0.582089  0.717353  0.143714  0.539890\n",
            "848   0.0 -0.008979  1.038196 -2.075372  ... -0.670468  0.079439  0.313325  0.509870\n",
            "\n",
            "[849 rows x 1100 columns]\n"
          ],
          "name": "stdout"
        },
        {
          "output_type": "stream",
          "text": [
            "/usr/local/lib/python3.6/dist-packages/pandas/core/indexes/base.py:122: FutureWarning: elementwise comparison failed; returning scalar instead, but in the future will perform elementwise comparison\n",
            "  result = op(self.values, np.asarray(other))\n"
          ],
          "name": "stderr"
        },
        {
          "output_type": "stream",
          "text": [
            "     0         1         2         3     ...      1096      1097      1098      1099\n",
            "0     0.0 -0.008979 -0.230710 -0.008521  ... -0.072356 -0.062523 -0.057314 -0.053570\n",
            "1     0.0 -0.008979  0.576775 -0.123346  ... -0.072356 -0.062523 -0.057314 -0.053570\n",
            "2     0.0 -0.008979 -0.807486 -0.008521  ... -0.050930 -0.041058 -0.035783 -0.031995\n",
            "3     0.0 -0.008979  0.000000 -2.075372  ... -0.072356 -0.062523 -0.057314 -0.053570\n",
            "4     0.0 -0.008979  0.230710 -1.730897  ...  0.099058  0.109193  0.114933  0.119033\n",
            "..    ...       ...       ...       ...  ...       ...       ...       ...       ...\n",
            "844   0.0 -0.008979 -0.115355  0.106304  ...  0.377606  0.302373  0.265649  0.205335\n",
            "845   0.0 -0.008979  0.346065 -0.812296  ...  1.920333  1.955137  1.966589  1.974518\n",
            "846   0.0 -0.008979 -0.807486  3.091757  ...  1.920333  1.912208  1.923528  1.952943\n",
            "847   0.0 -0.008979  0.000000  2.517631  ...  1.963186  1.998066  2.009651  2.017669\n",
            "848   0.0 -0.008979  1.038196 -2.075372  ...  1.984613  1.998066  2.009651 -1.844329\n",
            "\n",
            "[849 rows x 1100 columns]\n"
          ],
          "name": "stdout"
        },
        {
          "output_type": "stream",
          "text": [
            "/usr/local/lib/python3.6/dist-packages/pandas/core/indexes/base.py:122: FutureWarning: elementwise comparison failed; returning scalar instead, but in the future will perform elementwise comparison\n",
            "  result = op(self.values, np.asarray(other))\n"
          ],
          "name": "stderr"
        },
        {
          "output_type": "stream",
          "text": [
            "          0         1         2    ...       597       598       599\n",
            "0    0.868317  0.710788  0.299576  ...  0.392949  0.376767  0.355482\n",
            "1    1.075622  1.016774  1.342839  ...  0.403843  0.396188  0.378354\n",
            "2    0.939312  0.919926  0.861120  ...  0.435315  0.402662  0.379784\n",
            "3   -0.043259  0.421646  1.379999  ...  0.362687  0.401367  0.392649\n",
            "4   -0.240624 -0.332088 -0.011475  ...  0.102438  0.056967  0.294013\n",
            "..        ...       ...       ...  ...       ...       ...       ...\n",
            "844 -1.119541 -1.283731 -0.910223  ... -2.684049 -2.980485 -2.766586\n",
            "845  0.484945  0.466562 -0.051389  ...  0.591465  0.119114  0.464125\n",
            "846 -1.067003 -0.906161  0.190845  ... -1.122551 -0.214928  0.229684\n",
            "847  1.095501  0.752896  0.371145  ...  0.717353  0.143714  0.539890\n",
            "848 -0.913655 -0.948271 -1.383684  ...  0.079439  0.313325  0.509870\n",
            "\n",
            "[849 rows x 600 columns]\n"
          ],
          "name": "stdout"
        },
        {
          "output_type": "stream",
          "text": [
            "/usr/local/lib/python3.6/dist-packages/pandas/core/indexes/base.py:122: FutureWarning: elementwise comparison failed; returning scalar instead, but in the future will perform elementwise comparison\n",
            "  result = op(self.values, np.asarray(other))\n"
          ],
          "name": "stderr"
        },
        {
          "output_type": "stream",
          "text": [
            "          0         1         2    ...       597       598       599\n",
            "0    0.868317  0.710788  0.299576  ... -0.062523 -0.057314 -0.053570\n",
            "1    1.075622  1.016774  1.342839  ... -0.062523 -0.057314 -0.053570\n",
            "2    0.939312  0.919926  0.861120  ... -0.041058 -0.035783 -0.031995\n",
            "3   -0.043259  0.421646  1.379999  ... -0.062523 -0.057314 -0.053570\n",
            "4   -0.240624 -0.332088 -0.011475  ...  0.109193  0.114933  0.119033\n",
            "..        ...       ...       ...  ...       ...       ...       ...\n",
            "844 -1.119541 -1.283731 -0.910223  ...  0.302373  0.265649  0.205335\n",
            "845  0.484945  0.466562 -0.051389  ...  1.955137  1.966589  1.974518\n",
            "846 -1.067003 -0.906161  0.190845  ...  1.912208  1.923528  1.952943\n",
            "847  1.095501  0.752896  0.371145  ...  1.998066  2.009651  2.017669\n",
            "848 -0.913655 -0.948271 -1.383684  ...  1.998066  2.009651 -1.844329\n",
            "\n",
            "[849 rows x 600 columns]\n"
          ],
          "name": "stdout"
        },
        {
          "output_type": "stream",
          "text": [
            "/usr/local/lib/python3.6/dist-packages/pandas/core/indexes/base.py:122: FutureWarning: elementwise comparison failed; returning scalar instead, but in the future will perform elementwise comparison\n",
            "  result = op(self.values, np.asarray(other))\n"
          ],
          "name": "stderr"
        },
        {
          "output_type": "stream",
          "text": [
            "          0         1         2    ...       597       598       599\n",
            "0    0.015394  0.204646  0.414048  ... -0.062523 -0.057314 -0.053570\n",
            "1    1.555134  1.452890  1.152575  ... -0.062523 -0.057314 -0.053570\n",
            "2    0.979916  1.096041  0.604727  ... -0.041058 -0.035783 -0.031995\n",
            "3    2.178021  0.969323  0.396972  ... -0.062523 -0.057314 -0.053570\n",
            "4    0.039229 -0.105594 -1.256533  ...  0.109193  0.114933  0.119033\n",
            "..        ...       ...       ...  ...       ...       ...       ...\n",
            "844 -3.067264 -2.469537 -2.855965  ...  0.302373  0.265649  0.205335\n",
            "845 -1.826256 -1.805361 -0.472470  ...  1.955137  1.966589  1.974518\n",
            "846 -0.195943 -0.608096 -0.970514  ...  1.912208  1.923528  1.952943\n",
            "847 -3.504251 -3.796445  0.611842  ...  1.998066  2.009651  2.017669\n",
            "848  0.005860 -0.012376 -1.122773  ...  1.998066  2.009651 -1.844329\n",
            "\n",
            "[849 rows x 600 columns]\n"
          ],
          "name": "stdout"
        },
        {
          "output_type": "stream",
          "text": [
            "/usr/local/lib/python3.6/dist-packages/pandas/core/indexes/base.py:122: FutureWarning: elementwise comparison failed; returning scalar instead, but in the future will perform elementwise comparison\n",
            "  result = op(self.values, np.asarray(other))\n"
          ],
          "name": "stderr"
        },
        {
          "output_type": "stream",
          "text": [
            "     0         1         2         3     ...      1396      1397      1398      1399\n",
            "0     0.0 -0.008979 -0.230710 -0.008521  ...  0.363894  0.392949  0.376767  0.355482\n",
            "1     0.0 -0.008979  0.576775 -0.123346  ...  0.388662  0.403843  0.396188  0.378354\n",
            "2     0.0 -0.008979 -0.807486 -0.008521  ...  0.444096  0.435315  0.402662  0.379784\n",
            "3     0.0 -0.008979  0.000000 -2.075372  ...  0.367433  0.362687  0.401367  0.392649\n",
            "4     0.0 -0.008979  0.230710 -1.730897  ... -0.749490  0.102438  0.056967  0.294013\n",
            "..    ...       ...       ...       ...  ...       ...       ...       ...       ...\n",
            "844   0.0 -0.008979 -0.115355  0.106304  ... -1.920675 -2.684049 -2.980485 -2.766586\n",
            "845   0.0 -0.008979  0.346065 -0.812296  ...  0.830950  0.591465  0.119114  0.464125\n",
            "846   0.0 -0.008979 -0.807486  3.091757  ... -1.707189 -1.122551 -0.214928  0.229684\n",
            "847   0.0 -0.008979  0.000000  2.517631  ...  0.582089  0.717353  0.143714  0.539890\n",
            "848   0.0 -0.008979  1.038196 -2.075372  ... -0.670468  0.079439  0.313325  0.509870\n",
            "\n",
            "[849 rows x 1400 columns]\n"
          ],
          "name": "stdout"
        },
        {
          "output_type": "stream",
          "text": [
            "/usr/local/lib/python3.6/dist-packages/pandas/core/indexes/base.py:122: FutureWarning: elementwise comparison failed; returning scalar instead, but in the future will perform elementwise comparison\n",
            "  result = op(self.values, np.asarray(other))\n"
          ],
          "name": "stderr"
        },
        {
          "output_type": "stream",
          "text": [
            "     0         1         2         3     ...      1396      1397      1398      1399\n",
            "0     0.0 -0.008979 -0.230710 -0.008521  ... -0.072356 -0.062523 -0.057314 -0.053570\n",
            "1     0.0 -0.008979  0.576775 -0.123346  ... -0.072356 -0.062523 -0.057314 -0.053570\n",
            "2     0.0 -0.008979 -0.807486 -0.008521  ... -0.050930 -0.041058 -0.035783 -0.031995\n",
            "3     0.0 -0.008979  0.000000 -2.075372  ... -0.072356 -0.062523 -0.057314 -0.053570\n",
            "4     0.0 -0.008979  0.230710 -1.730897  ...  0.099058  0.109193  0.114933  0.119033\n",
            "..    ...       ...       ...       ...  ...       ...       ...       ...       ...\n",
            "844   0.0 -0.008979 -0.115355  0.106304  ...  0.377606  0.302373  0.265649  0.205335\n",
            "845   0.0 -0.008979  0.346065 -0.812296  ...  1.920333  1.955137  1.966589  1.974518\n",
            "846   0.0 -0.008979 -0.807486  3.091757  ...  1.920333  1.912208  1.923528  1.952943\n",
            "847   0.0 -0.008979  0.000000  2.517631  ...  1.963186  1.998066  2.009651  2.017669\n",
            "848   0.0 -0.008979  1.038196 -2.075372  ...  1.984613  1.998066  2.009651 -1.844329\n",
            "\n",
            "[849 rows x 1400 columns]\n"
          ],
          "name": "stdout"
        },
        {
          "output_type": "stream",
          "text": [
            "/usr/local/lib/python3.6/dist-packages/pandas/core/indexes/base.py:122: FutureWarning: elementwise comparison failed; returning scalar instead, but in the future will perform elementwise comparison\n",
            "  result = op(self.values, np.asarray(other))\n"
          ],
          "name": "stderr"
        },
        {
          "output_type": "stream",
          "text": [
            "     0         1         2         3     ...      1396      1397      1398      1399\n",
            "0     0.0 -0.008979 -0.230710 -0.008521  ... -0.072356 -0.062523 -0.057314 -0.053570\n",
            "1     0.0 -0.008979  0.576775 -0.123346  ... -0.072356 -0.062523 -0.057314 -0.053570\n",
            "2     0.0 -0.008979 -0.807486 -0.008521  ... -0.050930 -0.041058 -0.035783 -0.031995\n",
            "3     0.0 -0.008979  0.000000 -2.075372  ... -0.072356 -0.062523 -0.057314 -0.053570\n",
            "4     0.0 -0.008979  0.230710 -1.730897  ...  0.099058  0.109193  0.114933  0.119033\n",
            "..    ...       ...       ...       ...  ...       ...       ...       ...       ...\n",
            "844   0.0 -0.008979 -0.115355  0.106304  ...  0.377606  0.302373  0.265649  0.205335\n",
            "845   0.0 -0.008979  0.346065 -0.812296  ...  1.920333  1.955137  1.966589  1.974518\n",
            "846   0.0 -0.008979 -0.807486  3.091757  ...  1.920333  1.912208  1.923528  1.952943\n",
            "847   0.0 -0.008979  0.000000  2.517631  ...  1.963186  1.998066  2.009651  2.017669\n",
            "848   0.0 -0.008979  1.038196 -2.075372  ...  1.984613  1.998066  2.009651 -1.844329\n",
            "\n",
            "[849 rows x 1400 columns]\n"
          ],
          "name": "stdout"
        },
        {
          "output_type": "stream",
          "text": [
            "/usr/local/lib/python3.6/dist-packages/pandas/core/indexes/base.py:122: FutureWarning: elementwise comparison failed; returning scalar instead, but in the future will perform elementwise comparison\n",
            "  result = op(self.values, np.asarray(other))\n"
          ],
          "name": "stderr"
        },
        {
          "output_type": "stream",
          "text": [
            "          0         1         2    ...       897       898       899\n",
            "0    0.868317  0.710788  0.299576  ... -0.062523 -0.057314 -0.053570\n",
            "1    1.075622  1.016774  1.342839  ... -0.062523 -0.057314 -0.053570\n",
            "2    0.939312  0.919926  0.861120  ... -0.041058 -0.035783 -0.031995\n",
            "3   -0.043259  0.421646  1.379999  ... -0.062523 -0.057314 -0.053570\n",
            "4   -0.240624 -0.332088 -0.011475  ...  0.109193  0.114933  0.119033\n",
            "..        ...       ...       ...  ...       ...       ...       ...\n",
            "844 -1.119541 -1.283731 -0.910223  ...  0.302373  0.265649  0.205335\n",
            "845  0.484945  0.466562 -0.051389  ...  1.955137  1.966589  1.974518\n",
            "846 -1.067003 -0.906161  0.190845  ...  1.912208  1.923528  1.952943\n",
            "847  1.095501  0.752896  0.371145  ...  1.998066  2.009651  2.017669\n",
            "848 -0.913655 -0.948271 -1.383684  ...  1.998066  2.009651 -1.844329\n",
            "\n",
            "[849 rows x 900 columns]\n"
          ],
          "name": "stdout"
        },
        {
          "output_type": "stream",
          "text": [
            "/usr/local/lib/python3.6/dist-packages/pandas/core/indexes/base.py:122: FutureWarning: elementwise comparison failed; returning scalar instead, but in the future will perform elementwise comparison\n",
            "  result = op(self.values, np.asarray(other))\n"
          ],
          "name": "stderr"
        },
        {
          "output_type": "stream",
          "text": [
            "     0         1         2         3     ...      1696      1697      1698      1699\n",
            "0     0.0 -0.008979 -0.230710 -0.008521  ... -0.072356 -0.062523 -0.057314 -0.053570\n",
            "1     0.0 -0.008979  0.576775 -0.123346  ... -0.072356 -0.062523 -0.057314 -0.053570\n",
            "2     0.0 -0.008979 -0.807486 -0.008521  ... -0.050930 -0.041058 -0.035783 -0.031995\n",
            "3     0.0 -0.008979  0.000000 -2.075372  ... -0.072356 -0.062523 -0.057314 -0.053570\n",
            "4     0.0 -0.008979  0.230710 -1.730897  ...  0.099058  0.109193  0.114933  0.119033\n",
            "..    ...       ...       ...       ...  ...       ...       ...       ...       ...\n",
            "844   0.0 -0.008979 -0.115355  0.106304  ...  0.377606  0.302373  0.265649  0.205335\n",
            "845   0.0 -0.008979  0.346065 -0.812296  ...  1.920333  1.955137  1.966589  1.974518\n",
            "846   0.0 -0.008979 -0.807486  3.091757  ...  1.920333  1.912208  1.923528  1.952943\n",
            "847   0.0 -0.008979  0.000000  2.517631  ...  1.963186  1.998066  2.009651  2.017669\n",
            "848   0.0 -0.008979  1.038196 -2.075372  ...  1.984613  1.998066  2.009651 -1.844329\n",
            "\n",
            "[849 rows x 1700 columns]\n",
            "     0         1         2         3     ...      1696      1697      1698      1699\n",
            "0     0.0 -0.008979 -0.230710 -0.008521  ... -0.072356 -0.062523 -0.057314 -0.053570\n",
            "1     0.0 -0.008979  0.576775 -0.123346  ... -0.072356 -0.062523 -0.057314 -0.053570\n",
            "2     0.0 -0.008979 -0.807486 -0.008521  ... -0.050930 -0.041058 -0.035783 -0.031995\n",
            "3     0.0 -0.008979  0.000000 -2.075372  ... -0.072356 -0.062523 -0.057314 -0.053570\n",
            "4     0.0 -0.008979  0.230710 -1.730897  ...  0.099058  0.109193  0.114933  0.119033\n",
            "..    ...       ...       ...       ...  ...       ...       ...       ...       ...\n",
            "844   0.0 -0.008979 -0.115355  0.106304  ...  0.377606  0.302373  0.265649  0.205335\n",
            "845   0.0 -0.008979  0.346065 -0.812296  ...  1.920333  1.955137  1.966589  1.974518\n",
            "846   0.0 -0.008979 -0.807486  3.091757  ...  1.920333  1.912208  1.923528  1.952943\n",
            "847   0.0 -0.008979  0.000000  2.517631  ...  1.963186  1.998066  2.009651  2.017669\n",
            "848   0.0 -0.008979  1.038196 -2.075372  ...  1.984613  1.998066  2.009651 -1.844329\n",
            "\n",
            "[849 rows x 1700 columns]\n",
            "     0         1             2     ...      1697      1698      1699\n",
            "0     0.0 -0.008979 -2.307101e-01  ... -0.062523 -0.057314 -0.053570\n",
            "1     0.0 -0.008979  5.767754e-01  ... -0.062523 -0.057314 -0.053570\n",
            "2     0.0 -0.008979 -8.074855e-01  ... -0.041058 -0.035783 -0.031995\n",
            "3     0.0 -0.008979  7.846099e-19  ... -0.062523 -0.057314 -0.053570\n",
            "4     0.0 -0.008979  2.307101e-01  ...  0.109193  0.114933  0.119033\n",
            "..    ...       ...           ...  ...       ...       ...       ...\n",
            "844   0.0 -0.008979 -1.153551e-01  ...  0.302373  0.265649  0.205335\n",
            "845   0.0 -0.008979  3.460652e-01  ...  1.955137  1.966589  1.974518\n",
            "846   0.0 -0.008979 -8.074855e-01  ...  1.912208  1.923528  1.952943\n",
            "847   0.0 -0.008979  7.846099e-19  ...  1.998066  2.009651  2.017669\n",
            "848   0.0 -0.008979  1.038196e+00  ...  1.998066  2.009651 -1.844329\n",
            "\n",
            "[849 rows x 1700 columns]\n",
            "     0         1             2     ...      1697      1698      1699\n",
            "0     0.0 -0.008979 -2.307101e-01  ... -0.062523 -0.057314 -0.053570\n",
            "1     0.0 -0.008979  5.767754e-01  ... -0.062523 -0.057314 -0.053570\n",
            "2     0.0 -0.008979 -8.074855e-01  ... -0.041058 -0.035783 -0.031995\n",
            "3     0.0 -0.008979  7.846099e-19  ... -0.062523 -0.057314 -0.053570\n",
            "4     0.0 -0.008979  2.307101e-01  ...  0.109193  0.114933  0.119033\n",
            "..    ...       ...           ...  ...       ...       ...       ...\n",
            "844   0.0 -0.008979 -1.153551e-01  ...  0.302373  0.265649  0.205335\n",
            "845   0.0 -0.008979  3.460652e-01  ...  1.955137  1.966589  1.974518\n",
            "846   0.0 -0.008979 -8.074855e-01  ...  1.912208  1.923528  1.952943\n",
            "847   0.0 -0.008979  7.846099e-19  ...  1.998066  2.009651  2.017669\n",
            "848   0.0 -0.008979  1.038196e+00  ...  1.998066  2.009651 -1.844329\n",
            "\n",
            "[849 rows x 1700 columns]\n",
            "     0         1             2     ...      1697      1698      1699\n",
            "0     0.0 -0.008979 -2.307101e-01  ... -0.062523 -0.057314 -0.053570\n",
            "1     0.0 -0.008979  5.767754e-01  ... -0.062523 -0.057314 -0.053570\n",
            "2     0.0 -0.008979 -8.074855e-01  ... -0.041058 -0.035783 -0.031995\n",
            "3     0.0 -0.008979  7.846099e-19  ... -0.062523 -0.057314 -0.053570\n",
            "4     0.0 -0.008979  2.307101e-01  ...  0.109193  0.114933  0.119033\n",
            "..    ...       ...           ...  ...       ...       ...       ...\n",
            "844   0.0 -0.008979 -1.153551e-01  ...  0.302373  0.265649  0.205335\n",
            "845   0.0 -0.008979  3.460652e-01  ...  1.955137  1.966589  1.974518\n",
            "846   0.0 -0.008979 -8.074855e-01  ...  1.912208  1.923528  1.952943\n",
            "847   0.0 -0.008979  7.846099e-19  ...  1.998066  2.009651  2.017669\n",
            "848   0.0 -0.008979  1.038196e+00  ...  1.998066  2.009651 -1.844329\n",
            "\n",
            "[849 rows x 1700 columns]\n"
          ],
          "name": "stdout"
        }
      ]
    },
    {
      "cell_type": "markdown",
      "metadata": {
        "id": "BIWWjraVmkQ_",
        "colab_type": "text"
      },
      "source": [
        "**3. Apply Butterworth**"
      ]
    },
    {
      "cell_type": "code",
      "metadata": {
        "id": "PJjGC_1Q5r03",
        "colab_type": "code",
        "colab": {}
      },
      "source": [
        "def butterworth(inmatrix_b):\n",
        "  high = 1/(50/2)\n",
        "  low = 23/(50/2)\n",
        "\n",
        "  b, a = sp.signal.butter(4, [high,low], btype='bandpass')\n",
        "\n",
        "  for r in emg:\n",
        "    if r in inmatrix_b:\n",
        "      # process EMG signal: filter EMG\n",
        "      emg_filtered = sp.signal.lfilter(b, a, inmatrix_b[[r]])\n",
        "      inmatrix_b[[r]]=emg_filtered\n",
        "  return inmatrix_b"
      ],
      "execution_count": 6,
      "outputs": []
    },
    {
      "cell_type": "markdown",
      "metadata": {
        "id": "UqF3VVOI1VLd",
        "colab_type": "text"
      },
      "source": [
        "**Separate data from target**"
      ]
    },
    {
      "cell_type": "code",
      "metadata": {
        "id": "lXroIUWx0yEG",
        "colab_type": "code",
        "colab": {}
      },
      "source": [
        "def datasplit(inmatrix_p):\n",
        "    x = inmatrix_p.iloc[:, inmatrix_p.columns!='Word'].values   # Features\n",
        "    y = inmatrix_p.loc[:,'Word'].values     # Target\n",
        "    x_train_p, x_test_p, y_train_p, y_test_p = train_test_split(x, y, test_size=0.6)\n",
        "    return x_train_p, x_test_p, y_train_p, y_test_p"
      ],
      "execution_count": 7,
      "outputs": []
    },
    {
      "cell_type": "markdown",
      "metadata": {
        "id": "LHg3vXA62ufR",
        "colab_type": "text"
      },
      "source": [
        "**4. Apply PCA**"
      ]
    },
    {
      "cell_type": "code",
      "metadata": {
        "id": "n5xUi-r120BR",
        "colab_type": "code",
        "colab": {}
      },
      "source": [
        "def pca(x_train_c, x_test_c, y_train_c, y_test_c):\n",
        "  pca = PCA(n_components=100)\n",
        "  pca.fit(x_train_c)\n",
        "  x_t_train_pca = pca.transform(x_train_c)\n",
        "  x_t_test_pca = pca.transform(x_test_c)\n",
        "\n",
        "  # Plot\n",
        "  print(\"Normalized matrix\")\n",
        "  print(pca.explained_variance_ratio_)\n",
        "  print(pca.singular_values_)\n",
        "  plt.figure()\n",
        "  plt.bar(fn[:100], pca.explained_variance_ratio_)\n",
        "  plt.show()\n",
        "  plt.bar(fn[:100], pca.singular_values_)\n",
        "  plt.show()\n",
        "  return x_train_c, x_test_c, y_train_c, y_test_c, x_t_train_pca, x_t_test_pca"
      ],
      "execution_count": 8,
      "outputs": []
    },
    {
      "cell_type": "markdown",
      "metadata": {
        "id": "Ul7hkgQ-xxSL",
        "colab_type": "text"
      },
      "source": [
        "**5. Apply SVM**"
      ]
    },
    {
      "cell_type": "code",
      "metadata": {
        "id": "oegUzb00nsA5",
        "colab_type": "code",
        "colab": {}
      },
      "source": [
        "def svm(x_train_s, x_test_s, y_train_s, y_test_s, x_t_train_s=\"\", x_t_test_s=\"\"):\n",
        "    if x_t_train_s==\"\":\n",
        "      x_t_train_s=x_train_s\n",
        "    if x_t_test_s==\"\":\n",
        "      x_t_test_s=x_test_s\n",
        "    clf = SVC()\n",
        "    clf.fit(x_t_train_s, y_train_s)\n",
        "    print ('score', clf.score(x_t_test_s, y_test_s))\n",
        "    y_pred=clf.predict(x_t_test_s)\n",
        "    print ('pred label', y_pred)\n",
        "    print('length',len(clf.predict(x_t_test_s)))\n",
        "\n",
        "    # Confusion matrix\n",
        "    plot_confusion_matrix(clf, x_t_test_s, y_test_s,\n",
        "                                    cmap=plt.cm.Blues)\n",
        "    plt.figure(figsize=(50,50))\n",
        "    plt.show()\n",
        "\n",
        "    svmresult=classification_report(y_test_s, y_pred, target_names=words)\n",
        "    return svmresult"
      ],
      "execution_count": 9,
      "outputs": []
    },
    {
      "cell_type": "markdown",
      "metadata": {
        "id": "I16C6HCyrFZr",
        "colab_type": "text"
      },
      "source": [
        "Combinations of steps for classification"
      ]
    },
    {
      "cell_type": "code",
      "metadata": {
        "id": "5kDd0rxDlPNC",
        "colab_type": "code",
        "colab": {
          "base_uri": "https://localhost:8080/",
          "height": 1000
        },
        "outputId": "0821c2c8-00e2-40fd-9bd7-a8b20a4899ac"
      },
      "source": [
        "for u in products:\n",
        "  print(u)\n",
        "  #svm(datasplit(u))\n"
      ],
      "execution_count": 10,
      "outputs": [
        {
          "output_type": "stream",
          "text": [
            "     0         1         2         3    ...       796       797       798       799\n",
            "0    0.0 -0.008979 -0.230710 -0.008521  ...  1.038845 -1.499971  1.623874 -2.743880\n",
            "1    0.0 -0.008979  0.576775 -0.123346  ... -0.262970  0.215995  0.152081  0.403779\n",
            "2    0.0 -0.008979 -0.807486 -0.008521  ... -0.154485 -0.012801  0.419679  2.120685\n",
            "3    0.0 -0.008979  0.000000 -2.075372  ... -0.154485 -0.012801 -0.249318  0.260704\n",
            "4    0.0 -0.008979  0.230710 -1.730897  ... -0.262970  0.330392  0.152081 -0.025447\n",
            "..   ...       ...       ...       ...  ...       ...       ...       ...       ...\n",
            "844  0.0 -0.008979 -0.115355  0.106304  ... -0.154485  0.215995  1.623874 -1.313126\n",
            "845  0.0 -0.008979  0.346065 -0.812296  ...  0.062484 -0.012801 -0.115518 -0.168522\n",
            "846  0.0 -0.008979 -0.807486  3.091757  ...  0.170969 -0.127198  1.088676 -0.311598\n",
            "847  0.0 -0.008979  0.000000  2.517631  ... -0.046000 -0.355994  0.152081 -0.168522\n",
            "848  0.0 -0.008979  1.038196 -2.075372  ...  0.496422  1.131176 -0.383117  0.689930\n",
            "\n",
            "[849 rows x 800 columns]\n",
            "          0         1         2    ...       297       298       299\n",
            "0    0.868317  0.710788  0.299576  ...  0.864979  0.792709  0.792012\n",
            "1    1.075622  1.016774  1.342839  ...  0.735316  0.816698  0.761102\n",
            "2    0.939312  0.919926  0.861120  ...  1.015471  0.782078  0.853924\n",
            "3   -0.043259  0.421646  1.379999  ...  0.898711  0.896517  0.775137\n",
            "4   -0.240624 -0.332088 -0.011475  ...  1.075126  0.515853 -0.394692\n",
            "..        ...       ...       ...  ...       ...       ...       ...\n",
            "844 -1.119541 -1.283731 -0.910223  ...  0.626375  0.497217  0.493951\n",
            "845  0.484945  0.466562 -0.051389  ... -0.948064 -1.339665 -0.434062\n",
            "846 -1.067003 -0.906161  0.190845  ... -0.022079  0.057960 -0.436873\n",
            "847  1.095501  0.752896  0.371145  ... -0.203641 -0.549010 -0.442500\n",
            "848 -0.913655 -0.948271 -1.383684  ... -0.190674  0.313526  0.817353\n",
            "\n",
            "[849 rows x 300 columns]\n",
            "          0         1         2    ...       297       298       299\n",
            "0    0.015394  0.204646  0.414048  ...  0.392949  0.376767  0.355482\n",
            "1    1.555134  1.452890  1.152575  ...  0.403843  0.396188  0.378354\n",
            "2    0.979916  1.096041  0.604727  ...  0.435315  0.402662  0.379784\n",
            "3    2.178021  0.969323  0.396972  ...  0.362687  0.401367  0.392649\n",
            "4    0.039229 -0.105594 -1.256533  ...  0.102438  0.056967  0.294013\n",
            "..        ...       ...       ...  ...       ...       ...       ...\n",
            "844 -3.067264 -2.469537 -2.855965  ... -2.684049 -2.980485 -2.766586\n",
            "845 -1.826256 -1.805361 -0.472470  ...  0.591465  0.119114  0.464125\n",
            "846 -0.195943 -0.608096 -0.970514  ... -1.122551 -0.214928  0.229684\n",
            "847 -3.504251 -3.796445  0.611842  ...  0.717353  0.143714  0.539890\n",
            "848  0.005860 -0.012376 -1.122773  ...  0.079439  0.313325  0.509870\n",
            "\n",
            "[849 rows x 300 columns]\n",
            "          0         1         2    ...       297       298       299\n",
            "0    2.380355  2.377798  2.355299  ... -0.062523 -0.057314 -0.053570\n",
            "1    1.458864  1.460059  1.631281  ... -0.062523 -0.057314 -0.053570\n",
            "2    2.103908  2.194250  2.355299  ... -0.041058 -0.035783 -0.031995\n",
            "3    1.551013  1.551833  1.631281  ... -0.062523 -0.057314 -0.053570\n",
            "4   -0.199819 -0.191871 -0.269268  ...  0.109193  0.114933  0.119033\n",
            "..        ...       ...       ...  ...       ...       ...       ...\n",
            "844 -0.844863 -0.926063 -1.355297  ...  0.302373  0.265649  0.205335\n",
            "845 -1.213459 -1.293158 -1.445799  ...  1.955137  1.966589  1.974518\n",
            "846 -1.029161 -1.017836 -1.264794  ...  1.912208  1.923528  1.952943\n",
            "847 -1.397757 -1.476706 -1.626804  ...  1.998066  2.009651  2.017669\n",
            "848 -0.752714 -0.742515 -0.812282  ...  1.998066  2.009651 -1.844329\n",
            "\n",
            "[849 rows x 300 columns]\n",
            "     0         1         2         3     ...      1096      1097      1098      1099\n",
            "0     0.0 -0.008979 -0.230710 -0.008521  ...  0.922006  0.864979  0.792709  0.792012\n",
            "1     0.0 -0.008979  0.576775 -0.123346  ...  0.733398  0.735316  0.816698  0.761102\n",
            "2     0.0 -0.008979 -0.807486 -0.008521  ...  0.846092  1.015471  0.782078  0.853924\n",
            "3     0.0 -0.008979  0.000000 -2.075372  ...  0.721105  0.898711  0.896517  0.775137\n",
            "4     0.0 -0.008979  0.230710 -1.730897  ... -0.410749  1.075126  0.515853 -0.394692\n",
            "..    ...       ...       ...       ...  ...       ...       ...       ...       ...\n",
            "844   0.0 -0.008979 -0.115355  0.106304  ...  0.456532  0.626375  0.497217  0.493951\n",
            "845   0.0 -0.008979  0.346065 -0.812296  ...  0.334035 -0.948064 -1.339665 -0.434062\n",
            "846   0.0 -0.008979 -0.807486  3.091757  ...  0.343839 -0.022079  0.057960 -0.436873\n",
            "847   0.0 -0.008979  0.000000  2.517631  ...  0.924465 -0.203641 -0.549010 -0.442500\n",
            "848   0.0 -0.008979  1.038196 -2.075372  ... -0.153507 -0.190674  0.313526  0.817353\n",
            "\n",
            "[849 rows x 1100 columns]\n",
            "     0         1         2         3     ...      1096      1097      1098      1099\n",
            "0     0.0 -0.008979 -0.230710 -0.008521  ...  0.363894  0.392949  0.376767  0.355482\n",
            "1     0.0 -0.008979  0.576775 -0.123346  ...  0.388662  0.403843  0.396188  0.378354\n",
            "2     0.0 -0.008979 -0.807486 -0.008521  ...  0.444096  0.435315  0.402662  0.379784\n",
            "3     0.0 -0.008979  0.000000 -2.075372  ...  0.367433  0.362687  0.401367  0.392649\n",
            "4     0.0 -0.008979  0.230710 -1.730897  ... -0.749490  0.102438  0.056967  0.294013\n",
            "..    ...       ...       ...       ...  ...       ...       ...       ...       ...\n",
            "844   0.0 -0.008979 -0.115355  0.106304  ... -1.920675 -2.684049 -2.980485 -2.766586\n",
            "845   0.0 -0.008979  0.346065 -0.812296  ...  0.830950  0.591465  0.119114  0.464125\n",
            "846   0.0 -0.008979 -0.807486  3.091757  ... -1.707189 -1.122551 -0.214928  0.229684\n",
            "847   0.0 -0.008979  0.000000  2.517631  ...  0.582089  0.717353  0.143714  0.539890\n",
            "848   0.0 -0.008979  1.038196 -2.075372  ... -0.670468  0.079439  0.313325  0.509870\n",
            "\n",
            "[849 rows x 1100 columns]\n",
            "     0         1         2         3     ...      1096      1097      1098      1099\n",
            "0     0.0 -0.008979 -0.230710 -0.008521  ... -0.072356 -0.062523 -0.057314 -0.053570\n",
            "1     0.0 -0.008979  0.576775 -0.123346  ... -0.072356 -0.062523 -0.057314 -0.053570\n",
            "2     0.0 -0.008979 -0.807486 -0.008521  ... -0.050930 -0.041058 -0.035783 -0.031995\n",
            "3     0.0 -0.008979  0.000000 -2.075372  ... -0.072356 -0.062523 -0.057314 -0.053570\n",
            "4     0.0 -0.008979  0.230710 -1.730897  ...  0.099058  0.109193  0.114933  0.119033\n",
            "..    ...       ...       ...       ...  ...       ...       ...       ...       ...\n",
            "844   0.0 -0.008979 -0.115355  0.106304  ...  0.377606  0.302373  0.265649  0.205335\n",
            "845   0.0 -0.008979  0.346065 -0.812296  ...  1.920333  1.955137  1.966589  1.974518\n",
            "846   0.0 -0.008979 -0.807486  3.091757  ...  1.920333  1.912208  1.923528  1.952943\n",
            "847   0.0 -0.008979  0.000000  2.517631  ...  1.963186  1.998066  2.009651  2.017669\n",
            "848   0.0 -0.008979  1.038196 -2.075372  ...  1.984613  1.998066  2.009651 -1.844329\n",
            "\n",
            "[849 rows x 1100 columns]\n",
            "          0         1         2    ...       597       598       599\n",
            "0    0.868317  0.710788  0.299576  ...  0.392949  0.376767  0.355482\n",
            "1    1.075622  1.016774  1.342839  ...  0.403843  0.396188  0.378354\n",
            "2    0.939312  0.919926  0.861120  ...  0.435315  0.402662  0.379784\n",
            "3   -0.043259  0.421646  1.379999  ...  0.362687  0.401367  0.392649\n",
            "4   -0.240624 -0.332088 -0.011475  ...  0.102438  0.056967  0.294013\n",
            "..        ...       ...       ...  ...       ...       ...       ...\n",
            "844 -1.119541 -1.283731 -0.910223  ... -2.684049 -2.980485 -2.766586\n",
            "845  0.484945  0.466562 -0.051389  ...  0.591465  0.119114  0.464125\n",
            "846 -1.067003 -0.906161  0.190845  ... -1.122551 -0.214928  0.229684\n",
            "847  1.095501  0.752896  0.371145  ...  0.717353  0.143714  0.539890\n",
            "848 -0.913655 -0.948271 -1.383684  ...  0.079439  0.313325  0.509870\n",
            "\n",
            "[849 rows x 600 columns]\n",
            "          0         1         2    ...       597       598       599\n",
            "0    0.868317  0.710788  0.299576  ... -0.062523 -0.057314 -0.053570\n",
            "1    1.075622  1.016774  1.342839  ... -0.062523 -0.057314 -0.053570\n",
            "2    0.939312  0.919926  0.861120  ... -0.041058 -0.035783 -0.031995\n",
            "3   -0.043259  0.421646  1.379999  ... -0.062523 -0.057314 -0.053570\n",
            "4   -0.240624 -0.332088 -0.011475  ...  0.109193  0.114933  0.119033\n",
            "..        ...       ...       ...  ...       ...       ...       ...\n",
            "844 -1.119541 -1.283731 -0.910223  ...  0.302373  0.265649  0.205335\n",
            "845  0.484945  0.466562 -0.051389  ...  1.955137  1.966589  1.974518\n",
            "846 -1.067003 -0.906161  0.190845  ...  1.912208  1.923528  1.952943\n",
            "847  1.095501  0.752896  0.371145  ...  1.998066  2.009651  2.017669\n",
            "848 -0.913655 -0.948271 -1.383684  ...  1.998066  2.009651 -1.844329\n",
            "\n",
            "[849 rows x 600 columns]\n",
            "          0         1         2    ...       597       598       599\n",
            "0    0.015394  0.204646  0.414048  ... -0.062523 -0.057314 -0.053570\n",
            "1    1.555134  1.452890  1.152575  ... -0.062523 -0.057314 -0.053570\n",
            "2    0.979916  1.096041  0.604727  ... -0.041058 -0.035783 -0.031995\n",
            "3    2.178021  0.969323  0.396972  ... -0.062523 -0.057314 -0.053570\n",
            "4    0.039229 -0.105594 -1.256533  ...  0.109193  0.114933  0.119033\n",
            "..        ...       ...       ...  ...       ...       ...       ...\n",
            "844 -3.067264 -2.469537 -2.855965  ...  0.302373  0.265649  0.205335\n",
            "845 -1.826256 -1.805361 -0.472470  ...  1.955137  1.966589  1.974518\n",
            "846 -0.195943 -0.608096 -0.970514  ...  1.912208  1.923528  1.952943\n",
            "847 -3.504251 -3.796445  0.611842  ...  1.998066  2.009651  2.017669\n",
            "848  0.005860 -0.012376 -1.122773  ...  1.998066  2.009651 -1.844329\n",
            "\n",
            "[849 rows x 600 columns]\n",
            "     0         1         2         3     ...      1396      1397      1398      1399\n",
            "0     0.0 -0.008979 -0.230710 -0.008521  ...  0.363894  0.392949  0.376767  0.355482\n",
            "1     0.0 -0.008979  0.576775 -0.123346  ...  0.388662  0.403843  0.396188  0.378354\n",
            "2     0.0 -0.008979 -0.807486 -0.008521  ...  0.444096  0.435315  0.402662  0.379784\n",
            "3     0.0 -0.008979  0.000000 -2.075372  ...  0.367433  0.362687  0.401367  0.392649\n",
            "4     0.0 -0.008979  0.230710 -1.730897  ... -0.749490  0.102438  0.056967  0.294013\n",
            "..    ...       ...       ...       ...  ...       ...       ...       ...       ...\n",
            "844   0.0 -0.008979 -0.115355  0.106304  ... -1.920675 -2.684049 -2.980485 -2.766586\n",
            "845   0.0 -0.008979  0.346065 -0.812296  ...  0.830950  0.591465  0.119114  0.464125\n",
            "846   0.0 -0.008979 -0.807486  3.091757  ... -1.707189 -1.122551 -0.214928  0.229684\n",
            "847   0.0 -0.008979  0.000000  2.517631  ...  0.582089  0.717353  0.143714  0.539890\n",
            "848   0.0 -0.008979  1.038196 -2.075372  ... -0.670468  0.079439  0.313325  0.509870\n",
            "\n",
            "[849 rows x 1400 columns]\n",
            "     0         1         2         3     ...      1396      1397      1398      1399\n",
            "0     0.0 -0.008979 -0.230710 -0.008521  ... -0.072356 -0.062523 -0.057314 -0.053570\n",
            "1     0.0 -0.008979  0.576775 -0.123346  ... -0.072356 -0.062523 -0.057314 -0.053570\n",
            "2     0.0 -0.008979 -0.807486 -0.008521  ... -0.050930 -0.041058 -0.035783 -0.031995\n",
            "3     0.0 -0.008979  0.000000 -2.075372  ... -0.072356 -0.062523 -0.057314 -0.053570\n",
            "4     0.0 -0.008979  0.230710 -1.730897  ...  0.099058  0.109193  0.114933  0.119033\n",
            "..    ...       ...       ...       ...  ...       ...       ...       ...       ...\n",
            "844   0.0 -0.008979 -0.115355  0.106304  ...  0.377606  0.302373  0.265649  0.205335\n",
            "845   0.0 -0.008979  0.346065 -0.812296  ...  1.920333  1.955137  1.966589  1.974518\n",
            "846   0.0 -0.008979 -0.807486  3.091757  ...  1.920333  1.912208  1.923528  1.952943\n",
            "847   0.0 -0.008979  0.000000  2.517631  ...  1.963186  1.998066  2.009651  2.017669\n",
            "848   0.0 -0.008979  1.038196 -2.075372  ...  1.984613  1.998066  2.009651 -1.844329\n",
            "\n",
            "[849 rows x 1400 columns]\n",
            "     0         1         2         3     ...      1396      1397      1398      1399\n",
            "0     0.0 -0.008979 -0.230710 -0.008521  ... -0.072356 -0.062523 -0.057314 -0.053570\n",
            "1     0.0 -0.008979  0.576775 -0.123346  ... -0.072356 -0.062523 -0.057314 -0.053570\n",
            "2     0.0 -0.008979 -0.807486 -0.008521  ... -0.050930 -0.041058 -0.035783 -0.031995\n",
            "3     0.0 -0.008979  0.000000 -2.075372  ... -0.072356 -0.062523 -0.057314 -0.053570\n",
            "4     0.0 -0.008979  0.230710 -1.730897  ...  0.099058  0.109193  0.114933  0.119033\n",
            "..    ...       ...       ...       ...  ...       ...       ...       ...       ...\n",
            "844   0.0 -0.008979 -0.115355  0.106304  ...  0.377606  0.302373  0.265649  0.205335\n",
            "845   0.0 -0.008979  0.346065 -0.812296  ...  1.920333  1.955137  1.966589  1.974518\n",
            "846   0.0 -0.008979 -0.807486  3.091757  ...  1.920333  1.912208  1.923528  1.952943\n",
            "847   0.0 -0.008979  0.000000  2.517631  ...  1.963186  1.998066  2.009651  2.017669\n",
            "848   0.0 -0.008979  1.038196 -2.075372  ...  1.984613  1.998066  2.009651 -1.844329\n",
            "\n",
            "[849 rows x 1400 columns]\n",
            "          0         1         2    ...       897       898       899\n",
            "0    0.868317  0.710788  0.299576  ... -0.062523 -0.057314 -0.053570\n",
            "1    1.075622  1.016774  1.342839  ... -0.062523 -0.057314 -0.053570\n",
            "2    0.939312  0.919926  0.861120  ... -0.041058 -0.035783 -0.031995\n",
            "3   -0.043259  0.421646  1.379999  ... -0.062523 -0.057314 -0.053570\n",
            "4   -0.240624 -0.332088 -0.011475  ...  0.109193  0.114933  0.119033\n",
            "..        ...       ...       ...  ...       ...       ...       ...\n",
            "844 -1.119541 -1.283731 -0.910223  ...  0.302373  0.265649  0.205335\n",
            "845  0.484945  0.466562 -0.051389  ...  1.955137  1.966589  1.974518\n",
            "846 -1.067003 -0.906161  0.190845  ...  1.912208  1.923528  1.952943\n",
            "847  1.095501  0.752896  0.371145  ...  1.998066  2.009651  2.017669\n",
            "848 -0.913655 -0.948271 -1.383684  ...  1.998066  2.009651 -1.844329\n",
            "\n",
            "[849 rows x 900 columns]\n",
            "     0         1         2         3     ...      1696      1697      1698      1699\n",
            "0     0.0 -0.008979 -0.230710 -0.008521  ... -0.072356 -0.062523 -0.057314 -0.053570\n",
            "1     0.0 -0.008979  0.576775 -0.123346  ... -0.072356 -0.062523 -0.057314 -0.053570\n",
            "2     0.0 -0.008979 -0.807486 -0.008521  ... -0.050930 -0.041058 -0.035783 -0.031995\n",
            "3     0.0 -0.008979  0.000000 -2.075372  ... -0.072356 -0.062523 -0.057314 -0.053570\n",
            "4     0.0 -0.008979  0.230710 -1.730897  ...  0.099058  0.109193  0.114933  0.119033\n",
            "..    ...       ...       ...       ...  ...       ...       ...       ...       ...\n",
            "844   0.0 -0.008979 -0.115355  0.106304  ...  0.377606  0.302373  0.265649  0.205335\n",
            "845   0.0 -0.008979  0.346065 -0.812296  ...  1.920333  1.955137  1.966589  1.974518\n",
            "846   0.0 -0.008979 -0.807486  3.091757  ...  1.920333  1.912208  1.923528  1.952943\n",
            "847   0.0 -0.008979  0.000000  2.517631  ...  1.963186  1.998066  2.009651  2.017669\n",
            "848   0.0 -0.008979  1.038196 -2.075372  ...  1.984613  1.998066  2.009651 -1.844329\n",
            "\n",
            "[849 rows x 1700 columns]\n"
          ],
          "name": "stdout"
        }
      ]
    },
    {
      "cell_type": "code",
      "metadata": {
        "id": "Yw8kyulNOsmp",
        "colab_type": "code",
        "colab": {
          "base_uri": "https://localhost:8080/",
          "height": 232
        },
        "outputId": "32333e6b-61e1-4389-9cdc-5e8eb9369e17"
      },
      "source": [
        "# Directly to SVM\n",
        "x = attempt.iloc[:, attempt.columns!='Word'].values   # Features\n",
        "y = attempt.loc[:,'Word'].values     # Target\n",
        "x_train, x_test, y_train, y_test = train_test_split(x, y, test_size=0.6)\n",
        "\n",
        "clf = SVC()\n",
        "clf.fit(x_train, y_train)\n",
        "print ('score', clf.score(x_test, y_test))\n",
        "y_pred=clf.predict(x_test)\n",
        "print ('pred label', y_pred)\n",
        "print('length',len(clf.predict(x_test)))\n",
        "\n",
        "# Confusion matrix\n",
        "plot_confusion_matrix(clf, x_test, y_test,\n",
        "                                 cmap=plt.cm.Blues)\n",
        "plt.figure(figsize=(50,50))\n",
        "plt.show()\n",
        "\n",
        "#print(classification_report(y_test, y_pred, target_names=words))\n",
        "directresults=classification_report(y_test, y_pred, target_names=words)"
      ],
      "execution_count": 11,
      "outputs": [
        {
          "output_type": "error",
          "ename": "NameError",
          "evalue": "ignored",
          "traceback": [
            "\u001b[0;31m---------------------------------------------------------------------------\u001b[0m",
            "\u001b[0;31mNameError\u001b[0m                                 Traceback (most recent call last)",
            "\u001b[0;32m<ipython-input-11-71bbe2924ae6>\u001b[0m in \u001b[0;36m<module>\u001b[0;34m()\u001b[0m\n\u001b[1;32m      1\u001b[0m \u001b[0;31m# Directly to SVM\u001b[0m\u001b[0;34m\u001b[0m\u001b[0;34m\u001b[0m\u001b[0;34m\u001b[0m\u001b[0m\n\u001b[0;32m----> 2\u001b[0;31m \u001b[0mx\u001b[0m \u001b[0;34m=\u001b[0m \u001b[0mattempt\u001b[0m\u001b[0;34m.\u001b[0m\u001b[0miloc\u001b[0m\u001b[0;34m[\u001b[0m\u001b[0;34m:\u001b[0m\u001b[0;34m,\u001b[0m \u001b[0mattempt\u001b[0m\u001b[0;34m.\u001b[0m\u001b[0mcolumns\u001b[0m\u001b[0;34m!=\u001b[0m\u001b[0;34m'Word'\u001b[0m\u001b[0;34m]\u001b[0m\u001b[0;34m.\u001b[0m\u001b[0mvalues\u001b[0m   \u001b[0;31m# Features\u001b[0m\u001b[0;34m\u001b[0m\u001b[0;34m\u001b[0m\u001b[0m\n\u001b[0m\u001b[1;32m      3\u001b[0m \u001b[0my\u001b[0m \u001b[0;34m=\u001b[0m \u001b[0mattempt\u001b[0m\u001b[0;34m.\u001b[0m\u001b[0mloc\u001b[0m\u001b[0;34m[\u001b[0m\u001b[0;34m:\u001b[0m\u001b[0;34m,\u001b[0m\u001b[0;34m'Word'\u001b[0m\u001b[0;34m]\u001b[0m\u001b[0;34m.\u001b[0m\u001b[0mvalues\u001b[0m     \u001b[0;31m# Target\u001b[0m\u001b[0;34m\u001b[0m\u001b[0;34m\u001b[0m\u001b[0m\n\u001b[1;32m      4\u001b[0m \u001b[0mx_train\u001b[0m\u001b[0;34m,\u001b[0m \u001b[0mx_test\u001b[0m\u001b[0;34m,\u001b[0m \u001b[0my_train\u001b[0m\u001b[0;34m,\u001b[0m \u001b[0my_test\u001b[0m \u001b[0;34m=\u001b[0m \u001b[0mtrain_test_split\u001b[0m\u001b[0;34m(\u001b[0m\u001b[0mx\u001b[0m\u001b[0;34m,\u001b[0m \u001b[0my\u001b[0m\u001b[0;34m,\u001b[0m \u001b[0mtest_size\u001b[0m\u001b[0;34m=\u001b[0m\u001b[0;36m0.6\u001b[0m\u001b[0;34m)\u001b[0m\u001b[0;34m\u001b[0m\u001b[0;34m\u001b[0m\u001b[0m\n\u001b[1;32m      5\u001b[0m \u001b[0;34m\u001b[0m\u001b[0m\n",
            "\u001b[0;31mNameError\u001b[0m: name 'attempt' is not defined"
          ]
        }
      ]
    },
    {
      "cell_type": "code",
      "metadata": {
        "id": "NgPwhYZvrn3i",
        "colab_type": "code",
        "colab": {}
      },
      "source": [
        "# Normalized to SVM\n",
        "x = nmatrix.iloc[:, nmatrix.columns!='Word'].values   # Features\n",
        "y = nmatrix.loc[:,'Word'].values     # Target\n",
        "\n",
        "x_train, x_test, y_train, y_test = train_test_split(x, y, test_size=0.6)\n",
        "\n",
        "clf = SVC()\n",
        "clf.fit(x_train, y_train)\n",
        "print ('score', clf.score(x_test, y_test))\n",
        "y_pred=clf.predict(x_test)\n",
        "print ('pred label', y_pred)\n",
        "print('length',len(clf.predict(x_test)))\n",
        "\n",
        "# Confusion matrix\n",
        "plot_confusion_matrix(clf, x_test, y_test,\n",
        "                                 cmap=plt.cm.Blues)\n",
        "plt.figure(figsize=(50,50))\n",
        "plt.show()\n",
        "\n",
        "#print(classification_report(y_test, y_pred, target_names=words))\n",
        "normresults=classification_report(y_test, y_pred, target_names=words)"
      ],
      "execution_count": null,
      "outputs": []
    },
    {
      "cell_type": "code",
      "metadata": {
        "id": "3OL74iKMnWZB",
        "colab_type": "code",
        "colab": {}
      },
      "source": [
        "# Normalized, Butterworth to SVM\n",
        "x = buttermatrix.iloc[:, buttermatrix.columns!='Word'].values   # Features\n",
        "y = buttermatrix.loc[:,'Word'].values     # Target\n",
        "\n",
        "x_train, x_test, y_train, y_test = train_test_split(x, y, test_size=0.6)\n",
        "\n",
        "clf = SVC()\n",
        "clf.fit(x_train, y_train)\n",
        "print ('score', clf.score(x_test, y_test))\n",
        "y_pred=clf.predict(x_test)\n",
        "print ('pred label', y_pred)\n",
        "print('length',len(clf.predict(x_test)))\n",
        "\n",
        "# Confusion matrix\n",
        "plot_confusion_matrix(clf, x_test, y_test,\n",
        "                                 cmap=plt.cm.Blues)\n",
        "plt.figure(figsize=(50,50))\n",
        "plt.show()\n",
        "\n",
        "#print(classification_report(y_test, y_pred, target_names=words))\n",
        "butterresults=classification_report(y_test, y_pred, target_names=words)"
      ],
      "execution_count": null,
      "outputs": []
    },
    {
      "cell_type": "code",
      "metadata": {
        "id": "riv-kFwa9oMD",
        "colab_type": "code",
        "colab": {}
      },
      "source": [
        "# PCA for norm_matrix\n",
        "\n",
        "x = norm_matrix_eago.iloc[:, norm_matrix_eago.columns!='Word'].values   # Features\n",
        "y = norm_matrix_eago.loc[:,'Word'].values     # Target\n",
        "print(y)\n",
        "\n",
        "x_train, x_test, y_train, y_test = train_test_split(x, y, test_size=0.6)\n",
        "\n",
        "pca = PCA(n_components=100)\n",
        "pca.fit(x_train)\n",
        "x_t_train = pca.transform(x_train)\n",
        "x_t_test = pca.transform(x_test)\n",
        "\n",
        "#### plot\n",
        "print(\"Normalized matrix\")\n",
        "print(pca.explained_variance_ratio_)\n",
        "print(pca.singular_values_)\n",
        "plt.figure()\n",
        "plt.bar(fn[:100],pca.explained_variance_ratio_)\n",
        "plt.show()\n",
        "plt.bar(fn[:100],pca.singular_values_)\n",
        "plt.show()"
      ],
      "execution_count": null,
      "outputs": []
    },
    {
      "cell_type": "code",
      "metadata": {
        "id": "BSevZSPDFZjz",
        "colab_type": "code",
        "colab": {}
      },
      "source": [
        "# Normalized, Butterworth, PCA to SVM\n",
        "clf = SVC()\n",
        "clf.fit(x_t_train, y_train)\n",
        "print ('score', clf.score(x_t_test, y_test))\n",
        "y_pred=clf.predict(x_t_test)\n",
        "print ('pred label', y_pred)\n",
        "print('length',len(clf.predict(x_t_test)))\n",
        "\n",
        "# Confusion matrix\n",
        "plot_confusion_matrix(clf, x_t_test, y_test,\n",
        "                                 cmap=plt.cm.Blues)\n",
        "plt.figure(figsize=(50,50))\n",
        "plt.show()\n",
        "\n",
        "#print(classification_report(y_test, y_pred, target_names=words))\n",
        "pcaresults=classification_report(y_test, y_pred, target_names=words)"
      ],
      "execution_count": null,
      "outputs": []
    },
    {
      "cell_type": "markdown",
      "metadata": {
        "id": "oPsmjnnASPYX",
        "colab_type": "text"
      },
      "source": [
        "**Summary of results**\n"
      ]
    },
    {
      "cell_type": "code",
      "metadata": {
        "id": "NGL1j6iBSlGj",
        "colab_type": "code",
        "colab": {}
      },
      "source": [
        "print('Directly:')\n",
        "print(directresults)\n",
        "print('Normalized:')\n",
        "print(normresults)\n",
        "print('Butterworth:')\n",
        "print(butterresults)\n",
        "print('PCA:')\n",
        "print(pcaresults)"
      ],
      "execution_count": null,
      "outputs": []
    },
    {
      "cell_type": "markdown",
      "metadata": {
        "id": "h57zKLByfy2Y",
        "colab_type": "text"
      },
      "source": [
        "TODO:\n",
        "\n",
        "-check what happens when combining diff data sources\n",
        "\n",
        "-graph components\n",
        "\n",
        "find correlations\n",
        "\n",
        "-interpret pca results\n",
        "\n",
        "-try pca per individual/word\n",
        "\n",
        "-read dataset papers\n",
        "\n",
        "correlation component with word\n",
        "\n",
        "-try straight to svm\n",
        "\n",
        "-resend email\n",
        "\n",
        "check what is the data\n",
        "\n",
        "-merge timeseries word index\n",
        "\n",
        "see how stable each feature are\n",
        "\n",
        "standard deviation timeseries\n",
        "\n",
        "-try without filter\n",
        "\n",
        "multi-class classifier SVM\n",
        "\n"
      ]
    },
    {
      "cell_type": "markdown",
      "metadata": {
        "id": "ScbnguG8ONoC",
        "colab_type": "text"
      },
      "source": [
        "https://www.researchgate.net/publication/303707429_Combining_Smartphone_and_Smartwatch_Sensor_Data_in_Activity_Recognition_Approaches_an_Experimental_Evaluation"
      ]
    },
    {
      "cell_type": "markdown",
      "metadata": {
        "id": "Ay3NExQ59xrM",
        "colab_type": "text"
      },
      "source": [
        "References\n",
        "\n",
        "https://stackoverflow.com/questions/56449262/how-to-upload-folders-to-google-colab\n",
        "\n",
        "https://github.com/datarail/datarail/issues/39\n",
        "\n",
        "https://dbader.org/blog/python-check-if-file-exists\n",
        "\n",
        "https://datacarpentry.org/python-socialsci/11-joins/index.html\n",
        "\n",
        "https://stackoverflow.com/questions/26414913/normalize-columns-of-pandas-data-frame\n",
        "\n",
        "https://scikit-learn.org/stable/modules/generated/sklearn.decomposition.PCA.html\n",
        "\n",
        "https://towardsdatascience.com/pca-using-python-scikit-learn-e653f8989e60\n",
        "\n",
        "https://pandas.pydata.org/pandas-docs/stable/reference/api/pandas.DataFrame.to_csv.html\n",
        "\n",
        "https://www.tutorialspoint.com/matplotlib/matplotlib_bar_plot.htm\n",
        "\n",
        "https://docs.scipy.org/doc/scipy-0.14.0/reference/generated/scipy.signal.butter.html\n",
        "\n",
        "https://stackoverflow.com/questions/32194967/how-to-do-pca-and-svm-for-classification-in-python\n",
        "\n",
        "https://stackoverflow.com/questions/6822725/rolling-or-sliding-window-iterator\n",
        "\n",
        "https://scikit-learn.org/stable/modules/cross_validation.html\n",
        "\n",
        "https://stackoverflow.com/questions/47684606/merge-cells-with-pandas\n",
        "\n",
        "https://scientificallysound.org/2016/08/18/python-analysing-emg-signals-part-3/\n",
        "\n",
        "https://stackoverflow.com/questions/58374492/python-valueerror-the-length-of-the-input-vector-x-must-be-greater-than-padle\n",
        "\n",
        "https://pandas.pydata.org/pandas-docs/stable/reference/api/pandas.DataFrame.set_index.html\n",
        "\n",
        "https://scikit-learn.org/stable/auto_examples/model_selection/plot_confusion_matrix.html\n",
        "\n",
        "https://statinfer.com/204-4-2-calculating-sensitivity-and-specificity-in-python/\n",
        "\n",
        "https://www.datacamp.com/community/tutorials/pandas-multi-index\n",
        "\n",
        "https://www.geeksforgeeks.org/how-to-get-rows-index-names-in-pandas-dataframe/\n",
        "\n",
        "https://stackoverflow.com/questions/28140771/select-only-one-index-of-multiindex-dataframe\n",
        "\n",
        "https://www.educative.io/edpresso/how-to-create-a-confusion-matrix-in-python-using-scikit-learn\n",
        "\n",
        "https://scikit-learn.org/stable/modules/generated/sklearn.metrics.classification_report.html\n",
        "\n",
        "http://www.datasciencemadesimple.com/standard-deviation-function-python-pandas-row-column/\n",
        "\n",
        "https://stackoverflow.com/questions/39047915/concat-series-onto-dataframe-with-column-name\n"
      ]
    },
    {
      "cell_type": "code",
      "metadata": {
        "id": "V77MeC59AHdU",
        "colab_type": "code",
        "colab": {}
      },
      "source": [
        "\"\"\"\n",
        "### Combine all files\n",
        "words=['allmorning', 'bird', 'blue', 'cantsleep', 'cat', 'coldrunnynose', 'continuouslyforanhour', 'cost', 'day', 'dollar', 'everymorning', 'everynight', 'gold', 'goodnight', 'happy', 'headache', 'home', 'horse', 'hot', 'hurt', 'itching', 'large', 'mom', 'monthly', 'notfeelgood', 'orange', 'pizza', 'please', 'shirt', 'soreness', 'swelling', 'takeliquidmedicine', 'thatsterrible', 'tired', 'upsetstomach', 'wash']\n",
        "lengths=np.zeros(849, dtype=int)\n",
        "reps=np.zeros(36,dtype=int)\n",
        "wordnum=-1\n",
        "counter=0\n",
        "\n",
        "for w in words:\n",
        "  repcount=0\n",
        "  wordnum+=1\n",
        "\n",
        "  for i in range (10, 120):\n",
        "    path='/content/2MyoASL/' + w + '_' + str(i) + '.csv'\n",
        "\n",
        "    if os.path.exists(path)==True:\n",
        "      counter+=1\n",
        "      repcount+=1\n",
        "      trial=pd.read_csv(path)\n",
        "      lengths[counter-1]=len(trial)\n",
        "      \n",
        "      # Replace counter with evaluated term\n",
        "      for r in range(0,len(trial)):\n",
        "        trial.iloc[r,0]=wordnum\n",
        "        \n",
        "      # Combine all trials\n",
        "      if path=='/content/2MyoASL/allmorning_10.csv':\n",
        "          matrix=trial\n",
        "          \n",
        "          # Create plot for EMG\n",
        "\n",
        "          # Create plot for accelerometer\n",
        "          plt.figure()\n",
        "          alx=plt.axes(projection='3d')\n",
        "          alx.plot3D(trial.loc[:, 'AXL'].values, trial.loc[:, 'AYL'].values, trial.loc[:, 'AZL'].values)\n",
        "          alx.set_title('Accelerometer on left arm')\n",
        "\n",
        "          plt.figure()\n",
        "          arx=plt.axes(projection='3d')\n",
        "          arx.plot3D(trial.loc[:, 'AXR'].values, trial.loc[:, 'AYR'].values, trial.loc[:, 'AZR'].values)\n",
        "          arx.set_title('Accelerometer on right arm')\n",
        "\n",
        "          # Create plot for gyroscope\n",
        "          plt.figure()\n",
        "          glx=plt.axes(projection='3d')\n",
        "          glx.plot3D(trial.loc[:, 'GXL'].values, trial.loc[:, 'GYL'].values, trial.loc[:, 'GZL'].values)\n",
        "          glx.set_title('Gyroscope on left arm')\n",
        "\n",
        "          plt.figure()\n",
        "          grx=plt.axes(projection='3d')\n",
        "          grx.plot3D(trial.loc[:, 'GXR'].values, trial.loc[:, 'GYR'].values, trial.loc[:, 'GZR'].values)\n",
        "          grx.set_title('Gyroscope on right arm')\n",
        "      else:\n",
        "          matrix=pd.concat([matrix, trial])\n",
        "\n",
        "          ###############################################\n",
        "          # Create plot for accelerometer\n",
        "          alx.plot3D(trial.loc[:, 'AXL'].values, trial.loc[:, 'AYL'].values, trial.loc[:, 'AZL'].values)\n",
        "          arx.plot3D(trial.loc[:, 'AXR'].values, trial.loc[:, 'AYR'].values, trial.loc[:, 'AZR'].values)\n",
        "          #plt.show()\n",
        "\n",
        "          # Create plot for gyroscope\n",
        "          glx.plot3D(trial.loc[:, 'GXL'].values, trial.loc[:, 'GYL'].values, trial.loc[:, 'GZL'].values)\n",
        "          grx.plot3D(trial.loc[:, 'GXR'].values, trial.loc[:, 'GYR'].values, trial.loc[:, 'GZR'].values)\n",
        "          ###############################################\n",
        "\n",
        "  reps[wordnum]=repcount\n",
        "plt.show()\n",
        "\"\"\" "
      ],
      "execution_count": null,
      "outputs": []
    },
    {
      "cell_type": "code",
      "metadata": {
        "id": "knhJG10SD22U",
        "colab_type": "code",
        "colab": {}
      },
      "source": [
        "\"\"\"\n",
        "# PCA for normmatrix\n",
        "pca = PCA(n_components=35)\n",
        "comp=pca.fit_transform(norm_matrix_eago)\n",
        "principal=pd.DataFrame(data=comp, columns=['PC 0', 'PC 1', 'PC 2', 'PC 3', 'PC 4', 'PC 5', 'PC 6', 'PC 7', 'PC 8', 'PC 9', 'PC 10', \n",
        "                                           'PC 11', 'PC 12', 'PC 13', 'PC 14', 'PC 16', 'PC 17', 'PC 18', 'PC 19', 'PC 20', \n",
        "                                           'PC 21', 'PC 22', 'PC 23', 'PC 24', 'PC 25', 'PC 26', 'PC 27', 'PC 28', 'PC 29', \n",
        "                                           'PC 30', 'PC 31', 'PC 32', 'PC 33', 'PC 34', 'PC35'])\n",
        "#principal.reset_index(drop=True, inplace=True)\n",
        "#norm_matrix_eago[['Counter']].reset_index(drop=True, inplace=True)\n",
        "norm_matrix_eago.reset_index(drop=True, inplace=True)\n",
        "m.reset_index(drop=True, inplace=True)\n",
        "#finaldf=pd.join([principal, norm_matrix_eago[['Counter']]], axis=1, ignore_index=True).reset_index()\n",
        "finaldf=principal.join(m[['Counter']],how='outer')\n",
        "finaldf=finaldf.drop(columns=['PC 0'])\n",
        "####finaldf=principal\n",
        "####print(m['Counter'])\n",
        "####finaldf['Word']=m['Counter']\n",
        "#finaldf=pd.concat([principal,norm_matrix_eago[['Counter']]], axis=1, ignore_index=True)\n",
        "\n",
        "print(\"Normalized matrix\")\n",
        "print(pca.explained_variance_ratio_)\n",
        "print(pca.singular_values_)\n",
        "plt.figure()\n",
        "plt.bar(fn,pca.explained_variance_ratio_)\n",
        "plt.show()\n",
        "plt.bar(fn,pca.singular_values_)\n",
        "plt.show()\n",
        "print(finaldf)\n",
        "#print(principal.join(norm_matrix_eago[['Counter']],how='inner'))\n",
        "\"\"\"\n",
        "\"\"\"\n",
        "# PCA for normalizedmatrix\n",
        "pca = PCA(n_components=34)\n",
        "pca.fit(normalized_matrix)\n",
        "print(\"Normalized features\")\n",
        "print(pca.explained_variance_ratio_)\n",
        "print(pca.singular_values_)\n",
        "plt.figure()\n",
        "plt.bar(fn[0:34],pca.explained_variance_ratio_)\n",
        "plt.show()\n",
        "plt.bar(fn[0:34],pca.singular_values_)\n",
        "plt.show()\n",
        "\n",
        "# PCA for standardizedmatrix\n",
        "pca = PCA(n_components=34)\n",
        "pca.fit(standardized_matrix)\n",
        "print(\"Standardized features\")\n",
        "print(pca.explained_variance_ratio_)\n",
        "print(pca.singular_values_)\n",
        "plt.figure()\n",
        "plt.bar(fn[0:34],pca.explained_variance_ratio_)\n",
        "plt.show()\n",
        "plt.bar(fn[0:34],pca.singular_values_)\n",
        "plt.show()\n",
        "\"\"\""
      ],
      "execution_count": null,
      "outputs": []
    }
  ]
}