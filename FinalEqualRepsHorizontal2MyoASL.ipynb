{
  "nbformat": 4,
  "nbformat_minor": 0,
  "metadata": {
    "colab": {
      "name": "FinalEqualRepsHorizontal2MyoASL.ipynb",
      "provenance": [],
      "collapsed_sections": [],
      "authorship_tag": "ABX9TyNr0hZkYn88VeYZRNMOqlby",
      "include_colab_link": true
    },
    "kernelspec": {
      "name": "python3",
      "display_name": "Python 3"
    }
  },
  "cells": [
    {
      "cell_type": "markdown",
      "metadata": {
        "id": "view-in-github",
        "colab_type": "text"
      },
      "source": [
        "<a href=\"https://colab.research.google.com/github/michelleaeh/Dissertation/blob/master/FinalEqualRepsHorizontal2MyoASL.ipynb\" target=\"_parent\"><img src=\"https://colab.research.google.com/assets/colab-badge.svg\" alt=\"Open In Colab\"/></a>"
      ]
    },
    {
      "cell_type": "markdown",
      "metadata": {
        "id": "mH79ogCWrzbt",
        "colab_type": "text"
      },
      "source": [
        "**Myo armband dataset from https://data.mendeley.com/datasets/wgswcr8z24/2**\n",
        "\n",
        "\n",
        "**The dataset consits of .csv files collected from two Myo armbands. The format of the files are [word_name]_[id]. The ‘word_name’ is the English translation of the American Sign Language word used and the ‘id’ is a unique identifier. The .zip for each of the above links has sub-folders for each User.**\n",
        "\n",
        "**Each file has 50 columns. They represent a sub-sampled data collection from two Myo devices worn on left and right hands of the signer. The first column is the ‘Counter’ that goes from 1 to 50.**\n",
        "\n",
        "**The following columns are of the format: [Sensor][pod/direction][left/right]. For instance the EMG reading for the first EMG pod (out of 8) on the left hand would be called EMG0R and the accelerometer reading for the Z axis on the left hand would be called: AXL**\n",
        "\n",
        "**If you use this dataset please cite the following papers:**\n",
        "\n",
        "**@inproceedings{paudyal2016sceptre,\n",
        "title={Sceptre: a pervasive, non-invasive, and programmable gesture recognition technology},\n",
        "author={Paudyal, Prajwal and Banerjee, Ayan and Gupta, Sandeep KS},\n",
        "booktitle={Proceedings of the 21st International Conference on Intelligent User Interfaces},\n",
        "pages={282--293},\n",
        "year={2016},\n",
        "organization={ACM}\n",
        "}**\n",
        "\n",
        "**@inproceedings{paudyal2017dyfav,\n",
        "title={Dyfav: Dynamic feature selection and voting for real-time recognition of fingerspelled alphabet using wearables},\n",
        "author={Paudyal, Prajwal and Lee, Junghyo and Banerjee, Ayan and Gupta, Sandeep KS},\n",
        "booktitle={Proceedings of the 22nd International Conference on Intelligent User Interfaces},\n",
        "pages={457--467},\n",
        "year={2017},\n",
        "organization={ACM}\n",
        "}**"
      ]
    },
    {
      "cell_type": "markdown",
      "metadata": {
        "id": "FHNKWJHfhpMy",
        "colab_type": "text"
      },
      "source": [
        "**Frequency:**\n",
        "\n",
        "50Hz sampling rate\n",
        "\n",
        "**Words:**\n",
        "\n",
        "*36 total words*\n",
        "\n",
        "allmorning, bird, blue, cantsleep, cat, colrunnynose, continuouslyforanhour, cost, day, dollar, everymorning, everynight, gold, goodnight, happy, headache, home, horse, hot, hurt, itching, large, mom, monthly, notfeelgood, orange, pizza, please, shirt, soreness, swelling, takeliquidmedicine, thatsterrible, tired, upsetstomach, wash\n",
        "\n",
        "\n",
        "**Filenames:**\n",
        "\n",
        "*849 total files*\n",
        "\n",
        "(word)_(user#)(try#)\n",
        "\n",
        "\n",
        "**Columns of files:**\n",
        "\n",
        "Counter  (1 -> 50)\n",
        "\n",
        "EMG0L -> EMG7L  (EMG sensor readings)\n",
        "\n",
        "AXL, AYL, AZL  (accelerometer readings)\n",
        "\n",
        "GXL, GYL, GZL  (gyroscope readings)\n",
        "\n",
        "ORL, OPL, OYL  (magnetometer readings?)\n",
        "\n",
        "EMG0R -> EMG7R  (EMG sensor readings)\n",
        "\n",
        "AXR, AYR, AZR  (accelerometer readings)\n",
        "\n",
        "GXR, GYR, GZR  (gyroscope readings)\n",
        "\n",
        "ORR, OPR, OYR  (magnetometer readings?)\n",
        "\n",
        "features=['EMG0L', 'EMG1L', 'EMG2L', 'EMG3L', 'EMG4L', 'EMG5L', 'EMG6L', 'EMG7L', 'AXL', 'AYL', 'AZL', 'GXL', 'GYL', 'GZL', 'ORL', 'OPL', 'OYL', 'EMG0R', 'EMG1R', 'EMG2R', 'EMG3R', 'EMG4R', 'EMG5R', 'EMG6R', 'EMG7R', 'AXR', 'AYR', 'AZR', 'GXR', 'GYR', 'GZR', 'ORR', 'OPR', 'OYR']\n",
        "\n",
        "\n",
        "**Size of files:**\n",
        "\n",
        "All files are 50 rows x 35 columns except continuouslyforanhour_22.csv, headache_52.csv, home_61.csv, and mom_82.csv which are 101 rows x 35 columns\n"
      ]
    },
    {
      "cell_type": "markdown",
      "metadata": {
        "id": "lVqdAdxkr-U5",
        "colab_type": "text"
      },
      "source": [
        "**Steps:**\n",
        "\n",
        "1. Combine files\n",
        "2. Normalize or standardize matrix\n",
        "3. Apply Butterworth\n",
        "4. Apply PCA\n",
        "5. Input to SVM"
      ]
    },
    {
      "cell_type": "code",
      "metadata": {
        "id": "5TnTycFtrpHd",
        "colab_type": "code",
        "colab": {}
      },
      "source": [
        "import matplotlib.pyplot as plt\n",
        "import numpy as np\n",
        "import os.path\n",
        "import pandas as pd\n",
        "import scipy as sp\n",
        "import warnings\n",
        "\n",
        "from google.colab import files\n",
        "from mpl_toolkits import mplot3d\n",
        "from scipy import signal\n",
        "from scipy.io import loadmat\n",
        "from sklearn import metrics\n",
        "from sklearn.decomposition import PCA\n",
        "from sklearn.metrics import classification_report\n",
        "from sklearn.metrics import plot_confusion_matrix\n",
        "from sklearn.model_selection import train_test_split\n",
        "from sklearn.preprocessing import StandardScaler\n",
        "from sklearn.svm import SVC\n",
        "from zipfile import ZipFile\n",
        "\n",
        "# Extract all files from zip\n",
        "with ZipFile(\"/content/2MyoASL.zip\", 'r') as zip:\n",
        "  zip.extractall()\n",
        "\n",
        "# Generate matrices for all combinations of sensors (E=3, A=5, G=7, O=11)\n",
        "products=[3, 5, 7, 11, 15, 21, 33, 35, 55, 77, 105, 165, 231, 385, 1155]\n",
        "comb=['e', 'a', 'g', 'o', 'ea', 'eg', 'eo', 'ag', 'ao', 'go', 'eag', 'eao', 'ego', 'ago', 'eago']\n",
        "emg=['EMG0L', 'EMG1L', 'EMG2L', 'EMG3L', 'EMG4L', 'EMG5L', 'EMG6L', 'EMG7L', \n",
        "     'EMG0R', 'EMG1R', 'EMG2R', 'EMG3R', 'EMG4R', 'EMG5R', 'EMG6R', 'EMG7R']\n",
        "acc=['AXL', 'AYL', 'AZL', 'AXR', 'AYR', 'AZR']\n",
        "gyro=['GXL', 'GYL', 'GZL', 'GXR', 'GYR', 'GZR']\n",
        "ori=['ORL', 'OPL', 'OYL', 'ORR', 'OPR', 'OYR']\n",
        "\n",
        "# Initialization of counters\n",
        "words=['allmorning', 'bird', 'blue', 'cantsleep', 'cat', 'coldrunnynose', 'continuouslyforanhour', 'cost', 'day', \n",
        "       'dollar', 'everymorning', 'everynight', 'gold', 'goodnight', 'happy', 'headache', 'home', 'horse', 'hot', \n",
        "       'hurt', 'itching', 'large', 'mom', 'monthly', 'notfeelgood', 'orange', 'pizza', 'please', 'shirt', \n",
        "       'soreness', 'swelling', 'takeliquidmedicine', 'thatsterrible', 'tired', 'upsetstomach', 'wash']\n",
        "colnames=emg[:8]+acc[:3]+gyro[:3]+ori[:3]+emg[8:]+acc[3:]+gyro[3:]+ori[3:]\n",
        "lengths=np.zeros(849, dtype=int)\n",
        "reps=np.zeros(36,dtype=int)\n",
        "repsum=np.zeros(37,dtype=int)\n",
        "headers=np.empty(1701, dtype=object)\n",
        "features=np.zeros(15)\n",
        "target=np.zeros(15)\n",
        "matrix=np.zeros(1)\n",
        "\n",
        "fn=np.arange(1701)\n",
        "wordnum=-1\n",
        "counter=-1\n",
        "start=0\n",
        "num=0\n",
        "n=0"
      ],
      "execution_count": 1,
      "outputs": []
    },
    {
      "cell_type": "code",
      "metadata": {
        "id": "MQFtofv7yG7G",
        "colab_type": "code",
        "colab": {
          "base_uri": "https://localhost:8080/",
          "height": 340
        },
        "outputId": "d5bcbd43-09bc-4b60-8f99-76ff1ecfe9b5"
      },
      "source": [
        "# Combine all files\n",
        "for w in words:\n",
        "  repcount=0\n",
        "  wordnum+=1\n",
        "\n",
        "  for i in range (10, 120):\n",
        "    path='/content/2MyoASL/' + w + '_' + str(i) + '.csv'\n",
        "\n",
        "    if os.path.exists(path)==True:\n",
        "      counter+=1\n",
        "      repcount+=1\n",
        "      trial=pd.read_csv(path)\n",
        "\n",
        "      trial.reset_index(drop=True)\n",
        "      \n",
        "      # Assign word number to one row\n",
        "      row=np.zeros(1)\n",
        "      for t in range(35):\n",
        "        if t==0:\n",
        "          row[0]=wordnum\n",
        "        else:\n",
        "          sensor=trial.iloc[0:50,t].values\n",
        "          sensor.reshape([1,50])\n",
        "          row=np.concatenate((row, sensor))\n",
        "      prev=row\n",
        "      \n",
        "      # Combine all trials\n",
        "      if counter==0:\n",
        "        matrix=prev\n",
        "      else:\n",
        "        matrix=np.concatenate([matrix,prev])\n",
        "\n",
        "  reps[wordnum]=repcount\n",
        "  if wordnum>0:\n",
        "    repsum[wordnum]=reps[wordnum-1]+repsum[wordnum-1]\n",
        "    repsum[36]=849\n",
        "\n",
        "# Create header name array\n",
        "headers[0]='Word'\n",
        "for c in colnames:\n",
        "  for t in range(50):\n",
        "    num+=1\n",
        "    headers[num]=c\n",
        "\n",
        "# Give format to final matrix \n",
        "matrix=matrix.reshape([849,1701])\n",
        "matrix=pd.DataFrame(matrix, columns=headers)\n",
        "print(matrix)\n",
        "matrix.to_csv(path_or_buf='/content/matrix.csv')\n",
        "print('Reps:',reps)\n",
        "print('Cummulative reps:',repsum)"
      ],
      "execution_count": 2,
      "outputs": [
        {
          "output_type": "stream",
          "text": [
            "     Word  EMG0L  EMG0L  EMG0L  EMG0L  ...    OYR    OYR    OYR    OYR    OYR\n",
            "0     0.0    0.0    0.0   -3.0   -1.0  ...   83.0   83.0   83.0   83.0   83.0\n",
            "1     0.0    0.0    0.0    4.0   -2.0  ...   83.0   83.0   83.0   83.0   83.0\n",
            "2     0.0    0.0    0.0   -8.0   -1.0  ...   84.0   84.0   84.0   84.0   84.0\n",
            "3     0.0    0.0    0.0   -1.0  -19.0  ...   83.0   83.0   83.0   83.0   83.0\n",
            "4     0.0    0.0    0.0    1.0  -16.0  ...   93.0   91.0   91.0   91.0   91.0\n",
            "..    ...    ...    ...    ...    ...  ...    ...    ...    ...    ...    ...\n",
            "844  35.0    0.0    0.0   -2.0    0.0  ...  106.0  104.0  100.0   98.0   95.0\n",
            "845  35.0    0.0    0.0    2.0   -8.0  ...  176.0  176.0  177.0  177.0  177.0\n",
            "846  35.0    0.0    0.0   -8.0   26.0  ...  177.0  176.0  175.0  175.0  176.0\n",
            "847  35.0    0.0    0.0   -1.0   21.0  ...  178.0  178.0  179.0  179.0  179.0\n",
            "848  35.0    0.0    0.0    8.0  -19.0  ...  179.0  179.0  179.0  179.0    0.0\n",
            "\n",
            "[849 rows x 1701 columns]\n",
            "Reps: [19 24 32 20 24 20 19 31 24 29 20 21 23 33 34 18 27 24 35 19 17 34 30 19\n",
            " 22 21 23 27 27  4 20 19 20 20 21 29]\n",
            "Cummulative reps: [  0  19  43  75  95 119 139 158 189 213 242 262 283 306 339 373 391 418\n",
            " 442 477 496 513 547 577 596 618 639 662 689 716 720 740 759 779 799 820\n",
            " 849]\n"
          ],
          "name": "stdout"
        }
      ]
    },
    {
      "cell_type": "code",
      "metadata": {
        "id": "oaytNKUWGo7E",
        "colab_type": "code",
        "colab": {
          "base_uri": "https://localhost:8080/",
          "height": 657
        },
        "outputId": "54d3f1ce-cbd2-434c-d772-65ff7035e565"
      },
      "source": [
        "# Average and standard deviation of each sensor in each file\n",
        "for s in colnames:\n",
        "  avg=matrix[s].mean(axis=1)\n",
        "  sd=matrix[s].std(axis=1)\n",
        "  sensor=pd.concat([avg.rename(s+': Mean_'),sd.rename('St. dev.')], axis=1)\n",
        "  if s=='EMG0L':\n",
        "    asd=sensor\n",
        "  else:\n",
        "    asd=pd.concat([asd, sensor], axis=1)\n",
        "print(asd)\n",
        "\n",
        "# Average and standard deviation of each file\n",
        "avg=matrix.mean(axis=1)\n",
        "sd=matrix.std(axis=1)\n",
        "pd.concat([avg.rename('Mean'),sd.rename('St. dev.')], axis=1)"
      ],
      "execution_count": 3,
      "outputs": [
        {
          "output_type": "stream",
          "text": [
            "     EMG0L: Mean_   St. dev.  EMG1L: Mean_  ...   St. dev.  OYR: Mean_   St. dev.\n",
            "0           -2.32   8.664825         -0.80  ...  28.427609       86.70  10.529356\n",
            "1           -1.80   9.544739         -4.08  ...  27.821010       85.68   6.579002\n",
            "2           -3.16  13.085839         -2.32  ...  30.345736       91.88  17.358924\n",
            "3           -0.82  10.123099         -3.16  ...  29.645002       88.46  12.969682\n",
            "4           -0.50   6.516071          2.76  ...  13.237239      116.58  18.099600\n",
            "..            ...        ...           ...  ...        ...         ...        ...\n",
            "844          0.56   7.754288          0.22  ...  17.236281      104.76   7.528341\n",
            "845         -1.74   6.520955         -1.20  ...  21.772891       69.66  85.251036\n",
            "846          1.02   7.731436          0.46  ...  22.707735       56.76  79.408415\n",
            "847          0.06   5.582078          2.36  ...  23.650422       71.62  84.238701\n",
            "848         -2.22   7.434860         -1.62  ...  25.101622       58.52  79.668763\n",
            "\n",
            "[849 rows x 68 columns]\n"
          ],
          "name": "stdout"
        },
        {
          "output_type": "execute_result",
          "data": {
            "text/html": [
              "<div>\n",
              "<style scoped>\n",
              "    .dataframe tbody tr th:only-of-type {\n",
              "        vertical-align: middle;\n",
              "    }\n",
              "\n",
              "    .dataframe tbody tr th {\n",
              "        vertical-align: top;\n",
              "    }\n",
              "\n",
              "    .dataframe thead th {\n",
              "        text-align: right;\n",
              "    }\n",
              "</style>\n",
              "<table border=\"1\" class=\"dataframe\">\n",
              "  <thead>\n",
              "    <tr style=\"text-align: right;\">\n",
              "      <th></th>\n",
              "      <th>Mean</th>\n",
              "      <th>St. dev.</th>\n",
              "    </tr>\n",
              "  </thead>\n",
              "  <tbody>\n",
              "    <tr>\n",
              "      <th>0</th>\n",
              "      <td>15.256437</td>\n",
              "      <td>46.545832</td>\n",
              "    </tr>\n",
              "    <tr>\n",
              "      <th>1</th>\n",
              "      <td>14.220110</td>\n",
              "      <td>47.316822</td>\n",
              "    </tr>\n",
              "    <tr>\n",
              "      <th>2</th>\n",
              "      <td>15.441784</td>\n",
              "      <td>45.614456</td>\n",
              "    </tr>\n",
              "    <tr>\n",
              "      <th>3</th>\n",
              "      <td>13.651092</td>\n",
              "      <td>47.038916</td>\n",
              "    </tr>\n",
              "    <tr>\n",
              "      <th>4</th>\n",
              "      <td>15.063294</td>\n",
              "      <td>49.105612</td>\n",
              "    </tr>\n",
              "    <tr>\n",
              "      <th>...</th>\n",
              "      <td>...</td>\n",
              "      <td>...</td>\n",
              "    </tr>\n",
              "    <tr>\n",
              "      <th>844</th>\n",
              "      <td>13.167964</td>\n",
              "      <td>41.642351</td>\n",
              "    </tr>\n",
              "    <tr>\n",
              "      <th>845</th>\n",
              "      <td>13.815314</td>\n",
              "      <td>42.880121</td>\n",
              "    </tr>\n",
              "    <tr>\n",
              "      <th>846</th>\n",
              "      <td>12.970618</td>\n",
              "      <td>42.725653</td>\n",
              "    </tr>\n",
              "    <tr>\n",
              "      <th>847</th>\n",
              "      <td>13.852317</td>\n",
              "      <td>43.758631</td>\n",
              "    </tr>\n",
              "    <tr>\n",
              "      <th>848</th>\n",
              "      <td>13.144035</td>\n",
              "      <td>44.761750</td>\n",
              "    </tr>\n",
              "  </tbody>\n",
              "</table>\n",
              "<p>849 rows × 2 columns</p>\n",
              "</div>"
            ],
            "text/plain": [
              "          Mean   St. dev.\n",
              "0    15.256437  46.545832\n",
              "1    14.220110  47.316822\n",
              "2    15.441784  45.614456\n",
              "3    13.651092  47.038916\n",
              "4    15.063294  49.105612\n",
              "..         ...        ...\n",
              "844  13.167964  41.642351\n",
              "845  13.815314  42.880121\n",
              "846  12.970618  42.725653\n",
              "847  13.852317  43.758631\n",
              "848  13.144035  44.761750\n",
              "\n",
              "[849 rows x 2 columns]"
            ]
          },
          "metadata": {
            "tags": []
          },
          "execution_count": 3
        }
      ]
    },
    {
      "cell_type": "code",
      "metadata": {
        "id": "NLze9It2KrBp",
        "colab_type": "code",
        "colab": {
          "base_uri": "https://localhost:8080/",
          "height": 289
        },
        "outputId": "5568ac48-5611-4e73-b659-ab7e430a98c4"
      },
      "source": [
        "# Ensure all words have same number of repetitions\n",
        "numreps=34\n",
        "\n",
        "for i in range(len(reps)-1,-1,-1):\n",
        "  tl=sd.iloc[repsum[i]:repsum[i+1]]\n",
        "  u=repsum[i+1]-1\n",
        "  if reps[i]<numreps:\n",
        "    for r in range(len(matrix)-1,-1,-1):\n",
        "      if int(matrix.iloc[r]['Word'])==i:\n",
        "        matrix=matrix.drop(r)\n",
        "  elif reps[i]>numreps:\n",
        "    while reps[i]>numreps:\n",
        "      if tl[u]==tl.max():\n",
        "        tl[u]=0\n",
        "        matrix=matrix.drop(u)\n",
        "        reps[i]=reps[i]-1\n",
        "        u=repsum[i+1]-1\n",
        "      else:\n",
        "        u-=1\n",
        "\n",
        "print(matrix)\n",
        "print('reps',reps)"
      ],
      "execution_count": 4,
      "outputs": [
        {
          "output_type": "stream",
          "text": [
            "     Word  EMG0L  EMG0L  EMG0L  EMG0L  ...    OYR    OYR    OYR    OYR    OYR\n",
            "339  14.0    0.0    0.0   -6.0  -26.0  ...  129.0  128.0  128.0  127.0  127.0\n",
            "340  14.0    0.0    0.0  -11.0    4.0  ...  131.0  130.0  129.0  129.0  128.0\n",
            "341  14.0    0.0    0.0   -4.0    8.0  ...  135.0  135.0  133.0  132.0  131.0\n",
            "342  14.0    0.0    0.0    3.0   -1.0  ...  139.0  138.0  137.0  135.0  134.0\n",
            "343  14.0    0.0    0.0   -4.0   -6.0  ...   19.0   19.0   19.0   19.0   19.0\n",
            "..    ...    ...    ...    ...    ...  ...    ...    ...    ...    ...    ...\n",
            "542  21.0    0.0    0.0    1.0   -5.0  ...  170.0  171.0  171.0  170.0  169.0\n",
            "543  21.0    0.0    0.0   11.0    1.0  ...  171.0  172.0  173.0  173.0  174.0\n",
            "544  21.0    0.0    0.0   11.0    4.0  ...  172.0  172.0  172.0  172.0  172.0\n",
            "545  21.0    0.0    0.0  -12.0   -4.0  ...  164.0  165.0  166.0  168.0  169.0\n",
            "546  21.0    0.0    0.0   -6.0   -5.0  ...  169.0  169.0  170.0  170.0  170.0\n",
            "\n",
            "[102 rows x 1701 columns]\n",
            "reps [19 24 32 20 24 20 19 31 24 29 20 21 23 33 34 18 27 24 34 19 17 34 30 19\n",
            " 22 21 23 27 27  4 20 19 20 20 21 29]\n"
          ],
          "name": "stdout"
        }
      ]
    },
    {
      "cell_type": "code",
      "metadata": {
        "id": "cry7YARuOhoY",
        "colab_type": "code",
        "colab": {}
      },
      "source": [
        "attempt=matrix\n",
        "attempt.to_csv(path_or_buf='/content/attempt.csv')"
      ],
      "execution_count": 5,
      "outputs": []
    },
    {
      "cell_type": "code",
      "metadata": {
        "id": "R7Ib41KW5f32",
        "colab_type": "code",
        "colab": {
          "base_uri": "https://localhost:8080/",
          "height": 649
        },
        "outputId": "375b3e89-f53c-4e30-895a-5c548b103976"
      },
      "source": [
        "# Eliminate unnecessary columns to create combinatory matrices\n",
        "for v in products:\n",
        "  m=matrix\n",
        "  if v%3!=0:\n",
        "    m=m.drop(emg,1)\n",
        "  if v%5!=0:\n",
        "    m=m.drop(acc,1)\n",
        "  if v%7!=0:\n",
        "    m=m.drop(gyro,1)\n",
        "  if v%11!=0:\n",
        "    m=m.drop(ori,1)\n",
        "  products[n]=m\n",
        "  exec(comb[n]+\"=products[n]\")\n",
        "  n+=1\n",
        "  \n",
        "  # Normalize and Standardize each of the 15 matrices\n",
        "  # Separate features from target values\n",
        "  x = m.iloc[:, m.columns!='Word']   # Features\n",
        " \n",
        "  ## Normalize features so that each column is between 0 and 1\n",
        "  norm_matrix=(m-m.min())/(m.max()-m.min())\n",
        "  exec(\"norm_matrix_\"+comb[n-1]+\"=pd.DataFrame(norm_matrix)\")\n",
        "  exec(\"norm_matrix_\"+comb[n-1]+\"=norm_matrix_\"+comb[n-1]+\".dropna(axis=1)\")\n",
        "\n",
        " # Standardize features with mean=0 and deviation=1\n",
        "  standardized_matrix=StandardScaler().fit_transform(x)\n",
        "  exec(\"standardized_matrix_\"+comb[n-1]+\"=pd.DataFrame(standardized_matrix,columns=m.columns[1:])\")\n",
        "  exec(\"standardized_matrix_\"+comb[n-1]+\"=standardized_matrix_\"+comb[n-1]+\".dropna(axis=1)\")\n",
        "\n",
        "print(norm_matrix_eago)\n",
        "print(standardized_matrix_eago)\n",
        "\n",
        "\"\"\"\n",
        "\n",
        "n=0\n",
        "for m in products:\n",
        "  # Separate features from target values\n",
        "  print(m)\n",
        "  x = m.iloc[:, m.columns!='Word']   # Features\n",
        "  print(m)\n",
        "  print(x)\n",
        " \n",
        "  # Normalize features so that each column is between 0 and 1\n",
        "  norm_matrix=(m-m.min())/(m.max()-m.min())\n",
        "  norm_matrix=pd.DataFrame(norm_matrix)\n",
        "  norm_matrix=norm_matrix.dropna(axis=1)\n",
        "  for r in range(849):\n",
        "    wn=int(35*norm_matrix.iloc[r,0])\n",
        "    norm_matrix.iloc[r,0]=words[wn]\n",
        "  norm[n]=norm_matrix\n",
        "\n",
        "  # Standardize features with mean=0 and deviation=1\n",
        "  standardized_matrix=StandardScaler().fit_transform(x)\n",
        "  standardized_matrix=pd.DataFrame(standardized_matrix)\n",
        "  standardized_matrix=standardized_matrix.dropna(axis=1)\n",
        "  stand[n]=standardized_matrix\n",
        "\n",
        "  n+=1\n",
        "\n",
        "cm=norm+stand ####### cm stores all 15 matrices normalized first and then standardized\n",
        "\n",
        "print(m)\n",
        "print(products[14])\n",
        "print(norm[14])\n",
        "print(stand[14])\n",
        "\"\"\""
      ],
      "execution_count": 6,
      "outputs": [
        {
          "output_type": "stream",
          "text": [
            "     Word     EMG0L     EMG0L     EMG0L  ...       OYR       OYR       OYR       OYR\n",
            "339   0.0  0.666667  0.540541  0.496454  ...  0.713483  0.715084  0.709497  0.699422\n",
            "340   0.0  0.666667  0.495495  0.709220  ...  0.724719  0.720670  0.720670  0.705202\n",
            "341   0.0  0.666667  0.558559  0.737589  ...  0.752809  0.743017  0.737430  0.722543\n",
            "342   0.0  0.666667  0.621622  0.673759  ...  0.769663  0.765363  0.754190  0.739884\n",
            "343   0.0  0.666667  0.558559  0.638298  ...  0.101124  0.106145  0.106145  0.075145\n",
            "..    ...       ...       ...       ...  ...       ...       ...       ...       ...\n",
            "542   1.0  0.666667  0.603604  0.645390  ...  0.955056  0.955307  0.949721  0.942197\n",
            "543   1.0  0.666667  0.693694  0.687943  ...  0.960674  0.966480  0.966480  0.971098\n",
            "544   1.0  0.666667  0.693694  0.709220  ...  0.960674  0.960894  0.960894  0.959538\n",
            "545   1.0  0.666667  0.486486  0.652482  ...  0.921348  0.927374  0.938547  0.942197\n",
            "546   1.0  0.666667  0.540541  0.645390  ...  0.943820  0.949721  0.949721  0.947977\n",
            "\n",
            "[102 rows x 1685 columns]\n",
            "     EMG0L     EMG0L     EMG0L  ...       OYR       OYR       OYR\n",
            "0      0.0  0.044324 -0.470503  ...  0.457971  0.467485  0.437794\n",
            "1      0.0  0.044324 -0.938255  ...  0.476679  0.504636  0.456510\n",
            "2      0.0  0.044324 -0.283403  ...  0.551510  0.560363  0.512656\n",
            "3      0.0  0.044324  0.371450  ...  0.626340  0.616089  0.568802\n",
            "4      0.0  0.044324 -0.283403  ... -1.581166 -1.538675 -1.583472\n",
            "..     ...       ...       ...  ...       ...       ...       ...\n",
            "97     0.0  0.044324  0.184349  ...  1.262402  1.266234  1.223842\n",
            "98     0.0  0.044324  1.119853  ...  1.299817  1.321961  1.317419\n",
            "99     0.0  0.044324  1.119853  ...  1.281109  1.303385  1.279988\n",
            "100    0.0  0.044324 -1.031806  ...  1.168863  1.229083  1.223842\n",
            "101    0.0  0.044324 -0.470503  ...  1.243694  1.266234  1.242557\n",
            "\n",
            "[102 rows x 1700 columns]\n"
          ],
          "name": "stdout"
        },
        {
          "output_type": "execute_result",
          "data": {
            "application/vnd.google.colaboratory.intrinsic+json": {
              "type": "string"
            },
            "text/plain": [
              "\"\\n\\nn=0\\nfor m in products:\\n  # Separate features from target values\\n  print(m)\\n  x = m.iloc[:, m.columns!='Word']   # Features\\n  print(m)\\n  print(x)\\n \\n  # Normalize features so that each column is between 0 and 1\\n  norm_matrix=(m-m.min())/(m.max()-m.min())\\n  norm_matrix=pd.DataFrame(norm_matrix)\\n  norm_matrix=norm_matrix.dropna(axis=1)\\n  for r in range(849):\\n    wn=int(35*norm_matrix.iloc[r,0])\\n    norm_matrix.iloc[r,0]=words[wn]\\n  norm[n]=norm_matrix\\n\\n  # Standardize features with mean=0 and deviation=1\\n  standardized_matrix=StandardScaler().fit_transform(x)\\n  standardized_matrix=pd.DataFrame(standardized_matrix)\\n  standardized_matrix=standardized_matrix.dropna(axis=1)\\n  stand[n]=standardized_matrix\\n\\n  n+=1\\n\\ncm=norm+stand ####### cm stores all 15 matrices normalized first and then standardized\\n\\nprint(m)\\nprint(products[14])\\nprint(norm[14])\\nprint(stand[14])\\n\""
            ]
          },
          "metadata": {
            "tags": []
          },
          "execution_count": 6
        }
      ]
    },
    {
      "cell_type": "code",
      "metadata": {
        "id": "_IaWFWIUrT5i",
        "colab_type": "code",
        "colab": {
          "base_uri": "https://localhost:8080/",
          "height": 255
        },
        "outputId": "eea9401d-9857-4d6c-b59d-7f166f08a0e1"
      },
      "source": [
        "# Replace wordnum with word\n",
        "for r in range(len(matrix)):\n",
        "  wn=int(35*norm_matrix_eago.iloc[r,0])\n",
        "  norm_matrix_eago.iloc[r,0]=words[wn]\n",
        "nmatrix=norm_matrix_eago\n",
        "print(nmatrix)\n",
        "nmatrix.to_csv(path_or_buf='/content/nmatrix.csv')\n",
        "words=set(nmatrix['Word'])"
      ],
      "execution_count": 7,
      "outputs": [
        {
          "output_type": "stream",
          "text": [
            "           Word     EMG0L     EMG0L  ...       OYR       OYR       OYR\n",
            "339  allmorning  0.666667  0.540541  ...  0.715084  0.709497  0.699422\n",
            "340  allmorning  0.666667  0.495495  ...  0.720670  0.720670  0.705202\n",
            "341  allmorning  0.666667  0.558559  ...  0.743017  0.737430  0.722543\n",
            "342  allmorning  0.666667  0.621622  ...  0.765363  0.754190  0.739884\n",
            "343  allmorning  0.666667  0.558559  ...  0.106145  0.106145  0.075145\n",
            "..          ...       ...       ...  ...       ...       ...       ...\n",
            "542        wash  0.666667  0.603604  ...  0.955307  0.949721  0.942197\n",
            "543        wash  0.666667  0.693694  ...  0.966480  0.966480  0.971098\n",
            "544        wash  0.666667  0.693694  ...  0.960894  0.960894  0.959538\n",
            "545        wash  0.666667  0.486486  ...  0.927374  0.938547  0.942197\n",
            "546        wash  0.666667  0.540541  ...  0.949721  0.949721  0.947977\n",
            "\n",
            "[102 rows x 1685 columns]\n"
          ],
          "name": "stdout"
        }
      ]
    },
    {
      "cell_type": "code",
      "metadata": {
        "id": "PJjGC_1Q5r03",
        "colab_type": "code",
        "colab": {}
      },
      "source": [
        "# Butterworth\n",
        "#high = 20/(1000/2)\n",
        "#low = 450/(1000/2)\n",
        "high = 1/(50/2)\n",
        "low = 23/(50/2)\n",
        "\n",
        "b, a = sp.signal.butter(4, [high,low], btype='bandpass')\n",
        "\n",
        "for r in emg:\n",
        "  norm_matrix_eago[[r]]\n",
        "  # process EMG signal: filter EMG\n",
        "  emg_filtered = sp.signal.lfilter(b, a, norm_matrix_eago[[r]])\n",
        "  norm_matrix_eago[[r]]=emg_filtered"
      ],
      "execution_count": 8,
      "outputs": []
    },
    {
      "cell_type": "code",
      "metadata": {
        "id": "oegUzb00nsA5",
        "colab_type": "code",
        "colab": {}
      },
      "source": [
        "buttermatrix=norm_matrix_eago"
      ],
      "execution_count": 9,
      "outputs": []
    },
    {
      "cell_type": "markdown",
      "metadata": {
        "id": "I16C6HCyrFZr",
        "colab_type": "text"
      },
      "source": [
        "**Combinations of steps for classification**"
      ]
    },
    {
      "cell_type": "code",
      "metadata": {
        "id": "Yw8kyulNOsmp",
        "colab_type": "code",
        "colab": {
          "base_uri": "https://localhost:8080/",
          "height": 398
        },
        "outputId": "e4abb84d-b959-4ce2-c884-4d575dbb96ed"
      },
      "source": [
        "# Directly to SVM\n",
        "x = attempt.iloc[:, attempt.columns!='Word'].values   # Features\n",
        "y = attempt.loc[:,'Word'].values     # Target\n",
        "x_train, x_test, y_train, y_test = train_test_split(x, y, test_size=0.6)\n",
        "\n",
        "clf = SVC()\n",
        "clf.fit(x_train, y_train)\n",
        "print ('score', clf.score(x_test, y_test))\n",
        "y_pred=clf.predict(x_test)\n",
        "print ('pred label', y_pred)\n",
        "print('length',len(clf.predict(x_test)))\n",
        "\n",
        "# Confusion matrix\n",
        "plot_confusion_matrix(clf, x_test, y_test,\n",
        "                                 cmap=plt.cm.Blues)\n",
        "plt.figure(figsize=(50,50))\n",
        "plt.show()\n",
        "\n",
        "#print(classification_report(y_test, y_pred, target_names=words))\n",
        "directresults=classification_report(y_test, y_pred, target_names=words)"
      ],
      "execution_count": 10,
      "outputs": [
        {
          "output_type": "stream",
          "text": [
            "score 0.7258064516129032\n",
            "pred label [14. 14. 14. 18. 14. 14. 18. 18. 14. 14. 14. 14. 14. 14. 18. 14. 14. 14.\n",
            " 14. 18. 18. 14. 14. 18. 14. 21. 18. 21. 14. 21. 14. 14. 18. 14. 14. 14.\n",
            " 18. 14. 18. 21. 14. 14. 14. 21. 21. 14. 14. 18. 18. 14. 14. 14. 14. 14.\n",
            " 21. 18. 18. 21. 21. 21. 14. 21.]\n",
            "length 62\n"
          ],
          "name": "stdout"
        },
        {
          "output_type": "display_data",
          "data": {
            "image/png": "[encoded data removed]",
            "text/plain": [
              "<Figure size 432x288 with 2 Axes>"
            ]
          },
          "metadata": {
            "tags": [],
            "needs_background": "light"
          }
        },
        {
          "output_type": "display_data",
          "data": {
            "text/plain": [
              "<Figure size 3600x3600 with 0 Axes>"
            ]
          },
          "metadata": {
            "tags": []
          }
        }
      ]
    },
    {
      "cell_type": "code",
      "metadata": {
        "id": "NgPwhYZvrn3i",
        "colab_type": "code",
        "colab": {
          "base_uri": "https://localhost:8080/",
          "height": 483
        },
        "outputId": "777032a4-ce53-4773-c0bb-8478c970839e"
      },
      "source": [
        "# Normalized to SVM\n",
        "x = nmatrix.iloc[:, nmatrix.columns!='Word'].values   # Features\n",
        "y = nmatrix.loc[:,'Word'].values     # Target\n",
        "\n",
        "x_train, x_test, y_train, y_test = train_test_split(x, y, test_size=0.6)\n",
        "\n",
        "clf = SVC()\n",
        "clf.fit(x_train, y_train)\n",
        "print ('score', clf.score(x_test, y_test))\n",
        "y_pred=clf.predict(x_test)\n",
        "print ('pred label', y_pred)\n",
        "print('length',len(clf.predict(x_test)))\n",
        "\n",
        "# Confusion matrix\n",
        "plot_confusion_matrix(clf, x_test, y_test,\n",
        "                                 cmap=plt.cm.Blues)\n",
        "plt.figure(figsize=(50,50))\n",
        "plt.show()\n",
        "\n",
        "#print(classification_report(y_test, y_pred, target_names=words))\n",
        "normresults=classification_report(y_test, y_pred, target_names=words)"
      ],
      "execution_count": 11,
      "outputs": [
        {
          "output_type": "stream",
          "text": [
            "score 0.7580645161290323\n",
            "pred label ['itching' 'allmorning' 'wash' 'wash' 'allmorning' 'allmorning' 'wash'\n",
            " 'allmorning' 'wash' 'itching' 'wash' 'itching' 'itching' 'itching'\n",
            " 'itching' 'allmorning' 'wash' 'wash' 'allmorning' 'itching' 'itching'\n",
            " 'wash' 'allmorning' 'allmorning' 'allmorning' 'allmorning' 'wash' 'wash'\n",
            " 'allmorning' 'allmorning' 'wash' 'allmorning' 'allmorning' 'allmorning'\n",
            " 'allmorning' 'wash' 'allmorning' 'allmorning' 'wash' 'allmorning'\n",
            " 'itching' 'wash' 'allmorning' 'itching' 'wash' 'itching' 'wash' 'wash'\n",
            " 'allmorning' 'itching' 'allmorning' 'allmorning' 'wash' 'wash' 'itching'\n",
            " 'wash' 'allmorning' 'allmorning' 'itching' 'itching' 'wash' 'allmorning']\n",
            "length 62\n"
          ],
          "name": "stdout"
        },
        {
          "output_type": "display_data",
          "data": {
            "image/png": "[encoded data removed]",
            "text/plain": [
              "<Figure size 432x288 with 2 Axes>"
            ]
          },
          "metadata": {
            "tags": [],
            "needs_background": "light"
          }
        },
        {
          "output_type": "display_data",
          "data": {
            "text/plain": [
              "<Figure size 3600x3600 with 0 Axes>"
            ]
          },
          "metadata": {
            "tags": []
          }
        }
      ]
    },
    {
      "cell_type": "code",
      "metadata": {
        "id": "3OL74iKMnWZB",
        "colab_type": "code",
        "colab": {
          "base_uri": "https://localhost:8080/",
          "height": 487
        },
        "outputId": "5735572a-7676-4e04-b56a-4e975866d609"
      },
      "source": [
        "# Normalized, Butterworth to SVM\n",
        "x = buttermatrix.iloc[:, buttermatrix.columns!='Word'].values   # Features\n",
        "y = buttermatrix.loc[:,'Word'].values     # Target\n",
        "\n",
        "x_train, x_test, y_train, y_test = train_test_split(x, y, test_size=0.6)\n",
        "\n",
        "clf = SVC()\n",
        "clf.fit(x_train, y_train)\n",
        "print ('score', clf.score(x_test, y_test))\n",
        "y_pred=clf.predict(x_test)\n",
        "print ('pred label', y_pred)\n",
        "print('length',len(clf.predict(x_test)))\n",
        "\n",
        "# Confusion matrix\n",
        "plot_confusion_matrix(clf, x_test, y_test,\n",
        "                                 cmap=plt.cm.Blues)\n",
        "plt.figure(figsize=(50,50))\n",
        "plt.show()\n",
        "\n",
        "#print(classification_report(y_test, y_pred, target_names=words))\n",
        "butterresults=classification_report(y_test, y_pred, target_names=words)"
      ],
      "execution_count": 12,
      "outputs": [
        {
          "output_type": "stream",
          "text": [
            "score 0.46774193548387094\n",
            "pred label ['itching' 'itching' 'wash' 'wash' 'itching' 'itching' 'itching' 'itching'\n",
            " 'itching' 'itching' 'itching' 'wash' 'itching' 'itching' 'itching'\n",
            " 'itching' 'itching' 'itching' 'itching' 'itching' 'wash' 'itching'\n",
            " 'allmorning' 'allmorning' 'itching' 'itching' 'itching' 'itching'\n",
            " 'itching' 'itching' 'itching' 'itching' 'allmorning' 'itching' 'itching'\n",
            " 'itching' 'allmorning' 'itching' 'itching' 'wash' 'itching' 'wash'\n",
            " 'itching' 'itching' 'itching' 'itching' 'itching' 'itching' 'wash'\n",
            " 'itching' 'allmorning' 'wash' 'itching' 'itching' 'wash' 'allmorning'\n",
            " 'itching' 'itching' 'itching' 'itching' 'itching' 'wash']\n",
            "length 62\n"
          ],
          "name": "stdout"
        },
        {
          "output_type": "display_data",
          "data": {
            "image/png": "[encoded data removed]",
            "text/plain": [
              "<Figure size 432x288 with 2 Axes>"
            ]
          },
          "metadata": {
            "tags": [],
            "needs_background": "light"
          }
        },
        {
          "output_type": "display_data",
          "data": {
            "text/plain": [
              "<Figure size 3600x3600 with 0 Axes>"
            ]
          },
          "metadata": {
            "tags": []
          }
        }
      ]
    },
    {
      "cell_type": "code",
      "metadata": {
        "id": "riv-kFwa9oMD",
        "colab_type": "code",
        "colab": {
          "base_uri": "https://localhost:8080/",
          "height": 1000
        },
        "outputId": "f788c253-090e-4667-f986-113a529df3d5"
      },
      "source": [
        "# PCA for norm_matrix\n",
        "\n",
        "x = norm_matrix_eago.iloc[:, norm_matrix_eago.columns!='Word'].values   # Features\n",
        "y = norm_matrix_eago.loc[:,'Word'].values     # Target\n",
        "print(y)\n",
        "\n",
        "x_train, x_test, y_train, y_test = train_test_split(x, y, test_size=0.6)\n",
        "\n",
        "pca = PCA(n_components=40)\n",
        "pca.fit(x_train)\n",
        "x_t_train = pca.transform(x_train)\n",
        "x_t_test = pca.transform(x_test)\n",
        "\n",
        "#### plot\n",
        "print(\"Normalized matrix\")\n",
        "print(pca.explained_variance_ratio_)\n",
        "print(pca.singular_values_)\n",
        "plt.figure()\n",
        "plt.bar(fn[:40],pca.explained_variance_ratio_)\n",
        "plt.show()\n",
        "plt.bar(fn[:40],pca.singular_values_)\n",
        "plt.show()"
      ],
      "execution_count": 13,
      "outputs": [
        {
          "output_type": "stream",
          "text": [
            "['allmorning' 'allmorning' 'allmorning' 'allmorning' 'allmorning'\n",
            " 'allmorning' 'allmorning' 'allmorning' 'allmorning' 'allmorning'\n",
            " 'allmorning' 'allmorning' 'allmorning' 'allmorning' 'allmorning'\n",
            " 'allmorning' 'allmorning' 'allmorning' 'allmorning' 'allmorning'\n",
            " 'allmorning' 'allmorning' 'allmorning' 'allmorning' 'allmorning'\n",
            " 'allmorning' 'allmorning' 'allmorning' 'allmorning' 'allmorning'\n",
            " 'allmorning' 'allmorning' 'allmorning' 'allmorning' 'itching' 'itching'\n",
            " 'itching' 'itching' 'itching' 'itching' 'itching' 'itching' 'itching'\n",
            " 'itching' 'itching' 'itching' 'itching' 'itching' 'itching' 'itching'\n",
            " 'itching' 'itching' 'itching' 'itching' 'itching' 'itching' 'itching'\n",
            " 'itching' 'itching' 'itching' 'itching' 'itching' 'itching' 'itching'\n",
            " 'itching' 'itching' 'itching' 'itching' 'wash' 'wash' 'wash' 'wash'\n",
            " 'wash' 'wash' 'wash' 'wash' 'wash' 'wash' 'wash' 'wash' 'wash' 'wash'\n",
            " 'wash' 'wash' 'wash' 'wash' 'wash' 'wash' 'wash' 'wash' 'wash' 'wash'\n",
            " 'wash' 'wash' 'wash' 'wash' 'wash' 'wash' 'wash' 'wash' 'wash' 'wash']\n",
            "Normalized matrix\n",
            "[1.50837940e-01 1.17669360e-01 1.02898116e-01 7.85545560e-02\n",
            " 7.08474391e-02 5.27850983e-02 4.53887847e-02 3.77432155e-02\n",
            " 3.15755143e-02 2.99536442e-02 2.67601459e-02 2.50384439e-02\n",
            " 2.06839582e-02 2.02524036e-02 1.91324932e-02 1.69203348e-02\n",
            " 1.52624127e-02 1.40608210e-02 1.26825732e-02 1.11661319e-02\n",
            " 1.08660290e-02 9.92255270e-03 9.40225328e-03 7.76555490e-03\n",
            " 7.00756867e-03 6.80818013e-03 6.31294777e-03 6.10694032e-03\n",
            " 5.53101439e-03 4.65984057e-03 4.20380006e-03 4.04769968e-03\n",
            " 3.58469279e-03 3.07557954e-03 2.94086597e-03 2.33679932e-03\n",
            " 2.11475169e-03 1.93115011e-03 1.16839296e-03 2.03678645e-31]\n",
            "[1.76565129e+01 1.55948548e+01 1.45832174e+01 1.27419333e+01\n",
            " 1.21007341e+01 1.04449245e+01 9.68554172e+00 8.83220391e+00\n",
            " 8.07839074e+00 7.86818336e+00 7.43693315e+00 7.19371630e+00\n",
            " 6.53832441e+00 6.46975635e+00 6.28833142e+00 5.91362955e+00\n",
            " 5.61644144e+00 5.39082184e+00 5.11980392e+00 4.80397807e+00\n",
            " 4.73898211e+00 4.52857272e+00 4.40824387e+00 4.00623007e+00\n",
            " 3.80568922e+00 3.75115628e+00 3.61214967e+00 3.55272406e+00\n",
            " 3.38105342e+00 3.10338151e+00 2.94761437e+00 2.89236955e+00\n",
            " 2.72192159e+00 2.52123380e+00 2.46539922e+00 2.19765921e+00\n",
            " 2.09064035e+00 1.99782597e+00 1.55397527e+00 2.05174029e-14]\n"
          ],
          "name": "stdout"
        },
        {
          "output_type": "display_data",
          "data": {
            "image/png": "[encoded data removed]",
            "text/plain": [
              "<Figure size 432x288 with 1 Axes>"
            ]
          },
          "metadata": {
            "tags": [],
            "needs_background": "light"
          }
        },
        {
          "output_type": "display_data",
          "data": {
            "image/png": "[encoded data removed]",
            "text/plain": [
              "<Figure size 432x288 with 1 Axes>"
            ]
          },
          "metadata": {
            "tags": [],
            "needs_background": "light"
          }
        }
      ]
    },
    {
      "cell_type": "code",
      "metadata": {
        "id": "BSevZSPDFZjz",
        "colab_type": "code",
        "colab": {
          "base_uri": "https://localhost:8080/",
          "height": 500
        },
        "outputId": "040230f6-edc9-4acd-8c15-7450cec3a8e9"
      },
      "source": [
        "# Normalized, Butterworth, PCA to SVM\n",
        "clf = SVC()\n",
        "clf.fit(x_t_train, y_train)\n",
        "print ('score', clf.score(x_t_test, y_test))\n",
        "y_pred=clf.predict(x_t_test)\n",
        "print ('pred label', y_pred)\n",
        "print('length',len(clf.predict(x_t_test)))\n",
        "\n",
        "# Confusion matrix\n",
        "plot_confusion_matrix(clf, x_t_test, y_test,\n",
        "                                 cmap=plt.cm.Blues)\n",
        "plt.figure(figsize=(50,50))\n",
        "plt.show()\n",
        "\n",
        "#print(classification_report(y_test, y_pred, target_names=words))\n",
        "pcaresults=classification_report(y_test, y_pred, target_names=words)"
      ],
      "execution_count": 14,
      "outputs": [
        {
          "output_type": "stream",
          "text": [
            "score 0.7903225806451613\n",
            "pred label ['itching' 'itching' 'allmorning' 'allmorning' 'allmorning' 'wash'\n",
            " 'allmorning' 'allmorning' 'allmorning' 'allmorning' 'allmorning' 'wash'\n",
            " 'itching' 'wash' 'itching' 'allmorning' 'allmorning' 'itching' 'itching'\n",
            " 'itching' 'wash' 'allmorning' 'itching' 'wash' 'wash' 'itching'\n",
            " 'allmorning' 'allmorning' 'itching' 'wash' 'allmorning' 'allmorning'\n",
            " 'itching' 'itching' 'allmorning' 'allmorning' 'allmorning' 'wash'\n",
            " 'itching' 'itching' 'itching' 'itching' 'itching' 'allmorning' 'itching'\n",
            " 'allmorning' 'itching' 'allmorning' 'wash' 'wash' 'itching' 'allmorning'\n",
            " 'allmorning' 'wash' 'itching' 'wash' 'itching' 'itching' 'wash' 'wash'\n",
            " 'itching' 'itching']\n",
            "length 62\n"
          ],
          "name": "stdout"
        },
        {
          "output_type": "display_data",
          "data": {
            "image/png": "[encoded data removed]",
            "text/plain": [
              "<Figure size 432x288 with 2 Axes>"
            ]
          },
          "metadata": {
            "tags": [],
            "needs_background": "light"
          }
        },
        {
          "output_type": "display_data",
          "data": {
            "text/plain": [
              "<Figure size 3600x3600 with 0 Axes>"
            ]
          },
          "metadata": {
            "tags": []
          }
        }
      ]
    },
    {
      "cell_type": "markdown",
      "metadata": {
        "id": "oPsmjnnASPYX",
        "colab_type": "text"
      },
      "source": [
        "**Summary of results**\n"
      ]
    },
    {
      "cell_type": "code",
      "metadata": {
        "id": "NGL1j6iBSlGj",
        "colab_type": "code",
        "colab": {
          "base_uri": "https://localhost:8080/",
          "height": 765
        },
        "outputId": "b2470b49-7681-4405-a1df-d25ba98df153"
      },
      "source": [
        "print('Directly:')\n",
        "print(directresults)\n",
        "print('Normalized:')\n",
        "print(normresults)\n",
        "print('Butterworth:')\n",
        "print(butterresults)\n",
        "print('PCA:')\n",
        "print(pcaresults)"
      ],
      "execution_count": 15,
      "outputs": [
        {
          "output_type": "stream",
          "text": [
            "Directly:\n",
            "              precision    recall  f1-score   support\n",
            "\n",
            "        wash       0.53      1.00      0.69        19\n",
            "     itching       1.00      0.71      0.83        21\n",
            "  allmorning       1.00      0.50      0.67        22\n",
            "\n",
            "    accuracy                           0.73        62\n",
            "   macro avg       0.84      0.74      0.73        62\n",
            "weighted avg       0.86      0.73      0.73        62\n",
            "\n",
            "Normalized:\n",
            "              precision    recall  f1-score   support\n",
            "\n",
            "        wash       0.65      0.81      0.72        21\n",
            "     itching       0.93      0.64      0.76        22\n",
            "  allmorning       0.76      0.84      0.80        19\n",
            "\n",
            "    accuracy                           0.76        62\n",
            "   macro avg       0.78      0.76      0.76        62\n",
            "weighted avg       0.79      0.76      0.76        62\n",
            "\n",
            "Butterworth:\n",
            "              precision    recall  f1-score   support\n",
            "\n",
            "        wash       0.33      0.09      0.14        22\n",
            "     itching       0.37      1.00      0.54        17\n",
            "  allmorning       1.00      0.43      0.61        23\n",
            "\n",
            "    accuracy                           0.47        62\n",
            "   macro avg       0.57      0.51      0.43        62\n",
            "weighted avg       0.59      0.47      0.42        62\n",
            "\n",
            "PCA:\n",
            "              precision    recall  f1-score   support\n",
            "\n",
            "        wash       0.70      0.84      0.76        19\n",
            "     itching       0.76      0.90      0.83        21\n",
            "  allmorning       1.00      0.64      0.78        22\n",
            "\n",
            "    accuracy                           0.79        62\n",
            "   macro avg       0.82      0.79      0.79        62\n",
            "weighted avg       0.83      0.79      0.79        62\n",
            "\n"
          ],
          "name": "stdout"
        }
      ]
    },
    {
      "cell_type": "markdown",
      "metadata": {
        "id": "h57zKLByfy2Y",
        "colab_type": "text"
      },
      "source": [
        "TODO:\n",
        "\n",
        "-check what happens when combining diff data sources\n",
        "\n",
        "-graph components\n",
        "\n",
        "find correlations\n",
        "\n",
        "-interpret pca results\n",
        "\n",
        "-try pca per individual/word\n",
        "\n",
        "-read dataset papers\n",
        "\n",
        "correlation component with word\n",
        "\n",
        "-try straight to svm\n",
        "\n",
        "-resend email\n",
        "\n",
        "check what is the data\n",
        "\n",
        "-merge timeseries word index\n",
        "\n",
        "see how stable each feature are\n",
        "\n",
        "standard deviation timeseries\n",
        "\n",
        "-try without filter\n",
        "\n",
        "multi-class classifier SVM\n",
        "\n",
        "**try with 2 words, only emg\n",
        "average per column\n",
        "test each step\n",
        "test svm with 2 matrices\n",
        "see if svm has access to test set \n",
        "maybe shifted per set \n",
        "\n"
      ]
    },
    {
      "cell_type": "markdown",
      "metadata": {
        "id": "ScbnguG8ONoC",
        "colab_type": "text"
      },
      "source": [
        "https://www.researchgate.net/publication/303707429_Combining_Smartphone_and_Smartwatch_Sensor_Data_in_Activity_Recognition_Approaches_an_Experimental_Evaluation"
      ]
    },
    {
      "cell_type": "markdown",
      "metadata": {
        "id": "Ay3NExQ59xrM",
        "colab_type": "text"
      },
      "source": [
        "References\n",
        "\n",
        "https://stackoverflow.com/questions/56449262/how-to-upload-folders-to-google-colab\n",
        "\n",
        "https://github.com/datarail/datarail/issues/39\n",
        "\n",
        "https://dbader.org/blog/python-check-if-file-exists\n",
        "\n",
        "https://datacarpentry.org/python-socialsci/11-joins/index.html\n",
        "\n",
        "https://stackoverflow.com/questions/26414913/normalize-columns-of-pandas-data-frame\n",
        "\n",
        "https://scikit-learn.org/stable/modules/generated/sklearn.decomposition.PCA.html\n",
        "\n",
        "https://towardsdatascience.com/pca-using-python-scikit-learn-e653f8989e60\n",
        "\n",
        "https://pandas.pydata.org/pandas-docs/stable/reference/api/pandas.DataFrame.to_csv.html\n",
        "\n",
        "https://www.tutorialspoint.com/matplotlib/matplotlib_bar_plot.htm\n",
        "\n",
        "https://docs.scipy.org/doc/scipy-0.14.0/reference/generated/scipy.signal.butter.html\n",
        "\n",
        "https://stackoverflow.com/questions/32194967/how-to-do-pca-and-svm-for-classification-in-python\n",
        "\n",
        "https://stackoverflow.com/questions/6822725/rolling-or-sliding-window-iterator\n",
        "\n",
        "https://scikit-learn.org/stable/modules/cross_validation.html\n",
        "\n",
        "https://stackoverflow.com/questions/47684606/merge-cells-with-pandas\n",
        "\n",
        "https://scientificallysound.org/2016/08/18/python-analysing-emg-signals-part-3/\n",
        "\n",
        "https://stackoverflow.com/questions/58374492/python-valueerror-the-length-of-the-input-vector-x-must-be-greater-than-padle\n",
        "\n",
        "https://pandas.pydata.org/pandas-docs/stable/reference/api/pandas.DataFrame.set_index.html\n",
        "\n",
        "https://scikit-learn.org/stable/auto_examples/model_selection/plot_confusion_matrix.html\n",
        "\n",
        "https://statinfer.com/204-4-2-calculating-sensitivity-and-specificity-in-python/\n",
        "\n",
        "https://www.datacamp.com/community/tutorials/pandas-multi-index\n",
        "\n",
        "https://www.geeksforgeeks.org/how-to-get-rows-index-names-in-pandas-dataframe/\n",
        "\n",
        "https://stackoverflow.com/questions/28140771/select-only-one-index-of-multiindex-dataframe\n",
        "\n",
        "https://www.educative.io/edpresso/how-to-create-a-confusion-matrix-in-python-using-scikit-learn\n",
        "\n",
        "https://scikit-learn.org/stable/modules/generated/sklearn.metrics.classification_report.html\n",
        "\n",
        "http://www.datasciencemadesimple.com/standard-deviation-function-python-pandas-row-column/\n",
        "\n",
        "https://stackoverflow.com/questions/39047915/concat-series-onto-dataframe-with-column-name\n"
      ]
    },
    {
      "cell_type": "code",
      "metadata": {
        "id": "V77MeC59AHdU",
        "colab_type": "code",
        "colab": {
          "base_uri": "https://localhost:8080/",
          "height": 191
        },
        "outputId": "70f92878-baf5-4ca6-fb98-374ae745986d"
      },
      "source": [
        "\"\"\"\n",
        "### Combine all files\n",
        "words=['allmorning', 'bird', 'blue', 'cantsleep', 'cat', 'coldrunnynose', 'continuouslyforanhour', 'cost', 'day', 'dollar', 'everymorning', 'everynight', 'gold', 'goodnight', 'happy', 'headache', 'home', 'horse', 'hot', 'hurt', 'itching', 'large', 'mom', 'monthly', 'notfeelgood', 'orange', 'pizza', 'please', 'shirt', 'soreness', 'swelling', 'takeliquidmedicine', 'thatsterrible', 'tired', 'upsetstomach', 'wash']\n",
        "lengths=np.zeros(849, dtype=int)\n",
        "reps=np.zeros(36,dtype=int)\n",
        "wordnum=-1\n",
        "counter=0\n",
        "\n",
        "for w in words:\n",
        "  repcount=0\n",
        "  wordnum+=1\n",
        "\n",
        "  for i in range (10, 120):\n",
        "    path='/content/2MyoASL/' + w + '_' + str(i) + '.csv'\n",
        "\n",
        "    if os.path.exists(path)==True:\n",
        "      counter+=1\n",
        "      repcount+=1\n",
        "      trial=pd.read_csv(path)\n",
        "      lengths[counter-1]=len(trial)\n",
        "      \n",
        "      # Replace counter with evaluated term\n",
        "      for r in range(0,len(trial)):\n",
        "        trial.iloc[r,0]=wordnum\n",
        "        \n",
        "      # Combine all trials\n",
        "      if path=='/content/2MyoASL/allmorning_10.csv':\n",
        "          matrix=trial\n",
        "          \n",
        "          # Create plot for EMG\n",
        "\n",
        "          # Create plot for accelerometer\n",
        "          plt.figure()\n",
        "          alx=plt.axes(projection='3d')\n",
        "          alx.plot3D(trial.loc[:, 'AXL'].values, trial.loc[:, 'AYL'].values, trial.loc[:, 'AZL'].values)\n",
        "          alx.set_title('Accelerometer on left arm')\n",
        "\n",
        "          plt.figure()\n",
        "          arx=plt.axes(projection='3d')\n",
        "          arx.plot3D(trial.loc[:, 'AXR'].values, trial.loc[:, 'AYR'].values, trial.loc[:, 'AZR'].values)\n",
        "          arx.set_title('Accelerometer on right arm')\n",
        "\n",
        "          # Create plot for gyroscope\n",
        "          plt.figure()\n",
        "          glx=plt.axes(projection='3d')\n",
        "          glx.plot3D(trial.loc[:, 'GXL'].values, trial.loc[:, 'GYL'].values, trial.loc[:, 'GZL'].values)\n",
        "          glx.set_title('Gyroscope on left arm')\n",
        "\n",
        "          plt.figure()\n",
        "          grx=plt.axes(projection='3d')\n",
        "          grx.plot3D(trial.loc[:, 'GXR'].values, trial.loc[:, 'GYR'].values, trial.loc[:, 'GZR'].values)\n",
        "          grx.set_title('Gyroscope on right arm')\n",
        "      else:\n",
        "          matrix=pd.concat([matrix, trial])\n",
        "\n",
        "          ###############################################\n",
        "          # Create plot for accelerometer\n",
        "          alx.plot3D(trial.loc[:, 'AXL'].values, trial.loc[:, 'AYL'].values, trial.loc[:, 'AZL'].values)\n",
        "          arx.plot3D(trial.loc[:, 'AXR'].values, trial.loc[:, 'AYR'].values, trial.loc[:, 'AZR'].values)\n",
        "          #plt.show()\n",
        "\n",
        "          # Create plot for gyroscope\n",
        "          glx.plot3D(trial.loc[:, 'GXL'].values, trial.loc[:, 'GYL'].values, trial.loc[:, 'GZL'].values)\n",
        "          grx.plot3D(trial.loc[:, 'GXR'].values, trial.loc[:, 'GYR'].values, trial.loc[:, 'GZR'].values)\n",
        "          ###############################################\n",
        "\n",
        "  reps[wordnum]=repcount\n",
        "plt.show()\n",
        "\"\"\" "
      ],
      "execution_count": 16,
      "outputs": [
        {
          "output_type": "execute_result",
          "data": {
            "application/vnd.google.colaboratory.intrinsic+json": {
              "type": "string"
            },
            "text/plain": [
              "\"\\n### Combine all files\\nwords=['allmorning', 'bird', 'blue', 'cantsleep', 'cat', 'coldrunnynose', 'continuouslyforanhour', 'cost', 'day', 'dollar', 'everymorning', 'everynight', 'gold', 'goodnight', 'happy', 'headache', 'home', 'horse', 'hot', 'hurt', 'itching', 'large', 'mom', 'monthly', 'notfeelgood', 'orange', 'pizza', 'please', 'shirt', 'soreness', 'swelling', 'takeliquidmedicine', 'thatsterrible', 'tired', 'upsetstomach', 'wash']\\nlengths=np.zeros(849, dtype=int)\\nreps=np.zeros(36,dtype=int)\\nwordnum=-1\\ncounter=0\\n\\nfor w in words:\\n  repcount=0\\n  wordnum+=1\\n\\n  for i in range (10, 120):\\n    path='/content/2MyoASL/' + w + '_' + str(i) + '.csv'\\n\\n    if os.path.exists(path)==True:\\n      counter+=1\\n      repcount+=1\\n      trial=pd.read_csv(path)\\n      lengths[counter-1]=len(trial)\\n      \\n      # Replace counter with evaluated term\\n      for r in range(0,len(trial)):\\n        trial.iloc[r,0]=wordnum\\n        \\n      # Combine all trials\\n      if path=='/content/2MyoASL/allmorning_10.csv':\\n          matrix=trial\\n          \\n          # Create plot for EMG\\n\\n          # Create plot for accelerometer\\n          plt.figure()\\n          alx=plt.axes(projection='3d')\\n          alx.plot3D(trial.loc[:, 'AXL'].values, trial.loc[:, 'AYL'].values, trial.loc[:, 'AZL'].values)\\n          alx.set_title('Accelerometer on left arm')\\n\\n          plt.figure()\\n          arx=plt.axes(projection='3d')\\n          arx.plot3D(trial.loc[:, 'AXR'].values, trial.loc[:, 'AYR'].values, trial.loc[:, 'AZR'].values)\\n          arx.set_title('Accelerometer on right arm')\\n\\n          # Create plot for gyroscope\\n          plt.figure()\\n          glx=plt.axes(projection='3d')\\n          glx.plot3D(trial.loc[:, 'GXL'].values, trial.loc[:, 'GYL'].values, trial.loc[:, 'GZL'].values)\\n          glx.set_title('Gyroscope on left arm')\\n\\n          plt.figure()\\n          grx=plt.axes(projection='3d')\\n          grx.plot3D(trial.loc[:, 'GXR'].values, trial.loc[:, 'GYR'].values, trial.loc[:, 'GZR'].values)\\n          grx.set_title('Gyroscope on right arm')\\n      else:\\n          matrix=pd.concat([matrix, trial])\\n\\n          ###############################################\\n          # Create plot for accelerometer\\n          alx.plot3D(trial.loc[:, 'AXL'].values, trial.loc[:, 'AYL'].values, trial.loc[:, 'AZL'].values)\\n          arx.plot3D(trial.loc[:, 'AXR'].values, trial.loc[:, 'AYR'].values, trial.loc[:, 'AZR'].values)\\n          #plt.show()\\n\\n          # Create plot for gyroscope\\n          glx.plot3D(trial.loc[:, 'GXL'].values, trial.loc[:, 'GYL'].values, trial.loc[:, 'GZL'].values)\\n          grx.plot3D(trial.loc[:, 'GXR'].values, trial.loc[:, 'GYR'].values, trial.loc[:, 'GZR'].values)\\n          ###############################################\\n\\n  reps[wordnum]=repcount\\nplt.show()\\n\""
            ]
          },
          "metadata": {
            "tags": []
          },
          "execution_count": 16
        }
      ]
    },
    {
      "cell_type": "code",
      "metadata": {
        "id": "knhJG10SD22U",
        "colab_type": "code",
        "colab": {
          "base_uri": "https://localhost:8080/",
          "height": 139
        },
        "outputId": "350beb3c-c1fa-4f44-9514-82cae742eddc"
      },
      "source": [
        "\"\"\"\n",
        "# PCA for normmatrix\n",
        "pca = PCA(n_components=35)\n",
        "comp=pca.fit_transform(norm_matrix_eago)\n",
        "principal=pd.DataFrame(data=comp, columns=['PC 0', 'PC 1', 'PC 2', 'PC 3', 'PC 4', 'PC 5', 'PC 6', 'PC 7', 'PC 8', 'PC 9', 'PC 10', \n",
        "                                           'PC 11', 'PC 12', 'PC 13', 'PC 14', 'PC 16', 'PC 17', 'PC 18', 'PC 19', 'PC 20', \n",
        "                                           'PC 21', 'PC 22', 'PC 23', 'PC 24', 'PC 25', 'PC 26', 'PC 27', 'PC 28', 'PC 29', \n",
        "                                           'PC 30', 'PC 31', 'PC 32', 'PC 33', 'PC 34', 'PC35'])\n",
        "#principal.reset_index(drop=True, inplace=True)\n",
        "#norm_matrix_eago[['Counter']].reset_index(drop=True, inplace=True)\n",
        "norm_matrix_eago.reset_index(drop=True, inplace=True)\n",
        "m.reset_index(drop=True, inplace=True)\n",
        "#finaldf=pd.join([principal, norm_matrix_eago[['Counter']]], axis=1, ignore_index=True).reset_index()\n",
        "finaldf=principal.join(m[['Counter']],how='outer')\n",
        "finaldf=finaldf.drop(columns=['PC 0'])\n",
        "####finaldf=principal\n",
        "####print(m['Counter'])\n",
        "####finaldf['Word']=m['Counter']\n",
        "#finaldf=pd.concat([principal,norm_matrix_eago[['Counter']]], axis=1, ignore_index=True)\n",
        "\n",
        "print(\"Normalized matrix\")\n",
        "print(pca.explained_variance_ratio_)\n",
        "print(pca.singular_values_)\n",
        "plt.figure()\n",
        "plt.bar(fn,pca.explained_variance_ratio_)\n",
        "plt.show()\n",
        "plt.bar(fn,pca.singular_values_)\n",
        "plt.show()\n",
        "print(finaldf)\n",
        "#print(principal.join(norm_matrix_eago[['Counter']],how='inner'))\n",
        "\"\"\"\n",
        "\"\"\"\n",
        "# PCA for normalizedmatrix\n",
        "pca = PCA(n_components=34)\n",
        "pca.fit(normalized_matrix)\n",
        "print(\"Normalized features\")\n",
        "print(pca.explained_variance_ratio_)\n",
        "print(pca.singular_values_)\n",
        "plt.figure()\n",
        "plt.bar(fn[0:34],pca.explained_variance_ratio_)\n",
        "plt.show()\n",
        "plt.bar(fn[0:34],pca.singular_values_)\n",
        "plt.show()\n",
        "\n",
        "# PCA for standardizedmatrix\n",
        "pca = PCA(n_components=34)\n",
        "pca.fit(standardized_matrix)\n",
        "print(\"Standardized features\")\n",
        "print(pca.explained_variance_ratio_)\n",
        "print(pca.singular_values_)\n",
        "plt.figure()\n",
        "plt.bar(fn[0:34],pca.explained_variance_ratio_)\n",
        "plt.show()\n",
        "plt.bar(fn[0:34],pca.singular_values_)\n",
        "plt.show()\n",
        "\"\"\""
      ],
      "execution_count": 17,
      "outputs": [
        {
          "output_type": "execute_result",
          "data": {
            "application/vnd.google.colaboratory.intrinsic+json": {
              "type": "string"
            },
            "text/plain": [
              "'\\n# PCA for normalizedmatrix\\npca = PCA(n_components=34)\\npca.fit(normalized_matrix)\\nprint(\"Normalized features\")\\nprint(pca.explained_variance_ratio_)\\nprint(pca.singular_values_)\\nplt.figure()\\nplt.bar(fn[0:34],pca.explained_variance_ratio_)\\nplt.show()\\nplt.bar(fn[0:34],pca.singular_values_)\\nplt.show()\\n\\n# PCA for standardizedmatrix\\npca = PCA(n_components=34)\\npca.fit(standardized_matrix)\\nprint(\"Standardized features\")\\nprint(pca.explained_variance_ratio_)\\nprint(pca.singular_values_)\\nplt.figure()\\nplt.bar(fn[0:34],pca.explained_variance_ratio_)\\nplt.show()\\nplt.bar(fn[0:34],pca.singular_values_)\\nplt.show()\\n'"
            ]
          },
          "metadata": {
            "tags": []
          },
          "execution_count": 17
        }
      ]
    }
  ]
}