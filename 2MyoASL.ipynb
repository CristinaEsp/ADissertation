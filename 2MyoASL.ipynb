{
  "nbformat": 4,
  "nbformat_minor": 0,
  "metadata": {
    "colab": {
      "name": "2MyoASL.ipynb",
      "provenance": [],
      "collapsed_sections": [],
      "authorship_tag": "ABX9TyPB12Cm4B8O4t4IOLsnwrHt",
      "include_colab_link": true
    },
    "kernelspec": {
      "name": "python3",
      "display_name": "Python 3"
    }
  },
  "cells": [
    {
      "cell_type": "markdown",
      "metadata": {
        "id": "view-in-github",
        "colab_type": "text"
      },
      "source": [
        "<a href=\"https://colab.research.google.com/github/michelleaeh/Dissertation/blob/master/2MyoASL.ipynb\" target=\"_parent\"><img src=\"https://colab.research.google.com/assets/colab-badge.svg\" alt=\"Open In Colab\"/></a>"
      ]
    },
    {
      "cell_type": "markdown",
      "metadata": {
        "id": "mH79ogCWrzbt",
        "colab_type": "text"
      },
      "source": [
        "**Myo armband dataset from https://data.mendeley.com/datasets/wgswcr8z24/2**\n",
        "\n",
        "\n",
        "**The dataset consits of .csv files collected from two Myo armbands. The format of the files are [word_name]_[id]. The ‘word_name’ is the English translation of the American Sign Language word used and the ‘id’ is a unique identifier. The .zip for each of the above links has sub-folders for each User.**\n",
        "\n",
        "**Each file has 50 columns. They represent a sub-sampled data collection from two Myo devices worn on left and right hands of the signer. The first column is the ‘Counter’ that goes from 1 to 50.**\n",
        "\n",
        "**The following columns are of the format: [Sensor][pod/direction][left/right]. For instance the EMG reading for the first EMG pod (out of 8) on the left hand would be called EMG0R and the accelerometer reading for the Z axis on the left hand would be called: AXL**\n",
        "\n",
        "**If you use this dataset please cite the following papers:**\n",
        "\n",
        "**@inproceedings{paudyal2016sceptre,\n",
        "title={Sceptre: a pervasive, non-invasive, and programmable gesture recognition technology},\n",
        "author={Paudyal, Prajwal and Banerjee, Ayan and Gupta, Sandeep KS},\n",
        "booktitle={Proceedings of the 21st International Conference on Intelligent User Interfaces},\n",
        "pages={282--293},\n",
        "year={2016},\n",
        "organization={ACM}\n",
        "}**\n",
        "\n",
        "**@inproceedings{paudyal2017dyfav,\n",
        "title={Dyfav: Dynamic feature selection and voting for real-time recognition of fingerspelled alphabet using wearables},\n",
        "author={Paudyal, Prajwal and Lee, Junghyo and Banerjee, Ayan and Gupta, Sandeep KS},\n",
        "booktitle={Proceedings of the 22nd International Conference on Intelligent User Interfaces},\n",
        "pages={457--467},\n",
        "year={2017},\n",
        "organization={ACM}\n",
        "}**"
      ]
    },
    {
      "cell_type": "markdown",
      "metadata": {
        "id": "FHNKWJHfhpMy",
        "colab_type": "text"
      },
      "source": [
        "**Words:**\n",
        "\n",
        "*36 total words*\n",
        "\n",
        "allmorning, bird, blue, cantsleep, cat, colrunnynose, continuouslyforanhour, cost, day, dollar, everymorning, everynight, gold, goodnight, happy, headache, home, horse, hot, hurt, itching, large, mom, monthly, notfeelgood, orange, pizza, please, shirt, soreness, swelling, takeliquidmedicine, thatsterrible, tired, upsetstomach, wash\n",
        "\n",
        "\n",
        "**Filenames:**\n",
        "\n",
        "*849 total files*\n",
        "\n",
        "(word)_(user#)(try#)\n",
        "\n",
        "\n",
        "**Columns of files:**\n",
        "\n",
        "Counter  (1 -> 50)\n",
        "\n",
        "EMG0L -> EMG7L  (EMG sensor readings)\n",
        "\n",
        "AXL, AYL, AZL  (accelerometer readings)\n",
        "\n",
        "GXL, GYL, GZL  (gyroscope readings)\n",
        "\n",
        "ORL, OPL, OYL  (magnetometer readings?)\n",
        "\n",
        "EMG0R -> EMG7R  (EMG sensor readings)\n",
        "\n",
        "AXR, AYR, AZR  (accelerometer readings)\n",
        "\n",
        "GXR, GYR, GZR  (gyroscope readings)\n",
        "\n",
        "ORR, OPR, OYR  (magnetometer readings?)\n",
        "\n",
        "features=['EMG0L', 'EMG1L', 'EMG2L', 'EMG3L', 'EMG4L', 'EMG5L', 'EMG6L', 'EMG7L', 'AXL', 'AYL', 'AZL', 'GXL', 'GYL', 'GZL', 'ORL', 'OPL', 'OYL', 'EMG0R', 'EMG1R', 'EMG2R', 'EMG3R', 'EMG4R', 'EMG5R', 'EMG6R', 'EMG7R', 'AXR', 'AYR', 'AZR', 'GXR', 'GYR', 'GZR', 'ORR', 'OPR', 'OYR']\n",
        "\n",
        "\n",
        "**Size of files:**\n",
        "\n",
        "All files are 50 rows x 35 columns except continuouslyforanhour_22.csv, headache_52.csv, home_61.csv, and mom_82.csv which are 101 rows x 35 columns\n"
      ]
    },
    {
      "cell_type": "code",
      "metadata": {
        "id": "5TnTycFtrpHd",
        "colab_type": "code",
        "colab": {}
      },
      "source": [
        "import matplotlib.pyplot as plt\n",
        "import numpy as np\n",
        "import os.path\n",
        "import pandas as pd\n",
        "import warnings\n",
        "\n",
        "from google.colab import files\n",
        "from mpl_toolkits import mplot3d\n",
        "from scipy import signal\n",
        "from scipy.io import loadmat\n",
        "from sklearn.decomposition import PCA\n",
        "from sklearn.model_selection import train_test_split\n",
        "from sklearn.preprocessing import StandardScaler\n",
        "from sklearn.svm import SVC\n",
        "from zipfile import ZipFile\n",
        "\n",
        "# Import zip containing all files\n",
        "file_name = \"/content/2MyoASL.zip\"\n",
        "\n",
        "# Extract all files from zip\n",
        "with ZipFile(file_name, 'r') as zip:\n",
        "  zip.extractall()"
      ],
      "execution_count": 1,
      "outputs": []
    },
    {
      "cell_type": "code",
      "metadata": {
        "id": "vHsqsj2NRpEe",
        "colab_type": "code",
        "colab": {}
      },
      "source": [
        "# Generate matrices for all combinations of sensors (E=3, A=5, G=7, O=11)\n",
        "products=[3, 5, 7, 11, 15, 21, 33, 35, 55, 77, 105, 165, 231, 385, 1155]\n",
        "comb=['e', 'a', 'g', 'o', 'ea', 'eg', 'eo', 'ag', 'ao', 'go', 'eag', 'eao', 'ego', 'ago', 'eago']\n",
        "emg=['EMG0L', 'EMG1L', 'EMG2L', 'EMG3L', 'EMG4L', 'EMG5L', 'EMG6L', 'EMG7L', \n",
        "    'EMG0R', 'EMG1R', 'EMG2R', 'EMG3R', 'EMG4R', 'EMG5R', 'EMG6R', 'EMG7R']\n",
        "acc=['AXL', 'AYL', 'AZL', 'AXR', 'AYR', 'AZR']\n",
        "gyro=['GXL', 'GYL', 'GZL', 'GXR', 'GYR', 'GZR']\n",
        "ori=['ORL', 'OPL', 'OYL', 'ORR', 'OPR', 'OYR']\n",
        "\n",
        "# Initialization of counters\n",
        "words=['allmorning', 'bird', 'blue', 'cantsleep', 'cat', 'coldrunnynose', 'continuouslyforanhour', 'cost', 'day', \n",
        "       'dollar', 'everymorning', 'everynight', 'gold', 'goodnight', 'happy', 'headache', 'home', 'horse', 'hot', \n",
        "       'hurt', 'itching', 'large', 'mom', 'monthly', 'notfeelgood', 'orange', 'pizza', 'please', 'shirt', \n",
        "       'soreness', 'swelling', 'takeliquidmedicine', 'thatsterrible', 'tired', 'upsetstomach', 'wash']\n",
        "lengths=np.zeros(849, dtype=int)\n",
        "reps=np.zeros(36,dtype=int)\n",
        "features=np.zeros(15)\n",
        "target=np.zeros(15)\n",
        "\n",
        "fn=np.arange(35)\n",
        "wordnum=-1\n",
        "counter=0\n",
        "n=0"
      ],
      "execution_count": 2,
      "outputs": []
    },
    {
      "cell_type": "code",
      "metadata": {
        "id": "MQFtofv7yG7G",
        "colab_type": "code",
        "colab": {
          "base_uri": "https://localhost:8080/",
          "height": 191
        },
        "outputId": "04bb6bae-f15c-42fe-88f1-eb13ee580dc1"
      },
      "source": [
        "# Combine all files\n",
        "for w in words:\n",
        "  repcount=0\n",
        "  wordnum+=1\n",
        "\n",
        "  for i in range (10, 120):\n",
        "    path='/content/2MyoASL/' + w + '_' + str(i) + '.csv'\n",
        "\n",
        "    if os.path.exists(path)==True:\n",
        "      counter+=1\n",
        "      repcount+=1\n",
        "      trial=pd.read_csv(path)\n",
        "      lengths[counter-1]=len(trial)\n",
        "      \n",
        "      # Replace counter with evaluated term\n",
        "      for r in range(0,len(trial)):\n",
        "        trial.iloc[r,0]=wordnum\n",
        "      #trial.set_index('Counter', append=True).swaplevel(0,1)\n",
        "      #trial.iloc[0,0]=wordnum\n",
        "      #trial=trial.set_index('Counter', append=True).swaplevel(0,1)\n",
        "      #print(trial)\n",
        "      \n",
        "      # Combine all trials\n",
        "      if path=='/content/2MyoASL/allmorning_10.csv':\n",
        "          matrix=trial\n",
        "      else:\n",
        "          #matrix=pd.concat([matrix, trial],keys=[wordnum])\n",
        "          matrix=pd.concat([matrix,trial])\n",
        "\"\"\"\n",
        "      # Plot\n",
        "      if i==10:\n",
        "        # Create plot for EMG\n",
        "        emgp, axs=plt.subplots(16,figsize=(30,30))\n",
        "        for z in emg:\n",
        "          emgp.suptitle('EMG for ' + w)\n",
        "          axs[emg.index(z)].plot(trial.loc[:, z].values)\n",
        "        \n",
        "        # Create plot for accelerometer\n",
        "        plt.figure()\n",
        "        alx=plt.axes(projection='3d')\n",
        "        alx.plot3D(trial.loc[:, 'AXL'].values, trial.loc[:, 'AYL'].values, trial.loc[:, 'AZL'].values)\n",
        "        alx.set_title('Accelerometer on left arm for '+w)\n",
        "\n",
        "        plt.figure()\n",
        "        arx=plt.axes(projection='3d')\n",
        "        arx.plot3D(trial.loc[:, 'AXR'].values, trial.loc[:, 'AYR'].values, trial.loc[:, 'AZR'].values)\n",
        "        arx.set_title('Accelerometer on right arm for '+w)\n",
        "\n",
        "        # Create plot for gyroscope\n",
        "        plt.figure()\n",
        "        glx=plt.axes(projection='3d')\n",
        "        glx.plot3D(trial.loc[:, 'GXL'].values, trial.loc[:, 'GYL'].values, trial.loc[:, 'GZL'].values)\n",
        "        glx.set_title('Gyroscope on left arm for '+w)\n",
        "\n",
        "        plt.figure()\n",
        "        grx=plt.axes(projection='3d')\n",
        "        grx.plot3D(trial.loc[:, 'GXR'].values, trial.loc[:, 'GYR'].values, trial.loc[:, 'GZR'].values)\n",
        "        grx.set_title('Gyroscope on right arm for '+w)\n",
        "\n",
        "        # Create plot for orientation\n",
        "        orip, axt=plt.subplots(6,figsize=(30,30))\n",
        "        for f in ori:\n",
        "          orip.suptitle('Orientation for ' + w)\n",
        "          axt[ori.index(f)].plot(trial.loc[:, f].values)\n",
        "\n",
        "      else:\n",
        "        # Plot EMG\n",
        "        for z in emg:\n",
        "          axs[emg.index(z)].plot(trial.loc[:, z].values)\n",
        "        \n",
        "        # Plot accelerometer\n",
        "        alx.plot3D(trial.loc[:, 'AXL'].values, trial.loc[:, 'AYL'].values, trial.loc[:, 'AZL'].values)\n",
        "        arx.plot3D(trial.loc[:, 'AXR'].values, trial.loc[:, 'AYR'].values, trial.loc[:, 'AZR'].values)\n",
        "        \n",
        "        # Plot gyroscope\n",
        "        glx.plot3D(trial.loc[:, 'GXL'].values, trial.loc[:, 'GYL'].values, trial.loc[:, 'GZL'].values)\n",
        "        grx.plot3D(trial.loc[:, 'GXR'].values, trial.loc[:, 'GYR'].values, trial.loc[:, 'GZR'].values)\n",
        "          \n",
        "        # Plot orientation\n",
        "        for f in ori:\n",
        "          axt[ori.index(f)].plot(trial.loc[:, f].values)\n",
        "        \n",
        "        warnings.filterwarnings(\"ignore\", category=RuntimeWarning) \n",
        "  reps[wordnum]=repcount\n",
        "warnings.filterwarnings(\"ignore\", category=RuntimeWarning)\n",
        "\"\"\""
      ],
      "execution_count": 3,
      "outputs": [
        {
          "output_type": "execute_result",
          "data": {
            "application/vnd.google.colaboratory.intrinsic": {
              "type": "string"
            },
            "text/plain": [
              "'\\n      # Plot\\n      if i==10:\\n        # Create plot for EMG\\n        emgp, axs=plt.subplots(16,figsize=(30,30))\\n        for z in emg:\\n          emgp.suptitle(\\'EMG for \\' + w)\\n          axs[emg.index(z)].plot(trial.loc[:, z].values)\\n        \\n        # Create plot for accelerometer\\n        plt.figure()\\n        alx=plt.axes(projection=\\'3d\\')\\n        alx.plot3D(trial.loc[:, \\'AXL\\'].values, trial.loc[:, \\'AYL\\'].values, trial.loc[:, \\'AZL\\'].values)\\n        alx.set_title(\\'Accelerometer on left arm for \\'+w)\\n\\n        plt.figure()\\n        arx=plt.axes(projection=\\'3d\\')\\n        arx.plot3D(trial.loc[:, \\'AXR\\'].values, trial.loc[:, \\'AYR\\'].values, trial.loc[:, \\'AZR\\'].values)\\n        arx.set_title(\\'Accelerometer on right arm for \\'+w)\\n\\n        # Create plot for gyroscope\\n        plt.figure()\\n        glx=plt.axes(projection=\\'3d\\')\\n        glx.plot3D(trial.loc[:, \\'GXL\\'].values, trial.loc[:, \\'GYL\\'].values, trial.loc[:, \\'GZL\\'].values)\\n        glx.set_title(\\'Gyroscope on left arm for \\'+w)\\n\\n        plt.figure()\\n        grx=plt.axes(projection=\\'3d\\')\\n        grx.plot3D(trial.loc[:, \\'GXR\\'].values, trial.loc[:, \\'GYR\\'].values, trial.loc[:, \\'GZR\\'].values)\\n        grx.set_title(\\'Gyroscope on right arm for \\'+w)\\n\\n        # Create plot for orientation\\n        orip, axt=plt.subplots(6,figsize=(30,30))\\n        for f in ori:\\n          orip.suptitle(\\'Orientation for \\' + w)\\n          axt[ori.index(f)].plot(trial.loc[:, f].values)\\n\\n      else:\\n        # Plot EMG\\n        for z in emg:\\n          axs[emg.index(z)].plot(trial.loc[:, z].values)\\n        \\n        # Plot accelerometer\\n        alx.plot3D(trial.loc[:, \\'AXL\\'].values, trial.loc[:, \\'AYL\\'].values, trial.loc[:, \\'AZL\\'].values)\\n        arx.plot3D(trial.loc[:, \\'AXR\\'].values, trial.loc[:, \\'AYR\\'].values, trial.loc[:, \\'AZR\\'].values)\\n        \\n        # Plot gyroscope\\n        glx.plot3D(trial.loc[:, \\'GXL\\'].values, trial.loc[:, \\'GYL\\'].values, trial.loc[:, \\'GZL\\'].values)\\n        grx.plot3D(trial.loc[:, \\'GXR\\'].values, trial.loc[:, \\'GYR\\'].values, trial.loc[:, \\'GZR\\'].values)\\n          \\n        # Plot orientation\\n        for f in ori:\\n          axt[ori.index(f)].plot(trial.loc[:, f].values)\\n        \\n        warnings.filterwarnings(\"ignore\", category=RuntimeWarning) \\n  reps[wordnum]=repcount\\nwarnings.filterwarnings(\"ignore\", category=RuntimeWarning)\\n'"
            ]
          },
          "metadata": {
            "tags": []
          },
          "execution_count": 3
        }
      ]
    },
    {
      "cell_type": "code",
      "metadata": {
        "id": "R7Ib41KW5f32",
        "colab_type": "code",
        "colab": {}
      },
      "source": [
        "# Eliminate unnecessary columns to create combinatory matrices\n",
        "for v in products:\n",
        "  m=matrix\n",
        "  if v%3!=0:\n",
        "    m=m.drop(emg,1)\n",
        "  if v%5!=0:\n",
        "    m=m.drop(acc,1)\n",
        "  if v%7!=0:\n",
        "    m=m.drop(gyro,1)\n",
        "  if v%11!=0:\n",
        "    m=m.drop(ori,1)\n",
        "  products[n]=m\n",
        "  exec(comb[n]+\"=products[n]\")\n",
        "  n+=1\n",
        "  \n",
        "  # Normalize and Standardize each of the 15 matrices\n",
        "  # Separate features from target values\n",
        "  x = m.loc[:, m.columns != 'Counter'].values   # Features\n",
        "  y = m.loc[:,['Counter']].values               # Target\n",
        "\n",
        "  ## Normalize features so that each column is between 0 and 1\n",
        "  norm_matrix=(m-m.min())/(m.max()-m.min())\n",
        "  exec(\"norm_matrix_\"+comb[n-1]+\"=pd.DataFrame(norm_matrix)\")\n",
        "\n",
        "  # Normalize features\n",
        "  normalized_matrix=(x-x.min())/(x.max()-x.min())\n",
        "  exec(\"normalized_matrix_\"+comb[n-1]+\"=pd.DataFrame(normalized_matrix)\")\n",
        "\n",
        "  # Standardize features with mean=0 and deviation=1\n",
        "  standardized_matrix=StandardScaler().fit_transform(x)\n",
        "  exec(\"standardized_matrix_\"+comb[n-1]+\"=pd.DataFrame(standardized_matrix)\")\n",
        "\n",
        "  # Save data frames as csv files\n",
        "  #matrix.to_csv(path_or_buf='/content/matrix_'+comb[n-1]+'.csv')\n",
        "  exec(\"norm_matrix_\"+comb[n-1]+\".to_csv(path_or_buf='/content/normmatrix_'+comb[n-1]+'.csv')\")\n",
        "  exec(\"normalized_matrix_\"+comb[n-1]+\".to_csv(path_or_buf='/content/normalizedmatrix_'+comb[n-1]+'.csv')\")\n",
        "  exec(\"standardized_matrix_\"+comb[n-1]+\".to_csv(path_or_buf='/content/standardizedmatrix_'+comb[n-1]+'.csv')\")"
      ],
      "execution_count": 4,
      "outputs": []
    },
    {
      "cell_type": "code",
      "metadata": {
        "id": "knhJG10SD22U",
        "colab_type": "code",
        "colab": {
          "base_uri": "https://localhost:8080/",
          "height": 1000
        },
        "outputId": "deb5d112-34c3-4b95-f22a-4e31027e7daa"
      },
      "source": [
        "fn=np.arange(35)\n",
        "\n",
        "# PCA for normmatrix\n",
        "pca = PCA(n_components=35)\n",
        "comp=pca.fit_transform(norm_matrix_eago)\n",
        "principal=pd.DataFrame(data=comp, columns=['PC 0', 'PC 1', 'PC 2', 'PC 3', 'PC 4', 'PC 5', 'PC 6', 'PC 7', 'PC 8', 'PC 9', 'PC 10', \n",
        "                                           'PC 11', 'PC 12', 'PC 13', 'PC 14', 'PC 16', 'PC 17', 'PC 18', 'PC 19', 'PC 20', \n",
        "                                           'PC 21', 'PC 22', 'PC 23', 'PC 24', 'PC 25', 'PC 26', 'PC 27', 'PC 28', 'PC 29', \n",
        "                                           'PC 30', 'PC 31', 'PC 32', 'PC 33', 'PC 34', 'PC35'])\n",
        "#principal.reset_index(drop=True, inplace=True)\n",
        "#norm_matrix_eago[['Counter']].reset_index(drop=True, inplace=True)\n",
        "norm_matrix_eago.reset_index(drop=True, inplace=True)\n",
        "m.reset_index(drop=True, inplace=True)\n",
        "#finaldf=pd.join([principal, norm_matrix_eago[['Counter']]], axis=1, ignore_index=True).reset_index()\n",
        "finaldf=principal.join(norm_matrix_eago[['Counter']],how='outer')\n",
        "finaldf=finaldf.drop(columns=['PC 0'])\n",
        "####finaldf=principal\n",
        "####print(m['Counter'])\n",
        "####finaldf['Word']=m['Counter']\n",
        "#finaldf=pd.concat([principal,norm_matrix_eago[['Counter']]], axis=1, ignore_index=True)\n",
        "\n",
        "print(\"Normalized matrix\")\n",
        "print(pca.explained_variance_ratio_)\n",
        "print(pca.singular_values_)\n",
        "plt.figure()\n",
        "plt.bar(fn,pca.explained_variance_ratio_)\n",
        "plt.show()\n",
        "plt.bar(fn,pca.singular_values_)\n",
        "plt.show()\n",
        "print(finaldf)\n",
        "#print(principal.join(norm_matrix_eago[['Counter']],how='inner'))\n",
        "\n",
        "\"\"\"\n",
        "# PCA for normalizedmatrix\n",
        "pca = PCA(n_components=34)\n",
        "pca.fit(normalized_matrix)\n",
        "print(\"Normalized features\")\n",
        "print(pca.explained_variance_ratio_)\n",
        "print(pca.singular_values_)\n",
        "plt.figure()\n",
        "plt.bar(fn[0:34],pca.explained_variance_ratio_)\n",
        "plt.show()\n",
        "plt.bar(fn[0:34],pca.singular_values_)\n",
        "plt.show()\n",
        "\n",
        "# PCA for standardizedmatrix\n",
        "pca = PCA(n_components=34)\n",
        "pca.fit(standardized_matrix)\n",
        "print(\"Standardized features\")\n",
        "print(pca.explained_variance_ratio_)\n",
        "print(pca.singular_values_)\n",
        "plt.figure()\n",
        "plt.bar(fn[0:34],pca.explained_variance_ratio_)\n",
        "plt.show()\n",
        "plt.bar(fn[0:34],pca.singular_values_)\n",
        "plt.show()\n",
        "\"\"\""
      ],
      "execution_count": 5,
      "outputs": [
        {
          "output_type": "stream",
          "text": [
            "Normalized matrix\n",
            "[0.23128872 0.18843268 0.14434638 0.10150933 0.08370594 0.03602182\n",
            " 0.0267899  0.02313825 0.02247211 0.01468574 0.01245734 0.01122126\n",
            " 0.00957529 0.00945351 0.00877457 0.00769596 0.0074402  0.00664727\n",
            " 0.00604279 0.00567035 0.00527104 0.00484373 0.00402027 0.00397073\n",
            " 0.00377051 0.00350758 0.00312599 0.00306406 0.00246604 0.00228341\n",
            " 0.00185457 0.00149379 0.00133003 0.00091457 0.00071427]\n",
            "[59.97163126 54.13108625 47.37743812 39.73027849 36.07835778 23.66745098\n",
            " 20.41052589 18.96853753 18.69349664 15.11181198 13.91814108 13.20959122\n",
            " 12.20238444 12.12453538 11.68104101 10.93956781 10.75625141 10.16694207\n",
            "  9.69364827  9.39017598  9.0535064   8.67877587  7.90672244  7.85784921\n",
            "  7.65717341  7.38537554  6.97207819  6.90266902  6.19254301  5.95883002\n",
            "  5.37020225  4.81961906  4.54777838  3.77118719  3.33272543]\n"
          ],
          "name": "stdout"
        },
        {
          "output_type": "display_data",
          "data": {
            "image/png": "[encoded data removed]",
            "text/plain": [
              "<Figure size 432x288 with 1 Axes>"
            ]
          },
          "metadata": {
            "tags": [],
            "needs_background": "light"
          }
        },
        {
          "output_type": "display_data",
          "data": {
            "image/png": "[encoded data removed]",
            "text/plain": [
              "<Figure size 432x288 with 1 Axes>"
            ]
          },
          "metadata": {
            "tags": [],
            "needs_background": "light"
          }
        },
        {
          "output_type": "stream",
          "text": [
            "           PC 1      PC 2      PC 3  ...     PC 34      PC35  Counter\n",
            "0     -0.067987 -0.037444  0.347934  ... -0.022258  0.015707      0.0\n",
            "1     -0.065045 -0.036675  0.347894  ... -0.000486 -0.003800      0.0\n",
            "2     -0.066059 -0.090487  0.353148  ...  0.006430 -0.000412      0.0\n",
            "3     -0.060212 -0.040824  0.359055  ... -0.015607  0.002603      0.0\n",
            "4     -0.030311  0.039403  0.343893  ... -0.015796 -0.001758      0.0\n",
            "...         ...       ...       ...  ...       ...       ...      ...\n",
            "42649  0.439735 -0.367610  0.077810  ...  0.008850 -0.006605      1.0\n",
            "42650  0.437030 -0.406972  0.086964  ...  0.042547 -0.029324      1.0\n",
            "42651  0.423822 -0.391803  0.113569  ... -0.035053  0.029526      1.0\n",
            "42652  0.426009 -0.409333  0.110318  ... -0.008490  0.019702      1.0\n",
            "42653 -0.521555 -0.355750 -0.154023  ...  0.003603 -0.000707      1.0\n",
            "\n",
            "[42654 rows x 35 columns]\n"
          ],
          "name": "stdout"
        },
        {
          "output_type": "execute_result",
          "data": {
            "application/vnd.google.colaboratory.intrinsic": {
              "type": "string"
            },
            "text/plain": [
              "'\\n# PCA for normalizedmatrix\\npca = PCA(n_components=34)\\npca.fit(normalized_matrix)\\nprint(\"Normalized features\")\\nprint(pca.explained_variance_ratio_)\\nprint(pca.singular_values_)\\nplt.figure()\\nplt.bar(fn[0:34],pca.explained_variance_ratio_)\\nplt.show()\\nplt.bar(fn[0:34],pca.singular_values_)\\nplt.show()\\n\\n# PCA for standardizedmatrix\\npca = PCA(n_components=34)\\npca.fit(standardized_matrix)\\nprint(\"Standardized features\")\\nprint(pca.explained_variance_ratio_)\\nprint(pca.singular_values_)\\nplt.figure()\\nplt.bar(fn[0:34],pca.explained_variance_ratio_)\\nplt.show()\\nplt.bar(fn[0:34],pca.singular_values_)\\nplt.show()\\n'"
            ]
          },
          "metadata": {
            "tags": []
          },
          "execution_count": 5
        }
      ]
    },
    {
      "cell_type": "code",
      "metadata": {
        "id": "PJjGC_1Q5r03",
        "colab_type": "code",
        "colab": {
          "base_uri": "https://localhost:8080/",
          "height": 130
        },
        "outputId": "09b0644e-9621-47b4-9c4a-82e5eccafa74"
      },
      "source": [
        "# Butterworth\n",
        "\"\"\"\n",
        "b, a = signal.butter(4, 100, 'low', analog=True)\n",
        "w, h = signal.freqs(b, a)\n",
        "plt.plot(w, 20 * np.log10(abs(h)))\n",
        "plt.xscale('log')\n",
        "plt.title('Butterworth filter frequency response')\n",
        "plt.xlabel('Frequency [radians / second]')\n",
        "plt.ylabel('Amplitude [dB]')\n",
        "plt.margins(0, 0.1)\n",
        "plt.grid(which='both', axis='both')\n",
        "plt.axvline(100, color='green') # cutoff frequency\n",
        "plt.show()\n",
        "\"\"\"\n",
        "\n",
        "for r in emg:\n",
        "  if \n",
        "\n",
        "# create bandpass filter for EMG\n",
        "high = 20/(1000/2)\n",
        "low = 450/(1000/2)\n",
        "b, a = sp.signal.butter(4, [high,low], btype='bandpass')\n",
        "\n",
        "# process EMG signal: filter EMG\n",
        "emg_filtered = sp.signal.filtfilt(b, a, emg_correctmean)\n",
        "\n",
        "# plot comparison of unfiltered vs filtered mean-corrected EMG\n",
        "fig = plt.figure()\n",
        "plt.subplot(1, 2, 1)\n",
        "plt.subplot(1, 2, 1).set_title('Unfiltered EMG')\n",
        "plt.plot(time, emg_correctmean)\n",
        "plt.locator_params(axis='x', nbins=4)\n",
        "plt.locator_params(axis='y', nbins=4)\n",
        "plt.ylim(-1.5, 1.5)\n",
        "plt.xlabel('Time (sec)')\n",
        "plt.ylabel('EMG (a.u.)')\n",
        "\n",
        "plt.subplot(1, 2, 2)\n",
        "plt.subplot(1, 2, 2).set_title('Filtered EMG')\n",
        "plt.plot(time, emg_filtered)\n",
        "plt.locator_params(axis='x', nbins=4)\n",
        "plt.locator_params(axis='y', nbins=4)\n",
        "plt.ylim(-1.5, 1.5)\n",
        "plt.xlabel('Time (sec)')\n",
        "plt.ylabel('EMG (a.u.)')\n",
        "\n",
        "fig.tight_layout()\n",
        "fig_name = 'fig3.png'\n",
        "fig.set_size_inches(w=11,h=7)\n",
        "fig.savefig(fig_name)"
      ],
      "execution_count": 6,
      "outputs": [
        {
          "output_type": "error",
          "ename": "SyntaxError",
          "evalue": "ignored",
          "traceback": [
            "\u001b[0;36m  File \u001b[0;32m\"<ipython-input-6-d894890b22d0>\"\u001b[0;36m, line \u001b[0;32m17\u001b[0m\n\u001b[0;31m    if\u001b[0m\n\u001b[0m       ^\u001b[0m\n\u001b[0;31mSyntaxError\u001b[0m\u001b[0;31m:\u001b[0m invalid syntax\n"
          ]
        }
      ]
    },
    {
      "cell_type": "code",
      "metadata": {
        "id": "ESPNzdyghacn",
        "colab_type": "code",
        "colab": {}
      },
      "source": [
        "# SVM\n",
        "#x = standardized_matrix_eago.loc[:, standardized_matrix_eago.columns != 'Counter'].values   # Features\n",
        "#y = standardized_matrix_eago.loc[:,['Counter']].values               # Target\n",
        "\n",
        "x_train, x_test, y_train, y_test = train_test_split(x, y, test_size=0.6, random_state=0)\n",
        "\n",
        "pca = PCA(n_components=30)\n",
        "pca.fit(x_train)\n",
        "x_t_train = pca.transform(x_train)\n",
        "x_t_test = pca.transform(x_test)\n",
        "clf = SVC()\n",
        "clf.fit(x_t_train, y_train)\n",
        "print ('score', clf.score(x_t_test, y_test))\n",
        "print ('pred label', clf.predict(x_t_test))\n",
        "print('length',len(clf.predict(x_t_test)))"
      ],
      "execution_count": null,
      "outputs": []
    },
    {
      "cell_type": "markdown",
      "metadata": {
        "id": "h57zKLByfy2Y",
        "colab_type": "text"
      },
      "source": [
        "TODO:\n",
        "\n",
        "-check what happens when combining diff data sources\n",
        "\n",
        "-graph components\n",
        "\n",
        "find correlations\n",
        "\n",
        "interpret pca results\n",
        "\n",
        "-try pca per individual/word\n",
        "\n",
        "-read dataset papers\n",
        "\n"
      ]
    },
    {
      "cell_type": "markdown",
      "metadata": {
        "id": "ScbnguG8ONoC",
        "colab_type": "text"
      },
      "source": [
        "https://www.researchgate.net/publication/303707429_Combining_Smartphone_and_Smartwatch_Sensor_Data_in_Activity_Recognition_Approaches_an_Experimental_Evaluation"
      ]
    },
    {
      "cell_type": "markdown",
      "metadata": {
        "id": "Ay3NExQ59xrM",
        "colab_type": "text"
      },
      "source": [
        "References\n",
        "\n",
        "https://stackoverflow.com/questions/56449262/how-to-upload-folders-to-google-colab\n",
        "\n",
        "https://github.com/datarail/datarail/issues/39\n",
        "\n",
        "https://dbader.org/blog/python-check-if-file-exists\n",
        "\n",
        "https://datacarpentry.org/python-socialsci/11-joins/index.html\n",
        "\n",
        "https://stackoverflow.com/questions/26414913/normalize-columns-of-pandas-data-frame\n",
        "\n",
        "https://scikit-learn.org/stable/modules/generated/sklearn.decomposition.PCA.html\n",
        "\n",
        "https://towardsdatascience.com/pca-using-python-scikit-learn-e653f8989e60\n",
        "\n",
        "https://pandas.pydata.org/pandas-docs/stable/reference/api/pandas.DataFrame.to_csv.html\n",
        "\n",
        "https://www.tutorialspoint.com/matplotlib/matplotlib_bar_plot.htm\n",
        "\n",
        "https://docs.scipy.org/doc/scipy-0.14.0/reference/generated/scipy.signal.butter.html\n",
        "\n",
        "https://stackoverflow.com/questions/32194967/how-to-do-pca-and-svm-for-classification-in-python\n",
        "\n",
        "https://stackoverflow.com/questions/6822725/rolling-or-sliding-window-iterator\n",
        "\n",
        "https://scikit-learn.org/stable/modules/cross_validation.html\n",
        "\n",
        "https://stackoverflow.com/questions/47684606/merge-cells-with-pandas\n",
        "\n",
        "https://scientificallysound.org/2016/08/18/python-analysing-emg-signals-part-3/\n"
      ]
    },
    {
      "cell_type": "code",
      "metadata": {
        "id": "V77MeC59AHdU",
        "colab_type": "code",
        "colab": {}
      },
      "source": [
        "\"\"\"\n",
        "### Combine all files\n",
        "words=['allmorning', 'bird', 'blue', 'cantsleep', 'cat', 'coldrunnynose', 'continuouslyforanhour', 'cost', 'day', 'dollar', 'everymorning', 'everynight', 'gold', 'goodnight', 'happy', 'headache', 'home', 'horse', 'hot', 'hurt', 'itching', 'large', 'mom', 'monthly', 'notfeelgood', 'orange', 'pizza', 'please', 'shirt', 'soreness', 'swelling', 'takeliquidmedicine', 'thatsterrible', 'tired', 'upsetstomach', 'wash']\n",
        "lengths=np.zeros(849, dtype=int)\n",
        "reps=np.zeros(36,dtype=int)\n",
        "wordnum=-1\n",
        "counter=0\n",
        "\n",
        "for w in words:\n",
        "  repcount=0\n",
        "  wordnum+=1\n",
        "\n",
        "  for i in range (10, 120):\n",
        "    path='/content/2MyoASL/' + w + '_' + str(i) + '.csv'\n",
        "\n",
        "    if os.path.exists(path)==True:\n",
        "      counter+=1\n",
        "      repcount+=1\n",
        "      trial=pd.read_csv(path)\n",
        "      lengths[counter-1]=len(trial)\n",
        "      \n",
        "      # Replace counter with evaluated term\n",
        "      for r in range(0,len(trial)):\n",
        "        trial.iloc[r,0]=wordnum\n",
        "        \n",
        "      # Combine all trials\n",
        "      if path=='/content/2MyoASL/allmorning_10.csv':\n",
        "          matrix=trial\n",
        "          \n",
        "          # Create plot for EMG\n",
        "\n",
        "          # Create plot for accelerometer\n",
        "          plt.figure()\n",
        "          alx=plt.axes(projection='3d')\n",
        "          alx.plot3D(trial.loc[:, 'AXL'].values, trial.loc[:, 'AYL'].values, trial.loc[:, 'AZL'].values)\n",
        "          alx.set_title('Accelerometer on left arm')\n",
        "\n",
        "          plt.figure()\n",
        "          arx=plt.axes(projection='3d')\n",
        "          arx.plot3D(trial.loc[:, 'AXR'].values, trial.loc[:, 'AYR'].values, trial.loc[:, 'AZR'].values)\n",
        "          arx.set_title('Accelerometer on right arm')\n",
        "\n",
        "          # Create plot for gyroscope\n",
        "          plt.figure()\n",
        "          glx=plt.axes(projection='3d')\n",
        "          glx.plot3D(trial.loc[:, 'GXL'].values, trial.loc[:, 'GYL'].values, trial.loc[:, 'GZL'].values)\n",
        "          glx.set_title('Gyroscope on left arm')\n",
        "\n",
        "          plt.figure()\n",
        "          grx=plt.axes(projection='3d')\n",
        "          grx.plot3D(trial.loc[:, 'GXR'].values, trial.loc[:, 'GYR'].values, trial.loc[:, 'GZR'].values)\n",
        "          grx.set_title('Gyroscope on right arm')\n",
        "      else:\n",
        "          matrix=pd.concat([matrix, trial])\n",
        "\n",
        "          ###############################################\n",
        "          # Create plot for accelerometer\n",
        "          alx.plot3D(trial.loc[:, 'AXL'].values, trial.loc[:, 'AYL'].values, trial.loc[:, 'AZL'].values)\n",
        "          arx.plot3D(trial.loc[:, 'AXR'].values, trial.loc[:, 'AYR'].values, trial.loc[:, 'AZR'].values)\n",
        "          #plt.show()\n",
        "\n",
        "          # Create plot for gyroscope\n",
        "          glx.plot3D(trial.loc[:, 'GXL'].values, trial.loc[:, 'GYL'].values, trial.loc[:, 'GZL'].values)\n",
        "          grx.plot3D(trial.loc[:, 'GXR'].values, trial.loc[:, 'GYR'].values, trial.loc[:, 'GZR'].values)\n",
        "          ###############################################\n",
        "\n",
        "  reps[wordnum]=repcount\n",
        "plt.show()\n",
        "\"\"\" "
      ],
      "execution_count": null,
      "outputs": []
    }
  ]
}